{
 "cells": [
  {
   "cell_type": "markdown",
   "id": "265de03b-80fb-4bbd-ac64-62531d492bb1",
   "metadata": {},
   "source": [
    "# Overview"
   ]
  },
  {
   "cell_type": "markdown",
   "id": "73835bd2-b0d4-4350-805e-40114ff143f5",
   "metadata": {},
   "source": [
    "The python package `pyvistaqt` extends the functionality of `pyvista` through the usage of Qt. Since Qt applications operates in a separate thread than VTK, you can simultaneously have an active VTK plot and a non-blocking Python session."
   ]
  },
  {
   "cell_type": "markdown",
   "id": "27e393ec-ee04-451b-87ca-b880cd21f1ef",
   "metadata": {},
   "source": [
    "![qt_multiplot](https://qtdocs.pyvista.org/_images/qt_multiplot.png)"
   ]
  },
  {
   "cell_type": "markdown",
   "id": "ef7cf39a-c767-43ef-b21d-baf202c1017a",
   "metadata": {},
   "source": [
    "# Getting Started"
   ]
  },
  {
   "cell_type": "code",
   "execution_count": null,
   "id": "e6a2b913-f0bc-432b-b4d8-edd8a4ea895f",
   "metadata": {},
   "outputs": [],
   "source": [
    "!pip install pyqt5"
   ]
  },
  {
   "cell_type": "markdown",
   "id": "2dbb261e-2b5d-4349-b132-461f29bccf50",
   "metadata": {},
   "source": [
    "Installation using `pip` is:"
   ]
  },
  {
   "cell_type": "code",
   "execution_count": null,
   "id": "fbbfb2b4-caba-4d1e-a8fe-d4b698d7325a",
   "metadata": {},
   "outputs": [],
   "source": [
    "!pip install pyvistaqt"
   ]
  },
  {
   "cell_type": "markdown",
   "id": "4f0e1e4f-36f5-41a5-8bc0-ca8d59d16ce9",
   "metadata": {},
   "source": [
    "To install this package with conda run:"
   ]
  },
  {
   "cell_type": "markdown",
   "id": "dcb1af01-112f-47de-8079-2ca31d01aec1",
   "metadata": {},
   "source": [
    "```bash\n",
    "$ conda install -c conda-forge pyvistaqt\n",
    "```"
   ]
  },
  {
   "cell_type": "markdown",
   "id": "1aed0941-a5a8-4965-9295-ec2bc95895d2",
   "metadata": {},
   "source": [
    "You can also visit [PyPI](https://pypi.org/project/pyvistaqt/) or [GitHub](https://github.com/pyvista/pyvistaqt) to download the source."
   ]
  },
  {
   "cell_type": "markdown",
   "id": "693ee88d-8aeb-433e-bd49-4812bf7de85d",
   "metadata": {},
   "source": [
    "Once installed, use the [`pyvistaqt.BackgroundPlotter`](https://qtdocs.pyvista.org/api_reference.html#pyvistaqt.BackgroundPlotter) like any PyVista plotter."
   ]
  },
  {
   "cell_type": "markdown",
   "id": "a39fb988-dc84-4761-82d6-90e562b7d10d",
   "metadata": {},
   "source": [
    "# Brief Example"
   ]
  },
  {
   "cell_type": "markdown",
   "id": "d3e38aa7-0c22-4513-bf81-a67c7c046f07",
   "metadata": {},
   "source": [
    "Create an instance of the [pyvistaqt.BackgroundPlotter](https://qtdocs.pyvista.org/api_reference.html#pyvistaqt.BackgroundPlotter) and plot a sphere."
   ]
  },
  {
   "cell_type": "code",
   "execution_count": null,
   "id": "2c3e93ba-e7ce-4426-bca8-e6a6daa9f997",
   "metadata": {},
   "outputs": [],
   "source": [
    "import pyvista as pv\n",
    "from pyvistaqt import BackgroundPlotter\n",
    "\n",
    "sphere = pv.Sphere()\n",
    "\n",
    "plotter = BackgroundPlotter()\n",
    "plotter.add_mesh(sphere)"
   ]
  },
  {
   "cell_type": "markdown",
   "id": "d47decf8-a043-4d43-91ba-1bc0d2116316",
   "metadata": {},
   "source": [
    "# Usage"
   ]
  },
  {
   "cell_type": "markdown",
   "id": "2a92332e-b87b-4e09-9ca0-71267095d016",
   "metadata": {},
   "source": [
    "PyVista has an interface for placing plots in `pyvistaqt` that extends the functionality of the `QVTKRenderWindowInteractor` class. The `pyvistaqt.QtInteractor` class allows you to have the same functionality of the `Plotter` class within a Qt application. This simplifies adding meshes, updating, and controlling them when using Qt."
   ]
  },
  {
   "cell_type": "markdown",
   "id": "9dbc4aa9-1d82-473c-b9cd-3aa7985c00d6",
   "metadata": {},
   "source": [
    "Please do keep in mind that the `BackgroundPlotter` **does not** create its own event loop by default. By design, the plotter will look for an active instance of `QApplication` instead. So in the end, it is up to the user to manage this event loop and there are several ways to achieve this. For example, it’s possible to start Python interactively with `python -i`, use `ipython` or execute the Qt event loop by adding `plotter.app.exec_()` to the end of the following code."
   ]
  },
  {
   "cell_type": "markdown",
   "id": "a9c30971-cc24-42a5-92ab-a7562c5377e0",
   "metadata": {},
   "source": [
    "# Background Plotting"
   ]
  },
  {
   "cell_type": "markdown",
   "id": "1b67ee03-05ff-44b8-95a4-328eae5e08d0",
   "metadata": {},
   "source": [
    "Normal PyVista plotting windows exhibit blocking behavior, but it is possible to plot in the background and update the plotter in real-time using the `BackgroundPlotter` object. This requires `pyvistaqt`, but otherwise appears and functions like a normal PyVista `Plotter` instance. For example:"
   ]
  },
  {
   "cell_type": "code",
   "execution_count": null,
   "id": "1cc2ee11-c44d-4421-882a-651d186d2338",
   "metadata": {},
   "outputs": [],
   "source": [
    "import pyvista as pv\n",
    "from pyvistaqt import BackgroundPlotter\n",
    "\n",
    "sphere = pv.Sphere()\n",
    "\n",
    "plotter = BackgroundPlotter()\n",
    "plotter.add_mesh(sphere)\n",
    "\n",
    "# can now operate on the sphere and have it updated in the background\n",
    "sphere.points *= 0.5"
   ]
  },
  {
   "cell_type": "markdown",
   "id": "276c8a21-c426-4d4e-aa1b-58b53e2eeab8",
   "metadata": {},
   "source": [
    "# Multiple Plotters"
   ]
  },
  {
   "cell_type": "markdown",
   "id": "ab15400a-f0f1-464b-ba45-801a81f3670c",
   "metadata": {},
   "source": [
    "The following example shows how to use an interface with multiple plotters. Each plotter can be selected and functions like a normal PyVista `Plotter` instance:"
   ]
  },
  {
   "cell_type": "code",
   "execution_count": null,
   "id": "60b3ba94-1d6c-46db-912d-07fdeb243bde",
   "metadata": {},
   "outputs": [],
   "source": [
    "import pyvista as pv\n",
    "from pyvistaqt import MultiPlotter\n",
    "\n",
    "mp = MultiPlotter(nrows=2, ncols=2)\n",
    "mp[0, 0].add_mesh(pv.Sphere())\n",
    "mp[0, 1].add_mesh(pv.Cylinder())\n",
    "mp[1, 0].add_mesh(pv.Cube())\n",
    "mp[1, 1].add_mesh(pv.Cone())"
   ]
  },
  {
   "cell_type": "markdown",
   "id": "2c390e92-9f6a-4ddc-8c60-f2912e3af8e0",
   "metadata": {},
   "source": [
    "# Example PyQt5 PyVista QtInteractor"
   ]
  },
  {
   "cell_type": "markdown",
   "id": "687ffd80-e6da-4dc2-b926-78c2c0e980e9",
   "metadata": {},
   "source": [
    "The following example shows how to create a simple application that adds a sphere to an empty plotting window."
   ]
  },
  {
   "cell_type": "code",
   "execution_count": null,
   "id": "303a274a-e29c-4b19-9828-58aba3fae85b",
   "metadata": {},
   "outputs": [],
   "source": [
    "import sys\n",
    "\n",
    "# Setting the Qt bindings for QtPy\n",
    "import os\n",
    "os.environ[\"QT_API\"] = \"pyqt5\"\n",
    "\n",
    "from qtpy import QtWidgets\n",
    "\n",
    "import numpy as np\n",
    "\n",
    "import pyvista as pv\n",
    "from pyvistaqt import QtInteractor, MainWindow\n",
    "\n",
    "class MyMainWindow(MainWindow):\n",
    "\n",
    "    def __init__(self, parent=None, show=True):\n",
    "        QtWidgets.QMainWindow.__init__(self, parent)\n",
    "\n",
    "        # create the frame\n",
    "        self.frame = QtWidgets.QFrame()\n",
    "        vlayout = QtWidgets.QVBoxLayout()\n",
    "\n",
    "        # add the pyvista interactor object\n",
    "        self.plotter = QtInteractor(self.frame)\n",
    "        vlayout.addWidget(self.plotter.interactor)\n",
    "        self.signal_close.connect(self.plotter.close)\n",
    "\n",
    "        self.frame.setLayout(vlayout)\n",
    "        self.setCentralWidget(self.frame)\n",
    "\n",
    "        # simple menu to demo functions\n",
    "        mainMenu = self.menuBar()\n",
    "        fileMenu = mainMenu.addMenu('File')\n",
    "        exitButton = QtWidgets.QAction('Exit', self)\n",
    "        exitButton.setShortcut('Ctrl+Q')\n",
    "        exitButton.triggered.connect(self.close)\n",
    "        fileMenu.addAction(exitButton)\n",
    "\n",
    "        # allow adding a sphere\n",
    "        meshMenu = mainMenu.addMenu('Mesh')\n",
    "        self.add_sphere_action = QtWidgets.QAction('Add Sphere', self)\n",
    "        self.add_sphere_action.triggered.connect(self.add_sphere)\n",
    "        meshMenu.addAction(self.add_sphere_action)\n",
    "\n",
    "        if show:\n",
    "            self.show()\n",
    "\n",
    "    def add_sphere(self):\n",
    "        \"\"\" add a sphere to the pyqt frame \"\"\"\n",
    "        sphere = pv.Sphere()\n",
    "        self.plotter.add_mesh(sphere, show_edges=True)\n",
    "        self.plotter.reset_camera()\n",
    "\n",
    "\n",
    "if __name__ == '__main__':\n",
    "    app = QtWidgets.QApplication(sys.argv)\n",
    "    window = MyMainWindow()\n",
    "    sys.exit(app.exec_())"
   ]
  },
  {
   "cell_type": "markdown",
   "id": "ff6344b2-538d-48e4-901b-27f014d6b95b",
   "metadata": {},
   "source": [
    "# Using Different Qt bindings"
   ]
  },
  {
   "cell_type": "markdown",
   "id": "cbca272d-df95-4f82-b99d-ed203280a846",
   "metadata": {},
   "source": [
    "To use different Qt bindings you must first install them. For example, to use `PySide2`, you install it via:"
   ]
  },
  {
   "cell_type": "code",
   "execution_count": null,
   "id": "f34d7155-5715-48d0-bc30-e9f8671aa9b6",
   "metadata": {},
   "outputs": [],
   "source": [
    "!pip install PySide2"
   ]
  },
  {
   "cell_type": "markdown",
   "id": "8289fb04-b9e8-4e99-9bb2-92777742c56e",
   "metadata": {},
   "source": [
    "Then you set the `QT_API` value to the specific binding you would like to use:"
   ]
  },
  {
   "cell_type": "code",
   "execution_count": null,
   "id": "5da89772-a439-4dfe-8d44-9b49598cb541",
   "metadata": {},
   "outputs": [],
   "source": [
    "os.environ[\"QT_API\"] = \"pyside2\""
   ]
  },
  {
   "cell_type": "markdown",
   "id": "e6e487e5-e4f5-4492-aa1e-8d671b40c9f9",
   "metadata": {},
   "source": [
    "Please refer to the [*QtPy* documentation](https://github.com/spyder-ide/qtpy) page for more information."
   ]
  },
  {
   "cell_type": "markdown",
   "id": "901ff91d-9c8b-4b2b-acc7-c1f6ac5d676e",
   "metadata": {},
   "source": [
    "### Excersize"
   ]
  },
  {
   "cell_type": "markdown",
   "id": "2a404691-cdf2-4afc-8ee1-abdc5045b1bb",
   "metadata": {},
   "source": [
    "Let's plot globe using `BackgroundPlotter` object."
   ]
  },
  {
   "cell_type": "code",
   "execution_count": null,
   "id": "259597d9-75bc-45aa-953c-7bd2b1cf9a81",
   "metadata": {},
   "outputs": [],
   "source": [
    "# Your code here"
   ]
  },
  {
   "cell_type": "code",
   "execution_count": null,
   "id": "55ec1597-fd42-4c7c-a48e-b1c653cd2515",
   "metadata": {},
   "outputs": [],
   "source": [
    "from pyvista import examples\n",
    "import pyvista as pv\n",
    "from pyvistaqt import BackgroundPlotter\n",
    "\n",
    "\n",
    "globe = examples.load_globe()\n",
    "\n",
    "plotter = BackgroundPlotter()\n",
    "plotter.add_mesh(globe)"
   ]
  },
  {
   "cell_type": "markdown",
   "id": "dfa27a08-bf7c-4294-947b-dd1e74509749",
   "metadata": {},
   "source": [
    "# Freezing PyVista with pyinstaller"
   ]
  },
  {
   "cell_type": "markdown",
   "id": "a9588459-57f6-442c-b377-538b14d89713",
   "metadata": {},
   "source": [
    "You can make some fantastic standalone programs with `pyinstaller` and `pyvista`, and you can even make a graphical user interface incorporating `PyQt5` or `pyside2`. Depending on your version of VTK, this requires some extra steps to setup."
   ]
  },
  {
   "cell_type": "markdown",
   "id": "8a217c42-c851-4f99-9c8f-ba3c6d320a53",
   "metadata": {},
   "source": [
    "When running VTK v9, you need to add several additional `hiddenimports`. For clarity and completeness, create a spec file (we’ll name it `pyvista.spec`) following the directions given at [Using Spec Files](https://pyinstaller.readthedocs.io/en/stable/spec-files.html). Modify the `Analysis` and add the following hidden imports:"
   ]
  },
  {
   "cell_type": "raw",
   "id": "beceaf15-a150-4f7a-89a4-32832fc9bbed",
   "metadata": {},
   "source": [
    "main_py = os.path.join(some_path, 'main.py')\n",
    "a = Analysis([main_py],\n",
    "             pathex=[],\n",
    "             binaries=[],\n",
    "             hiddenimports=['vtkmodules',\n",
    "                            'vtkmodules.all',\n",
    "                            'vtkmodules.qt.QVTKRenderWindowInteractor',\n",
    "                            'vtkmodules.util',\n",
    "                            'vtkmodules.util.numpy_support',\n",
    "                            'vtkmodules.numpy_interface.dataset_adapter',\n",
    "                           ],"
   ]
  },
  {
   "cell_type": "code",
   "execution_count": null,
   "id": "1805126a-ae63-4ad6-b2c8-23b67e84679c",
   "metadata": {},
   "outputs": [],
   "source": []
  }
 ],
 "metadata": {
  "kernelspec": {
   "display_name": "Python 3 (ipykernel)",
   "language": "python",
   "name": "python3"
  },
  "language_info": {
   "codemirror_mode": {
    "name": "ipython",
    "version": 3
   },
   "file_extension": ".py",
   "mimetype": "text/x-python",
   "name": "python",
   "nbconvert_exporter": "python",
   "pygments_lexer": "ipython3",
   "version": "3.10.4"
  }
 },
 "nbformat": 4,
 "nbformat_minor": 5
}
