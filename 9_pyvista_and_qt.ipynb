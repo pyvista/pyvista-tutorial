{
 "cells": [
  {
   "cell_type": "markdown",
   "id": "d79cad9e-1f5f-4877-b8a6-a72dfe80dbec",
   "metadata": {},
   "source": [
    "# PyVista and Qt"
   ]
  },
  {
   "cell_type": "markdown",
   "id": "7e50ccfc-df82-450a-9357-9899c8d86f64",
   "metadata": {},
   "source": [
    "Demonstrate how to use PyVista to create standalone applications using pyinstaller and the Qt framework."
   ]
  },
  {
   "cell_type": "markdown",
   "id": "d1344a86-3cdb-45f0-b451-651869474481",
   "metadata": {},
   "source": [
    "# Overview"
   ]
  },
  {
   "cell_type": "markdown",
   "id": "73835bd2-b0d4-4350-805e-40114ff143f5",
   "metadata": {},
   "source": [
    "The python package `pyvistaqt` extends the functionality of `pyvista` through the usage of Qt. Since Qt applications operates in a separate thread than VTK, you can simultaneously have an active VTK plot and a non-blocking Python session."
   ]
  },
  {
   "cell_type": "markdown",
   "id": "27e393ec-ee04-451b-87ca-b880cd21f1ef",
   "metadata": {},
   "source": [
    "![qt_multiplot](https://qtdocs.pyvista.org/_images/qt_multiplot.png)"
   ]
  },
  {
   "cell_type": "markdown",
   "id": "ef7cf39a-c767-43ef-b21d-baf202c1017a",
   "metadata": {},
   "source": [
    "# Getting Started"
   ]
  },
  {
   "cell_type": "code",
   "execution_count": null,
   "id": "e6a2b913-f0bc-432b-b4d8-edd8a4ea895f",
   "metadata": {},
   "outputs": [],
   "source": [
    "!pip install pyqt5"
   ]
  },
  {
   "cell_type": "markdown",
   "id": "2dbb261e-2b5d-4349-b132-461f29bccf50",
   "metadata": {},
   "source": [
    "Installation using `pip` is:"
   ]
  },
  {
   "cell_type": "code",
   "execution_count": null,
   "id": "fbbfb2b4-caba-4d1e-a8fe-d4b698d7325a",
   "metadata": {},
   "outputs": [],
   "source": [
    "!pip install pyvistaqt"
   ]
  },
  {
   "cell_type": "markdown",
   "id": "4f0e1e4f-36f5-41a5-8bc0-ca8d59d16ce9",
   "metadata": {},
   "source": [
    "To install this package with conda run:"
   ]
  },
  {
   "cell_type": "markdown",
   "id": "dcb1af01-112f-47de-8079-2ca31d01aec1",
   "metadata": {},
   "source": [
    "```bash\n",
    "$ conda install -c conda-forge pyvistaqt\n",
    "```"
   ]
  },
  {
   "cell_type": "markdown",
   "id": "1aed0941-a5a8-4965-9295-ec2bc95895d2",
   "metadata": {},
   "source": [
    "You can also visit [PyPI](https://pypi.org/project/pyvistaqt/) or [GitHub](https://github.com/pyvista/pyvistaqt) to download the source."
   ]
  },
  {
   "cell_type": "markdown",
   "id": "9b34de49-4457-4f37-a180-45dfd7ded83a",
   "metadata": {},
   "source": [
    "Once installed, use the `pyvistaqt.BackgroundPlotter` like any PyVista plotter."
   ]
  },
  {
   "cell_type": "code",
   "execution_count": null,
   "id": "09bbf4aa-966c-47ac-a58a-c1eef3740a26",
   "metadata": {},
   "outputs": [],
   "source": [
    "import pyvistaqt\n",
    "\n",
    "pyvistaqt.BackgroundPlotter?"
   ]
  },
  {
   "cell_type": "markdown",
   "id": "a39fb988-dc84-4761-82d6-90e562b7d10d",
   "metadata": {},
   "source": [
    "# Brief Example"
   ]
  },
  {
   "cell_type": "markdown",
   "id": "d3e38aa7-0c22-4513-bf81-a67c7c046f07",
   "metadata": {},
   "source": [
    "Create an instance of the `pyvistaqt.BackgroundPlotter` and plot a sphere."
   ]
  },
  {
   "cell_type": "code",
   "execution_count": null,
   "id": "368b79ac-1932-4914-9362-1b85a6c20dac",
   "metadata": {},
   "outputs": [],
   "source": [
    "pyvistaqt.BackgroundPlotter?"
   ]
  },
  {
   "cell_type": "code",
   "execution_count": null,
   "id": "858345fb-1cd7-4481-9b66-f4390399a39a",
   "metadata": {},
   "outputs": [],
   "source": [
    "import pyvista as pv\n",
    "from pyvistaqt import BackgroundPlotter\n",
    "\n",
    "sphere = pv.Sphere()\n",
    "\n",
    "plotter = BackgroundPlotter()\n",
    "plotter.add_mesh(sphere)"
   ]
  },
  {
   "cell_type": "markdown",
   "id": "d47decf8-a043-4d43-91ba-1bc0d2116316",
   "metadata": {},
   "source": [
    "# Usage"
   ]
  },
  {
   "cell_type": "markdown",
   "id": "2a92332e-b87b-4e09-9ca0-71267095d016",
   "metadata": {},
   "source": [
    "PyVista has an interface for placing plots in `pyvistaqt` that extends the functionality of the `QVTKRenderWindowInteractor` class. The `pyvistaqt.QtInteractor` class allows you to have the same functionality of the `Plotter` class within a Qt application. This simplifies adding meshes, updating, and controlling them when using Qt."
   ]
  },
  {
   "cell_type": "markdown",
   "id": "9dbc4aa9-1d82-473c-b9cd-3aa7985c00d6",
   "metadata": {},
   "source": [
    "Please do keep in mind that the `BackgroundPlotter` **does not** create its own event loop by default. By design, the plotter will look for an active instance of `QApplication` instead. So in the end, it is up to the user to manage this event loop and there are several ways to achieve this. For example, it’s possible to start Python interactively with `python -i`, use `ipython` or execute the Qt event loop by adding `plotter.app.exec_()` to the end of the following code."
   ]
  },
  {
   "cell_type": "markdown",
   "id": "a9c30971-cc24-42a5-92ab-a7562c5377e0",
   "metadata": {},
   "source": [
    "# Background Plotting"
   ]
  },
  {
   "cell_type": "markdown",
   "id": "1b67ee03-05ff-44b8-95a4-328eae5e08d0",
   "metadata": {},
   "source": [
    "Normal PyVista plotting windows exhibit blocking behavior, but it is possible to plot in the background and update the plotter in real-time using the `BackgroundPlotter` object. This requires `pyvistaqt`, but otherwise appears and functions like a normal PyVista `Plotter` instance. For example:"
   ]
  },
  {
   "cell_type": "code",
   "execution_count": null,
   "id": "1cc2ee11-c44d-4421-882a-651d186d2338",
   "metadata": {},
   "outputs": [],
   "source": [
    "import pyvista as pv\n",
    "from pyvistaqt import BackgroundPlotter\n",
    "\n",
    "sphere = pv.Sphere()\n",
    "\n",
    "plotter = BackgroundPlotter()\n",
    "plotter.add_mesh(sphere)\n",
    "\n",
    "# can now operate on the sphere and have it updated in the background\n",
    "sphere.points *= 0.5"
   ]
  },
  {
   "cell_type": "markdown",
   "id": "276c8a21-c426-4d4e-aa1b-58b53e2eeab8",
   "metadata": {},
   "source": [
    "# Multiple Plotters"
   ]
  },
  {
   "cell_type": "markdown",
   "id": "ab15400a-f0f1-464b-ba45-801a81f3670c",
   "metadata": {},
   "source": [
    "The following example shows how to use an interface with multiple plotters. Each plotter can be selected and functions like a normal PyVista `Plotter` instance:"
   ]
  },
  {
   "cell_type": "code",
   "execution_count": null,
   "id": "60b3ba94-1d6c-46db-912d-07fdeb243bde",
   "metadata": {},
   "outputs": [],
   "source": [
    "import pyvista as pv\n",
    "from pyvistaqt import MultiPlotter\n",
    "\n",
    "mp = MultiPlotter(nrows=2, ncols=2)\n",
    "mp[0, 0].add_mesh(pv.Sphere())\n",
    "mp[0, 1].add_mesh(pv.Cylinder())\n",
    "mp[1, 0].add_mesh(pv.Cube())\n",
    "mp[1, 1].add_mesh(pv.Cone())"
   ]
  },
  {
   "cell_type": "markdown",
   "id": "2c390e92-9f6a-4ddc-8c60-f2912e3af8e0",
   "metadata": {},
   "source": [
    "# Example PyQt5 PyVista QtInteractor"
   ]
  },
  {
   "cell_type": "markdown",
   "id": "687ffd80-e6da-4dc2-b926-78c2c0e980e9",
   "metadata": {},
   "source": [
    "The following example shows how to create a simple application that adds a sphere to an empty plotting window."
   ]
  },
  {
   "cell_type": "code",
   "execution_count": null,
   "id": "303a274a-e29c-4b19-9828-58aba3fae85b",
   "metadata": {},
   "outputs": [],
   "source": [
    "%load ./examples_qt/main.py"
   ]
  },
  {
   "cell_type": "markdown",
   "id": "ff6344b2-538d-48e4-901b-27f014d6b95b",
   "metadata": {},
   "source": [
    "# Using Different Qt bindings"
   ]
  },
  {
   "cell_type": "markdown",
   "id": "cbca272d-df95-4f82-b99d-ed203280a846",
   "metadata": {},
   "source": [
    "To use different Qt bindings you must first install them. For example, to use `PySide2`, you install it via:"
   ]
  },
  {
   "cell_type": "code",
   "execution_count": null,
   "id": "f34d7155-5715-48d0-bc30-e9f8671aa9b6",
   "metadata": {},
   "outputs": [],
   "source": [
    "!pip install PySide2"
   ]
  },
  {
   "cell_type": "markdown",
   "id": "8289fb04-b9e8-4e99-9bb2-92777742c56e",
   "metadata": {},
   "source": [
    "Then you set the `QT_API` value to the specific binding you would like to use:"
   ]
  },
  {
   "cell_type": "code",
   "execution_count": null,
   "id": "5da89772-a439-4dfe-8d44-9b49598cb541",
   "metadata": {},
   "outputs": [],
   "source": [
    "os.environ[\"QT_API\"] = \"pyside2\""
   ]
  },
  {
   "cell_type": "markdown",
   "id": "e6e487e5-e4f5-4492-aa1e-8d671b40c9f9",
   "metadata": {},
   "source": [
    "Please refer to the [*QtPy* documentation](https://github.com/spyder-ide/qtpy) page for more information."
   ]
  },
  {
   "cell_type": "markdown",
   "id": "901ff91d-9c8b-4b2b-acc7-c1f6ac5d676e",
   "metadata": {},
   "source": [
    "### Exercise"
   ]
  },
  {
   "cell_type": "markdown",
   "id": "2a404691-cdf2-4afc-8ee1-abdc5045b1bb",
   "metadata": {},
   "source": [
    "Let's plot globe using `BackgroundPlotter` object."
   ]
  },
  {
   "cell_type": "code",
   "execution_count": null,
   "id": "259597d9-75bc-45aa-953c-7bd2b1cf9a81",
   "metadata": {},
   "outputs": [],
   "source": [
    "# Your code here"
   ]
  },
  {
   "cell_type": "code",
   "execution_count": null,
   "id": "55ec1597-fd42-4c7c-a48e-b1c653cd2515",
   "metadata": {
    "jupyter": {
     "source_hidden": true
    },
    "tags": []
   },
   "outputs": [],
   "source": [
    "import pyvista as pv\n",
    "from pyvista import examples\n",
    "from pyvistaqt import BackgroundPlotter\n",
    "\n",
    "globe = examples.load_globe()\n",
    "\n",
    "plotter = BackgroundPlotter()\n",
    "plotter.add_mesh(globe)"
   ]
  },
  {
   "cell_type": "markdown",
   "id": "dfa27a08-bf7c-4294-947b-dd1e74509749",
   "metadata": {},
   "source": [
    "# Freezing PyVista with pyinstaller"
   ]
  },
  {
   "cell_type": "markdown",
   "id": "a9588459-57f6-442c-b377-538b14d89713",
   "metadata": {},
   "source": [
    "You can make some fantastic standalone programs with `pyinstaller` and `pyvista`, and you can even make a graphical user interface incorporating `PyQt5` or `pyside2`. Depending on your version of VTK, this requires some extra steps to setup."
   ]
  },
  {
   "cell_type": "markdown",
   "id": "8a217c42-c851-4f99-9c8f-ba3c6d320a53",
   "metadata": {},
   "source": [
    "When running VTK v9, you need to add several additional `hiddenimports`. For clarity and completeness, create a spec file (we’ll name it `pyvista.spec`) following the directions given at [Using Spec Files](https://pyinstaller.readthedocs.io/en/stable/spec-files.html). Modify the `Analysis` and add the following hidden imports:"
   ]
  },
  {
   "cell_type": "markdown",
   "id": "d32b7ed8-d2f3-4afd-899f-deada825c7cd",
   "metadata": {},
   "source": [
    "```python\n",
    "main_py = os.path.join(some_path, 'main.py')\n",
    "a = Analysis([main_py],\n",
    "             pathex=[],\n",
    "             binaries=[],\n",
    "             hiddenimports=['vtkmodules',\n",
    "                            'vtkmodules.all',\n",
    "                            'vtkmodules.qt.QVTKRenderWindowInteractor',\n",
    "                            'vtkmodules.util',\n",
    "                            'vtkmodules.util.numpy_support',\n",
    "                            'vtkmodules.numpy_interface.dataset_adapter',\n",
    "                           ],\n",
    "```"
   ]
  },
  {
   "cell_type": "markdown",
   "id": "b4c59287-7e93-40d6-9d48-63769e495b9a",
   "metadata": {},
   "source": [
    "### Exercize"
   ]
  },
  {
   "cell_type": "markdown",
   "id": "ab4b73bd-dc56-40de-84ed-6cd2bb6f9334",
   "metadata": {},
   "source": [
    "Please build `./examples_qt/main.py` with pyinstaller."
   ]
  },
  {
   "cell_type": "markdown",
   "id": "88a66b47-7303-4a6c-bb38-e0b271d7af8f",
   "metadata": {},
   "source": [
    "# Flask Application"
   ]
  },
  {
   "cell_type": "markdown",
   "id": "f7aebf35-b0c0-4c6a-83c9-77f1bb229199",
   "metadata": {},
   "source": [
    "You can use `pyvista` in to make a flask application to display static plots. See the following example as well as the demo at [Flask Example](https://github.com/pyvista/pyvista/tree/main/examples_flask)."
   ]
  },
  {
   "cell_type": "markdown",
   "id": "e4361dbb-bd88-4618-b26d-ae158a7b8e32",
   "metadata": {},
   "source": [
    "For dynamic examples, it’s recommended to use [Jupyter Notebooks](https://jupyter.org/). See our documentation regarding this at [Jupyter Notebook Plotting](https://docs.pyvista.org/user-guide/jupyter/index.html#jupyter-plotting)."
   ]
  },
  {
   "cell_type": "markdown",
   "id": "d613ef82-0491-4d23-b5e7-437fffadca05",
   "metadata": {},
   "source": [
    "![flask example](https://docs.pyvista.org/_images/flask_example.png)"
   ]
  },
  {
   "cell_type": "markdown",
   "id": "ef6ac974-9f87-4b10-acf7-0c25f303ec1d",
   "metadata": {},
   "source": [
    "# Python Application app.py"
   ]
  },
  {
   "cell_type": "code",
   "execution_count": null,
   "id": "5625746e-4ce9-4a60-9f35-350124914b4d",
   "metadata": {},
   "outputs": [],
   "source": [
    "%load examples_flask/static_ex/app.py"
   ]
  },
  {
   "cell_type": "code",
   "execution_count": null,
   "id": "660390c3-9297-4a20-939e-9229f9a31f45",
   "metadata": {},
   "outputs": [],
   "source": [
    "!cd examples_flask/static_ex && python app.py"
   ]
  },
  {
   "cell_type": "markdown",
   "id": "799fbe90-5bef-4855-b7c1-74d274c2a8ad",
   "metadata": {},
   "source": [
    "# Ajax Template index.html"
   ]
  },
  {
   "cell_type": "markdown",
   "id": "c590e5ab-634d-4e1a-9602-456d2ce3112c",
   "metadata": {},
   "source": [
    "This template should be within the `templates` directory in the same path as `app.py`."
   ]
  },
  {
   "cell_type": "markdown",
   "id": "60772a21-3077-4d30-8f07-a4594fdbe865",
   "metadata": {},
   "source": [
    "This template returns the `meshtype` parameter back to the `get_img` method in the flask app, which is used to select the type of mesh to be plotted."
   ]
  },
  {
   "cell_type": "code",
   "execution_count": null,
   "id": "8b9d111c-1f34-44cf-9d46-039b10076569",
   "metadata": {},
   "outputs": [],
   "source": [
    "%load examples_flask/static_ex/templates/index.html"
   ]
  },
  {
   "cell_type": "markdown",
   "id": "2c8076c5-acf0-442b-8706-f0a7a398e847",
   "metadata": {},
   "source": [
    "# PyVista within a Docker Container"
   ]
  },
  {
   "cell_type": "markdown",
   "id": "ecb88f0f-bceb-43c3-acfb-5698915bf7ee",
   "metadata": {},
   "source": [
    "You can use `pyvista` from within a docker container with jupyterlab. To launch a local docker container, install `docker`, then pull and run the image with:"
   ]
  },
  {
   "cell_type": "raw",
   "id": "80542cf5-f688-49a9-a95f-ad2bd0a655e0",
   "metadata": {},
   "source": [
    "docker run -p 8888:8888 ghcr.io/pyvista/pyvista:latest"
   ]
  },
  {
   "cell_type": "markdown",
   "id": "cc37b010-3bf3-4da0-9080-d86be4175fc4",
   "metadata": {},
   "source": [
    "Finally, open the link that shows up from the terminal output and start playing around with pyvista in jupyterlab! For example:"
   ]
  },
  {
   "cell_type": "raw",
   "id": "c0a71da1-99c3-4818-8c02-1e74294bec65",
   "metadata": {},
   "source": [
    "To access the notebook, open this file in a browser:\n",
    "    file:///home/jovyan/.local/share/jupyter/runtime/nbserver-6-open.html\n",
    "Or copy and paste one of these URLs:\n",
    "    http://861c873f6352:8888/?token=b3ac1f6397188944fb21e1f58b673b5b4e6f1ede1a84787b\n",
    " or http://127.0.0.1:8888/?token=b3ac1f6397188944fb21e1f58b673b5b4e6f1ede1a84787b"
   ]
  },
  {
   "cell_type": "markdown",
   "id": "1f268582-908d-4f31-8f42-49d16fdabc57",
   "metadata": {},
   "source": [
    "You can see the latest tags of [our Docker containers here](https://github.com/pyvista/pyvista/pkgs/container/pyvista). `ghcr.io/pyvista/pyvista:latest` has JupyterLab set up while `ghcr.io/pyvista/pyvista:latest-slim` is a lightweight Python environment without Jupyter"
   ]
  },
  {
   "cell_type": "markdown",
   "id": "4a99e604-3b12-467a-a834-694405c41a12",
   "metadata": {},
   "source": [
    "You may need to log into the GitHub container registry by following the directions at [Working with the Docker registry](https://docs.github.com/en/enterprise-server@3.0/packages/working-with-a-github-packages-registry/working-with-the-docker-registry))"
   ]
  },
  {
   "cell_type": "markdown",
   "id": "6b56469e-4d5c-4151-83d8-3c378db62571",
   "metadata": {},
   "source": [
    "# Create your own Docker Container with pyvista"
   ]
  },
  {
   "cell_type": "markdown",
   "id": "51c258b7-a3d0-4965-b2b6-20888da70908",
   "metadata": {},
   "source": [
    "Clone pyvista and cd into this directory to create your own customized docker image."
   ]
  },
  {
   "cell_type": "markdown",
   "id": "75f68d7a-366c-4e8b-962b-3742b613ec7f",
   "metadata": {},
   "source": [
    "```bash\n",
    "git clone https://github.com/pyvista/pyvista\n",
    "cd pyvista/docker\n",
    "IMAGE=my-pyvista-jupyterlab:v0.1.0\n",
    "docker build -t $IMAGE .\n",
    "docker push $IMAGE\n",
    "```"
   ]
  },
  {
   "cell_type": "markdown",
   "id": "54a97bbc-0dcc-4d9c-b324-5e0819931d78",
   "metadata": {},
   "source": [
    "If you wish to have off-screen GPU support when rending on jupyterlab, see the the notes about building with EGL at [Building VTK](https://docs.pyvista.org/extras/building_vtk.html#ref-building-vtk), or use the custom, pre-built wheels at [Release 0.27.0](https://github.com/pyvista/pyvista/releases/tag/0.27.0). Install that customized vtk wheel onto your docker image by modifying the docker image at `pyvista/docker/jupyter.Dockerfile` with:"
   ]
  },
  {
   "cell_type": "raw",
   "id": "1af65b4e-73e3-4bfb-808e-1ad1afd3d1a5",
   "metadata": {},
   "source": [
    "COPY vtk-9.0.20201105-cp38-cp38-linux_x86_64.whl /tmp/\n",
    "RUN pip install /tmp/vtk-9.0.20201105-cp38-cp38-linux_x86_64.whl"
   ]
  },
  {
   "cell_type": "markdown",
   "id": "cda93937-57ec-4e7e-aa03-726babf7eace",
   "metadata": {},
   "source": [
    "Additionally, you must install GPU drivers on the docker image of the same version running on the host machine. For example, if you are running on Azure Kubernetes Service and the GPU nodes on the kubernetes cluster are running `450.51.06`, you must install the same version on your image. Since you will be using the underlying kernel module, there’s no reason to build it on the container (and trying will only result in an error)."
   ]
  },
  {
   "cell_type": "raw",
   "id": "d21df55e-ad24-47cc-a7d3-8d9b85b80a11",
   "metadata": {},
   "source": [
    "COPY NVIDIA-Linux-x86_64-450.51.06.run nvidia_drivers.run\n",
    "RUN sudo apt-get install kmod libglvnd-dev pkg-config -yq\n",
    "RUN ./NVIDIA-Linux-x86_64-450.51.06.run -s --no-kernel-module"
   ]
  },
  {
   "cell_type": "markdown",
   "id": "900e7def-9bf2-45cf-b0f1-6095f2bfae04",
   "metadata": {},
   "source": [
    "To verify that you’re rendering on a GPU, first check the output of `nvidia-smi`. You should get something like:"
   ]
  },
  {
   "cell_type": "markdown",
   "id": "a56ade74-c4cd-4b92-a935-e462058b3dea",
   "metadata": {},
   "source": [
    "```bash\n",
    "$ nvidia-smi\n",
    "Sun Nov  8 05:48:46 2020\n",
    "+-----------------------------------------------------------------------------+\n",
    "| NVIDIA-SMI 450.51.06    Driver Version: 450.51.06    CUDA Version: 11.0     |\n",
    "|-------------------------------+----------------------+----------------------+\n",
    "| GPU  Name        Persistence-M| Bus-Id        Disp.A | Volatile Uncorr. ECC |\n",
    "| Fan  Temp  Perf  Pwr:Usage/Cap|         Memory-Usage | GPU-Util  Compute M. |\n",
    "|                               |                      |               MIG M. |\n",
    "|===============================+======================+======================|\n",
    "|   0  Tesla K80           Off  | 00000001:00:00.0 Off |                    0 |\n",
    "| N/A   34C    P8    32W / 149W |   1297MiB / 11441MiB |      0%      Default |\n",
    "|                               |                      |                  N/A |\n",
    "+-------------------------------+----------------------+----------------------+\n",
    "```"
   ]
  },
  {
   "cell_type": "markdown",
   "id": "dff12ff5-3938-4ffa-95fd-4144239b48f6",
   "metadata": {},
   "source": [
    "Note the driver version (which is actually the kernel driver version), and verify it matches the version you installed on your docker image."
   ]
  },
  {
   "cell_type": "markdown",
   "id": "33a7c534-3df0-4c87-92c4-d92c60442982",
   "metadata": {},
   "source": [
    "Finally, check that your render window is using NVIDIA by running `ReportCapabilities`:"
   ]
  },
  {
   "cell_type": "code",
   "execution_count": null,
   "id": "e0266456-7db3-4f06-b44b-a7b043ab4846",
   "metadata": {},
   "outputs": [],
   "source": [
    "import pyvista\n",
    "\n",
    "pl = pyvista.Plotter()\n",
    "print(pl.ren_win.ReportCapabilities())"
   ]
  },
  {
   "cell_type": "markdown",
   "id": "135dfc2f-cb2b-4376-98d9-c3c3adc9646e",
   "metadata": {},
   "source": [
    "If you get `display id not set`, then your environment is likely not set up correctly."
   ]
  },
  {
   "cell_type": "code",
   "execution_count": null,
   "id": "f7e4a4b2",
   "metadata": {
    "collapsed": false,
    "jupyter": {
     "outputs_hidden": false
    }
   },
   "outputs": [],
   "source": [
    "%matplotlib inline\n",
    "from pyvista import set_plot_theme\n",
    "\n",
    "set_plot_theme(\"document\")"
   ]
  },
  {
   "cell_type": "markdown",
   "id": "33feda17",
   "metadata": {},
   "source": [
    "Box Widget\n",
    "==========\n",
    "\n",
    "The box widget can be enabled and disabled by the\n",
    "`pyvista.WidgetHelper.add_box_widget` and\n",
    "`pyvista.WidgetHelper.clear_box_widgets`\n",
    "methods respectively. When enabling the box widget, you must provide a\n",
    "custom callback function otherwise the box would appear and do nothing -\n",
    "the callback functions are what allow us to leverage the widget to\n",
    "perform a task like clipping/cropping.\n",
    "\n",
    "Considering that using a box to clip/crop a mesh is one of the most\n",
    "common use cases, we have included a helper method that will allow you\n",
    "to add a mesh to a scene with a box widget that controls its extent, the\n",
    "`pyvista.WidgetHelper.add_mesh_clip_box`\n",
    "method.\n",
    "\n",
    "![image](https://docs.pyvista.org/_images/box-clip.gif)\n"
   ]
  },
  {
   "cell_type": "code",
   "execution_count": null,
   "id": "6d92b4d6-b799-4f44-9a9a-414d9758a729",
   "metadata": {
    "collapsed": false,
    "jupyter": {
     "outputs_hidden": false
    }
   },
   "outputs": [],
   "source": [
    "pyvista.WidgetHelper.add_box_widget?"
   ]
  },
  {
   "cell_type": "code",
   "execution_count": null,
   "id": "80fe4a54-c7f1-4149-8bf0-46d3f44bae84",
   "metadata": {
    "collapsed": false,
    "jupyter": {
     "outputs_hidden": false
    }
   },
   "outputs": [],
   "source": [
    "pyvista.WidgetHelper.clear_box_widgets?"
   ]
  },
  {
   "cell_type": "code",
   "execution_count": null,
   "id": "f6fb2e2a-91d0-4e25-8bd4-07fccf86b7b0",
   "metadata": {
    "collapsed": false,
    "jupyter": {
     "outputs_hidden": false
    }
   },
   "outputs": [],
   "source": [
    "pyvista.WidgetHelper.add_mesh_clip_box?"
   ]
  },
  {
   "cell_type": "code",
   "execution_count": null,
   "id": "8c159ec8-260d-4903-b1cb-018dea2d7db6",
   "metadata": {
    "collapsed": false,
    "jupyter": {
     "outputs_hidden": false
    }
   },
   "outputs": [],
   "source": [
    "import pyvista as pv\n",
    "from pyvista import examples\n",
    "\n",
    "mesh = examples.download_nefertiti()"
   ]
  },
  {
   "cell_type": "code",
   "execution_count": null,
   "id": "cb3a4b2d",
   "metadata": {
    "collapsed": false,
    "jupyter": {
     "outputs_hidden": false
    }
   },
   "outputs": [],
   "source": [
    "p = pv.Plotter()\n",
    "p.add_mesh_clip_box(mesh, color=\"white\")\n",
    "p.show(cpos=[-1, -1, 0.2])"
   ]
  },
  {
   "cell_type": "markdown",
   "id": "10d50f69",
   "metadata": {},
   "source": [
    "After interacting with the scene, the clipped mesh is available as:\n"
   ]
  },
  {
   "cell_type": "code",
   "execution_count": null,
   "id": "c3482bd1",
   "metadata": {
    "collapsed": false,
    "jupyter": {
     "outputs_hidden": false
    }
   },
   "outputs": [],
   "source": [
    "p.box_clipped_meshes"
   ]
  },
  {
   "cell_type": "code",
   "execution_count": null,
   "id": "99bb704e",
   "metadata": {
    "collapsed": false,
    "jupyter": {
     "outputs_hidden": false
    }
   },
   "outputs": [],
   "source": [
    "%matplotlib inline\n",
    "from pyvista import set_plot_theme\n",
    "\n",
    "set_plot_theme(\"document\")"
   ]
  },
  {
   "cell_type": "markdown",
   "id": "6431f90e",
   "metadata": {},
   "source": [
    "Checkbox Widget\n",
    "===============\n",
    "\n",
    "Use a checkbox to turn on/off the visibility of meshes in a scene.\n",
    "\n",
    "See `pyvista.WidgetHelper.add_checkbox_button_widget` for more details.\n"
   ]
  },
  {
   "cell_type": "code",
   "execution_count": null,
   "id": "6dda4f3e-e7b4-4aa8-aa04-696a3b5befc1",
   "metadata": {
    "collapsed": false,
    "jupyter": {
     "outputs_hidden": false
    }
   },
   "outputs": [],
   "source": [
    "pyvista.WidgetHelper.add_checkbox_button_widget?"
   ]
  },
  {
   "cell_type": "code",
   "execution_count": null,
   "id": "296e00e0-3428-4eb6-b0a2-0e642a599bb8",
   "metadata": {
    "collapsed": false,
    "jupyter": {
     "outputs_hidden": false
    }
   },
   "outputs": [],
   "source": [
    "import pyvista as pv"
   ]
  },
  {
   "cell_type": "markdown",
   "id": "474d0166",
   "metadata": {},
   "source": [
    "Single Checkbox\n",
    "===============\n"
   ]
  },
  {
   "cell_type": "code",
   "execution_count": null,
   "id": "709bb258-7d6c-4af8-a5dd-08598c94da53",
   "metadata": {
    "collapsed": false,
    "jupyter": {
     "outputs_hidden": false
    }
   },
   "outputs": [],
   "source": [
    "mesh = pv.Sphere()\n",
    "\n",
    "p = pv.Plotter()\n",
    "actor = p.add_mesh(mesh)\n",
    "\n",
    "\n",
    "def toggle_vis(flag):\n",
    "    actor.SetVisibility(flag)\n",
    "\n",
    "\n",
    "p.add_checkbox_button_widget(toggle_vis, value=True)\n",
    "p.show()"
   ]
  },
  {
   "cell_type": "markdown",
   "id": "804bc5a4",
   "metadata": {},
   "source": [
    "Multiple Checkboxes\n",
    "===================\n",
    "\n",
    "In this example, we will add many meshes to a scene with unique colors\n",
    "and create corresponding checkboxes for those meshes of the same color\n",
    "to toggle their visibility in the scene.\n"
   ]
  },
  {
   "cell_type": "code",
   "execution_count": null,
   "id": "bffe7a1c",
   "metadata": {
    "collapsed": false,
    "jupyter": {
     "outputs_hidden": false
    }
   },
   "outputs": [],
   "source": [
    "colors = [\n",
    "    [\"ff0000\", \"28e5da\", \"0000ff\"],\n",
    "    [\"ffff00\", \"c8bebe\", \"f79292\"],\n",
    "    [\"fffff0\", \"f18c1d\", \"23dcaa\"],\n",
    "    [\"d785ec\", \"9d5b13\", \"e4e0b1\"],\n",
    "    [\"894509\", \"af45f5\", \"fff000\"],\n",
    "]\n",
    "\n",
    "\n",
    "class SetVisibilityCallback:\n",
    "    \"\"\"Helper callback to keep a reference to the actor being modified.\"\"\"\n",
    "\n",
    "    def __init__(self, actor):\n",
    "        self.actor = actor\n",
    "\n",
    "    def __call__(self, state):\n",
    "        self.actor.SetVisibility(state)"
   ]
  },
  {
   "cell_type": "code",
   "execution_count": null,
   "id": "51495ee9",
   "metadata": {
    "collapsed": false,
    "jupyter": {
     "outputs_hidden": false
    }
   },
   "outputs": [],
   "source": [
    "# Widget size\n",
    "size = 50\n",
    "\n",
    "p = pv.Plotter()\n",
    "\n",
    "Startpos = 12\n",
    "for i, lst in enumerate(colors):\n",
    "    for j, color in enumerate(lst):\n",
    "        actor = p.add_mesh(pv.Sphere(center=(i, j, 0)), color=color)\n",
    "        # Make a separate callback for each widget\n",
    "        callback = SetVisibilityCallback(actor)\n",
    "        p.add_checkbox_button_widget(\n",
    "            callback,\n",
    "            value=True,\n",
    "            position=(5.0, Startpos),\n",
    "            size=size,\n",
    "            border_size=1,\n",
    "            color_on=color,\n",
    "            color_off=\"grey\",\n",
    "            background_color=\"grey\",\n",
    "        )\n",
    "        Startpos = Startpos + size + (size // 10)\n",
    "\n",
    "p.show()"
   ]
  },
  {
   "cell_type": "code",
   "execution_count": null,
   "id": "d9a5679b",
   "metadata": {
    "collapsed": false,
    "jupyter": {
     "outputs_hidden": false
    }
   },
   "outputs": [],
   "source": [
    "%matplotlib inline\n",
    "from pyvista import set_plot_theme\n",
    "\n",
    "set_plot_theme(\"document\")"
   ]
  },
  {
   "cell_type": "markdown",
   "id": "59bcd983-1487-4cf6-a1c8-87e0c169817f",
   "metadata": {},
   "source": [
    "Line Widget\n",
    "===========\n",
    "\n",
    "The line widget can be enabled and disabled by the\n",
    "`pyvista.WidgetHelper.add_line_widget`\n",
    "and `pyvista.WidgetHelper.clear_line_widgets` methods respectively. Unfortunately, PyVista does not have\n",
    "any helper methods to utilize this widget, so it is necessary to pass a\n",
    "custom callback method."
   ]
  },
  {
   "cell_type": "code",
   "execution_count": null,
   "id": "cb498e0e-bd69-417a-94ad-381894086d4d",
   "metadata": {},
   "outputs": [],
   "source": [
    "pyvista.WidgetHelper.add_line_widget?"
   ]
  },
  {
   "cell_type": "code",
   "execution_count": null,
   "id": "f9671e39-02f7-4389-b54b-26edf16a66fb",
   "metadata": {},
   "outputs": [],
   "source": [
    "pyvista.WidgetHelper.clear_line_widgets?"
   ]
  },
  {
   "cell_type": "markdown",
   "id": "5f914d22-6af0-4b0f-b333-ccebe458a678",
   "metadata": {},
   "source": [
    "One particularly fun example is to use the line widget to create a\n",
    "source for the `pyvista.DataSetFilters.streamlines` filter. Again note the use of the `name` argument in\n",
    "`add_mesh`."
   ]
  },
  {
   "cell_type": "code",
   "execution_count": null,
   "id": "f09fd02f-869a-43d3-9553-f4f5dcbda9a9",
   "metadata": {
    "collapsed": false,
    "jupyter": {
     "outputs_hidden": false
    }
   },
   "outputs": [],
   "source": [
    "pyvista.DataSetFilters.streamlines?"
   ]
  },
  {
   "cell_type": "code",
   "execution_count": null,
   "id": "6ee3531c-8ebd-4815-b73a-1483ae95a283",
   "metadata": {
    "collapsed": false,
    "jupyter": {
     "outputs_hidden": false
    }
   },
   "outputs": [],
   "source": [
    "import numpy as np\n",
    "import pyvista as pv\n",
    "from pyvista import examples\n",
    "\n",
    "pv.set_plot_theme(\"document\")\n",
    "\n",
    "mesh = examples.download_kitchen()\n",
    "furniture = examples.download_kitchen(split=True)\n",
    "\n",
    "arr = np.linalg.norm(mesh[\"velocity\"], axis=1)\n",
    "clim = [arr.min(), arr.max()]"
   ]
  },
  {
   "cell_type": "code",
   "execution_count": null,
   "id": "92bf3a41",
   "metadata": {
    "collapsed": false,
    "jupyter": {
     "outputs_hidden": false
    }
   },
   "outputs": [],
   "source": [
    "p = pv.Plotter()\n",
    "p.add_mesh(furniture, name=\"furniture\", color=True)\n",
    "p.add_mesh(mesh.outline(), color=\"black\")\n",
    "p.add_axes()\n",
    "\n",
    "\n",
    "def simulate(pointa, pointb):\n",
    "    streamlines = mesh.streamlines(\n",
    "        n_points=10,\n",
    "        max_steps=100,\n",
    "        pointa=pointa,\n",
    "        pointb=pointb,\n",
    "        integration_direction=\"forward\",\n",
    "    )\n",
    "    p.add_mesh(\n",
    "        streamlines,\n",
    "        name=\"streamlines\",\n",
    "        line_width=5,\n",
    "        render_lines_as_tubes=True,\n",
    "        clim=clim,\n",
    "    )\n",
    "\n",
    "\n",
    "p.add_line_widget(callback=simulate, use_vertices=True)\n",
    "p.show()"
   ]
  },
  {
   "cell_type": "markdown",
   "id": "dfffd883",
   "metadata": {},
   "source": [
    "And here is a screen capture of a user interacting with this\n",
    "\n",
    "![image](https://docs.pyvista.org/_images/slider-widget-threshold.gif)\n"
   ]
  },
  {
   "cell_type": "code",
   "execution_count": null,
   "id": "6a53d029",
   "metadata": {
    "collapsed": false,
    "jupyter": {
     "outputs_hidden": false
    }
   },
   "outputs": [],
   "source": [
    "%matplotlib inline\n",
    "from pyvista import set_plot_theme\n",
    "\n",
    "set_plot_theme(\"document\")"
   ]
  },
  {
   "cell_type": "markdown",
   "id": "155d06e5",
   "metadata": {},
   "source": [
    "Multiple Slider Widgets\n",
    "=======================\n",
    "\n",
    "Use a class based callback to track multiple slider widgets for updating\n",
    "a single mesh.\n",
    "\n",
    "In this example we simply change a few parameters for the\n",
    "`pyvista.Sphere` method, but this could\n",
    "easily be applied to any mesh-generating/altering code.\n"
   ]
  },
  {
   "cell_type": "code",
   "execution_count": null,
   "id": "95197db0-a5db-47af-8f90-902e46665473",
   "metadata": {
    "collapsed": false,
    "jupyter": {
     "outputs_hidden": false
    }
   },
   "outputs": [],
   "source": [
    "pyvista.Sphere?"
   ]
  },
  {
   "cell_type": "code",
   "execution_count": null,
   "id": "4b28dea5-8aa2-4a53-bd56-e49465fa93ad",
   "metadata": {
    "collapsed": false,
    "jupyter": {
     "outputs_hidden": false
    }
   },
   "outputs": [],
   "source": [
    "import pyvista as pv\n",
    "\n",
    "\n",
    "class MyCustomRoutine:\n",
    "    def __init__(self, mesh):\n",
    "        self.output = mesh  # Expected PyVista mesh type\n",
    "        # default parameters\n",
    "        self.kwargs = {\n",
    "            \"radius\": 0.5,\n",
    "            \"theta_resolution\": 30,\n",
    "            \"phi_resolution\": 30,\n",
    "        }\n",
    "\n",
    "    def __call__(self, param, value):\n",
    "        self.kwargs[param] = value\n",
    "        self.update()\n",
    "\n",
    "    def update(self):\n",
    "        # This is where you call your simulation\n",
    "        result = pv.Sphere(**self.kwargs)\n",
    "        self.output.overwrite(result)\n",
    "        return"
   ]
  },
  {
   "cell_type": "code",
   "execution_count": null,
   "id": "556e9020",
   "metadata": {
    "collapsed": false,
    "jupyter": {
     "outputs_hidden": false
    }
   },
   "outputs": [],
   "source": [
    "starting_mesh = pv.Sphere()\n",
    "engine = MyCustomRoutine(starting_mesh)"
   ]
  },
  {
   "cell_type": "code",
   "execution_count": null,
   "id": "8faf57b0",
   "metadata": {
    "collapsed": false,
    "jupyter": {
     "outputs_hidden": false
    }
   },
   "outputs": [],
   "source": [
    "p = pv.Plotter()\n",
    "p.add_mesh(starting_mesh, show_edges=True)\n",
    "p.add_slider_widget(\n",
    "    callback=lambda value: engine(\"phi_resolution\", int(value)),\n",
    "    rng=[3, 60],\n",
    "    value=30,\n",
    "    title=\"Phi Resolution\",\n",
    "    pointa=(0.025, 0.1),\n",
    "    pointb=(0.31, 0.1),\n",
    "    style=\"modern\",\n",
    ")\n",
    "p.add_slider_widget(\n",
    "    callback=lambda value: engine(\"theta_resolution\", int(value)),\n",
    "    rng=[3, 60],\n",
    "    value=30,\n",
    "    title=\"Theta Resolution\",\n",
    "    pointa=(0.35, 0.1),\n",
    "    pointb=(0.64, 0.1),\n",
    "    style=\"modern\",\n",
    ")\n",
    "p.add_slider_widget(\n",
    "    callback=lambda value: engine(\"radius\", value),\n",
    "    rng=[0.1, 1.5],\n",
    "    value=0.5,\n",
    "    title=\"Radius\",\n",
    "    pointa=(0.67, 0.1),\n",
    "    pointb=(0.98, 0.1),\n",
    "    style=\"modern\",\n",
    ")\n",
    "p.show()"
   ]
  },
  {
   "cell_type": "code",
   "execution_count": null,
   "id": "ed0f6c54",
   "metadata": {
    "collapsed": false,
    "jupyter": {
     "outputs_hidden": false
    }
   },
   "outputs": [],
   "source": [
    "%matplotlib inline\n",
    "from pyvista import set_plot_theme\n",
    "\n",
    "set_plot_theme(\"document\")"
   ]
  },
  {
   "cell_type": "markdown",
   "id": "30decf90",
   "metadata": {},
   "source": [
    "Plane Widget\n",
    "============\n",
    "\n",
    "The plane widget can be enabled and disabled by the\n",
    "`pyvista.WidgetHelper.add_plane_widget`\n",
    "and `pyvista.WidgetHelper.clear_plane_widgets` methods respectively. As with all widgets, you must provide\n",
    "a custom callback method to utilize that plane. Considering that planes\n",
    "are most commonly used for clipping and slicing meshes, we have included\n",
    "two helper methods for doing those tasks!\n",
    "\n",
    "Let\\'s use a plane to clip a mesh:\n"
   ]
  },
  {
   "cell_type": "code",
   "execution_count": null,
   "id": "b006bd3d-f267-45fe-b474-307e41f8b8d8",
   "metadata": {
    "collapsed": false,
    "jupyter": {
     "outputs_hidden": false
    }
   },
   "outputs": [],
   "source": [
    "pyvista.WidgetHelper.add_plane_widget?"
   ]
  },
  {
   "cell_type": "code",
   "execution_count": null,
   "id": "f0112af0-3609-42b6-b882-531b12b34430",
   "metadata": {
    "collapsed": false,
    "jupyter": {
     "outputs_hidden": false
    }
   },
   "outputs": [],
   "source": [
    "pyvista.WidgetHelper.clear_plane_widgets?"
   ]
  },
  {
   "cell_type": "code",
   "execution_count": null,
   "id": "c0c99c81-a388-4be6-8e4a-ec495e78efe7",
   "metadata": {
    "collapsed": false,
    "jupyter": {
     "outputs_hidden": false
    }
   },
   "outputs": [],
   "source": [
    "import pyvista as pv\n",
    "from pyvista import examples\n",
    "\n",
    "vol = examples.download_brain()\n",
    "\n",
    "p = pv.Plotter()\n",
    "p.add_mesh_clip_plane(vol)\n",
    "p.show()"
   ]
  },
  {
   "cell_type": "markdown",
   "id": "c0aa825d",
   "metadata": {},
   "source": [
    "After interacting with the scene, the clipped mesh is available as:\n"
   ]
  },
  {
   "cell_type": "code",
   "execution_count": null,
   "id": "cdddb8ba",
   "metadata": {
    "collapsed": false,
    "jupyter": {
     "outputs_hidden": false
    }
   },
   "outputs": [],
   "source": [
    "p.plane_clipped_meshes"
   ]
  },
  {
   "cell_type": "markdown",
   "id": "5bdab89d",
   "metadata": {},
   "source": [
    "And here is a screen capture of a user interacting with this\n",
    "\n",
    "![image](https://docs.pyvista.org/_images/plane-clip.gif)\n"
   ]
  },
  {
   "cell_type": "markdown",
   "id": "1e333a04",
   "metadata": {},
   "source": [
    "Or you could slice a mesh using the plane widget:\n"
   ]
  },
  {
   "cell_type": "code",
   "execution_count": null,
   "id": "b3dfb425",
   "metadata": {
    "collapsed": false,
    "jupyter": {
     "outputs_hidden": false
    }
   },
   "outputs": [],
   "source": [
    "p = pv.Plotter()\n",
    "p.add_mesh_slice(vol)\n",
    "p.show()"
   ]
  },
  {
   "cell_type": "markdown",
   "id": "9762e10b",
   "metadata": {},
   "source": [
    "After interacting with the scene, the slice is available as:\n"
   ]
  },
  {
   "cell_type": "code",
   "execution_count": null,
   "id": "aa7788aa",
   "metadata": {
    "collapsed": false,
    "jupyter": {
     "outputs_hidden": false
    }
   },
   "outputs": [],
   "source": [
    "p.plane_sliced_meshes"
   ]
  },
  {
   "cell_type": "markdown",
   "id": "31befd52",
   "metadata": {},
   "source": [
    "And here is a screen capture of a user interacting with this\n",
    "\n",
    "![image](https://docs.pyvista.org/_images/plane-slice.gif)\n"
   ]
  },
  {
   "cell_type": "markdown",
   "id": "4025331b",
   "metadata": {},
   "source": [
    "Or you could leverage the plane widget for some custom task like\n",
    "glyphing a vector field along that plane. Note that we have to pass a\n",
    "`name` when calling `add_mesh` to ensure that there is only one set of\n",
    "glyphs plotted at a time.\n"
   ]
  },
  {
   "cell_type": "code",
   "execution_count": null,
   "id": "0f22f4fe",
   "metadata": {
    "collapsed": false,
    "jupyter": {
     "outputs_hidden": false
    }
   },
   "outputs": [],
   "source": [
    "import pyvista as pv\n",
    "from pyvista import examples\n",
    "\n",
    "mesh = examples.download_carotid()\n",
    "\n",
    "p = pv.Plotter()\n",
    "p.add_mesh(mesh.contour(8).extract_largest(), opacity=0.5)\n",
    "\n",
    "\n",
    "def my_plane_func(normal, origin):\n",
    "    slc = mesh.slice(normal=normal, origin=origin)\n",
    "    arrows = slc.glyph(orient=\"vectors\", scale=\"scalars\", factor=0.01)\n",
    "    p.add_mesh(arrows, name=\"arrows\")\n",
    "\n",
    "\n",
    "p.add_plane_widget(my_plane_func)\n",
    "p.show_grid()\n",
    "p.add_axes()\n",
    "p.show()"
   ]
  },
  {
   "cell_type": "markdown",
   "id": "3d412752",
   "metadata": {},
   "source": [
    "And here is a screen capture of a user interacting with this\n",
    "\n",
    "![image](https://docs.pyvista.org/_images/plane-glyph.gif)\n"
   ]
  },
  {
   "cell_type": "markdown",
   "id": "08abc32f",
   "metadata": {},
   "source": [
    "Further, a user can disable the arrow vector by setting the\n",
    "`normal_rotation` argument to `False`. For example, here we\n",
    "programmatically set the normal vector on which we want to translate the\n",
    "plane and we disable the arrow to prevent its rotation.\n"
   ]
  },
  {
   "cell_type": "code",
   "execution_count": null,
   "id": "3671fd23",
   "metadata": {
    "collapsed": false,
    "jupyter": {
     "outputs_hidden": false
    }
   },
   "outputs": [],
   "source": [
    "p = pv.Plotter()\n",
    "p.add_mesh_slice(vol, normal=(1, 1, 1), normal_rotation=False)\n",
    "p.show()"
   ]
  },
  {
   "cell_type": "markdown",
   "id": "bd13d70e",
   "metadata": {},
   "source": [
    "The vector is also forcibly disabled anytime the `assign_to_axis`\n",
    "argument is set.\n"
   ]
  },
  {
   "cell_type": "code",
   "execution_count": null,
   "id": "7fc48bb4",
   "metadata": {
    "collapsed": false,
    "jupyter": {
     "outputs_hidden": false
    }
   },
   "outputs": [],
   "source": [
    "p = pv.Plotter()\n",
    "p.add_mesh_slice(vol, assign_to_axis=\"z\")\n",
    "p.show()"
   ]
  },
  {
   "cell_type": "code",
   "execution_count": null,
   "id": "fe278e90",
   "metadata": {
    "collapsed": false,
    "jupyter": {
     "outputs_hidden": false
    }
   },
   "outputs": [],
   "source": [
    "%matplotlib inline\n",
    "from pyvista import set_plot_theme\n",
    "\n",
    "set_plot_theme(\"document\")"
   ]
  },
  {
   "cell_type": "markdown",
   "id": "d1b5025b",
   "metadata": {},
   "source": [
    "Slider Bar Widget\n",
    "=================\n",
    "\n",
    "The slider widget can be enabled and disabled by the\n",
    "`pyvista.WidgetHelper.add_slider_widget`\n",
    "and `pyvista.WidgetHelper.clear_slider_widgets` methods respectively. This is one of the most versatile\n",
    "widgets as it can control a value that can be used for just about\n",
    "anything.\n"
   ]
  },
  {
   "cell_type": "code",
   "execution_count": null,
   "id": "c04de6ee-2f76-4fdc-82bb-8cce41a49615",
   "metadata": {
    "collapsed": false,
    "jupyter": {
     "outputs_hidden": false
    }
   },
   "outputs": [],
   "source": [
    "pyvista.WidgetHelper.add_slider_widget?"
   ]
  },
  {
   "cell_type": "code",
   "execution_count": null,
   "id": "eeb6376e-b843-49f3-824b-551ba6732d76",
   "metadata": {
    "collapsed": false,
    "jupyter": {
     "outputs_hidden": false
    }
   },
   "outputs": [],
   "source": [
    "pyvista.WidgetHelper.clear_slider_widgets?"
   ]
  },
  {
   "cell_type": "markdown",
   "id": "fa176ce6-8312-4dfd-8d1e-e69fdb9397ab",
   "metadata": {},
   "source": [
    "One helper method we\\'ve added is the\n",
    "`pyvista.WidgetHelper.add_mesh_threshold`\n",
    "method which leverages the slider widget to control a thresholding\n",
    "value."
   ]
  },
  {
   "cell_type": "code",
   "execution_count": null,
   "id": "e3a0050a-98d0-46fb-b4ee-cf7eb05c5991",
   "metadata": {},
   "outputs": [],
   "source": [
    "pyvista.WidgetHelper.add_mesh_threshold?"
   ]
  },
  {
   "cell_type": "code",
   "execution_count": null,
   "id": "3df591a7",
   "metadata": {
    "collapsed": false,
    "jupyter": {
     "outputs_hidden": false
    }
   },
   "outputs": [],
   "source": [
    "import pyvista as pv\n",
    "from pyvista import examples\n",
    "\n",
    "mesh = examples.download_knee_full()\n",
    "\n",
    "p = pv.Plotter()\n",
    "p.add_mesh_threshold(mesh)\n",
    "p.show()"
   ]
  },
  {
   "cell_type": "markdown",
   "id": "996ddc93",
   "metadata": {},
   "source": [
    "After interacting with the scene, the threshold mesh is available as:\n"
   ]
  },
  {
   "cell_type": "code",
   "execution_count": null,
   "id": "f18871e9",
   "metadata": {
    "collapsed": false,
    "jupyter": {
     "outputs_hidden": false
    }
   },
   "outputs": [],
   "source": [
    "p.threshold_meshes"
   ]
  },
  {
   "cell_type": "markdown",
   "id": "8b4bf418",
   "metadata": {},
   "source": [
    "And here is a screen capture of a user interacting with this\n",
    "\n",
    "![image](https://docs.pyvista.org/_images/slider-widget-threshold.gif)\n"
   ]
  },
  {
   "cell_type": "markdown",
   "id": "3305a277",
   "metadata": {},
   "source": [
    "Custom Callback\n",
    "===============\n",
    "\n",
    "Or you could leverage a custom callback function that takes a single\n",
    "value from the slider as its argument to do something like control the\n",
    "resolution of a mesh. Again note the use of the `name` argument in\n",
    "`add_mesh`:\n"
   ]
  },
  {
   "cell_type": "code",
   "execution_count": null,
   "id": "80efbfb0",
   "metadata": {
    "collapsed": false,
    "jupyter": {
     "outputs_hidden": false
    }
   },
   "outputs": [],
   "source": [
    "p = pv.Plotter()\n",
    "\n",
    "\n",
    "def create_mesh(value):\n",
    "    res = int(value)\n",
    "    sphere = pv.Sphere(phi_resolution=res, theta_resolution=res)\n",
    "    p.add_mesh(sphere, name=\"sphere\", show_edges=True)\n",
    "    return\n",
    "\n",
    "\n",
    "p.add_slider_widget(create_mesh, [5, 100], title=\"Resolution\")\n",
    "p.show()"
   ]
  },
  {
   "cell_type": "markdown",
   "id": "98471919",
   "metadata": {},
   "source": [
    "And here is a screen capture of a user interacting with this\n",
    "\n",
    "![image](https://docs.pyvista.org/_images/slider-widget-resolution.gif)\n"
   ]
  },
  {
   "cell_type": "code",
   "execution_count": null,
   "id": "758a95d1",
   "metadata": {
    "collapsed": false,
    "jupyter": {
     "outputs_hidden": false
    }
   },
   "outputs": [],
   "source": [
    "%matplotlib inline\n",
    "from pyvista import set_plot_theme\n",
    "\n",
    "set_plot_theme(\"document\")"
   ]
  },
  {
   "cell_type": "markdown",
   "id": "a477827d",
   "metadata": {},
   "source": [
    "Sphere Widget\n",
    "=============\n",
    "\n",
    "The sphere widget can be enabled and disabled by the\n",
    "`pyvista.WidgetHelper.add_sphere_widget`\n",
    "and `pyvista.WidgetHelper.clear_sphere_widgets` methods respectively. This is a very versatile widget as it\n",
    "can control vertex location that can be used to control or update the\n",
    "location of just about anything.\n",
    "\n",
    "We don\\'t have any convenient helper methods that utilize this widget\n",
    "out of the box, but we have added a lot of ways to use this widget so\n",
    "that you can easily add several widgets to a scene.\n",
    "\n",
    "Let\\'s look at a few use cases that all update a surface mesh.\n"
   ]
  },
  {
   "cell_type": "code",
   "execution_count": null,
   "id": "d589256e-3044-4569-b84e-a95d7fc646c7",
   "metadata": {
    "collapsed": false,
    "jupyter": {
     "outputs_hidden": false
    }
   },
   "outputs": [],
   "source": [
    "pyvista.WidgetHelper.add_sphere_widget?"
   ]
  },
  {
   "cell_type": "code",
   "execution_count": null,
   "id": "92077358-d85e-4d53-a8a2-079a791fa7f8",
   "metadata": {
    "collapsed": false,
    "jupyter": {
     "outputs_hidden": false
    }
   },
   "outputs": [],
   "source": [
    "pyvista.WidgetHelper.clear_sphere_widgets?"
   ]
  },
  {
   "cell_type": "markdown",
   "id": "32c55a05",
   "metadata": {},
   "source": [
    "Example A\n",
    "=========\n",
    "\n",
    "Use a single sphere widget\n"
   ]
  },
  {
   "cell_type": "code",
   "execution_count": null,
   "id": "8a44d482",
   "metadata": {
    "collapsed": false,
    "jupyter": {
     "outputs_hidden": false
    }
   },
   "outputs": [],
   "source": [
    "import numpy as np\n",
    "import pyvista as pv\n",
    "\n",
    "# Create a triangle surface\n",
    "surf = pv.PolyData()\n",
    "surf.points = np.array(\n",
    "    [\n",
    "        [-10, -10, -10],\n",
    "        [10, 10, -10],\n",
    "        [-10, 10, 0],\n",
    "    ]\n",
    ")\n",
    "surf.faces = np.array([3, 0, 1, 2])\n",
    "\n",
    "p = pv.Plotter()\n",
    "\n",
    "\n",
    "def callback(point):\n",
    "    surf.points[0] = point\n",
    "\n",
    "\n",
    "p.add_sphere_widget(callback)\n",
    "p.add_mesh(surf, color=True)\n",
    "\n",
    "p.show_grid()\n",
    "p.show()"
   ]
  },
  {
   "cell_type": "markdown",
   "id": "c261cf43",
   "metadata": {},
   "source": [
    "And here is a screen capture of a user interacting with this\n",
    "\n",
    "![image](https://docs.pyvista.org/_images/sphere-widget-a.gif)\n"
   ]
  },
  {
   "cell_type": "markdown",
   "id": "0a39ae3e",
   "metadata": {},
   "source": [
    "Example B\n",
    "=========\n",
    "\n",
    "Use several sphere widgets at once\n"
   ]
  },
  {
   "cell_type": "code",
   "execution_count": null,
   "id": "6f46ee6b",
   "metadata": {
    "collapsed": false,
    "jupyter": {
     "outputs_hidden": false
    }
   },
   "outputs": [],
   "source": [
    "import numpy as np\n",
    "import pyvista as pv\n",
    "\n",
    "# Create a triangle surface\n",
    "surf = pv.PolyData()\n",
    "surf.points = np.array(\n",
    "    [\n",
    "        [-10, -10, -10],\n",
    "        [10, 10, -10],\n",
    "        [-10, 10, 0],\n",
    "    ]\n",
    ")\n",
    "surf.faces = np.array([3, 0, 1, 2])\n",
    "\n",
    "\n",
    "p = pv.Plotter()\n",
    "\n",
    "\n",
    "def callback(point, i):\n",
    "    surf.points[i] = point\n",
    "\n",
    "\n",
    "p.add_sphere_widget(callback, center=surf.points)\n",
    "p.add_mesh(surf, color=True)\n",
    "\n",
    "p.show_grid()\n",
    "p.show()"
   ]
  },
  {
   "cell_type": "markdown",
   "id": "cced2e1f",
   "metadata": {},
   "source": [
    "And here is a screen capture of a user interacting with this\n",
    "\n",
    "![image](https://docs.pyvista.org/_images/sphere-widget-b.gif)\n"
   ]
  },
  {
   "cell_type": "markdown",
   "id": "150a5462",
   "metadata": {},
   "source": [
    "Example C\n",
    "=========\n",
    "\n",
    "This one is the coolest - use four sphere widgets to update\n",
    "perturbations on a surface and interpolate between them with some\n",
    "boundary conditions\n"
   ]
  },
  {
   "cell_type": "code",
   "execution_count": null,
   "id": "5d1aeb8c",
   "metadata": {
    "collapsed": false,
    "jupyter": {
     "outputs_hidden": false
    }
   },
   "outputs": [],
   "source": [
    "import numpy as np\n",
    "import pyvista as pv\n",
    "from scipy.interpolate import griddata\n",
    "\n",
    "\n",
    "def get_colors(n):\n",
    "    \"\"\"A helper function to get n colors\"\"\"\n",
    "    from itertools import cycle\n",
    "\n",
    "    import matplotlib\n",
    "\n",
    "    cycler = matplotlib.rcParams[\"axes.prop_cycle\"]\n",
    "    colors = cycle(cycler)\n",
    "    colors = [next(colors)[\"color\"] for i in range(n)]\n",
    "    return colors\n",
    "\n",
    "\n",
    "# Create a grid to interpolate to\n",
    "xmin, xmax, ymin, ymax = 0, 100, 0, 100\n",
    "x = np.linspace(xmin, xmax, num=25)\n",
    "y = np.linspace(ymin, ymax, num=25)\n",
    "xx, yy, zz = np.meshgrid(x, y, [0])\n",
    "\n",
    "# Make sure boundary conditions exist\n",
    "boundaries = np.array(\n",
    "    [[xmin, ymin, 0], [xmin, ymax, 0], [xmax, ymin, 0], [xmax, ymax, 0]]\n",
    ")\n",
    "\n",
    "# Create the PyVista mesh to hold this grid\n",
    "surf = pv.StructuredGrid(xx, yy, zz)\n",
    "\n",
    "# Create some initial perturbations\n",
    "# - this array will be updated inplace\n",
    "points = np.array([[33, 25, 45], [70, 80, 13], [51, 57, 10], [25, 69, 20]])\n",
    "\n",
    "\n",
    "# Create an interpolation function to update that surface mesh\n",
    "def update_surface(point, i):\n",
    "    points[i] = point\n",
    "    tp = np.vstack((points, boundaries))\n",
    "    zz = griddata(tp[:, 0:2], tp[:, 2], (xx[:, :, 0], yy[:, :, 0]), method=\"cubic\")\n",
    "    surf.points[:, -1] = zz.ravel(order=\"F\")\n",
    "    return\n",
    "\n",
    "\n",
    "# Get a list of unique colors for each widget\n",
    "colors = get_colors(len(points))"
   ]
  },
  {
   "cell_type": "code",
   "execution_count": null,
   "id": "04d357af",
   "metadata": {
    "collapsed": false,
    "jupyter": {
     "outputs_hidden": false
    }
   },
   "outputs": [],
   "source": [
    "# Begin the plotting routine\n",
    "p = pv.Plotter()\n",
    "\n",
    "# Add the surface to the scene\n",
    "p.add_mesh(surf, color=True)\n",
    "\n",
    "# Add the widgets which will update the surface\n",
    "p.add_sphere_widget(update_surface, center=points, color=colors, radius=3)\n",
    "# Add axes grid\n",
    "p.show_grid()\n",
    "\n",
    "# Show it!\n",
    "p.show()"
   ]
  },
  {
   "cell_type": "markdown",
   "id": "ea8f4725",
   "metadata": {},
   "source": [
    "And here is a screen capture of a user interacting with this\n",
    "\n",
    "![image](https://docs.pyvista.org/_images/sphere-widget-c.gif)\n"
   ]
  },
  {
   "cell_type": "code",
   "execution_count": null,
   "id": "7e6f0a68",
   "metadata": {
    "collapsed": false,
    "jupyter": {
     "outputs_hidden": false
    }
   },
   "outputs": [],
   "source": [
    "%matplotlib inline\n",
    "from pyvista import set_plot_theme\n",
    "\n",
    "set_plot_theme(\"document\")"
   ]
  },
  {
   "cell_type": "markdown",
   "id": "30b086e2",
   "metadata": {},
   "source": [
    "Spline Widget\n",
    "=============\n",
    "\n",
    "A spline widget can be enabled and disabled by the\n",
    "`pyvista.WidgetHelper.add_spline_widget`\n",
    "and `pyvista.WidgetHelper.clear_spline_widgets` methods respectively. This widget allows users to\n",
    "interactively create a poly line (spline) through a scene and use that\n",
    "spline.\n",
    "\n",
    "A common task with splines is to slice a volumetric dataset using an\n",
    "irregular path. To do this, we have added a convenient helper method\n",
    "which leverages the\n",
    "`pyvista.DataSetFilters.slice_along_line`\n",
    "filter named\n",
    "`pyvista.WidgetHelper.add_mesh_slice_spline`.\n"
   ]
  },
  {
   "cell_type": "code",
   "execution_count": null,
   "id": "4fa9360c-da25-4668-9f04-86346e732ebb",
   "metadata": {
    "collapsed": false,
    "jupyter": {
     "outputs_hidden": false
    }
   },
   "outputs": [],
   "source": [
    "pyvista.WidgetHelper.add_spline_widget?"
   ]
  },
  {
   "cell_type": "code",
   "execution_count": null,
   "id": "1a05b3f3-f9f4-45f0-8600-9e917b29fa68",
   "metadata": {
    "collapsed": false,
    "jupyter": {
     "outputs_hidden": false
    }
   },
   "outputs": [],
   "source": [
    "pyvista.WidgetHelper.clear_spline_widgets?"
   ]
  },
  {
   "cell_type": "code",
   "execution_count": null,
   "id": "d77dd50a-09e2-4ef1-87fc-062371b4331f",
   "metadata": {
    "collapsed": false,
    "jupyter": {
     "outputs_hidden": false
    }
   },
   "outputs": [],
   "source": [
    "pyvista.DataSetFilters.slice_along_line?"
   ]
  },
  {
   "cell_type": "code",
   "execution_count": null,
   "id": "2a9038fc-6f22-4ad2-85ea-20237e3cff6a",
   "metadata": {
    "collapsed": false,
    "jupyter": {
     "outputs_hidden": false
    }
   },
   "outputs": [],
   "source": [
    "pyvista.WidgetHelper.add_mesh_slice_spline?"
   ]
  },
  {
   "cell_type": "code",
   "execution_count": null,
   "id": "36c64192-d9e9-4c4d-9d01-81f54959dded",
   "metadata": {
    "collapsed": false,
    "jupyter": {
     "outputs_hidden": false
    }
   },
   "outputs": [],
   "source": [
    "import numpy as np\n",
    "import pyvista as pv"
   ]
  },
  {
   "cell_type": "code",
   "execution_count": null,
   "id": "eacfac7e",
   "metadata": {
    "collapsed": false,
    "jupyter": {
     "outputs_hidden": false
    }
   },
   "outputs": [],
   "source": [
    "mesh = pv.Wavelet()\n",
    "\n",
    "# initial spline to seed the example\n",
    "points = np.array(\n",
    "    [\n",
    "        [-8.64208925, -7.34294559, -9.13803458],\n",
    "        [-8.25601497, -2.54814702, 0.93860914],\n",
    "        [-0.30179377, -3.21555997, -4.19999019],\n",
    "        [3.24099167, 2.05814768, 3.39041509],\n",
    "        [4.39935227, 4.18804542, 8.96391132],\n",
    "    ]\n",
    ")\n",
    "\n",
    "p = pv.Plotter()\n",
    "p.add_mesh(mesh.outline(), color=\"black\")\n",
    "p.add_mesh_slice_spline(mesh, initial_points=points, n_handles=5)\n",
    "p.camera_position = [(30, -42, 30), (0.0, 0.0, 0.0), (-0.09, 0.53, 0.84)]\n",
    "p.show()"
   ]
  },
  {
   "cell_type": "code",
   "execution_count": null,
   "id": "ea95b23f-1a4b-4d37-9e09-0d6928a7619b",
   "metadata": {},
   "outputs": [],
   "source": []
  }
 ],
 "metadata": {
  "kernelspec": {
   "display_name": "Python 3 (ipykernel)",
   "language": "python",
   "name": "python3"
  },
  "language_info": {
   "codemirror_mode": {
    "name": "ipython",
    "version": 3
   },
   "file_extension": ".py",
   "mimetype": "text/x-python",
   "name": "python",
   "nbconvert_exporter": "python",
   "pygments_lexer": "ipython3",
   "version": "3.10.4"
  }
 },
 "nbformat": 4,
 "nbformat_minor": 5
}
