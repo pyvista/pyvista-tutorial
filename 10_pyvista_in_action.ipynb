{
 "cells": [
  {
   "cell_type": "markdown",
   "id": "e1aec9a9-1d68-4660-b13c-071ea1328691",
   "metadata": {},
   "source": [
    "# PyVista in Action"
   ]
  },
  {
   "cell_type": "markdown",
   "id": "bc62b5f0-a4c5-4c78-ba98-6e9eed6008c3",
   "metadata": {},
   "source": [
    "Show how PyVista is already being used within several projects and can be used for all things visualization."
   ]
  },
  {
   "cell_type": "markdown",
   "id": "01b988bc-0a83-4d3a-8ee0-91d5d0bc8ccd",
   "metadata": {},
   "source": [
    "- [PteraSoftware](https://github.com/camurban/pterasoftware)\n",
    "- [Stéphane Laurent’s artwork](https://laustep.github.io/stlahblog/posts/MyPyVistaArtworks.html)\n",
    "- [VesselVio](https://jacobbumgarner.github.io/VesselVio/)\n",
    "- [Atmospheric Convection](https://dennissergeev.github.io/exoconvection-apj-2020/)\n",
    "- [Damavand Volcano](https://nbviewer.jupyter.org/github/banesullivan/damavand-volcano/blob/master/Damavand_Volcano.ipynb)\n",
    "- [Anvil Cirrus Plumes](https://www.youtube.com/watch?v=cCPjnF_vHxw&feature=youtu.be)\n",
    "- [Optimization visualization with PyVista](https://gist.github.com/hichamjanati/6668d91848283c31ac18d801552fb582)\n",
    "- [FLEM: A diffusive landscape evolution model](https://github.com/johnjarmitage/flem)\n",
    "- [Orvisu Demo Application](https://github.com/BartheG/Orvisu)\n",
    "- [PyMeshFix’s example gallery](http://pymeshfix.pyvista.org/examples/index.html)\n",
    "- [TetGen’s example gallery](http://tetgen.pyvista.org/examples/index.html)\n",
    "- [PVGeo’s example gallery](https://pvgeo.org/examples/index.html)\n",
    "- [FORGE Geothermal Project](https://forge.pvgeo.org/project/index.html)\n",
    "- [AeroSandbox](https://peterdsharpe.github.io/AeroSandbox/)\n",
    "- [OpenFOAM Rendering](https://pswpswpsw.github.io/posts/2018/09/blog-post-modify-vtk-openfoam/)\n",
    "- [3D Rendering with Discretize](http://discretize.simpeg.xyz/en/main/examples/plot_pyvista_laguna.html)\n",
    "- [3D visualization for the Open Mining Format (omf)](https://opengeovis.github.io/omfvista/examples/index.html) "
   ]
  },
  {
   "cell_type": "code",
   "execution_count": null,
   "id": "d006c375-dca9-4251-9a20-19b4197804c0",
   "metadata": {},
   "outputs": [],
   "source": []
  }
 ],
 "metadata": {
  "kernelspec": {
   "display_name": "Python 3 (ipykernel)",
   "language": "python",
   "name": "python3"
  },
  "language_info": {
   "codemirror_mode": {
    "name": "ipython",
    "version": 3
   },
   "file_extension": ".py",
   "mimetype": "text/x-python",
   "name": "python",
   "nbconvert_exporter": "python",
   "pygments_lexer": "ipython3",
   "version": "3.10.4"
  }
 },
 "nbformat": 4,
 "nbformat_minor": 5
}
