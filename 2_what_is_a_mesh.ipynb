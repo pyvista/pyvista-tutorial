{
 "cells": [
  {
   "cell_type": "markdown",
   "id": "6a7bfe9f-692b-40f8-a5b7-a6866f74bd2c",
   "metadata": {},
   "source": [
    "# What is a Mesh?"
   ]
  },
  {
   "cell_type": "markdown",
   "id": "5800bea3-76e7-4f7a-8d3a-5b393e88f323",
   "metadata": {},
   "source": [
    "In PyVista, a mesh is any spatially referenced information and usually consists of geometrical representations of a surface or volume in 3D space. We commonly refer to any spatially referenced dataset as a mesh, so often the distinction between a mesh, a grid, and a volume can get fuzzy – but that does not matter in PyVista. If you have a dataset that is a surface mesh with 2D geometries like triangles, we call it a mesh, and if you have a dataset with 3D geometries like voxels, tetrahedra, hexahedra, etc., then we also call that a mesh! Why? Because it is simple that way."
   ]
  },
  {
   "cell_type": "markdown",
   "id": "b6a2d6c2-1282-4f2c-a0e8-3641eb68a128",
   "metadata": {},
   "source": [
    "In all spatially referenced datasets, there lies an underlying mesh structure – the connectivity or geometry between nodes to define cells. Whether those cells are 2D or 3D is not always of importance and we’ve worked hard to make PyVista work for datasets of either or mixed geometries so that you as a user do not have to get bogged down in the nuances."
   ]
  },
  {
   "cell_type": "markdown",
   "id": "7b0be185-bbe0-495b-ace1-d8ad7fe33bfb",
   "metadata": {},
   "source": [
    "## What is a point?"
   ]
  },
  {
   "cell_type": "markdown",
   "id": "6a055a59-6a35-4c98-9920-88247f456d0e",
   "metadata": {},
   "source": [
    "Points are the vertices of the mesh – the Cartesian coordinates of the underlying structure. All PyVista datasets (meshes!) have points and sometimes, you can have a mesh that only has points – like a point cloud."
   ]
  },
  {
   "cell_type": "markdown",
   "id": "f8671d9f-71ce-405e-b1d5-435987d909bc",
   "metadata": {},
   "source": [
    "For example, you can create a point cloud mesh using the [pyvista.PolyData](https://docs.pyvista.org/api/core/_autosummary/pyvista.PolyData.html#pyvista.PolyData) class which is built for meshes that have 1D and 2D cell types (we’ll get into what a cell is briefly)."
   ]
  },
  {
   "cell_type": "markdown",
   "id": "5d882b97-2b39-4ee9-85cf-91e49f6020a0",
   "metadata": {},
   "source": [
    "Let’s start with a point cloud – this is a mesh type that only has vertices. You can create one by defining a 2D array of Cartesian coordinates like so:"
   ]
  },
  {
   "cell_type": "code",
   "execution_count": null,
   "id": "0fef02ad-6a68-41f7-a9ec-db8e672dc851",
   "metadata": {},
   "outputs": [],
   "source": [
    "import numpy as np\n",
    "import pyvista as pv\n",
    "pv.set_plot_theme(\"document\")\n",
    "\n",
    "points = np.random.rand(100, 3)\n",
    "mesh = pv.PolyData(points)\n",
    "mesh.plot(point_size=10, style=\"points\")"
   ]
  },
  {
   "cell_type": "markdown",
   "id": "a488210e-6725-448b-8eac-5750af35d34e",
   "metadata": {},
   "source": [
    "But it’s important to note that most meshes have some sort of connectivity between points such as this gridded mesh:"
   ]
  },
  {
   "cell_type": "code",
   "execution_count": null,
   "id": "c8b90b9d-b083-4c61-b530-94ead528b922",
   "metadata": {},
   "outputs": [],
   "source": [
    "from pyvista import examples\n",
    "\n",
    "mesh = examples.load_hexbeam()\n",
    "cpos = [(6.20, 3.00, 7.50),\n",
    "        (0.16, 0.13, 2.65),\n",
    "        (-0.28, 0.94, -0.21)]\n",
    "\n",
    "pl = pv.Plotter()\n",
    "pl.add_mesh(mesh, show_edges=True, color='white')\n",
    "pl.add_points(mesh.points, color='red',\n",
    "              point_size=20)\n",
    "pl.camera_position = cpos\n",
    "pl.show()"
   ]
  },
  {
   "cell_type": "markdown",
   "id": "cbadeab7-87c9-49c2-97a1-870a9ca4a3b3",
   "metadata": {},
   "source": [
    "Or this triangulated surface:"
   ]
  },
  {
   "cell_type": "code",
   "execution_count": null,
   "id": "b06a780f-4f53-4c0d-899f-166b08b52d21",
   "metadata": {},
   "outputs": [],
   "source": [
    "mesh = examples.download_bunny_coarse()\n",
    "\n",
    "pl = pv.Plotter()\n",
    "pl.add_mesh(mesh, show_edges=True, color='white')\n",
    "pl.add_points(mesh.points, color='red',\n",
    "              point_size=2)\n",
    "pl.camera_position = [(0.02, 0.30, 0.73),\n",
    "                      (0.02, 0.03, -0.022),\n",
    "                      (-0.03, 0.94, -0.34)]\n",
    "pl.show()"
   ]
  },
  {
   "cell_type": "markdown",
   "id": "56955a32-c092-4878-8834-76e80c928f97",
   "metadata": {},
   "source": [
    "# Exercise: Plotting points on one part of a sphere\n",
    "\n",
    "Let's plot the sphere and further plot the points on the positive Z-axis."
   ]
  },
  {
   "cell_type": "code",
   "execution_count": null,
   "id": "2f4985d8-d9d4-485c-8b82-14cd96a3d5a2",
   "metadata": {},
   "outputs": [],
   "source": [
    "# Your code here"
   ]
  },
  {
   "cell_type": "code",
   "execution_count": null,
   "id": "f03163f4-7057-4961-83ef-96b103d0610e",
   "metadata": {
    "jupyter": {
     "source_hidden": true
    },
    "tags": []
   },
   "outputs": [],
   "source": [
    "import pyvista as pv\n",
    "import numpy as np\n",
    "\n",
    "mesh = pv.Sphere()\n",
    "points = mesh.points\n",
    "pl = pv.Plotter()\n",
    "pl.add_mesh(mesh, show_edges=True, color='white')\n",
    "pl.add_points(points[points[:, 2] > 0.0], color='red',\n",
    "              point_size=10)\n",
    "pl.show()"
   ]
  },
  {
   "cell_type": "markdown",
   "id": "e68a3d78-70f7-4d31-ad29-9f5b6224f9c3",
   "metadata": {},
   "source": [
    "## What is a Cell?"
   ]
  },
  {
   "cell_type": "markdown",
   "id": "ff17886b-e414-42cf-9967-a34db6fa1dc5",
   "metadata": {},
   "source": [
    "A cell is the geometry between points that defines the connectivity or topology of a mesh. In the examples above, cells are defined by the lines (edges colored in black) connecting points (colored in red). For example, a cell in the beam example is a voxel defined by the region between eight points in that mesh:"
   ]
  },
  {
   "cell_type": "code",
   "execution_count": null,
   "id": "3a792767-9285-4f99-ac1b-46e794fe845c",
   "metadata": {},
   "outputs": [],
   "source": [
    "mesh = examples.load_hexbeam()\n",
    "\n",
    "pl = pv.Plotter()\n",
    "pl.add_mesh(mesh, show_edges=True, color='white')\n",
    "pl.add_points(mesh.points, color='red', point_size=20)\n",
    "\n",
    "single_cell = mesh.extract_cells(mesh.n_cells - 1)\n",
    "pl.add_mesh(single_cell, color='pink', edge_color='blue',\n",
    "            line_width=5, show_edges=True)\n",
    "\n",
    "pl.camera_position = [(6.20, 3.00, 7.50),\n",
    "                      (0.16, 0.13, 2.65),\n",
    "                      (-0.28, 0.94, -0.21)]\n",
    "pl.show()"
   ]
  },
  {
   "cell_type": "markdown",
   "id": "a5bfb580-c920-4a42-b4d8-8d8066b4a5ec",
   "metadata": {},
   "source": [
    "Cells aren’t limited to voxels, they could be a triangle between three points, a line between two points, or even a single point could be its own cell (but that’s a special case)."
   ]
  },
  {
   "cell_type": "markdown",
   "id": "74615701-bbc5-48c8-84e1-c9bfaeb2206a",
   "metadata": {},
   "source": [
    "# Exercise"
   ]
  },
  {
   "cell_type": "markdown",
   "id": "40023326-b87d-4606-86e1-6455d2f13d38",
   "metadata": {},
   "source": [
    "Let's highlight the cell connected to the point with coordinates (0.5, 0.5, 0.5) in the beam above."
   ]
  },
  {
   "cell_type": "code",
   "execution_count": null,
   "id": "3fe2fcbd-7c7d-4703-8b4a-9c867521d7bf",
   "metadata": {},
   "outputs": [],
   "source": [
    "# Your code here"
   ]
  },
  {
   "cell_type": "code",
   "execution_count": null,
   "id": "72110d28-7251-4385-b04f-24ffbdb754ba",
   "metadata": {},
   "outputs": [],
   "source": []
  },
  {
   "cell_type": "markdown",
   "id": "c0e69920-e9cd-44b0-bac3-7dc1f7052245",
   "metadata": {},
   "source": [
    "## What are attributes?"
   ]
  },
  {
   "cell_type": "markdown",
   "id": "8bb570d8-6483-4bf3-8403-9d44a1af422a",
   "metadata": {},
   "source": [
    "Attributes are data values that live on either the points or cells of a mesh. In PyVista, we work with both point data and cell data and allow easy access to data dictionaries to hold arrays for attributes that live either on all points or on all cells of a mesh. These attributes can be accessed in a dictionary-like attribute attached to any PyVista mesh accessible as one of the following:\n",
    "\n",
    "- [point_data](https://docs.pyvista.org/api/core/_autosummary/pyvista.DataSet.point_data.html#pyvista.DataSet.point_data)\n",
    "- [cell_data](https://docs.pyvista.org/api/core/_autosummary/pyvista.DataSet.cell_data.html#pyvista.DataSet.cell_data)\n",
    "- [field_data](https://docs.pyvista.org/api/core/_autosummary/pyvista.DataSet.field_data.html#pyvista.DataSet.field_data)"
   ]
  },
  {
   "cell_type": "markdown",
   "id": "87576538-a3f6-4575-9542-44b18c9555af",
   "metadata": {},
   "source": [
    "## Point Data"
   ]
  },
  {
   "cell_type": "markdown",
   "id": "b09a59a2-46fb-4141-b40a-054872194d59",
   "metadata": {},
   "source": [
    "Point data refers to arrays of values (scalars, vectors, etc.) that live on each point of the mesh. Each element in an attribute array corresponds to a point in the mesh. Let’s create some point data for the beam mesh. When plotting, the values between points are interpolated across the cells."
   ]
  },
  {
   "cell_type": "code",
   "execution_count": null,
   "id": "1bbb65c2-baab-47a4-99bf-5dbc01fd43c7",
   "metadata": {},
   "outputs": [],
   "source": [
    "mesh.point_data['my point values'] = np.arange(mesh.n_points)\n",
    "mesh.plot(scalars='my point values', cpos=cpos, show_edges=True)"
   ]
  },
  {
   "cell_type": "markdown",
   "id": "c6a5f1b1-15ec-4ac0-b933-fda8670bbacf",
   "metadata": {},
   "source": [
    "## Cell Data"
   ]
  },
  {
   "cell_type": "markdown",
   "id": "4e3cef03-615c-431b-aacb-458768c8ddde",
   "metadata": {},
   "source": [
    "Cell data refers to arrays of values (scalars, vectors, etc.) that live throughout each cell of the mesh. That is the entire cell (2D face or 3D volume) is assigned the value of that attribute."
   ]
  },
  {
   "cell_type": "markdown",
   "id": "57c599c5-7802-4ea4-b29d-ee471f6b907a",
   "metadata": {},
   "source": [
    "mesh.cell_data['my cell values'] = np.arange(mesh.n_cells)\n",
    "mesh.plot(scalars='my cell values', cpos=cpos, show_edges=True)"
   ]
  },
  {
   "cell_type": "markdown",
   "id": "c29a75b1-8207-42fc-8766-ac6a51cbb735",
   "metadata": {},
   "source": [
    "Here’s a comparison of point data versus cell data and how point data is interpolated across cells when mapping colors. This is unlike cell data which has a single value across the cell’s domain:"
   ]
  },
  {
   "cell_type": "code",
   "execution_count": null,
   "id": "cd5b5846-6d49-4906-952c-517c8514871e",
   "metadata": {},
   "outputs": [],
   "source": [
    "import pyvista as pv\n",
    "from pyvista import examples\n",
    "uni = examples.load_uniform()\n",
    "\n",
    "pl = pv.Plotter(shape=(1, 2), border=False)\n",
    "pl.add_mesh(uni, scalars='Spatial Point Data', show_edges=True)\n",
    "pl.subplot(0, 1)\n",
    "pl.add_mesh(uni, scalars='Spatial Cell Data', show_edges=True)\n",
    "pl.show()"
   ]
  },
  {
   "cell_type": "markdown",
   "id": "46a1f128-85c6-4791-ac42-cc17baa50ad8",
   "metadata": {},
   "source": [
    "## Field Data"
   ]
  },
  {
   "cell_type": "markdown",
   "id": "6d26af26-aaea-40a4-9d11-4127cdb94a33",
   "metadata": {},
   "source": [
    "Field data is not directly associated with either the points or cells but still should be attached to the mesh. This may be a string array storing notes, or even indices of a Collision."
   ]
  },
  {
   "cell_type": "markdown",
   "id": "76dba046-d2b0-4e6b-ac63-524e7be167f7",
   "metadata": {},
   "source": [
    "## Assigning Scalars to a Mesh"
   ]
  },
  {
   "cell_type": "markdown",
   "id": "b4bc6a8f-b1be-42fc-9465-59b837e27c8f",
   "metadata": {},
   "source": [
    "Here’s how we assign values to cell attributes and plot it. Here, we generate cube containing 6 faces and assign each face an integer from `range(6)` and then have it plotted."
   ]
  },
  {
   "cell_type": "markdown",
   "id": "33b636e5-802f-4062-9cb9-3d1e4ebf4356",
   "metadata": {},
   "source": [
    "Note how this varies from assigning scalars to each point"
   ]
  },
  {
   "cell_type": "code",
   "execution_count": null,
   "id": "16ba7704-4a1d-472d-aaea-6b2ebc138f84",
   "metadata": {},
   "outputs": [],
   "source": [
    "cube = pv.Cube()\n",
    "cube.cell_data['myscalars'] = range(6)\n",
    "\n",
    "other_cube = cube.copy()\n",
    "other_cube.point_data['myscalars'] = range(8)\n",
    "\n",
    "pl = pv.Plotter(shape=(1, 2), border_width=1)\n",
    "pl.add_mesh(cube, cmap='coolwarm')\n",
    "pl.subplot(0, 1)\n",
    "pl.add_mesh(other_cube, cmap='coolwarm')\n",
    "pl.show()"
   ]
  },
  {
   "cell_type": "markdown",
   "id": "7b846c86-97f7-45b0-8ee6-3ae420da317d",
   "metadata": {},
   "source": [
    "We use [pyvista.PolyDataFilters.clean()](https://docs.pyvista.org/api/core/_autosummary/pyvista.PolyDataFilters.clean.html#pyvista.PolyDataFilters.clean) to merge the faces of the cube since, by default, the cube is created with unmerged faces and duplicate points."
   ]
  },
  {
   "cell_type": "code",
   "execution_count": null,
   "id": "74b70d1e-2162-432f-b917-673a0409af37",
   "metadata": {},
   "outputs": [],
   "source": []
  }
 ],
 "metadata": {
  "kernelspec": {
   "display_name": "Python 3 (ipykernel)",
   "language": "python",
   "name": "python3"
  },
  "language_info": {
   "codemirror_mode": {
    "name": "ipython",
    "version": 3
   },
   "file_extension": ".py",
   "mimetype": "text/x-python",
   "name": "python",
   "nbconvert_exporter": "python",
   "pygments_lexer": "ipython3",
   "version": "3.10.4"
  }
 },
 "nbformat": 4,
 "nbformat_minor": 5
}
