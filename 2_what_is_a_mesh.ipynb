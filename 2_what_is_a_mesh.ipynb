{
 "cells": [
  {
   "cell_type": "markdown",
   "id": "6a7bfe9f-692b-40f8-a5b7-a6866f74bd2c",
   "metadata": {},
   "source": [
    "# What is a Mesh?"
   ]
  },
  {
   "cell_type": "markdown",
   "id": "5800bea3-76e7-4f7a-8d3a-5b393e88f323",
   "metadata": {},
   "source": [
    "In PyVista, a mesh is any spatially referenced information and usually consists of geometrical representations of a surface or volume in 3D space. We commonly refer to any spatially referenced dataset as a mesh, so often the distinction between a mesh, a grid, and a volume can get fuzzy – but that does not matter in PyVista. If you have a dataset that is a surface mesh with 2D geometries like triangles, we call it a mesh, and if you have a dataset with 3D geometries like voxels, tetrahedra, hexahedra, etc., then we also call that a mesh! Why? Because it is simple that way."
   ]
  },
  {
   "cell_type": "markdown",
   "id": "b6a2d6c2-1282-4f2c-a0e8-3641eb68a128",
   "metadata": {},
   "source": [
    "In all spatially referenced datasets, there lies an underlying mesh structure – the connectivity or geometry between nodes to define cells. Whether those cells are 2D or 3D is not always of importance and we’ve worked hard to make PyVista work for datasets of either or mixed geometries so that you as a user do not have to get bogged down in the nuances."
   ]
  },
  {
   "cell_type": "markdown",
   "id": "7b0be185-bbe0-495b-ace1-d8ad7fe33bfb",
   "metadata": {},
   "source": [
    "## What is a point?"
   ]
  },
  {
   "cell_type": "markdown",
   "id": "6a055a59-6a35-4c98-9920-88247f456d0e",
   "metadata": {},
   "source": [
    "Points are the vertices of the mesh – the Cartesian coordinates of the underlying structure. All PyVista datasets (meshes!) have points and sometimes, you can have a mesh that only has points – like a point cloud."
   ]
  },
  {
   "cell_type": "markdown",
   "id": "f8671d9f-71ce-405e-b1d5-435987d909bc",
   "metadata": {},
   "source": [
    "For example, you can create a point cloud mesh using the [pyvista.PolyData](https://docs.pyvista.org/api/core/_autosummary/pyvista.PolyData.html#pyvista.PolyData) class which is built for meshes that have 1D and 2D cell types (we’ll get into what a cell is briefly)."
   ]
  },
  {
   "cell_type": "markdown",
   "id": "5d882b97-2b39-4ee9-85cf-91e49f6020a0",
   "metadata": {},
   "source": [
    "Let’s start with a point cloud – this is a mesh type that only has vertices. You can create one by defining a 2D array of Cartesian coordinates like so:"
   ]
  },
  {
   "cell_type": "code",
   "execution_count": null,
   "id": "0fef02ad-6a68-41f7-a9ec-db8e672dc851",
   "metadata": {},
   "outputs": [],
   "source": [
    "import numpy as np\n",
    "import pyvista as pv\n",
    "\n",
    "pv.set_plot_theme(\"document\")\n",
    "\n",
    "points = np.random.rand(100, 3)\n",
    "mesh = pv.PolyData(points)\n",
    "mesh.plot(point_size=10, style=\"points\")\n"
   ]
  },
  {
   "cell_type": "markdown",
   "id": "a488210e-6725-448b-8eac-5750af35d34e",
   "metadata": {},
   "source": [
    "But it’s important to note that most meshes have some sort of connectivity between points such as this gridded mesh:"
   ]
  },
  {
   "cell_type": "code",
   "execution_count": null,
   "id": "c8b90b9d-b083-4c61-b530-94ead528b922",
   "metadata": {},
   "outputs": [],
   "source": [
    "from pyvista import examples\n",
    "\n",
    "mesh = examples.load_hexbeam()\n",
    "cpos = [(6.20, 3.00, 7.50), (0.16, 0.13, 2.65), (-0.28, 0.94, -0.21)]\n",
    "\n",
    "pl = pv.Plotter()\n",
    "pl.add_mesh(mesh, show_edges=True, color=\"white\")\n",
    "pl.add_points(mesh.points, color=\"red\", point_size=20)\n",
    "pl.camera_position = cpos\n",
    "pl.show()\n"
   ]
  },
  {
   "cell_type": "markdown",
   "id": "cbadeab7-87c9-49c2-97a1-870a9ca4a3b3",
   "metadata": {},
   "source": [
    "Or this triangulated surface:"
   ]
  },
  {
   "cell_type": "code",
   "execution_count": null,
   "id": "b06a780f-4f53-4c0d-899f-166b08b52d21",
   "metadata": {},
   "outputs": [],
   "source": [
    "mesh = examples.download_bunny_coarse()\n",
    "\n",
    "pl = pv.Plotter()\n",
    "pl.add_mesh(mesh, show_edges=True, color=\"white\")\n",
    "pl.add_points(mesh.points, color=\"red\", point_size=2)\n",
    "pl.camera_position = [(0.02, 0.30, 0.73), (0.02, 0.03, -0.022), (-0.03, 0.94, -0.34)]\n",
    "pl.show()\n"
   ]
  },
  {
   "cell_type": "markdown",
   "id": "56955a32-c092-4878-8834-76e80c928f97",
   "metadata": {},
   "source": [
    "### Exercise: Plotting points on one part of a sphere\n",
    "\n",
    "Let's plot the sphere and further plot the points on the positive Z-axis."
   ]
  },
  {
   "cell_type": "code",
   "execution_count": null,
   "id": "2f4985d8-d9d4-485c-8b82-14cd96a3d5a2",
   "metadata": {},
   "outputs": [],
   "source": [
    "# Your code here\n"
   ]
  },
  {
   "cell_type": "code",
   "execution_count": null,
   "id": "f03163f4-7057-4961-83ef-96b103d0610e",
   "metadata": {
    "jupyter": {
     "source_hidden": true
    },
    "tags": []
   },
   "outputs": [],
   "source": [
    "import numpy as np\n",
    "import pyvista as pv\n",
    "\n",
    "mesh = pv.Sphere()\n",
    "points = mesh.points\n",
    "pl = pv.Plotter()\n",
    "pl.add_mesh(mesh, show_edges=True, color=\"white\")\n",
    "pl.add_points(points[points[:, 2] > 0.0], color=\"red\", point_size=10)\n",
    "pl.show()\n"
   ]
  },
  {
   "cell_type": "markdown",
   "id": "e68a3d78-70f7-4d31-ad29-9f5b6224f9c3",
   "metadata": {},
   "source": [
    "## What is a Cell?"
   ]
  },
  {
   "cell_type": "markdown",
   "id": "ff17886b-e414-42cf-9967-a34db6fa1dc5",
   "metadata": {},
   "source": [
    "A cell is the geometry between points that defines the connectivity or topology of a mesh. In the examples above, cells are defined by the lines (edges colored in black) connecting points (colored in red). For example, a cell in the beam example is a voxel defined by the region between eight points in that mesh:"
   ]
  },
  {
   "cell_type": "code",
   "execution_count": null,
   "id": "3a792767-9285-4f99-ac1b-46e794fe845c",
   "metadata": {},
   "outputs": [],
   "source": [
    "mesh = examples.load_hexbeam()\n",
    "\n",
    "pl = pv.Plotter()\n",
    "pl.add_mesh(mesh, show_edges=True, color=\"white\")\n",
    "pl.add_points(mesh.points, color=\"red\", point_size=20)\n",
    "\n",
    "single_cell = mesh.extract_cells(mesh.n_cells - 1)\n",
    "pl.add_mesh(single_cell, color=\"pink\", edge_color=\"blue\", line_width=5, show_edges=True)\n",
    "\n",
    "pl.camera_position = [(6.20, 3.00, 7.50), (0.16, 0.13, 2.65), (-0.28, 0.94, -0.21)]\n",
    "pl.show()\n"
   ]
  },
  {
   "cell_type": "markdown",
   "id": "a5bfb580-c920-4a42-b4d8-8d8066b4a5ec",
   "metadata": {},
   "source": [
    "Cells aren’t limited to voxels, they could be a triangle between three points, a line between two points, or even a single point could be its own cell (but that’s a special case)."
   ]
  },
  {
   "cell_type": "markdown",
   "id": "74615701-bbc5-48c8-84e1-c9bfaeb2206a",
   "metadata": {},
   "source": [
    "### Exercise"
   ]
  },
  {
   "cell_type": "markdown",
   "id": "40023326-b87d-4606-86e1-6455d2f13d38",
   "metadata": {},
   "source": [
    "Let's highlight the cell connected to the point with coordinates (0.5, 0.5, 0.5) in the beam above."
   ]
  },
  {
   "cell_type": "code",
   "execution_count": null,
   "id": "3fe2fcbd-7c7d-4703-8b4a-9c867521d7bf",
   "metadata": {},
   "outputs": [],
   "source": [
    "# Your code here\n"
   ]
  },
  {
   "cell_type": "code",
   "execution_count": null,
   "id": "72110d28-7251-4385-b04f-24ffbdb754ba",
   "metadata": {
    "jupyter": {
     "source_hidden": true
    },
    "tags": []
   },
   "outputs": [],
   "source": []
  },
  {
   "cell_type": "markdown",
   "id": "c0e69920-e9cd-44b0-bac3-7dc1f7052245",
   "metadata": {},
   "source": [
    "## What are attributes?"
   ]
  },
  {
   "cell_type": "markdown",
   "id": "8bb570d8-6483-4bf3-8403-9d44a1af422a",
   "metadata": {},
   "source": [
    "Attributes are data values that live on either the points or cells of a mesh. In PyVista, we work with both point data and cell data and allow easy access to data dictionaries to hold arrays for attributes that live either on all points or on all cells of a mesh. These attributes can be accessed in a dictionary-like attribute attached to any PyVista mesh accessible as one of the following:\n",
    "\n",
    "- [point_data](https://docs.pyvista.org/api/core/_autosummary/pyvista.DataSet.point_data.html#pyvista.DataSet.point_data)\n",
    "- [cell_data](https://docs.pyvista.org/api/core/_autosummary/pyvista.DataSet.cell_data.html#pyvista.DataSet.cell_data)\n",
    "- [field_data](https://docs.pyvista.org/api/core/_autosummary/pyvista.DataSet.field_data.html#pyvista.DataSet.field_data)"
   ]
  },
  {
   "cell_type": "markdown",
   "id": "87576538-a3f6-4575-9542-44b18c9555af",
   "metadata": {},
   "source": [
    "## Point Data"
   ]
  },
  {
   "cell_type": "markdown",
   "id": "b09a59a2-46fb-4141-b40a-054872194d59",
   "metadata": {},
   "source": [
    "Point data refers to arrays of values (scalars, vectors, etc.) that live on each point of the mesh. Each element in an attribute array corresponds to a point in the mesh. Let’s create some point data for the beam mesh. When plotting, the values between points are interpolated across the cells."
   ]
  },
  {
   "cell_type": "code",
   "execution_count": null,
   "id": "1bbb65c2-baab-47a4-99bf-5dbc01fd43c7",
   "metadata": {},
   "outputs": [],
   "source": [
    "mesh.point_data[\"my point values\"] = np.arange(mesh.n_points)\n",
    "mesh.plot(scalars=\"my point values\", cpos=cpos, show_edges=True)\n"
   ]
  },
  {
   "cell_type": "markdown",
   "id": "c6a5f1b1-15ec-4ac0-b933-fda8670bbacf",
   "metadata": {},
   "source": [
    "## Cell Data"
   ]
  },
  {
   "cell_type": "markdown",
   "id": "4e3cef03-615c-431b-aacb-458768c8ddde",
   "metadata": {},
   "source": [
    "Cell data refers to arrays of values (scalars, vectors, etc.) that live throughout each cell of the mesh. That is the entire cell (2D face or 3D volume) is assigned the value of that attribute."
   ]
  },
  {
   "cell_type": "markdown",
   "id": "57c599c5-7802-4ea4-b29d-ee471f6b907a",
   "metadata": {},
   "source": [
    "mesh.cell_data['my cell values'] = np.arange(mesh.n_cells)\n",
    "mesh.plot(scalars='my cell values', cpos=cpos, show_edges=True)"
   ]
  },
  {
   "cell_type": "markdown",
   "id": "c29a75b1-8207-42fc-8766-ac6a51cbb735",
   "metadata": {},
   "source": [
    "Here’s a comparison of point data versus cell data and how point data is interpolated across cells when mapping colors. This is unlike cell data which has a single value across the cell’s domain:"
   ]
  },
  {
   "cell_type": "code",
   "execution_count": null,
   "id": "cd5b5846-6d49-4906-952c-517c8514871e",
   "metadata": {},
   "outputs": [],
   "source": [
    "import pyvista as pv\n",
    "from pyvista import examples\n",
    "\n",
    "uni = examples.load_uniform()\n",
    "\n",
    "pl = pv.Plotter(shape=(1, 2), border=False)\n",
    "pl.add_mesh(uni, scalars=\"Spatial Point Data\", show_edges=True)\n",
    "pl.subplot(0, 1)\n",
    "pl.add_mesh(uni, scalars=\"Spatial Cell Data\", show_edges=True)\n",
    "pl.show()\n"
   ]
  },
  {
   "cell_type": "markdown",
   "id": "46a1f128-85c6-4791-ac42-cc17baa50ad8",
   "metadata": {},
   "source": [
    "## Field Data"
   ]
  },
  {
   "cell_type": "markdown",
   "id": "6d26af26-aaea-40a4-9d11-4127cdb94a33",
   "metadata": {},
   "source": [
    "Field data is not directly associated with either the points or cells but still should be attached to the mesh. This may be a string array storing notes, or even indices of a Collision."
   ]
  },
  {
   "cell_type": "markdown",
   "id": "76dba046-d2b0-4e6b-ac63-524e7be167f7",
   "metadata": {},
   "source": [
    "## Assigning Scalars to a Mesh"
   ]
  },
  {
   "cell_type": "markdown",
   "id": "b4bc6a8f-b1be-42fc-9465-59b837e27c8f",
   "metadata": {},
   "source": [
    "Here’s how we assign values to cell attributes and plot it. Here, we generate cube containing 6 faces and assign each face an integer from `range(6)` and then have it plotted."
   ]
  },
  {
   "cell_type": "markdown",
   "id": "33b636e5-802f-4062-9cb9-3d1e4ebf4356",
   "metadata": {},
   "source": [
    "Note how this varies from assigning scalars to each point"
   ]
  },
  {
   "cell_type": "code",
   "execution_count": null,
   "id": "16ba7704-4a1d-472d-aaea-6b2ebc138f84",
   "metadata": {},
   "outputs": [],
   "source": [
    "cube = pv.Cube()\n",
    "cube.cell_data[\"myscalars\"] = range(6)\n",
    "\n",
    "other_cube = cube.copy()\n",
    "other_cube.point_data[\"myscalars\"] = range(8)\n",
    "\n",
    "pl = pv.Plotter(shape=(1, 2), border_width=1)\n",
    "pl.add_mesh(cube, cmap=\"coolwarm\")\n",
    "pl.subplot(0, 1)\n",
    "pl.add_mesh(other_cube, cmap=\"coolwarm\")\n",
    "pl.show()\n"
   ]
  },
  {
   "cell_type": "markdown",
   "id": "7b846c86-97f7-45b0-8ee6-3ae420da317d",
   "metadata": {},
   "source": [
    "We use [pyvista.PolyDataFilters.clean()](https://docs.pyvista.org/api/core/_autosummary/pyvista.PolyDataFilters.clean.html#pyvista.PolyDataFilters.clean) to merge the faces of the cube since, by default, the cube is created with unmerged faces and duplicate points."
   ]
  },
  {
   "cell_type": "markdown",
   "id": "7520d09b-0d94-4c9e-94f3-df452874b781",
   "metadata": {},
   "source": [
    "### Exercise"
   ]
  },
  {
   "cell_type": "markdown",
   "id": "2e3d9c3f-506f-419b-85ff-a07500f5e22f",
   "metadata": {},
   "source": [
    "Set the height data to the points of the Stanford bunny mesh and plot the contours."
   ]
  },
  {
   "cell_type": "code",
   "execution_count": null,
   "id": "d2e7dfe7-c612-494a-abf7-ad92d9969a1e",
   "metadata": {},
   "outputs": [],
   "source": []
  },
  {
   "cell_type": "code",
   "execution_count": null,
   "id": "5b9d7e40",
   "metadata": {
    "collapsed": false,
    "jupyter": {
     "outputs_hidden": false
    }
   },
   "outputs": [],
   "source": [
    "%matplotlib inline\n",
    "from pyvista import set_plot_theme\n",
    "set_plot_theme('document')"
   ]
  },
  {
   "cell_type": "markdown",
   "id": "d8ef1f73",
   "metadata": {},
   "source": [
    "Creating an Explicit Structured Grid {#ref_create_explicit_structured_grid}\n",
    "====================================\n",
    "\n",
    "Create an explicit structured grid from NumPy arrays.\n",
    "\n",
    "Note this feature is only available for `vtk>=9`.\n"
   ]
  },
  {
   "cell_type": "code",
   "execution_count": null,
   "id": "c14ddb7e",
   "metadata": {
    "collapsed": false,
    "jupyter": {
     "outputs_hidden": false
    }
   },
   "outputs": [],
   "source": [
    "import numpy as np\n",
    "\n",
    "import pyvista as pv\n",
    "\n",
    "ni, nj, nk = 4, 5, 6\n",
    "si, sj, sk = 20, 10, 1\n",
    "\n",
    "xcorn = np.arange(0, (ni + 1) * si, si)\n",
    "xcorn = np.repeat(xcorn, 2)\n",
    "xcorn = xcorn[1:-1]\n",
    "xcorn = np.tile(xcorn, 4 * nj * nk)\n",
    "\n",
    "ycorn = np.arange(0, (nj + 1) * sj, sj)\n",
    "ycorn = np.repeat(ycorn, 2)\n",
    "ycorn = ycorn[1:-1]\n",
    "ycorn = np.tile(ycorn, (2 * ni, 2 * nk))\n",
    "ycorn = np.transpose(ycorn)\n",
    "ycorn = ycorn.flatten()\n",
    "\n",
    "zcorn = np.arange(0, (nk + 1) * sk, sk)\n",
    "zcorn = np.repeat(zcorn, 2)\n",
    "zcorn = zcorn[1:-1]\n",
    "zcorn = np.repeat(zcorn, (4 * ni * nj))\n",
    "\n",
    "corners = np.stack((xcorn, ycorn, zcorn))\n",
    "corners = corners.transpose()\n",
    "\n",
    "if pv._vtk.VTK9:\n",
    "    dims = np.asarray((ni, nj, nk)) + 1\n",
    "    grid = pv.ExplicitStructuredGrid(dims, corners)\n",
    "    grid = grid.compute_connectivity()\n",
    "    grid.plot(show_edges=True)"
   ]
  },
  {
   "cell_type": "code",
   "execution_count": null,
   "id": "2c1a2848",
   "metadata": {
    "collapsed": false,
    "jupyter": {
     "outputs_hidden": false
    }
   },
   "outputs": [],
   "source": [
    "%matplotlib inline\n",
    "from pyvista import set_plot_theme\n",
    "set_plot_theme('document')"
   ]
  },
  {
   "cell_type": "markdown",
   "id": "5205e42a",
   "metadata": {},
   "source": [
    "Create a Kochanek Spline {#create_kochanek_spline_example}\n",
    "========================\n",
    "\n",
    "Create a Kochanek spline/polyline from a numpy array of XYZ vertices.\n"
   ]
  },
  {
   "cell_type": "code",
   "execution_count": null,
   "id": "b3e4be41",
   "metadata": {
    "collapsed": false,
    "jupyter": {
     "outputs_hidden": false
    }
   },
   "outputs": [],
   "source": [
    "import numpy as np\n",
    "\n",
    "import pyvista as pv"
   ]
  },
  {
   "cell_type": "markdown",
   "id": "007515d3",
   "metadata": {},
   "source": [
    "Create a dataset to plot\n"
   ]
  },
  {
   "cell_type": "code",
   "execution_count": null,
   "id": "6c2b4405",
   "metadata": {
    "collapsed": false,
    "jupyter": {
     "outputs_hidden": false
    }
   },
   "outputs": [],
   "source": [
    "def make_points():\n",
    "    \"\"\"Helper to make XYZ points\"\"\"\n",
    "    theta = np.linspace(-4 * np.pi, 4 * np.pi, 6)\n",
    "    z = np.linspace(-2, 2, 6)\n",
    "    r = z**2 + 1\n",
    "    x = r * np.sin(theta)\n",
    "    y = r * np.cos(theta)\n",
    "    return np.column_stack((x, y, z))\n",
    "\n",
    "\n",
    "points = make_points()\n",
    "points[0:5, :]"
   ]
  },
  {
   "cell_type": "markdown",
   "id": "72dba992",
   "metadata": {},
   "source": [
    "Interpolate those points onto a parametric Kochanek spline\n"
   ]
  },
  {
   "cell_type": "code",
   "execution_count": null,
   "id": "2802ae7b",
   "metadata": {
    "collapsed": false,
    "jupyter": {
     "outputs_hidden": false
    }
   },
   "outputs": [],
   "source": [
    "# Create Kochanek spline with 6 interpolation points\n",
    "p = pv.Plotter(shape=(3, 5))\n",
    "\n",
    "c = [-1.0, -0.5, 0.0, 0.5, 1.0]\n",
    "for i in range(5):\n",
    "    kochanek_spline = pv.KochanekSpline(points, continuity=[c[i], c[i], c[i]], n_points=1000)\n",
    "    p.subplot(0, i)\n",
    "    p.add_text(\"c = \" + str(c[i]))\n",
    "    p.add_mesh(kochanek_spline, color=\"k\", point_size=10)\n",
    "    p.add_mesh(\n",
    "        pv.PolyData(points),\n",
    "        color=\"k\",\n",
    "        point_size=10,\n",
    "        render_points_as_spheres=True,\n",
    "    )\n",
    "\n",
    "t = [-1.0, -0.5, 0.0, 0.5, 1.0]\n",
    "for i in range(5):\n",
    "    kochanek_spline = pv.KochanekSpline(points, tension=[t[i], t[i], t[i]], n_points=1000)\n",
    "    p.subplot(1, i)\n",
    "    p.add_text(\"t = \" + str(t[i]))\n",
    "    p.add_mesh(kochanek_spline, color=\"k\")\n",
    "    p.add_mesh(\n",
    "        pv.PolyData(points),\n",
    "        color=\"k\",\n",
    "        point_size=10,\n",
    "        render_points_as_spheres=True,\n",
    "    )\n",
    "\n",
    "b = [-1.0, -0.5, 0.0, 0.5, 1.0]\n",
    "for i in range(5):\n",
    "    kochanek_spline = pv.KochanekSpline(points, bias=[b[i], b[i], b[i]], n_points=1000)\n",
    "    p.subplot(2, i)\n",
    "    p.add_text(\"b = \" + str(b[i]))\n",
    "    p.add_mesh(kochanek_spline, color=\"k\")\n",
    "    p.add_mesh(\n",
    "        pv.PolyData(points),\n",
    "        color=\"k\",\n",
    "        point_size=10,\n",
    "        render_points_as_spheres=True,\n",
    "    )\n",
    "\n",
    "p.show(cpos=\"xy\")"
   ]
  },
  {
   "cell_type": "code",
   "execution_count": null,
   "id": "f97d8b63",
   "metadata": {
    "collapsed": false,
    "jupyter": {
     "outputs_hidden": false
    }
   },
   "outputs": [],
   "source": [
    "%matplotlib inline\n",
    "from pyvista import set_plot_theme\n",
    "set_plot_theme('document')"
   ]
  },
  {
   "cell_type": "markdown",
   "id": "98f29263",
   "metadata": {},
   "source": [
    "Parametric Geometric Objects {#ref_parametric_example}\n",
    "============================\n",
    "\n",
    "Creating parametric objects\n"
   ]
  },
  {
   "cell_type": "code",
   "execution_count": null,
   "id": "e595a333",
   "metadata": {
    "collapsed": false,
    "jupyter": {
     "outputs_hidden": false
    }
   },
   "outputs": [],
   "source": [
    "from math import pi\n",
    "\n",
    "import pyvista as pv"
   ]
  },
  {
   "cell_type": "markdown",
   "id": "bf5fc46a",
   "metadata": {},
   "source": [
    "This example demonstrates how to plot parametric objects using pyvista\n",
    "\n",
    "Supertoroid\n",
    "===========\n"
   ]
  },
  {
   "cell_type": "code",
   "execution_count": null,
   "id": "e0b577e8",
   "metadata": {
    "collapsed": false,
    "jupyter": {
     "outputs_hidden": false
    }
   },
   "outputs": [],
   "source": [
    "supertoroid = pv.ParametricSuperToroid(n1=0.5)\n",
    "supertoroid.plot(color=\"tan\", smooth_shading=True)"
   ]
  },
  {
   "cell_type": "markdown",
   "id": "e6e39744",
   "metadata": {},
   "source": [
    "Parametric Ellipsoid\n",
    "====================\n"
   ]
  },
  {
   "cell_type": "code",
   "execution_count": null,
   "id": "97b6cdfd",
   "metadata": {
    "collapsed": false,
    "jupyter": {
     "outputs_hidden": false
    }
   },
   "outputs": [],
   "source": [
    "# Ellipsoid with a long x axis\n",
    "ellipsoid = pv.ParametricEllipsoid(10, 5, 5)\n",
    "ellipsoid.plot(color=\"tan\")"
   ]
  },
  {
   "cell_type": "markdown",
   "id": "8e3b59c3",
   "metadata": {},
   "source": [
    "Partial Parametric Ellipsoid\n",
    "============================\n"
   ]
  },
  {
   "cell_type": "code",
   "execution_count": null,
   "id": "cbb8d414",
   "metadata": {
    "collapsed": false,
    "jupyter": {
     "outputs_hidden": false
    }
   },
   "outputs": [],
   "source": [
    "# cool plotting direction\n",
    "cpos = [\n",
    "    (21.9930, 21.1810, -30.3780),\n",
    "    (-1.1640, -1.3098, -0.1061),\n",
    "    (0.8498, -0.2515, 0.4631),\n",
    "]\n",
    "\n",
    "\n",
    "# half ellipsoid\n",
    "part_ellipsoid = pv.ParametricEllipsoid(10, 5, 5, max_v=pi / 2)\n",
    "part_ellipsoid.plot(color=\"tan\", smooth_shading=True, cpos=cpos)"
   ]
  },
  {
   "cell_type": "markdown",
   "id": "d3453dff",
   "metadata": {},
   "source": [
    "Pseudosphere\n",
    "============\n"
   ]
  },
  {
   "cell_type": "code",
   "execution_count": null,
   "id": "99874e01",
   "metadata": {
    "collapsed": false,
    "jupyter": {
     "outputs_hidden": false
    }
   },
   "outputs": [],
   "source": [
    "pseudosphere = pv.ParametricPseudosphere()\n",
    "pseudosphere.plot(color=\"tan\", smooth_shading=True)"
   ]
  },
  {
   "cell_type": "markdown",
   "id": "95e9ca05",
   "metadata": {},
   "source": [
    "Bohemian Dome\n",
    "=============\n"
   ]
  },
  {
   "cell_type": "code",
   "execution_count": null,
   "id": "9c8c8803",
   "metadata": {
    "collapsed": false,
    "jupyter": {
     "outputs_hidden": false
    }
   },
   "outputs": [],
   "source": [
    "bohemiandome = pv.ParametricBohemianDome()\n",
    "bohemiandome.plot(color=\"tan\")"
   ]
  },
  {
   "cell_type": "markdown",
   "id": "28934a03",
   "metadata": {},
   "source": [
    "Bour\n",
    "====\n"
   ]
  },
  {
   "cell_type": "code",
   "execution_count": null,
   "id": "b67f0a6d",
   "metadata": {
    "collapsed": false,
    "jupyter": {
     "outputs_hidden": false
    }
   },
   "outputs": [],
   "source": [
    "bour = pv.ParametricBour()\n",
    "bour.plot(color=\"tan\")"
   ]
  },
  {
   "cell_type": "markdown",
   "id": "aadb9895",
   "metadata": {},
   "source": [
    "Boy\\'s Surface\n",
    "==============\n"
   ]
  },
  {
   "cell_type": "code",
   "execution_count": null,
   "id": "fc40e218",
   "metadata": {
    "collapsed": false,
    "jupyter": {
     "outputs_hidden": false
    }
   },
   "outputs": [],
   "source": [
    "boy = pv.ParametricBoy()\n",
    "boy.plot(color=\"tan\")"
   ]
  },
  {
   "cell_type": "markdown",
   "id": "5c109753",
   "metadata": {},
   "source": [
    "Catalan Minimal\n",
    "===============\n"
   ]
  },
  {
   "cell_type": "code",
   "execution_count": null,
   "id": "11162787",
   "metadata": {
    "collapsed": false,
    "jupyter": {
     "outputs_hidden": false
    }
   },
   "outputs": [],
   "source": [
    "catalanminimal = pv.ParametricCatalanMinimal()\n",
    "catalanminimal.plot(color=\"tan\")"
   ]
  },
  {
   "cell_type": "markdown",
   "id": "2fe6136f",
   "metadata": {},
   "source": [
    "Conic Spiral\n",
    "============\n"
   ]
  },
  {
   "cell_type": "code",
   "execution_count": null,
   "id": "9aa805a3",
   "metadata": {
    "collapsed": false,
    "jupyter": {
     "outputs_hidden": false
    }
   },
   "outputs": [],
   "source": [
    "conicspiral = pv.ParametricConicSpiral()\n",
    "conicspiral.plot(color=\"tan\")"
   ]
  },
  {
   "cell_type": "markdown",
   "id": "5b97f297",
   "metadata": {},
   "source": [
    "Cross Cap\n",
    "=========\n"
   ]
  },
  {
   "cell_type": "code",
   "execution_count": null,
   "id": "059ad6f6",
   "metadata": {
    "collapsed": false,
    "jupyter": {
     "outputs_hidden": false
    }
   },
   "outputs": [],
   "source": [
    "crosscap = pv.ParametricCrossCap()\n",
    "crosscap.plot(color=\"tan\")"
   ]
  },
  {
   "cell_type": "markdown",
   "id": "9eaa1fe4",
   "metadata": {},
   "source": [
    "Dini\n",
    "====\n"
   ]
  },
  {
   "cell_type": "code",
   "execution_count": null,
   "id": "fd733af7",
   "metadata": {
    "collapsed": false,
    "jupyter": {
     "outputs_hidden": false
    }
   },
   "outputs": [],
   "source": [
    "dini = pv.ParametricDini()\n",
    "dini.plot(color=\"tan\")"
   ]
  },
  {
   "cell_type": "markdown",
   "id": "c0e007d0",
   "metadata": {},
   "source": [
    "Enneper\n",
    "=======\n"
   ]
  },
  {
   "cell_type": "code",
   "execution_count": null,
   "id": "bfd06b3c",
   "metadata": {
    "collapsed": false,
    "jupyter": {
     "outputs_hidden": false
    }
   },
   "outputs": [],
   "source": [
    "enneper = pv.ParametricEnneper()\n",
    "enneper.plot(cpos=\"yz\")"
   ]
  },
  {
   "cell_type": "markdown",
   "id": "b2d56c0b",
   "metadata": {},
   "source": [
    "Figure-8 Klein\n",
    "==============\n"
   ]
  },
  {
   "cell_type": "code",
   "execution_count": null,
   "id": "9002df0b",
   "metadata": {
    "collapsed": false,
    "jupyter": {
     "outputs_hidden": false
    }
   },
   "outputs": [],
   "source": [
    "figure8klein = pv.ParametricFigure8Klein()\n",
    "figure8klein.plot()"
   ]
  },
  {
   "cell_type": "markdown",
   "id": "0d7f9d02",
   "metadata": {},
   "source": [
    "Henneberg\n",
    "=========\n"
   ]
  },
  {
   "cell_type": "code",
   "execution_count": null,
   "id": "301a8257",
   "metadata": {
    "collapsed": false,
    "jupyter": {
     "outputs_hidden": false
    }
   },
   "outputs": [],
   "source": [
    "henneberg = pv.ParametricHenneberg()\n",
    "henneberg.plot(color=\"tan\")"
   ]
  },
  {
   "cell_type": "markdown",
   "id": "b7b1ded0",
   "metadata": {},
   "source": [
    "Klein\n",
    "=====\n"
   ]
  },
  {
   "cell_type": "code",
   "execution_count": null,
   "id": "3ca1235f",
   "metadata": {
    "collapsed": false,
    "jupyter": {
     "outputs_hidden": false
    }
   },
   "outputs": [],
   "source": [
    "klein = pv.ParametricKlein()\n",
    "klein.plot(color=\"tan\")"
   ]
  },
  {
   "cell_type": "markdown",
   "id": "c8c06a3d",
   "metadata": {},
   "source": [
    "Kuen\n",
    "====\n"
   ]
  },
  {
   "cell_type": "code",
   "execution_count": null,
   "id": "77b457a9",
   "metadata": {
    "collapsed": false,
    "jupyter": {
     "outputs_hidden": false
    }
   },
   "outputs": [],
   "source": [
    "kuen = pv.ParametricKuen()\n",
    "kuen.plot(color=\"tan\")"
   ]
  },
  {
   "cell_type": "markdown",
   "id": "3c68192d",
   "metadata": {},
   "source": [
    "Mobius\n",
    "======\n"
   ]
  },
  {
   "cell_type": "code",
   "execution_count": null,
   "id": "67a1480d",
   "metadata": {
    "collapsed": false,
    "jupyter": {
     "outputs_hidden": false
    }
   },
   "outputs": [],
   "source": [
    "mobius = pv.ParametricMobius()\n",
    "mobius.plot(color=\"tan\")"
   ]
  },
  {
   "cell_type": "markdown",
   "id": "78ddc641",
   "metadata": {},
   "source": [
    "Plucker Conoid\n",
    "==============\n"
   ]
  },
  {
   "cell_type": "code",
   "execution_count": null,
   "id": "aa65ef54",
   "metadata": {
    "collapsed": false,
    "jupyter": {
     "outputs_hidden": false
    }
   },
   "outputs": [],
   "source": [
    "pluckerconoid = pv.ParametricPluckerConoid()\n",
    "pluckerconoid.plot(color=\"tan\")"
   ]
  },
  {
   "cell_type": "markdown",
   "id": "1192229b",
   "metadata": {},
   "source": [
    "Random Hills\n",
    "============\n"
   ]
  },
  {
   "cell_type": "code",
   "execution_count": null,
   "id": "ef52119b",
   "metadata": {
    "collapsed": false,
    "jupyter": {
     "outputs_hidden": false
    }
   },
   "outputs": [],
   "source": [
    "randomhills = pv.ParametricRandomHills()\n",
    "randomhills.plot(color=\"tan\")"
   ]
  },
  {
   "cell_type": "markdown",
   "id": "7f83578f",
   "metadata": {},
   "source": [
    "Roman\n",
    "=====\n"
   ]
  },
  {
   "cell_type": "code",
   "execution_count": null,
   "id": "3e17e2ad",
   "metadata": {
    "collapsed": false,
    "jupyter": {
     "outputs_hidden": false
    }
   },
   "outputs": [],
   "source": [
    "roman = pv.ParametricRoman()\n",
    "roman.plot(color=\"tan\")"
   ]
  },
  {
   "cell_type": "markdown",
   "id": "8844e4ee",
   "metadata": {},
   "source": [
    "Super Ellipsoid\n",
    "===============\n"
   ]
  },
  {
   "cell_type": "code",
   "execution_count": null,
   "id": "047e91d5",
   "metadata": {
    "collapsed": false,
    "jupyter": {
     "outputs_hidden": false
    }
   },
   "outputs": [],
   "source": [
    "superellipsoid = pv.ParametricSuperEllipsoid(n1=0.1, n2=2)\n",
    "superellipsoid.plot(color=\"tan\")"
   ]
  },
  {
   "cell_type": "markdown",
   "id": "df28571a",
   "metadata": {},
   "source": [
    "Torus\n",
    "=====\n"
   ]
  },
  {
   "cell_type": "code",
   "execution_count": null,
   "id": "2dba4260",
   "metadata": {
    "collapsed": false,
    "jupyter": {
     "outputs_hidden": false
    }
   },
   "outputs": [],
   "source": [
    "torus = pv.ParametricTorus()\n",
    "torus.plot(color=\"tan\")"
   ]
  },
  {
   "cell_type": "markdown",
   "id": "51e5fe82",
   "metadata": {},
   "source": [
    "Circular Arc\n",
    "============\n"
   ]
  },
  {
   "cell_type": "code",
   "execution_count": null,
   "id": "ad23649f",
   "metadata": {
    "collapsed": false,
    "jupyter": {
     "outputs_hidden": false
    }
   },
   "outputs": [],
   "source": [
    "pointa = [-1, 0, 0]\n",
    "pointb = [0, 1, 0]\n",
    "center = [0, 0, 0]\n",
    "resolution = 100\n",
    "\n",
    "arc = pv.CircularArc(pointa, pointb, center, resolution)\n",
    "\n",
    "pl = pv.Plotter()\n",
    "pl.add_mesh(arc, color='k', line_width=4)\n",
    "pl.show_bounds()\n",
    "pl.view_xy()\n",
    "pl.show()"
   ]
  },
  {
   "cell_type": "markdown",
   "id": "8dc89dd6",
   "metadata": {},
   "source": [
    "Extruded Half Arc\n",
    "=================\n"
   ]
  },
  {
   "cell_type": "code",
   "execution_count": null,
   "id": "6c4d1c95",
   "metadata": {
    "collapsed": false,
    "jupyter": {
     "outputs_hidden": false
    }
   },
   "outputs": [],
   "source": [
    "pointa = [-1, 0, 0]\n",
    "pointb = [1, 0, 0]\n",
    "center = [0, 0, 0]\n",
    "resolution = 100\n",
    "\n",
    "arc = pv.CircularArc(pointa, pointb, center, resolution)\n",
    "poly = arc.extrude([0, 0, 1])\n",
    "poly.plot(color=\"tan\", cpos='iso', show_edges=True)"
   ]
  },
  {
   "cell_type": "code",
   "execution_count": null,
   "id": "cddb7e27",
   "metadata": {
    "collapsed": false,
    "jupyter": {
     "outputs_hidden": false
    }
   },
   "outputs": [],
   "source": [
    "%matplotlib inline\n",
    "from pyvista import set_plot_theme\n",
    "set_plot_theme('document')"
   ]
  },
  {
   "cell_type": "markdown",
   "id": "23926864",
   "metadata": {},
   "source": [
    "Pixel Art of ALIEN MONSTERS {#pixel_art_example}\n",
    "===========================\n",
    "\n",
    "Here we use `pyvista.Box`{.interpreted-text role=\"func\"} to make [pixel\n",
    "art](https://en.wikipedia.org/wiki/Pixel_art). Pixel string\n",
    "[source](https://commons.wikimedia.org/wiki/File:Noto_Emoji_Pie_1f47e.svg)\n",
    "and [license](https://github.com/googlefonts/noto-emoji#license).\n"
   ]
  },
  {
   "cell_type": "code",
   "execution_count": null,
   "id": "7e2d12f3",
   "metadata": {
    "collapsed": false,
    "jupyter": {
     "outputs_hidden": false
    }
   },
   "outputs": [],
   "source": [
    "import pyvista as pv\n",
    "from pyvista.demos import logo"
   ]
  },
  {
   "cell_type": "markdown",
   "id": "15f5e082",
   "metadata": {},
   "source": [
    "Convert pixel art to an array\n",
    "=============================\n"
   ]
  },
  {
   "cell_type": "code",
   "execution_count": null,
   "id": "f73d1fbd",
   "metadata": {
    "collapsed": false,
    "jupyter": {
     "outputs_hidden": false
    }
   },
   "outputs": [],
   "source": [
    "alien_str = \"\"\"\n",
    "    %         %\n",
    "      %     %\n",
    "    % % % % % %\n",
    "  % %   % %   % %\n",
    "% % % % % % % % % %\n",
    "%   % % % % % %   %\n",
    "%   %         %   %\n",
    "%   % %     % %   %\n",
    "      %     %\n",
    "    %         %\n",
    "\"\"\"\n",
    "\n",
    "\n",
    "alien = []\n",
    "for line in alien_str.splitlines()[1:]:  # skip first linebreak\n",
    "    if not line:\n",
    "        continue\n",
    "    if len(line) < 20:\n",
    "        line += (20 - len(line)) * ' '\n",
    "    alien.append([line[i : i + 2] == '% ' for i in range(0, len(line), 2)])"
   ]
  },
  {
   "cell_type": "markdown",
   "id": "32c37a68",
   "metadata": {},
   "source": [
    "Define function to draw pixels\n",
    "==============================\n",
    "\n",
    "Define a helper function to add pixel boxes to plotter.\n"
   ]
  },
  {
   "cell_type": "code",
   "execution_count": null,
   "id": "094e24d7",
   "metadata": {
    "collapsed": false,
    "jupyter": {
     "outputs_hidden": false
    }
   },
   "outputs": [],
   "source": [
    "def draw_pixels(plotter, pixels, center, color):\n",
    "    bounds = [\n",
    "        center[0] - 1.0,\n",
    "        center[0] + 1.0,\n",
    "        center[1] - 1.0,\n",
    "        center[1] + 1.0,\n",
    "        -10.0,\n",
    "        +10.0,\n",
    "    ]\n",
    "    for rows in pixels:\n",
    "        for pixel in rows:\n",
    "            if pixel:\n",
    "                box = pv.Box(bounds=bounds)\n",
    "                plotter.add_mesh(box, color=color)\n",
    "            bounds[0] += 2.0\n",
    "            bounds[1] += 2.0\n",
    "        bounds[0] = center[0] - 1.0\n",
    "        bounds[1] = center[0] + 1.0\n",
    "        bounds[2] += -2.0\n",
    "        bounds[3] += -2.0\n",
    "    return plotter"
   ]
  },
  {
   "cell_type": "markdown",
   "id": "c06470ec",
   "metadata": {},
   "source": [
    "Now you can plot a pixel art of ALIEN MONSTERS.\n"
   ]
  },
  {
   "cell_type": "code",
   "execution_count": null,
   "id": "0d318452",
   "metadata": {
    "collapsed": false,
    "jupyter": {
     "outputs_hidden": false
    }
   },
   "outputs": [],
   "source": [
    "# Display MONSTERS\n",
    "p = pv.Plotter()\n",
    "p = draw_pixels(p, alien, [-22.0, 22.0], \"green\")\n",
    "p = draw_pixels(p, alien, [0.0, 22.0], \"green\")\n",
    "p = draw_pixels(p, alien, [22.0, 22.0], \"green\")\n",
    "p = draw_pixels(p, alien, [-22.0, 0.0], \"blue\")\n",
    "p = draw_pixels(p, alien, [0.0, 0.0], \"blue\")\n",
    "p = draw_pixels(p, alien, [22.0, 0.0], \"blue\")\n",
    "p = draw_pixels(p, alien, [-22.0, -22.0], \"red\")\n",
    "p = draw_pixels(p, alien, [0.0, -22.0], \"red\")\n",
    "p = draw_pixels(p, alien, [22.0, -22.0], \"red\")\n",
    "\n",
    "text = logo.text_3d(\"ALIEN MONSTERS\", depth=10.0)\n",
    "text.points *= 4.0\n",
    "text.translate([-20.0, 24.0, 0.0], inplace=True)\n",
    "\n",
    "p.add_mesh(text, color=\"yellow\")\n",
    "p.show(cpos=\"xy\")"
   ]
  },
  {
   "cell_type": "code",
   "execution_count": null,
   "id": "966b5e18",
   "metadata": {
    "collapsed": false,
    "jupyter": {
     "outputs_hidden": false
    }
   },
   "outputs": [],
   "source": [
    "%matplotlib inline\n",
    "from pyvista import set_plot_theme\n",
    "set_plot_theme('document')"
   ]
  },
  {
   "cell_type": "markdown",
   "id": "ebccef45",
   "metadata": {},
   "source": [
    "Platonic Solids {#platonic_example}\n",
    "===============\n",
    "\n",
    "PyVista wraps the `vtk.vtkPlatonicSolidSource` filter as\n",
    "`pyvista.PlatonicSolid`{.interpreted-text role=\"func\"}.\n"
   ]
  },
  {
   "cell_type": "code",
   "execution_count": null,
   "id": "ad70898b",
   "metadata": {
    "collapsed": false,
    "jupyter": {
     "outputs_hidden": false
    }
   },
   "outputs": [],
   "source": [
    "import numpy as np\n",
    "\n",
    "import pyvista as pv\n",
    "from pyvista import examples"
   ]
  },
  {
   "cell_type": "markdown",
   "id": "69128d04",
   "metadata": {},
   "source": [
    "We can either use the generic\n",
    "`PlatonicSolid() <pyvista.PlatonicSolid>`{.interpreted-text role=\"func\"}\n",
    "and specify the different kinds of solids to generate, or we can use the\n",
    "thin wrappers:\n",
    "\n",
    "> -   `pyvista.Tetrahedron`{.interpreted-text role=\"func\"}\n",
    "> -   `pyvista.Octahedron`{.interpreted-text role=\"func\"}\n",
    "> -   `pyvista.Dodecahedron`{.interpreted-text role=\"func\"}\n",
    "> -   `pyvista.Icosahedron`{.interpreted-text role=\"func\"}\n",
    "> -   `pyvista.Cube`{.interpreted-text role=\"func\"} (implemented via a\n",
    ">     different filter)\n",
    "\n",
    "Let\\'s generate all the Platonic solids, along with the `teapotahedron\n",
    "<pyvista.examples.downloads.download_teapot>`{.interpreted-text\n",
    "role=\"func\"}.\n"
   ]
  },
  {
   "cell_type": "code",
   "execution_count": null,
   "id": "ebc06d3f",
   "metadata": {
    "collapsed": false,
    "jupyter": {
     "outputs_hidden": false
    }
   },
   "outputs": [],
   "source": [
    "kinds = [\n",
    "    'tetrahedron',\n",
    "    'cube',\n",
    "    'octahedron',\n",
    "    'dodecahedron',\n",
    "    'icosahedron',\n",
    "]\n",
    "centers = [\n",
    "    (0, 1, 0),\n",
    "    (0, 0, 0),\n",
    "    (0, 2, 0),\n",
    "    (-1, 0, 0),\n",
    "    (-1, 2, 0),\n",
    "]\n",
    "\n",
    "solids = [pv.PlatonicSolid(kind, radius=0.4, center=center) for kind, center in zip(kinds, centers)]\n",
    "\n",
    "# download and align teapotahedron\n",
    "teapot = examples.download_teapot()\n",
    "teapot.rotate_x(90, inplace=True)\n",
    "teapot.rotate_z(-45, inplace=True)\n",
    "teapot.scale(0.16, inplace=True)\n",
    "teapot.points += np.array([-1, 1, 0]) - teapot.center\n",
    "solids.append(teapot)"
   ]
  },
  {
   "cell_type": "markdown",
   "id": "3fc6f078",
   "metadata": {},
   "source": [
    "Now let\\'s plot them all.\n",
    "\n",
    "::: {.note}\n",
    "::: {.title}\n",
    "Note\n",
    ":::\n",
    "\n",
    "VTK has known issues when rendering shadows on certain window sizes. Be\n",
    "prepared to experiment with the `window_size` parameter. An initial\n",
    "window size of `(1000, 1000)` seems to work well, which can be manually\n",
    "resized without issue.\n",
    ":::\n"
   ]
  },
  {
   "cell_type": "code",
   "execution_count": null,
   "id": "7980077e",
   "metadata": {
    "collapsed": false,
    "jupyter": {
     "outputs_hidden": false
    }
   },
   "outputs": [],
   "source": [
    "p = pv.Plotter(window_size=[1000, 1000])\n",
    "for ind, solid in enumerate(solids):\n",
    "    # only use smooth shading for the teapot\n",
    "    smooth_shading = ind == len(solids) - 1\n",
    "    p.add_mesh(\n",
    "        solid, color='silver', smooth_shading=smooth_shading, specular=1.0, specular_power=10\n",
    "    )\n",
    "p.view_vector((5.0, 2, 3))\n",
    "p.add_floor('-z', lighting=True, color='tan', pad=1.0)\n",
    "p.enable_shadows()\n",
    "p.show()"
   ]
  },
  {
   "cell_type": "markdown",
   "id": "7d631b1f",
   "metadata": {},
   "source": [
    "The Platonic solids come with cell scalars that index each face of the\n",
    "solids.\n"
   ]
  },
  {
   "cell_type": "code",
   "execution_count": null,
   "id": "9c21b675",
   "metadata": {
    "collapsed": false,
    "jupyter": {
     "outputs_hidden": false
    }
   },
   "outputs": [],
   "source": [
    "%matplotlib inline\n",
    "from pyvista import set_plot_theme\n",
    "set_plot_theme('document')"
   ]
  },
  {
   "cell_type": "markdown",
   "id": "2cabd406",
   "metadata": {},
   "source": [
    "Create Point Cloud {#create_point_cloud}\n",
    "==================\n",
    "\n",
    "Create a `pyvista.PolyData`{.interpreted-text role=\"class\"} object from\n",
    "a point cloud of vertices and scalar arrays for those points.\n"
   ]
  },
  {
   "cell_type": "code",
   "execution_count": null,
   "id": "0f704d84",
   "metadata": {
    "collapsed": false,
    "jupyter": {
     "outputs_hidden": false
    }
   },
   "outputs": [],
   "source": [
    "import numpy as np\n",
    "\n",
    "import pyvista as pv\n",
    "from pyvista import examples"
   ]
  },
  {
   "cell_type": "markdown",
   "id": "d43454de",
   "metadata": {},
   "source": [
    "Point clouds are generally constructed in the\n",
    "`pyvista.PolyData`{.interpreted-text role=\"class\"} class and can easily\n",
    "have scalar/vector data arrays associated with the point cloud. In this\n",
    "example, we\\'ll work a bit backwards using a point cloud that that is\n",
    "available from our `examples` module. This however is no different than\n",
    "creating a PyVista mesh with your own NumPy arrays of vertice locations.\n"
   ]
  },
  {
   "cell_type": "code",
   "execution_count": null,
   "id": "96269cbd",
   "metadata": {
    "collapsed": false,
    "jupyter": {
     "outputs_hidden": false
    }
   },
   "outputs": [],
   "source": [
    "# Define some helpers - ignore these and use your own data!\n",
    "def generate_points(subset=0.02):\n",
    "    \"\"\"A helper to make a 3D NumPy array of points (n_points by 3)\"\"\"\n",
    "    dataset = examples.download_lidar()\n",
    "    ids = np.random.randint(low=0, high=dataset.n_points - 1, size=int(dataset.n_points * subset))\n",
    "    return dataset.points[ids]\n",
    "\n",
    "\n",
    "points = generate_points()\n",
    "# Print first 5 rows to prove its a numpy array (n_points by 3)\n",
    "# Columns are (X Y Z)\n",
    "points[0:5, :]"
   ]
  },
  {
   "cell_type": "markdown",
   "id": "a947244e",
   "metadata": {},
   "source": [
    "Now that you have a NumPy array of points/vertices either from our\n",
    "sample data or your own project, creating a PyVista mesh of those points\n",
    "is simply:\n"
   ]
  },
  {
   "cell_type": "code",
   "execution_count": null,
   "id": "cabb2425",
   "metadata": {
    "collapsed": false,
    "jupyter": {
     "outputs_hidden": false
    }
   },
   "outputs": [],
   "source": [
    "point_cloud = pv.PolyData(points)\n",
    "point_cloud"
   ]
  },
  {
   "cell_type": "markdown",
   "id": "5a4a27c4",
   "metadata": {},
   "source": [
    "And we can even do a sanity check\n"
   ]
  },
  {
   "cell_type": "code",
   "execution_count": null,
   "id": "491750d2",
   "metadata": {
    "collapsed": false,
    "jupyter": {
     "outputs_hidden": false
    }
   },
   "outputs": [],
   "source": [
    "np.allclose(points, point_cloud.points)"
   ]
  },
  {
   "cell_type": "markdown",
   "id": "69a8842b",
   "metadata": {},
   "source": [
    "And now that we have a PyVista mesh, we can plot it. Note that we add an\n",
    "option to use eye dome lighting - this is a shading technique to improve\n",
    "depth perception with point clouds (learn more in\n",
    "`ref_edl`{.interpreted-text role=\"ref\"}).\n"
   ]
  },
  {
   "cell_type": "code",
   "execution_count": null,
   "id": "c30f2d02",
   "metadata": {
    "collapsed": false,
    "jupyter": {
     "outputs_hidden": false
    }
   },
   "outputs": [],
   "source": [
    "point_cloud.plot(eye_dome_lighting=True)"
   ]
  },
  {
   "cell_type": "markdown",
   "id": "48023021",
   "metadata": {},
   "source": [
    "Now what if you have data attributes (scalar/vector arrays) that you\\'d\n",
    "like to associate with every node of your mesh? You can easily add NumPy\n",
    "data arrays that have a length equal to the number of points in the mesh\n",
    "along the first axis. For example, lets add a few arrays to this new\n",
    "`point_cloud` mesh.\n",
    "\n",
    "Make an array of scalar values with the same length as the points array.\n",
    "Each element in this array will correspond to points at the same index:\n"
   ]
  },
  {
   "cell_type": "code",
   "execution_count": null,
   "id": "9ce13f5a",
   "metadata": {
    "collapsed": false,
    "jupyter": {
     "outputs_hidden": false
    }
   },
   "outputs": [],
   "source": [
    "# Make data array using z-component of points array\n",
    "data = points[:, -1]\n",
    "\n",
    "# Add that data to the mesh with the name \"uniform dist\"\n",
    "point_cloud[\"elevation\"] = data"
   ]
  },
  {
   "cell_type": "markdown",
   "id": "59b02e6c",
   "metadata": {},
   "source": [
    "And now we can plot the point cloud with that random data. PyVista is\n",
    "smart enough to plot the scalar array you added by default. Note that\n",
    "this time, we specify to render every point as its own sphere.\n"
   ]
  },
  {
   "cell_type": "code",
   "execution_count": null,
   "id": "2a5dff36",
   "metadata": {
    "collapsed": false,
    "jupyter": {
     "outputs_hidden": false
    }
   },
   "outputs": [],
   "source": [
    "point_cloud.plot(render_points_as_spheres=True)"
   ]
  },
  {
   "cell_type": "markdown",
   "id": "11f8f818",
   "metadata": {},
   "source": [
    "That data is kind of boring, right? You can also add data arrays with\n",
    "more than one scalar value - perhaps a vector with three elements?\n",
    "Let\\'s make a little function that will compute vectors for every node\n",
    "in the point cloud and add those vectors to the mesh.\n",
    "\n",
    "This time, we\\'re going to create a totally new, random point cloud.\n"
   ]
  },
  {
   "cell_type": "code",
   "execution_count": null,
   "id": "51616af4",
   "metadata": {
    "collapsed": false,
    "jupyter": {
     "outputs_hidden": false
    }
   },
   "outputs": [],
   "source": [
    "# Create random XYZ points\n",
    "points = np.random.rand(100, 3)\n",
    "# Make PolyData\n",
    "point_cloud = pv.PolyData(points)\n",
    "\n",
    "\n",
    "def compute_vectors(mesh):\n",
    "    origin = mesh.center\n",
    "    vectors = mesh.points - origin\n",
    "    vectors = vectors / np.linalg.norm(vectors, axis=1)[:, None]\n",
    "    return vectors\n",
    "\n",
    "\n",
    "vectors = compute_vectors(point_cloud)\n",
    "vectors[0:5, :]"
   ]
  },
  {
   "cell_type": "code",
   "execution_count": null,
   "id": "7f588be7",
   "metadata": {
    "collapsed": false,
    "jupyter": {
     "outputs_hidden": false
    }
   },
   "outputs": [],
   "source": [
    "point_cloud['vectors'] = vectors"
   ]
  },
  {
   "cell_type": "markdown",
   "id": "f90f07a3",
   "metadata": {},
   "source": [
    "Now we can make arrows using those vectors using the glyph filter (see\n",
    "`glyph_example`{.interpreted-text role=\"ref\"} for more details).\n"
   ]
  },
  {
   "cell_type": "code",
   "execution_count": null,
   "id": "9b09a612",
   "metadata": {
    "collapsed": false,
    "jupyter": {
     "outputs_hidden": false
    }
   },
   "outputs": [],
   "source": [
    "arrows = point_cloud.glyph(\n",
    "    orient='vectors',\n",
    "    scale=False,\n",
    "    factor=0.15,\n",
    ")\n",
    "\n",
    "# Display the arrows\n",
    "plotter = pv.Plotter()\n",
    "plotter.add_mesh(point_cloud, color='maroon', point_size=10.0, render_points_as_spheres=True)\n",
    "plotter.add_mesh(arrows, color='lightblue')\n",
    "# plotter.add_point_labels([point_cloud.center,], ['Center',],\n",
    "#                          point_color='yellow', point_size=20)\n",
    "plotter.show_grid()\n",
    "plotter.show()"
   ]
  },
  {
   "cell_type": "code",
   "execution_count": null,
   "id": "aabf1b84",
   "metadata": {
    "collapsed": false,
    "jupyter": {
     "outputs_hidden": false
    }
   },
   "outputs": [],
   "source": [
    "%matplotlib inline\n",
    "from pyvista import set_plot_theme\n",
    "set_plot_theme('document')"
   ]
  },
  {
   "cell_type": "markdown",
   "id": "8957a792",
   "metadata": {},
   "source": [
    "Create a PointSet {#create_pointset_example}\n",
    "=================\n",
    "\n",
    "A `pyvista.PointSet`{.interpreted-text role=\"class\"} is a concrete class\n",
    "representing a set of points that specifies the interface for datasets\n",
    "that explicitly use \\\"point\\\" arrays to represent geometry. This class\n",
    "is useful for improving the performance of filters on point clouds.\n",
    "\n",
    "This example shows the performance improvement when clipping using the\n",
    "`pyvista.DataSet.clip`{.interpreted-text role=\"func\"} filter on a\n",
    "`pyvista.PointSet`{.interpreted-text role=\"class\"}.\n"
   ]
  },
  {
   "cell_type": "code",
   "execution_count": null,
   "id": "c7442bc2",
   "metadata": {
    "collapsed": false,
    "jupyter": {
     "outputs_hidden": false
    }
   },
   "outputs": [],
   "source": [
    "import time\n",
    "\n",
    "import pyvista as pv\n",
    "from pyvista import examples\n",
    "\n",
    "lidar = examples.download_lidar()\n",
    "\n",
    "tstart = time.time()\n",
    "clipped = lidar.clip(origin=(0, 0, 1.76e3), normal=(0, 0, 1))\n",
    "t_elapsed = time.time() - tstart\n",
    "print(f\"Time to clip with a PolyData {t_elapsed:.2f} seconds.\")"
   ]
  },
  {
   "cell_type": "markdown",
   "id": "eb9bcd21",
   "metadata": {},
   "source": [
    "Plot the clipped polydata\n"
   ]
  },
  {
   "cell_type": "code",
   "execution_count": null,
   "id": "173193a6",
   "metadata": {
    "collapsed": false,
    "jupyter": {
     "outputs_hidden": false
    }
   },
   "outputs": [],
   "source": [
    "clipped.plot(show_scalar_bar=False)"
   ]
  },
  {
   "cell_type": "markdown",
   "id": "29d317c3",
   "metadata": {},
   "source": [
    "Show the performance improvement when using a PointSet. This is only\n",
    "available with VTK \\>= 9.1.0.\n"
   ]
  },
  {
   "cell_type": "code",
   "execution_count": null,
   "id": "962d0675",
   "metadata": {
    "collapsed": false,
    "jupyter": {
     "outputs_hidden": false
    }
   },
   "outputs": [],
   "source": [
    "# pset = lidar.cast_to_pointset(deep=False)\n",
    "\n",
    "if pv.vtk_version_info >= (9, 1):\n",
    "    lidar_pset = lidar.cast_to_pointset()\n",
    "    tstart = time.time()\n",
    "    clipped_pset = lidar_pset.clip(origin=(0, 0, 1.76e3), normal=(0, 0, 1))\n",
    "    t_elapsed = time.time() - tstart\n",
    "    print(f\"Time to clip with a PointSet {t_elapsed:.2f} seconds.\")"
   ]
  },
  {
   "cell_type": "markdown",
   "id": "dc717a14",
   "metadata": {},
   "source": [
    "Plot the same dataset.\n",
    "\n",
    "::: {.note}\n",
    "::: {.title}\n",
    "Note\n",
    ":::\n",
    "\n",
    "PyVista must still create an intermediate PolyData to be able to plot,\n",
    "so there is no performance improvement when using a\n",
    "`pyvista.PointSet`{.interpreted-text role=\"class\"}\n",
    ":::\n"
   ]
  },
  {
   "cell_type": "code",
   "execution_count": null,
   "id": "8d08b02b",
   "metadata": {
    "collapsed": false,
    "jupyter": {
     "outputs_hidden": false
    }
   },
   "outputs": [],
   "source": [
    "if pv.vtk_version_info >= (9, 1):\n",
    "    clipped_pset.plot(show_scalar_bar=False)"
   ]
  },
  {
   "cell_type": "code",
   "execution_count": null,
   "id": "4f0fa878",
   "metadata": {
    "collapsed": false,
    "jupyter": {
     "outputs_hidden": false
    }
   },
   "outputs": [],
   "source": [
    "%matplotlib inline\n",
    "from pyvista import set_plot_theme\n",
    "set_plot_theme('document')"
   ]
  },
  {
   "cell_type": "markdown",
   "id": "37720a4c",
   "metadata": {},
   "source": [
    "Create PolyData {#ref_create_poly}\n",
    "===============\n",
    "\n",
    "Creating a PolyData (triangulated surface) object from NumPy arrays of\n",
    "the vertices and faces.\n"
   ]
  },
  {
   "cell_type": "code",
   "execution_count": null,
   "id": "a15efcfb",
   "metadata": {
    "collapsed": false,
    "jupyter": {
     "outputs_hidden": false
    }
   },
   "outputs": [],
   "source": [
    "import numpy as np\n",
    "\n",
    "import pyvista as pv"
   ]
  },
  {
   "cell_type": "markdown",
   "id": "27b85940",
   "metadata": {},
   "source": [
    "A PolyData object can be created quickly from numpy arrays. The vertex\n",
    "array contains the locations of the points in the mesh and the face\n",
    "array contains the number of points of each face and the indices of the\n",
    "vertices which comprise that face.\n"
   ]
  },
  {
   "cell_type": "code",
   "execution_count": null,
   "id": "58c4ac8e",
   "metadata": {
    "collapsed": false,
    "jupyter": {
     "outputs_hidden": false
    }
   },
   "outputs": [],
   "source": [
    "# mesh points\n",
    "vertices = np.array([[0, 0, 0], [1, 0, 0], [1, 1, 0], [0, 1, 0], [0.5, 0.5, -1]])\n",
    "\n",
    "# mesh faces\n",
    "faces = np.hstack([[4, 0, 1, 2, 3], [3, 0, 1, 4], [3, 1, 2, 4]])  # [square, triangle, triangle]\n",
    "\n",
    "surf = pv.PolyData(vertices, faces)\n",
    "\n",
    "# plot each face with a different color\n",
    "surf.plot(scalars=np.arange(3), cpos=[-1, 1, 0.5])"
   ]
  },
  {
   "cell_type": "code",
   "execution_count": null,
   "id": "4cbf5d7b",
   "metadata": {
    "collapsed": false,
    "jupyter": {
     "outputs_hidden": false
    }
   },
   "outputs": [],
   "source": [
    "%matplotlib inline\n",
    "from pyvista import set_plot_theme\n",
    "set_plot_theme('document')"
   ]
  },
  {
   "cell_type": "markdown",
   "id": "82d38e4c",
   "metadata": {},
   "source": [
    "Creating a Spline {#ref_create_spline}\n",
    "=================\n",
    "\n",
    "Create a spline/polyline from a numpy array of XYZ vertices\n"
   ]
  },
  {
   "cell_type": "code",
   "execution_count": null,
   "id": "df28c4c1",
   "metadata": {
    "collapsed": false,
    "jupyter": {
     "outputs_hidden": false
    }
   },
   "outputs": [],
   "source": [
    "import numpy as np\n",
    "\n",
    "import pyvista as pv"
   ]
  },
  {
   "cell_type": "markdown",
   "id": "963bea3c",
   "metadata": {},
   "source": [
    "Create a dataset to plot\n"
   ]
  },
  {
   "cell_type": "code",
   "execution_count": null,
   "id": "33d2d27d",
   "metadata": {
    "collapsed": false,
    "jupyter": {
     "outputs_hidden": false
    }
   },
   "outputs": [],
   "source": [
    "def make_points():\n",
    "    \"\"\"Helper to make XYZ points\"\"\"\n",
    "    theta = np.linspace(-4 * np.pi, 4 * np.pi, 100)\n",
    "    z = np.linspace(-2, 2, 100)\n",
    "    r = z**2 + 1\n",
    "    x = r * np.sin(theta)\n",
    "    y = r * np.cos(theta)\n",
    "    return np.column_stack((x, y, z))\n",
    "\n",
    "\n",
    "points = make_points()\n",
    "points[0:5, :]"
   ]
  },
  {
   "cell_type": "markdown",
   "id": "9695a5ea",
   "metadata": {},
   "source": [
    "Now let\\'s make a function that can create line cells on a\n",
    "`pyvista.PolyData`{.interpreted-text role=\"class\"} mesh given that the\n",
    "points are in order for the segments they make.\n"
   ]
  },
  {
   "cell_type": "code",
   "execution_count": null,
   "id": "ac97e754",
   "metadata": {
    "collapsed": false,
    "jupyter": {
     "outputs_hidden": false
    }
   },
   "outputs": [],
   "source": [
    "def lines_from_points(points):\n",
    "    \"\"\"Given an array of points, make a line set\"\"\"\n",
    "    poly = pv.PolyData()\n",
    "    poly.points = points\n",
    "    cells = np.full((len(points) - 1, 3), 2, dtype=np.int_)\n",
    "    cells[:, 1] = np.arange(0, len(points) - 1, dtype=np.int_)\n",
    "    cells[:, 2] = np.arange(1, len(points), dtype=np.int_)\n",
    "    poly.lines = cells\n",
    "    return poly\n",
    "\n",
    "\n",
    "line = lines_from_points(points)\n",
    "line"
   ]
  },
  {
   "cell_type": "code",
   "execution_count": null,
   "id": "e53c6f30",
   "metadata": {
    "collapsed": false,
    "jupyter": {
     "outputs_hidden": false
    }
   },
   "outputs": [],
   "source": [
    "line[\"scalars\"] = np.arange(line.n_points)\n",
    "tube = line.tube(radius=0.1)\n",
    "tube.plot(smooth_shading=True)"
   ]
  },
  {
   "cell_type": "markdown",
   "id": "8daea258",
   "metadata": {},
   "source": [
    "That tube has sharp edges at each line segment. This can be mitigated by\n",
    "creating a single PolyLine cell for all of the points\n"
   ]
  },
  {
   "cell_type": "code",
   "execution_count": null,
   "id": "826e6e2e",
   "metadata": {
    "collapsed": false,
    "jupyter": {
     "outputs_hidden": false
    }
   },
   "outputs": [],
   "source": [
    "def polyline_from_points(points):\n",
    "    poly = pv.PolyData()\n",
    "    poly.points = points\n",
    "    the_cell = np.arange(0, len(points), dtype=np.int_)\n",
    "    the_cell = np.insert(the_cell, 0, len(points))\n",
    "    poly.lines = the_cell\n",
    "    return poly\n",
    "\n",
    "\n",
    "polyline = polyline_from_points(points)\n",
    "polyline[\"scalars\"] = np.arange(polyline.n_points)\n",
    "tube = polyline.tube(radius=0.1)\n",
    "tube.plot(smooth_shading=True)"
   ]
  },
  {
   "cell_type": "markdown",
   "id": "5b013b3f",
   "metadata": {},
   "source": [
    "You could also interpolate those points onto a parametric spline\n"
   ]
  },
  {
   "cell_type": "code",
   "execution_count": null,
   "id": "c6a2a4f2",
   "metadata": {
    "collapsed": false,
    "jupyter": {
     "outputs_hidden": false
    }
   },
   "outputs": [],
   "source": [
    "# Create spline with 1000 interpolation points\n",
    "spline = pv.Spline(points, 1000)"
   ]
  },
  {
   "cell_type": "markdown",
   "id": "649efdd1",
   "metadata": {},
   "source": [
    "Plot spline as a tube\n"
   ]
  },
  {
   "cell_type": "code",
   "execution_count": null,
   "id": "c5bacb3e",
   "metadata": {
    "collapsed": false,
    "jupyter": {
     "outputs_hidden": false
    }
   },
   "outputs": [],
   "source": [
    "# add scalars to spline and plot it\n",
    "spline[\"scalars\"] = np.arange(spline.n_points)\n",
    "tube = spline.tube(radius=0.1)\n",
    "tube.plot(smooth_shading=True)"
   ]
  },
  {
   "cell_type": "markdown",
   "id": "c4fc4a7a",
   "metadata": {},
   "source": [
    "The spline can also be plotted as a plain line\n"
   ]
  },
  {
   "cell_type": "code",
   "execution_count": null,
   "id": "659a62a7",
   "metadata": {
    "collapsed": false,
    "jupyter": {
     "outputs_hidden": false
    }
   },
   "outputs": [],
   "source": [
    "# generate same spline with 400 interpolation points\n",
    "spline = pv.Spline(points, 400)\n",
    "\n",
    "# plot without scalars\n",
    "spline.plot(line_width=4, color=\"k\")"
   ]
  },
  {
   "cell_type": "markdown",
   "id": "bb499ed4",
   "metadata": {},
   "source": [
    "Ribbons\n",
    "=======\n",
    "\n",
    "Ayy of the lines from the examples above can be used to create ribbons.\n",
    "Take a look at the `pyvista.PolyDataFilters.ribbon`{.interpreted-text\n",
    "role=\"func\"} filter.\n"
   ]
  },
  {
   "cell_type": "code",
   "execution_count": null,
   "id": "d3abbe95",
   "metadata": {
    "collapsed": false,
    "jupyter": {
     "outputs_hidden": false
    }
   },
   "outputs": [],
   "source": [
    "ribbon = spline.compute_arc_length().ribbon(width=0.75, scalars='arc_length')\n",
    "ribbon.plot(color=True)"
   ]
  },
  {
   "cell_type": "code",
   "execution_count": null,
   "id": "e799819c",
   "metadata": {
    "collapsed": false,
    "jupyter": {
     "outputs_hidden": false
    }
   },
   "outputs": [],
   "source": [
    "%matplotlib inline\n",
    "from pyvista import set_plot_theme\n",
    "set_plot_theme('document')"
   ]
  },
  {
   "cell_type": "markdown",
   "id": "48780c5e",
   "metadata": {},
   "source": [
    "Creating a Structured Surface {#ref_create_structured}\n",
    "=============================\n",
    "\n",
    "Create a StructuredGrid surface from NumPy arrays\n"
   ]
  },
  {
   "cell_type": "code",
   "execution_count": null,
   "id": "c95ad21f",
   "metadata": {
    "collapsed": false,
    "jupyter": {
     "outputs_hidden": false
    }
   },
   "outputs": [],
   "source": [
    "import numpy as np\n",
    "\n",
    "import pyvista as pv\n",
    "from pyvista import examples"
   ]
  },
  {
   "cell_type": "markdown",
   "id": "2c391589",
   "metadata": {},
   "source": [
    "From NumPy Meshgrid\n",
    "===================\n",
    "\n",
    "Create a simple meshgrid using NumPy\n"
   ]
  },
  {
   "cell_type": "code",
   "execution_count": null,
   "id": "1f8076e4",
   "metadata": {
    "collapsed": false,
    "jupyter": {
     "outputs_hidden": false
    }
   },
   "outputs": [],
   "source": [
    "# Make data\n",
    "x = np.arange(-10, 10, 0.25)\n",
    "y = np.arange(-10, 10, 0.25)\n",
    "x, y = np.meshgrid(x, y)\n",
    "r = np.sqrt(x**2 + y**2)\n",
    "z = np.sin(r)"
   ]
  },
  {
   "cell_type": "markdown",
   "id": "6fd0ad0a",
   "metadata": {},
   "source": [
    "Now pass the NumPy meshgrid to PyVista\n"
   ]
  },
  {
   "cell_type": "code",
   "execution_count": null,
   "id": "762197eb",
   "metadata": {
    "collapsed": false,
    "jupyter": {
     "outputs_hidden": false
    }
   },
   "outputs": [],
   "source": [
    "# Create and plot structured grid\n",
    "grid = pv.StructuredGrid(x, y, z)\n",
    "grid.plot()"
   ]
  },
  {
   "cell_type": "code",
   "execution_count": null,
   "id": "e2b1aa58",
   "metadata": {
    "collapsed": false,
    "jupyter": {
     "outputs_hidden": false
    }
   },
   "outputs": [],
   "source": [
    "# Plot mean curvature as well\n",
    "grid.plot_curvature(clim=[-1, 1])"
   ]
  },
  {
   "cell_type": "markdown",
   "id": "c7b82333",
   "metadata": {},
   "source": [
    "Generating a structured grid is a one-liner in this module, and the\n",
    "points from the resulting surface can be accessed as a NumPy array:\n"
   ]
  },
  {
   "cell_type": "code",
   "execution_count": null,
   "id": "8143cbf0",
   "metadata": {
    "collapsed": false,
    "jupyter": {
     "outputs_hidden": false
    }
   },
   "outputs": [],
   "source": [
    "grid.points"
   ]
  },
  {
   "cell_type": "markdown",
   "id": "4fa7f1b3",
   "metadata": {},
   "source": [
    "From XYZ Points\n",
    "===============\n",
    "\n",
    "Quite often, you might be given a set of coordinates (XYZ points) in a\n",
    "simple tabular format where there exists some structure such that grid\n",
    "could be built between the nodes you have. A great example is found in\n",
    "[pyvista-support\\#16](https://github.com/pyvista/pyvista-support/issues/16)\n",
    "where a structured grid that is rotated from the cartesian reference\n",
    "frame is given as just XYZ points. In these cases, all that is needed to\n",
    "recover the grid is the dimensions of the grid ([nx]{.title-ref} by\n",
    "[ny]{.title-ref} by [nz]{.title-ref}) and that the coordinates are\n",
    "ordered appropriately.\n",
    "\n",
    "For this example, we will create a small dataset and rotate the\n",
    "coordinates such that they are not on orthogonal to cartesian reference\n",
    "frame.\n"
   ]
  },
  {
   "cell_type": "code",
   "execution_count": null,
   "id": "66ce1406",
   "metadata": {
    "collapsed": false,
    "jupyter": {
     "outputs_hidden": false
    }
   },
   "outputs": [],
   "source": [
    "def make_point_set():\n",
    "    \"\"\"Ignore the contents of this function. Just know that it returns an\n",
    "    n by 3 numpy array of structured coordinates.\"\"\"\n",
    "    n, m = 29, 32\n",
    "    x = np.linspace(-200, 200, num=n) + np.random.uniform(-5, 5, size=n)\n",
    "    y = np.linspace(-200, 200, num=m) + np.random.uniform(-5, 5, size=m)\n",
    "    xx, yy = np.meshgrid(x, y)\n",
    "    A, b = 100, 100\n",
    "    zz = A * np.exp(-0.5 * ((xx / b) ** 2.0 + (yy / b) ** 2.0))\n",
    "    points = np.c_[xx.reshape(-1), yy.reshape(-1), zz.reshape(-1)]\n",
    "    foo = pv.PolyData(points)\n",
    "    foo.rotate_z(36.6, inplace=True)\n",
    "    return foo.points\n",
    "\n",
    "\n",
    "# Get the points as a 2D NumPy array (N by 3)\n",
    "points = make_point_set()\n",
    "points[0:5, :]"
   ]
  },
  {
   "cell_type": "markdown",
   "id": "5d5c0808",
   "metadata": {},
   "source": [
    "Now pretend that the (n by 3) NumPy array above are coordinates that you\n",
    "have, possibly from a file with three columns of XYZ points.\n",
    "\n",
    "We simply need to recover the dimensions of the grid that these points\n",
    "make and then we can generate a\n",
    "`pyvista.StructuredGrid`{.interpreted-text role=\"class\"} mesh.\n",
    "\n",
    "Let\\'s preview the points to see what we are dealing with:\n"
   ]
  },
  {
   "cell_type": "code",
   "execution_count": null,
   "id": "d1910c73",
   "metadata": {
    "collapsed": false,
    "jupyter": {
     "outputs_hidden": false
    }
   },
   "outputs": [],
   "source": [
    "import matplotlib.pyplot as plt\n",
    "\n",
    "plt.figure(figsize=(10, 10))\n",
    "plt.scatter(points[:, 0], points[:, 1], c=points[:, 2])\n",
    "plt.axis(\"image\")\n",
    "plt.xlabel(\"X Coordinate\")\n",
    "plt.ylabel(\"Y Coordinate\")\n",
    "plt.show()"
   ]
  },
  {
   "cell_type": "markdown",
   "id": "77f7fe90",
   "metadata": {},
   "source": [
    "In the figure above, we can see some inherit structure to the points and\n",
    "thus we could connect the points as a structured grid. All we need to\n",
    "know are the dimensions of the grid present. In this case, we know\n",
    "(because we made this dataset) the dimensions are `[29, 32, 1]`, but you\n",
    "might not know the dimensions of your pointset. There are a few ways to\n",
    "figure out the dimensionality of structured grid including:\n",
    "\n",
    "-   manually counting the nodes along the edges of the pointset\n",
    "-   using a technique like principle component analysis to strip the\n",
    "    rotation from the dataset and count the unique values along each\n",
    "    axis for the new;y projected dataset.\n"
   ]
  },
  {
   "cell_type": "code",
   "execution_count": null,
   "id": "31cd21cb",
   "metadata": {
    "collapsed": false,
    "jupyter": {
     "outputs_hidden": false
    }
   },
   "outputs": [],
   "source": [
    "# Once you've figured out your grid's dimensions, simple create the\n",
    "# :class:`pyvista.StructuredGrid` as follows:\n",
    "\n",
    "mesh = pv.StructuredGrid()\n",
    "# Set the coordinates from the numpy array\n",
    "mesh.points = points\n",
    "# set the dimensions\n",
    "mesh.dimensions = [29, 32, 1]\n",
    "\n",
    "# and then inspect it!\n",
    "mesh.plot(show_edges=True, show_grid=True, cpos=\"xy\")"
   ]
  },
  {
   "cell_type": "markdown",
   "id": "e69bdbe0",
   "metadata": {},
   "source": [
    "Extending a 2D StructuredGrid to 3D\n",
    "===================================\n",
    "\n",
    "A 2D `pyvista.StructuredGrid`{.interpreted-text role=\"class\"} mesh can\n",
    "be extended into a 3D mesh. This is highly applicable when wanting to\n",
    "create a terrain following mesh in earth science research applications.\n",
    "\n",
    "For example, we could have a `pyvista.StructuredGrid`{.interpreted-text\n",
    "role=\"class\"} of a topography surface and extend that surface to a few\n",
    "different levels and connect each \\\"level\\\" to create the 3D terrain\n",
    "following mesh.\n",
    "\n",
    "Let\\'s start with a simple example by extending the wave mesh to 3D\n"
   ]
  },
  {
   "cell_type": "code",
   "execution_count": null,
   "id": "22456ef1",
   "metadata": {
    "collapsed": false,
    "jupyter": {
     "outputs_hidden": false
    }
   },
   "outputs": [],
   "source": [
    "struct = examples.load_structured()\n",
    "struct.plot(show_edges=True)"
   ]
  },
  {
   "cell_type": "code",
   "execution_count": null,
   "id": "ce96e5ab",
   "metadata": {
    "collapsed": false,
    "jupyter": {
     "outputs_hidden": false
    }
   },
   "outputs": [],
   "source": [
    "top = struct.points.copy()\n",
    "bottom = struct.points.copy()\n",
    "bottom[:, -1] = -10.0  # Wherever you want the plane\n",
    "\n",
    "vol = pv.StructuredGrid()\n",
    "vol.points = np.vstack((top, bottom))\n",
    "vol.dimensions = [*struct.dimensions[0:2], 2]\n",
    "vol.plot(show_edges=True)"
   ]
  },
  {
   "cell_type": "code",
   "execution_count": null,
   "id": "1c2dccd3",
   "metadata": {
    "collapsed": false,
    "jupyter": {
     "outputs_hidden": false
    }
   },
   "outputs": [],
   "source": [
    "%matplotlib inline\n",
    "from pyvista import set_plot_theme\n",
    "set_plot_theme('document')"
   ]
  },
  {
   "cell_type": "markdown",
   "id": "cecf067e",
   "metadata": {},
   "source": [
    "Create Triangulated Surface {#triangulated_surface}\n",
    "===========================\n",
    "\n",
    "Create a surface from a set of points through a Delaunay triangulation.\n"
   ]
  },
  {
   "cell_type": "code",
   "execution_count": null,
   "id": "785cd022",
   "metadata": {
    "collapsed": false,
    "jupyter": {
     "outputs_hidden": false
    }
   },
   "outputs": [],
   "source": [
    "import numpy as np\n",
    "\n",
    "import pyvista as pv"
   ]
  },
  {
   "cell_type": "markdown",
   "id": "a3c0751c",
   "metadata": {},
   "source": [
    "Simple Triangulations\n",
    "=====================\n",
    "\n",
    "First, create some points for the surface.\n"
   ]
  },
  {
   "cell_type": "code",
   "execution_count": null,
   "id": "50870954",
   "metadata": {
    "collapsed": false,
    "jupyter": {
     "outputs_hidden": false
    }
   },
   "outputs": [],
   "source": [
    "# Define a simple Gaussian surface\n",
    "n = 20\n",
    "x = np.linspace(-200, 200, num=n) + np.random.uniform(-5, 5, size=n)\n",
    "y = np.linspace(-200, 200, num=n) + np.random.uniform(-5, 5, size=n)\n",
    "xx, yy = np.meshgrid(x, y)\n",
    "A, b = 100, 100\n",
    "zz = A * np.exp(-0.5 * ((xx / b) ** 2.0 + (yy / b) ** 2.0))\n",
    "\n",
    "# Get the points as a 2D NumPy array (N by 3)\n",
    "points = np.c_[xx.reshape(-1), yy.reshape(-1), zz.reshape(-1)]\n",
    "points[0:5, :]"
   ]
  },
  {
   "cell_type": "markdown",
   "id": "98b4270b",
   "metadata": {},
   "source": [
    "Now use those points to create a point cloud PyVista data object. This\n",
    "will be encompassed in a `pyvista.PolyData`{.interpreted-text\n",
    "role=\"class\"} object.\n"
   ]
  },
  {
   "cell_type": "code",
   "execution_count": null,
   "id": "8dc8a504",
   "metadata": {
    "collapsed": false,
    "jupyter": {
     "outputs_hidden": false
    }
   },
   "outputs": [],
   "source": [
    "# simply pass the numpy points to the PolyData constructor\n",
    "cloud = pv.PolyData(points)\n",
    "cloud.plot(point_size=15)"
   ]
  },
  {
   "cell_type": "markdown",
   "id": "d69be75b",
   "metadata": {},
   "source": [
    "Now that we have a PyVista data structure of the points, we can perform\n",
    "a triangulation to turn those boring discrete points into a connected\n",
    "surface.\n"
   ]
  },
  {
   "cell_type": "code",
   "execution_count": null,
   "id": "24979318",
   "metadata": {
    "collapsed": false,
    "jupyter": {
     "outputs_hidden": false
    }
   },
   "outputs": [],
   "source": [
    "surf = cloud.delaunay_2d()\n",
    "surf.plot(show_edges=True)"
   ]
  },
  {
   "cell_type": "markdown",
   "id": "4ebe3fd7",
   "metadata": {},
   "source": [
    "Masked Triangulations\n",
    "=====================\n"
   ]
  },
  {
   "cell_type": "code",
   "execution_count": null,
   "id": "879ee51a",
   "metadata": {
    "collapsed": false,
    "jupyter": {
     "outputs_hidden": false
    }
   },
   "outputs": [],
   "source": [
    "x = np.arange(10, dtype=float)\n",
    "xx, yy, zz = np.meshgrid(x, x, [0])\n",
    "points = np.column_stack((xx.ravel(order=\"F\"), yy.ravel(order=\"F\"), zz.ravel(order=\"F\")))\n",
    "# Perturb the points\n",
    "points[:, 0] += np.random.rand(len(points)) * 0.3\n",
    "points[:, 1] += np.random.rand(len(points)) * 0.3\n",
    "# Create the point cloud mesh to triangulate from the coordinates\n",
    "cloud = pv.PolyData(points)\n",
    "cloud"
   ]
  },
  {
   "cell_type": "markdown",
   "id": "00d2742d",
   "metadata": {},
   "source": [
    "Run the triangulation on these points\n"
   ]
  },
  {
   "cell_type": "code",
   "execution_count": null,
   "id": "0630ec57",
   "metadata": {
    "collapsed": false,
    "jupyter": {
     "outputs_hidden": false
    }
   },
   "outputs": [],
   "source": [
    "surf = cloud.delaunay_2d()\n",
    "surf.plot(cpos=\"xy\", show_edges=True)"
   ]
  },
  {
   "cell_type": "markdown",
   "id": "e264226c",
   "metadata": {},
   "source": [
    "Note that some of the outer edges are unconstrained and the\n",
    "triangulation added unwanted triangles. We can mitigate that with the\n",
    "`alpha` parameter.\n"
   ]
  },
  {
   "cell_type": "code",
   "execution_count": null,
   "id": "fe9ad6b3",
   "metadata": {
    "collapsed": false,
    "jupyter": {
     "outputs_hidden": false
    }
   },
   "outputs": [],
   "source": [
    "surf = cloud.delaunay_2d(alpha=1.0)\n",
    "surf.plot(cpos=\"xy\", show_edges=True)"
   ]
  },
  {
   "cell_type": "markdown",
   "id": "f715a576",
   "metadata": {},
   "source": [
    "We could also add a polygon to ignore during the triangulation via the\n",
    "`edge_source` parameter.\n"
   ]
  },
  {
   "cell_type": "code",
   "execution_count": null,
   "id": "03704b60",
   "metadata": {
    "collapsed": false,
    "jupyter": {
     "outputs_hidden": false
    }
   },
   "outputs": [],
   "source": [
    "# Define a polygonal hole with a clockwise polygon\n",
    "ids = [22, 23, 24, 25, 35, 45, 44, 43, 42, 32]\n",
    "\n",
    "# Create a polydata to store the boundary\n",
    "polygon = pv.PolyData()\n",
    "# Make sure it has the same points as the mesh being triangulated\n",
    "polygon.points = points\n",
    "# But only has faces in regions to ignore\n",
    "polygon.faces = np.insert(ids, 0, len(ids))\n",
    "\n",
    "surf = cloud.delaunay_2d(alpha=1.0, edge_source=polygon)\n",
    "\n",
    "p = pv.Plotter()\n",
    "p.add_mesh(surf, show_edges=True)\n",
    "p.add_mesh(polygon, color=\"red\", opacity=0.5)\n",
    "p.show(cpos=\"xy\")"
   ]
  },
  {
   "cell_type": "code",
   "execution_count": null,
   "id": "97d86acd",
   "metadata": {
    "collapsed": false,
    "jupyter": {
     "outputs_hidden": false
    }
   },
   "outputs": [],
   "source": [
    "%matplotlib inline\n",
    "from pyvista import set_plot_theme\n",
    "set_plot_theme('document')"
   ]
  },
  {
   "cell_type": "markdown",
   "id": "3c4a043e",
   "metadata": {},
   "source": [
    "Plot Truss-like FEA Solution with Cylinders {#create_truss}\n",
    "===========================================\n",
    "\n",
    "Plot connections between points in 3D as cylinders, colored by scalars.\n"
   ]
  },
  {
   "cell_type": "code",
   "execution_count": null,
   "id": "0b578098",
   "metadata": {
    "collapsed": false,
    "jupyter": {
     "outputs_hidden": false
    }
   },
   "outputs": [],
   "source": [
    "import numpy as np\n",
    "\n",
    "import pyvista"
   ]
  },
  {
   "cell_type": "markdown",
   "id": "b277ff6e",
   "metadata": {},
   "source": [
    "Define the points and elements of the truss. Call them `nodes` here as\n",
    "it comes from finite element analysis.\n"
   ]
  },
  {
   "cell_type": "code",
   "execution_count": null,
   "id": "9ef48fd7",
   "metadata": {
    "collapsed": false,
    "jupyter": {
     "outputs_hidden": false
    }
   },
   "outputs": [],
   "source": [
    "nodes = [\n",
    "    [0.0, 0.0, 0.0],\n",
    "    [0.0, 1.0, 0.0],\n",
    "    [4.0, 3.0, 0.0],\n",
    "    [4.0, 0.0, 0.0],\n",
    "    [0.0, 1.0, 2.0],\n",
    "    [4.0, 1.0, 2.0],\n",
    "    [4.0, 3.0, 2.0],\n",
    "]\n",
    "\n",
    "\n",
    "edges = np.array(\n",
    "    [\n",
    "        [0, 4],\n",
    "        [1, 4],\n",
    "        [3, 4],\n",
    "        [5, 4],\n",
    "        [6, 4],\n",
    "        [3, 5],\n",
    "        [2, 5],\n",
    "        [5, 6],\n",
    "        [2, 6],\n",
    "    ]\n",
    ")\n",
    "\n",
    "# We must \"pad\" the edges to indicate to vtk how many points per edge\n",
    "padding = np.empty(edges.shape[0], int) * 2\n",
    "padding[:] = 2\n",
    "edges_w_padding = np.vstack((padding, edges.T)).T\n",
    "edges_w_padding"
   ]
  },
  {
   "cell_type": "markdown",
   "id": "8df4fae6",
   "metadata": {},
   "source": [
    "Plot the truss while rendering the lines as tubes.\n"
   ]
  },
  {
   "cell_type": "code",
   "execution_count": null,
   "id": "73cdc941",
   "metadata": {
    "collapsed": false,
    "jupyter": {
     "outputs_hidden": false
    }
   },
   "outputs": [],
   "source": [
    "mesh = pyvista.PolyData(nodes, edges_w_padding)\n",
    "\n",
    "colors = range(edges.shape[0])\n",
    "mesh.plot(\n",
    "    scalars=colors,\n",
    "    render_lines_as_tubes=True,\n",
    "    style='wireframe',\n",
    "    line_width=10,\n",
    "    cmap='jet',\n",
    "    show_scalar_bar=False,\n",
    "    background='w',\n",
    ")"
   ]
  },
  {
   "cell_type": "code",
   "execution_count": null,
   "id": "f0945a08",
   "metadata": {
    "collapsed": false,
    "jupyter": {
     "outputs_hidden": false
    }
   },
   "outputs": [],
   "source": [
    "%matplotlib inline\n",
    "from pyvista import set_plot_theme\n",
    "set_plot_theme('document')"
   ]
  },
  {
   "cell_type": "markdown",
   "id": "d8ce5832",
   "metadata": {},
   "source": [
    "Creating a Uniform Grid\n",
    "=======================\n",
    "\n",
    "Create a simple uniform grid from a 3D NumPy array of values.\n"
   ]
  },
  {
   "cell_type": "code",
   "execution_count": null,
   "id": "a2d3fd76",
   "metadata": {
    "collapsed": false,
    "jupyter": {
     "outputs_hidden": false
    }
   },
   "outputs": [],
   "source": [
    "import numpy as np\n",
    "\n",
    "import pyvista as pv"
   ]
  },
  {
   "cell_type": "markdown",
   "id": "efc50f60",
   "metadata": {},
   "source": [
    "Take a 3D NumPy array of data values that holds some spatial data where\n",
    "each axis corresponds to the XYZ cartesian axes. This example will\n",
    "create a `pyvista.UniformGrid`{.interpreted-text role=\"class\"} object\n",
    "that will hold the spatial reference for a 3D grid which a 3D NumPy\n",
    "array of values can be plotted against.\n"
   ]
  },
  {
   "cell_type": "markdown",
   "id": "3a19d2dd",
   "metadata": {},
   "source": [
    "Create the 3D NumPy array of spatially referenced data. This is\n",
    "spatially referenced such that the grid is 20 by 5 by 10 (nx by ny by\n",
    "nz)\n"
   ]
  },
  {
   "cell_type": "code",
   "execution_count": null,
   "id": "6df17780",
   "metadata": {
    "collapsed": false,
    "jupyter": {
     "outputs_hidden": false
    }
   },
   "outputs": [],
   "source": [
    "values = np.linspace(0, 10, 1000).reshape((20, 5, 10))\n",
    "values.shape\n",
    "\n",
    "# Create the spatial reference\n",
    "grid = pv.UniformGrid()\n",
    "\n",
    "# Set the grid dimensions: shape + 1 because we want to inject our values on\n",
    "#   the CELL data\n",
    "grid.dimensions = np.array(values.shape) + 1\n",
    "\n",
    "# Edit the spatial reference\n",
    "grid.origin = (100, 33, 55.6)  # The bottom left corner of the data set\n",
    "grid.spacing = (1, 5, 2)  # These are the cell sizes along each axis\n",
    "\n",
    "# Add the data values to the cell data\n",
    "grid.cell_data[\"values\"] = values.flatten(order=\"F\")  # Flatten the array!\n",
    "\n",
    "# Now plot the grid!\n",
    "grid.plot(show_edges=True)"
   ]
  },
  {
   "cell_type": "markdown",
   "id": "62dc473a",
   "metadata": {},
   "source": [
    "Don\\'t like cell data? You could also add the NumPy array to the point\n",
    "data of a `pyvista.UniformGrid`{.interpreted-text role=\"class\"}. Take\n",
    "note of the subtle difference when setting the grid dimensions upon\n",
    "initialization.\n"
   ]
  },
  {
   "cell_type": "code",
   "execution_count": null,
   "id": "31cd08b2",
   "metadata": {
    "collapsed": false,
    "jupyter": {
     "outputs_hidden": false
    }
   },
   "outputs": [],
   "source": [
    "# Create the 3D NumPy array of spatially referenced data\n",
    "# This is spatially referenced such that the grid is 20 by 5 by 10\n",
    "#   (nx by ny by nz)\n",
    "values = np.linspace(0, 10, 1000).reshape((20, 5, 10))\n",
    "values.shape\n",
    "\n",
    "# Create the spatial reference\n",
    "grid = pv.UniformGrid()\n",
    "\n",
    "# Set the grid dimensions: shape because we want to inject our values on the\n",
    "#   POINT data\n",
    "grid.dimensions = values.shape\n",
    "\n",
    "# Edit the spatial reference\n",
    "grid.origin = (100, 33, 55.6)  # The bottom left corner of the data set\n",
    "grid.spacing = (1, 5, 2)  # These are the cell sizes along each axis\n",
    "\n",
    "# Add the data values to the cell data\n",
    "grid.point_data[\"values\"] = values.flatten(order=\"F\")  # Flatten the array!\n",
    "\n",
    "# Now plot the grid!\n",
    "grid.plot(show_edges=True)"
   ]
  },
  {
   "cell_type": "code",
   "execution_count": null,
   "id": "878314d4",
   "metadata": {
    "collapsed": false,
    "jupyter": {
     "outputs_hidden": false
    }
   },
   "outputs": [],
   "source": [
    "%matplotlib inline\n",
    "from pyvista import set_plot_theme\n",
    "set_plot_theme('document')"
   ]
  },
  {
   "cell_type": "markdown",
   "id": "4cd9d4a3",
   "metadata": {},
   "source": [
    "Creating an Unstructured Grid {#ref_create_unstructured}\n",
    "=============================\n",
    "\n",
    "Create an irregular, unstructured grid from NumPy arrays.\n"
   ]
  },
  {
   "cell_type": "code",
   "execution_count": null,
   "id": "73b9add8",
   "metadata": {
    "collapsed": false,
    "jupyter": {
     "outputs_hidden": false
    }
   },
   "outputs": [],
   "source": [
    "import numpy as np\n",
    "import vtk\n",
    "\n",
    "import pyvista as pv"
   ]
  },
  {
   "cell_type": "markdown",
   "id": "346bbe3d",
   "metadata": {},
   "source": [
    "An unstructured grid can be created directly from NumPy arrays. This is\n",
    "useful when creating a grid from scratch or copying it from another\n",
    "format. See\n",
    "[vtkUnstructuredGrid](https://www.vtk.org/doc/nightly/html/classvtkUnstructuredGrid.html)\n",
    "for available cell types and their descriptions.\n"
   ]
  },
  {
   "cell_type": "code",
   "execution_count": null,
   "id": "0acbf42b",
   "metadata": {
    "collapsed": false,
    "jupyter": {
     "outputs_hidden": false
    }
   },
   "outputs": [],
   "source": [
    "# offset array.  Identifies the start of each cell in the cells array\n",
    "offset = np.array([0, 9])\n",
    "\n",
    "# Contains information on the points composing each cell.\n",
    "# Each cell begins with the number of points in the cell and then the points\n",
    "# composing the cell\n",
    "cells = np.array([8, 0, 1, 2, 3, 4, 5, 6, 7, 8, 8, 9, 10, 11, 12, 13, 14, 15])\n",
    "\n",
    "# cell type array. Contains the cell type of each cell\n",
    "cell_type = np.array([vtk.VTK_HEXAHEDRON, vtk.VTK_HEXAHEDRON])\n",
    "\n",
    "# in this example, each cell uses separate points\n",
    "cell1 = np.array(\n",
    "    [\n",
    "        [0, 0, 0],\n",
    "        [1, 0, 0],\n",
    "        [1, 1, 0],\n",
    "        [0, 1, 0],\n",
    "        [0, 0, 1],\n",
    "        [1, 0, 1],\n",
    "        [1, 1, 1],\n",
    "        [0, 1, 1],\n",
    "    ]\n",
    ")\n",
    "\n",
    "cell2 = np.array(\n",
    "    [\n",
    "        [0, 0, 2],\n",
    "        [1, 0, 2],\n",
    "        [1, 1, 2],\n",
    "        [0, 1, 2],\n",
    "        [0, 0, 3],\n",
    "        [1, 0, 3],\n",
    "        [1, 1, 3],\n",
    "        [0, 1, 3],\n",
    "    ]\n",
    ")\n",
    "\n",
    "# points of the cell array\n",
    "points = np.vstack((cell1, cell2))\n",
    "\n",
    "# create the unstructured grid directly from the numpy arrays\n",
    "# The offset is optional and will be either calculated if not given (VTK version < 9),\n",
    "# or is not necessary anymore (VTK version >= 9)\n",
    "grid = pv.UnstructuredGrid(offset, cells, cell_type, points)\n",
    "\n",
    "# For cells of fixed sizes (like the mentioned Hexahedra), it is also possible to use the\n",
    "# simplified dictionary interface. This automatically calculates the cell array with types\n",
    "# and offsets. Note that for mixing with additional cell types, just the appropriate key needs to be\n",
    "# added to the dictionary.\n",
    "cells_hex = np.arange(16).reshape([2, 8])\n",
    "# = np.array([[0, 1, 2, 3, 4, 5, 6, 7], [8, 9, 10, 11, 12, 13, 14, 15]])\n",
    "grid = pv.UnstructuredGrid({vtk.VTK_HEXAHEDRON: cells_hex}, points)\n",
    "\n",
    "# plot the grid (and suppress the camera position output)\n",
    "_ = grid.plot(show_edges=True)"
   ]
  },
  {
   "cell_type": "markdown",
   "id": "a45f71fe",
   "metadata": {},
   "source": [
    "UnstructuredGrid with Shared Points\n",
    "===================================\n",
    "\n",
    "The next example again creates an unstructured grid containing\n",
    "hexahedral cells, but using common points between the cells.\n"
   ]
  },
  {
   "cell_type": "code",
   "execution_count": null,
   "id": "6a8c2cb4",
   "metadata": {
    "collapsed": false,
    "jupyter": {
     "outputs_hidden": false
    }
   },
   "outputs": [],
   "source": [
    "# these points will all be shared between the cells\n",
    "points = np.array(\n",
    "    [\n",
    "        [0.0, 0.0, 0.0],\n",
    "        [1.0, 0.0, 0.0],\n",
    "        [0.5, 0.0, 0.0],\n",
    "        [1.0, 1.0, 0.0],\n",
    "        [1.0, 0.5, 0.0],\n",
    "        [0.0, 1.0, 0.0],\n",
    "        [0.5, 1.0, 0.0],\n",
    "        [0.0, 0.5, 0.0],\n",
    "        [0.5, 0.5, 0.0],\n",
    "        [1.0, 0.0, 0.5],\n",
    "        [1.0, 0.0, 1.0],\n",
    "        [0.0, 0.0, 0.5],\n",
    "        [0.0, 0.0, 1.0],\n",
    "        [0.5, 0.0, 0.5],\n",
    "        [0.5, 0.0, 1.0],\n",
    "        [1.0, 1.0, 0.5],\n",
    "        [1.0, 1.0, 1.0],\n",
    "        [1.0, 0.5, 0.5],\n",
    "        [1.0, 0.5, 1.0],\n",
    "        [0.0, 1.0, 0.5],\n",
    "        [0.0, 1.0, 1.0],\n",
    "        [0.5, 1.0, 0.5],\n",
    "        [0.5, 1.0, 1.0],\n",
    "        [0.0, 0.5, 0.5],\n",
    "        [0.0, 0.5, 1.0],\n",
    "        [0.5, 0.5, 0.5],\n",
    "        [0.5, 0.5, 1.0],\n",
    "    ]\n",
    ")\n",
    "\n",
    "\n",
    "# Each cell in the cell array needs to include the size of the cell\n",
    "# and the points belonging to the cell.  In this example, there are 8\n",
    "# hexahedral cells that have common points between them.\n",
    "cells = np.array(\n",
    "    [\n",
    "        [8, 0, 2, 8, 7, 11, 13, 25, 23],\n",
    "        [8, 2, 1, 4, 8, 13, 9, 17, 25],\n",
    "        [8, 7, 8, 6, 5, 23, 25, 21, 19],\n",
    "        [8, 8, 4, 3, 6, 25, 17, 15, 21],\n",
    "        [8, 11, 13, 25, 23, 12, 14, 26, 24],\n",
    "        [8, 13, 9, 17, 25, 14, 10, 18, 26],\n",
    "        [8, 23, 25, 21, 19, 24, 26, 22, 20],\n",
    "        [8, 25, 17, 15, 21, 26, 18, 16, 22],\n",
    "    ]\n",
    ").ravel()\n",
    "\n",
    "# each cell is a VTK_HEXAHEDRON\n",
    "celltypes = np.empty(8, dtype=np.uint8)\n",
    "celltypes[:] = vtk.VTK_HEXAHEDRON\n",
    "\n",
    "# the offset array points to the start of each cell (via flat indexing)\n",
    "offset = np.array([0, 9, 18, 27, 36, 45, 54, 63])\n",
    "\n",
    "# Effectively, when visualizing a VTK unstructured grid, it will\n",
    "# sequentially access the cell array by first looking at each index of\n",
    "# cell array (based on the offset array), and then read the number of\n",
    "# points based on the first value of the cell.  In this case, the\n",
    "# VTK_HEXAHEDRON is described by 8 points.\n",
    "\n",
    "# for example, the 5th cell would be accessed by vtk with:\n",
    "start_of_cell = offset[4]\n",
    "n_points_in_cell = cells[start_of_cell]\n",
    "indices_in_cell = cells[start_of_cell + 1 : start_of_cell + n_points_in_cell + 1]\n",
    "print(indices_in_cell)"
   ]
  },
  {
   "cell_type": "markdown",
   "id": "5c263878",
   "metadata": {},
   "source": [
    "Finally, create the unstructured grid and plot it\n"
   ]
  },
  {
   "cell_type": "code",
   "execution_count": null,
   "id": "669abfd0",
   "metadata": {
    "collapsed": false,
    "jupyter": {
     "outputs_hidden": false
    }
   },
   "outputs": [],
   "source": [
    "# if you are using VTK 9.0 or newer, you do not need to input the offset array:\n",
    "# grid = pv.UnstructuredGrid(cells, celltypes, points)\n",
    "\n",
    "# if you are not using VTK 9.0 or newer, you must use the offset array\n",
    "grid = pv.UnstructuredGrid(offset, cells, celltypes, points)\n",
    "\n",
    "# Alternate versions:\n",
    "grid = pv.UnstructuredGrid({vtk.VTK_HEXAHEDRON: cells.reshape([-1, 9])[:, 1:]}, points)\n",
    "grid = pv.UnstructuredGrid(\n",
    "    {vtk.VTK_HEXAHEDRON: np.delete(cells, np.arange(0, cells.size, 9))}, points\n",
    ")\n",
    "\n",
    "# plot the grid (and suppress the camera position output)\n",
    "_ = grid.plot(show_edges=True)"
   ]
  },
  {
   "cell_type": "code",
   "execution_count": null,
   "id": "0fcb6907",
   "metadata": {
    "collapsed": false,
    "jupyter": {
     "outputs_hidden": false
    }
   },
   "outputs": [],
   "source": [
    "%matplotlib inline\n",
    "from pyvista import set_plot_theme\n",
    "set_plot_theme('document')"
   ]
  },
  {
   "cell_type": "markdown",
   "id": "aaf257ef",
   "metadata": {},
   "source": [
    "Plotting Glyphs (Vectors or PolyData) {#glyph_example}\n",
    "=====================================\n",
    "\n",
    "Use vectors in a dataset to plot and orient glyphs/geometric objects.\n"
   ]
  },
  {
   "cell_type": "code",
   "execution_count": null,
   "id": "2bb05f3c",
   "metadata": {
    "collapsed": false,
    "jupyter": {
     "outputs_hidden": false
    }
   },
   "outputs": [],
   "source": [
    "import numpy as np\n",
    "\n",
    "import pyvista as pv\n",
    "from pyvista import examples"
   ]
  },
  {
   "cell_type": "markdown",
   "id": "40a36c84",
   "metadata": {},
   "source": [
    "Glyphying can be done via the\n",
    "`pyvista.DataSetFilters.glyph`{.interpreted-text role=\"func\"} filter\n"
   ]
  },
  {
   "cell_type": "code",
   "execution_count": null,
   "id": "e259f58c",
   "metadata": {
    "collapsed": false,
    "jupyter": {
     "outputs_hidden": false
    }
   },
   "outputs": [],
   "source": [
    "mesh = examples.download_carotid().threshold(145, scalars=\"scalars\")\n",
    "mask = mesh['scalars'] < 210\n",
    "mesh['scalars'][mask] = 0  # null out smaller vectors\n",
    "\n",
    "# Make a geometric object to use as the glyph\n",
    "geom = pv.Arrow()  # This could be any dataset\n",
    "\n",
    "# Perform the glyph\n",
    "glyphs = mesh.glyph(orient=\"vectors\", scale=\"scalars\", factor=0.003, geom=geom)\n",
    "\n",
    "# plot using the plotting class\n",
    "pl = pv.Plotter()\n",
    "pl.add_mesh(glyphs, show_scalar_bar=False, lighting=False, cmap='coolwarm')\n",
    "pl.camera_position = [\n",
    "    (146.53, 91.28, 21.70),\n",
    "    (125.00, 94.45, 19.81),\n",
    "    (-0.086, 0.007, 0.996),\n",
    "]  # view only part of the vector field\n",
    "cpos = pl.show(return_cpos=True)"
   ]
  },
  {
   "cell_type": "markdown",
   "id": "140deccd",
   "metadata": {},
   "source": [
    "Another approach is to load the vectors directly to the mesh object and\n",
    "then access the `pyvista.DataSet.arrows`{.interpreted-text role=\"attr\"}\n",
    "property.\n"
   ]
  },
  {
   "cell_type": "code",
   "execution_count": null,
   "id": "91fea529",
   "metadata": {
    "collapsed": false,
    "jupyter": {
     "outputs_hidden": false
    }
   },
   "outputs": [],
   "source": [
    "sphere = pv.Sphere(radius=3.14)\n",
    "\n",
    "# make cool swirly pattern\n",
    "vectors = np.vstack(\n",
    "    (\n",
    "        np.sin(sphere.points[:, 0]),\n",
    "        np.cos(sphere.points[:, 1]),\n",
    "        np.cos(sphere.points[:, 2]),\n",
    "    )\n",
    ").T\n",
    "\n",
    "# add and scale\n",
    "sphere[\"vectors\"] = vectors * 0.3\n",
    "sphere.set_active_vectors(\"vectors\")\n",
    "\n",
    "# plot just the arrows\n",
    "sphere.arrows.plot()"
   ]
  },
  {
   "cell_type": "markdown",
   "id": "74090705",
   "metadata": {},
   "source": [
    "Plot the arrows and the sphere.\n"
   ]
  },
  {
   "cell_type": "code",
   "execution_count": null,
   "id": "73677c71",
   "metadata": {
    "collapsed": false,
    "jupyter": {
     "outputs_hidden": false
    }
   },
   "outputs": [],
   "source": [
    "p = pv.Plotter()\n",
    "p.add_mesh(sphere.arrows, lighting=False, scalar_bar_args={'title': \"Vector Magnitude\"})\n",
    "p.add_mesh(sphere, color=\"grey\", ambient=0.6, opacity=0.5, show_edges=False)\n",
    "p.show()"
   ]
  },
  {
   "cell_type": "markdown",
   "id": "15af471a",
   "metadata": {},
   "source": [
    "Subset of Glyphs\n",
    "================\n",
    "\n",
    "Sometimes you might not want glyphs for every node in the input dataset.\n",
    "In this case, you can choose to build glyphs for a subset of the input\n",
    "dataset by using a merging tolerance. Here we specify a merging\n",
    "tolerance of five percent which equates to five percent of the bounding\n",
    "box\\'s length.\n"
   ]
  },
  {
   "cell_type": "code",
   "execution_count": null,
   "id": "2e9a0576",
   "metadata": {
    "collapsed": false,
    "jupyter": {
     "outputs_hidden": false
    }
   },
   "outputs": [],
   "source": [
    "# Example dataset with normals\n",
    "mesh = examples.load_random_hills()\n",
    "\n",
    "# create a subset of arrows using the glyph filter\n",
    "arrows = mesh.glyph(scale=\"Normals\", orient=\"Normals\", tolerance=0.05)\n",
    "\n",
    "p = pv.Plotter()\n",
    "p.add_mesh(arrows, color=\"black\")\n",
    "p.add_mesh(mesh, scalars=\"Elevation\", cmap=\"terrain\", smooth_shading=True)\n",
    "p.show()"
   ]
  },
  {
   "cell_type": "code",
   "execution_count": null,
   "id": "5d29d491",
   "metadata": {
    "collapsed": false,
    "jupyter": {
     "outputs_hidden": false
    }
   },
   "outputs": [],
   "source": [
    "%matplotlib inline\n",
    "from pyvista import set_plot_theme\n",
    "set_plot_theme('document')"
   ]
  },
  {
   "cell_type": "markdown",
   "id": "41fa26c7",
   "metadata": {},
   "source": [
    "Table of Glyphs {#glyph_table_example}\n",
    "===============\n",
    "\n",
    "`vtk` supports tables of glyphs from which glyphs are looked up. This\n",
    "example demonstrates this functionality.\n"
   ]
  },
  {
   "cell_type": "code",
   "execution_count": null,
   "id": "9e3231ca",
   "metadata": {
    "collapsed": false,
    "jupyter": {
     "outputs_hidden": false
    }
   },
   "outputs": [],
   "source": [
    "import numpy as np\n",
    "\n",
    "import pyvista as pv"
   ]
  },
  {
   "cell_type": "markdown",
   "id": "f1f3460c",
   "metadata": {},
   "source": [
    "We can allow tables of glyphs in a backward-compatible way by allowing a\n",
    "sequence of geometries as well as single (scalar) geometries to be\n",
    "passed as the `geom` kwarg of\n",
    "`pyvista.DataSetFilters.glyph`{.interpreted-text role=\"func\"}. An\n",
    "`indices` optional keyword specifies the index of each glyph geometry in\n",
    "the table, and it has to be the same length as `geom` if specified. If\n",
    "it is absent a default value of `range(len(geom))` is assumed.\n"
   ]
  },
  {
   "cell_type": "code",
   "execution_count": null,
   "id": "3c325064",
   "metadata": {
    "collapsed": false,
    "jupyter": {
     "outputs_hidden": false
    }
   },
   "outputs": [],
   "source": [
    "# get dataset for the glyphs: supertoroids in xy plane\n",
    "# use N random kinds of toroids over a mesh with 27 points\n",
    "N = 5\n",
    "values = np.arange(N)  # values for scalars to look up glyphs by\n",
    "\n",
    "\n",
    "# taken from:\n",
    "# rng = np.random.default_rng()\n",
    "# params = rng.uniform(0.5, 2, size=(N, 2))  # (n1, n2) parameters for the toroids\n",
    "params = np.array(\n",
    "    [\n",
    "        [1.56821334, 0.99649769],\n",
    "        [1.08247844, 1.83758874],\n",
    "        [1.49598881, 0.83495047],\n",
    "        [1.52442129, 0.89600688],\n",
    "        [1.92212387, 0.78096621],\n",
    "    ]\n",
    ")\n",
    "\n",
    "geoms = [pv.ParametricSuperToroid(n1=n1, n2=n2) for n1, n2 in params]\n",
    "\n",
    "# get dataset where to put glyphs\n",
    "x, y, z = np.mgrid[:3.0, :3.0, :3.0]\n",
    "mesh = pv.StructuredGrid(x, y, z)\n",
    "\n",
    "# add random scalars\n",
    "# rng_int = rng.integers(0, N, size=x.size)\n",
    "rng_int = np.array(\n",
    "    [4, 1, 2, 0, 4, 0, 1, 4, 3, 1, 1, 3, 3, 4, 3, 4, 4, 3, 3, 2, 2, 1, 1, 1, 2, 0, 3]\n",
    ")\n",
    "mesh.point_data['scalars'] = rng_int\n",
    "\n",
    "# construct the glyphs on top of the mesh; don't scale by scalars now\n",
    "glyphs = mesh.glyph(geom=geoms, indices=values, scale=False, factor=0.3, rng=(0, N - 1))\n",
    "\n",
    "# create plotter and add our glyphs with some nontrivial lighting\n",
    "plotter = pv.Plotter()\n",
    "plotter.add_mesh(glyphs, specular=1, specular_power=15, smooth_shading=True, show_scalar_bar=False)\n",
    "plotter.show()"
   ]
  },
  {
   "cell_type": "code",
   "execution_count": null,
   "id": "c0e99901",
   "metadata": {
    "collapsed": false,
    "jupyter": {
     "outputs_hidden": false
    }
   },
   "outputs": [],
   "source": [
    "%matplotlib inline\n",
    "from pyvista import set_plot_theme\n",
    "set_plot_theme('document')"
   ]
  },
  {
   "cell_type": "markdown",
   "id": "f8d33239",
   "metadata": {},
   "source": [
    "Rotations {#rotate_example}\n",
    "=========\n",
    "\n",
    "Rotations of a mesh about its axes. In this model, the x axis is from\n",
    "the left to right; the y axis is from bottom to top; and the z axis\n",
    "emerges from the image. The camera location is the same in all four\n",
    "images.\n"
   ]
  },
  {
   "cell_type": "code",
   "execution_count": null,
   "id": "3812c2cb",
   "metadata": {
    "collapsed": false,
    "jupyter": {
     "outputs_hidden": false
    }
   },
   "outputs": [],
   "source": [
    "import pyvista as pv\n",
    "from pyvista import examples"
   ]
  },
  {
   "cell_type": "markdown",
   "id": "2e6c6620",
   "metadata": {},
   "source": [
    "Define camera and axes\n",
    "======================\n",
    "\n",
    "Define camera and axes. Setting axes origin to `(3.0, 3.0, 3.0)`.\n"
   ]
  },
  {
   "cell_type": "code",
   "execution_count": null,
   "id": "1b41c201",
   "metadata": {
    "collapsed": false,
    "jupyter": {
     "outputs_hidden": false
    }
   },
   "outputs": [],
   "source": [
    "mesh = examples.download_cow()\n",
    "mesh.points /= 1.5  # scale the mesh\n",
    "\n",
    "camera = pv.Camera()\n",
    "camera.position = (30.0, 30.0, 30.0)\n",
    "camera.focal_point = (5.0, 5.0, 5.0)\n",
    "\n",
    "axes = pv.Axes(show_actor=True, actor_scale=2.0, line_width=5)\n",
    "axes.origin = (3.0, 3.0, 3.0)"
   ]
  },
  {
   "cell_type": "markdown",
   "id": "009a3692",
   "metadata": {},
   "source": [
    "Original Mesh\n",
    "=============\n",
    "\n",
    "Plot original mesh. Add axes actor to Plotter.\n"
   ]
  },
  {
   "cell_type": "code",
   "execution_count": null,
   "id": "1158bc5c",
   "metadata": {
    "collapsed": false,
    "jupyter": {
     "outputs_hidden": false
    }
   },
   "outputs": [],
   "source": [
    "p = pv.Plotter()\n",
    "\n",
    "p.add_text(\"Mesh\", font_size=24)\n",
    "p.add_actor(axes.actor)\n",
    "p.camera = camera\n",
    "p.add_mesh(mesh)\n",
    "\n",
    "p.show()"
   ]
  },
  {
   "cell_type": "markdown",
   "id": "bb9ad385",
   "metadata": {},
   "source": [
    "Rotation about the x axis\n",
    "=========================\n",
    "\n",
    "Plot the mesh rotated about the x axis every 60 degrees. Add the axes\n",
    "actor to the Plotter and set the axes origin to the point of rotation.\n"
   ]
  },
  {
   "cell_type": "code",
   "execution_count": null,
   "id": "0218d1b2",
   "metadata": {
    "collapsed": false,
    "jupyter": {
     "outputs_hidden": false
    }
   },
   "outputs": [],
   "source": [
    "p = pv.Plotter()\n",
    "\n",
    "p.add_text(\"X-Axis Rotation\", font_size=24)\n",
    "p.add_actor(axes.actor)\n",
    "p.camera = camera\n",
    "\n",
    "for i in range(6):\n",
    "    rot = mesh.rotate_x(60 * i, point=axes.origin, inplace=False)\n",
    "    p.add_mesh(rot)\n",
    "\n",
    "p.show()"
   ]
  },
  {
   "cell_type": "markdown",
   "id": "ae8c60c6",
   "metadata": {},
   "source": [
    "Rotation about the y axis\n",
    "=========================\n",
    "\n",
    "Plot the mesh rotated about the y axis every 60 degrees. Add the axes\n",
    "actor to the Plotter and set the axes origin to the point of rotation.\n"
   ]
  },
  {
   "cell_type": "code",
   "execution_count": null,
   "id": "5297af23",
   "metadata": {
    "collapsed": false,
    "jupyter": {
     "outputs_hidden": false
    }
   },
   "outputs": [],
   "source": [
    "p = pv.Plotter()\n",
    "\n",
    "p.add_text(\"Y-Axis Rotation\", font_size=24)\n",
    "p.camera = camera\n",
    "p.add_actor(axes.actor)\n",
    "\n",
    "for i in range(6):\n",
    "    rot = mesh.rotate_y(60 * i, point=axes.origin, inplace=False)\n",
    "    p.add_mesh(rot)\n",
    "\n",
    "p.show()"
   ]
  },
  {
   "cell_type": "markdown",
   "id": "c342c606",
   "metadata": {},
   "source": [
    "Rotation about the z axis\n",
    "=========================\n",
    "\n",
    "Plot the mesh rotated about the z axis every 60 degrees. Add axes actor\n",
    "to the Plotter and set the axes origin to the point of rotation.\n"
   ]
  },
  {
   "cell_type": "code",
   "execution_count": null,
   "id": "09bcf90a",
   "metadata": {
    "collapsed": false,
    "jupyter": {
     "outputs_hidden": false
    }
   },
   "outputs": [],
   "source": [
    "p = pv.Plotter()\n",
    "\n",
    "p.add_text(\"Z-Axis Rotation\", font_size=24)\n",
    "p.camera = camera\n",
    "p.add_actor(axes.actor)\n",
    "\n",
    "for i in range(6):\n",
    "    rot = mesh.rotate_z(60 * i, point=axes.origin, inplace=False)\n",
    "    p.add_mesh(rot)\n",
    "\n",
    "p.show()"
   ]
  },
  {
   "cell_type": "markdown",
   "id": "885cbfe9",
   "metadata": {},
   "source": [
    "Rotation about a custom vector\n",
    "==============================\n",
    "\n",
    "Plot the mesh rotated about a custom vector every 60 degrees. Add the\n",
    "axes actor to the Plotter and set axes origin to the point of rotation.\n"
   ]
  },
  {
   "cell_type": "code",
   "execution_count": null,
   "id": "f2651b16",
   "metadata": {
    "collapsed": false,
    "jupyter": {
     "outputs_hidden": false
    }
   },
   "outputs": [],
   "source": [
    "p = pv.Plotter()\n",
    "\n",
    "p.add_text(\"Custom Vector Rotation\", font_size=24)\n",
    "p.camera = camera\n",
    "p.add_actor(axes.actor)\n",
    "for i in range(6):\n",
    "    rot = mesh.copy()\n",
    "    rot.rotate_vector(vector=(1, 1, 1), angle=60 * i, point=axes.origin)\n",
    "    p.add_mesh(rot)\n",
    "\n",
    "p.show()"
   ]
  },
  {
   "cell_type": "code",
   "execution_count": null,
   "id": "83d8bdb0",
   "metadata": {
    "collapsed": false,
    "jupyter": {
     "outputs_hidden": false
    }
   },
   "outputs": [],
   "source": [
    "%matplotlib inline\n",
    "from pyvista import set_plot_theme\n",
    "set_plot_theme('document')"
   ]
  },
  {
   "cell_type": "markdown",
   "id": "c7c33e5d",
   "metadata": {},
   "source": [
    "Sample Function: Perlin Noise in 2D\n",
    "===================================\n",
    "\n",
    "Here we use `pyvista.core.imaging.sample_function`{.interpreted-text\n",
    "role=\"func\"} to sample Perlin noise over a region to generate random\n",
    "terrain.\n",
    "\n",
    "Perlin noise is atype of gradient noise often used by visual effects\n",
    "artists to increase the appearance of realism in computer graphics.\n",
    "Source: <https://en.wikipedia.org/wiki/Perlin_noise>\n",
    "\n",
    "The development of Perlin Noise has allowed computer graphics artists to\n",
    "better represent the complexity of natural phenomena in visual effects\n",
    "for the motion picture industry.\n"
   ]
  },
  {
   "cell_type": "code",
   "execution_count": null,
   "id": "55b6ebc5",
   "metadata": {
    "collapsed": false,
    "jupyter": {
     "outputs_hidden": false
    }
   },
   "outputs": [],
   "source": [
    "import pyvista as pv"
   ]
  },
  {
   "cell_type": "markdown",
   "id": "c7a9009d",
   "metadata": {},
   "source": [
    "Generate Perlin Noise over a StructuredGrid\n",
    "===========================================\n",
    "\n",
    "Feel free to change the values of `freq` to change the shape of the\n",
    "\\\"mountains\\\". For example, lowering the frequency will make the terrain\n",
    "seem more like hills rather than mountains.\n"
   ]
  },
  {
   "cell_type": "code",
   "execution_count": null,
   "id": "d6229d86",
   "metadata": {
    "collapsed": false,
    "jupyter": {
     "outputs_hidden": false
    }
   },
   "outputs": [],
   "source": [
    "freq = [0.689, 0.562, 0.683]\n",
    "noise = pv.perlin_noise(1, freq, (0, 0, 0))\n",
    "sampled = pv.sample_function(noise, bounds=(-10, 10, -10, 10, -10, 10), dim=(500, 500, 1))"
   ]
  },
  {
   "cell_type": "markdown",
   "id": "aec3223e",
   "metadata": {},
   "source": [
    "Warp by scalar\n",
    "==============\n",
    "\n",
    "Here we warp by scalar to give the terrain some height based on the\n",
    "value of the Perlin noise. This is necessary to the terrain its shape.\n"
   ]
  },
  {
   "cell_type": "code",
   "execution_count": null,
   "id": "a6fca798",
   "metadata": {
    "collapsed": false,
    "jupyter": {
     "outputs_hidden": false
    }
   },
   "outputs": [],
   "source": [
    "mesh = sampled.warp_by_scalar('scalars')\n",
    "mesh = mesh.extract_surface()\n",
    "\n",
    "# clean and smooth a little to reduce Perlin noise artifacts\n",
    "mesh = mesh.smooth(n_iter=100, inplace=False, relaxation_factor=1)\n",
    "\n",
    "# This makes the \"water\" level look flat.\n",
    "z = mesh.points[:, 2]\n",
    "diff = z.max() - z.min()\n",
    "\n",
    "# water level at 70%  (change this to change the water level)\n",
    "water_percent = 0.7\n",
    "water_level = z.max() - water_percent * diff\n",
    "mesh.points[z < water_level, 2] = water_level"
   ]
  },
  {
   "cell_type": "markdown",
   "id": "3c5653b7",
   "metadata": {},
   "source": [
    "Show the terrain as a contour plot\n"
   ]
  },
  {
   "cell_type": "code",
   "execution_count": null,
   "id": "6fc2c320",
   "metadata": {
    "collapsed": false,
    "jupyter": {
     "outputs_hidden": false
    }
   },
   "outputs": [],
   "source": [
    "# make the water blue\n",
    "rng = z.max() - z.min()\n",
    "clim = (z.max() - rng * 1.65, z.max())\n",
    "\n",
    "pl = pv.Plotter()\n",
    "pl.add_mesh(\n",
    "    mesh,\n",
    "    scalars=z,\n",
    "    cmap='gist_earth',\n",
    "    n_colors=10,\n",
    "    show_scalar_bar=False,\n",
    "    smooth_shading=True,\n",
    "    clim=clim,\n",
    ")\n",
    "pl.show()"
   ]
  },
  {
   "cell_type": "markdown",
   "id": "96eabef4",
   "metadata": {},
   "source": [
    "Show the terrain with custom lighting and shadows\n"
   ]
  },
  {
   "cell_type": "code",
   "execution_count": null,
   "id": "b35dcf64",
   "metadata": {
    "collapsed": false,
    "jupyter": {
     "outputs_hidden": false
    }
   },
   "outputs": [],
   "source": [
    "pl = pv.Plotter(lighting=None)\n",
    "pl.add_light(pv.Light((3, 1, 0.5), show_actor=True, positional=True, cone_angle=90, intensity=1.2))\n",
    "pl.add_mesh(mesh, cmap='gist_earth', show_scalar_bar=False, smooth_shading=True, clim=clim)\n",
    "pl.enable_shadows = True\n",
    "pl.show()"
   ]
  },
  {
   "cell_type": "code",
   "execution_count": null,
   "id": "b010707b",
   "metadata": {
    "collapsed": false,
    "jupyter": {
     "outputs_hidden": false
    }
   },
   "outputs": [],
   "source": [
    "%matplotlib inline\n",
    "from pyvista import set_plot_theme\n",
    "set_plot_theme('document')"
   ]
  },
  {
   "cell_type": "markdown",
   "id": "09b45f38",
   "metadata": {},
   "source": [
    "Sample Function: Perlin Noise in 3D\n",
    "===================================\n",
    "\n",
    "Here we use `pyvista.core.imaging.sample_function`{.interpreted-text\n",
    "role=\"func\"} to sample Perlin noise over a region to generate random\n",
    "terrain.\n",
    "\n",
    "Video games like Minecraft use Perlin noise to create terrain. Here, we\n",
    "create a voxelized mesh similar to a Minecraft \\\"cave\\\".\n"
   ]
  },
  {
   "cell_type": "code",
   "execution_count": null,
   "id": "758f2416",
   "metadata": {
    "collapsed": false,
    "jupyter": {
     "outputs_hidden": false
    }
   },
   "outputs": [],
   "source": [
    "import pyvista as pv"
   ]
  },
  {
   "cell_type": "markdown",
   "id": "4de5099f",
   "metadata": {},
   "source": [
    "Generate Perlin Noise over a 3D StructuredGrid\n",
    "==============================================\n",
    "\n",
    "Feel free to change the values of `freq` to change the shape of the\n",
    "\\\"caves\\\". For example, lowering the frequency will make the caves\n",
    "larger and more expansive, while a higher frequency in any direction\n",
    "will make the caves appear more \\\"vein-like\\\" and less open.\n",
    "\n",
    "Change the threshold to reduce or increase the percent of the terrain\n",
    "that is open or closed\n"
   ]
  },
  {
   "cell_type": "code",
   "execution_count": null,
   "id": "283fa5e7",
   "metadata": {
    "collapsed": false,
    "jupyter": {
     "outputs_hidden": false
    }
   },
   "outputs": [],
   "source": [
    "freq = (1, 1, 1)\n",
    "noise = pv.perlin_noise(1, freq, (0, 0, 0))\n",
    "grid = pv.sample_function(noise, [0, 3.0, -0, 1.0, 0, 1.0], dim=(120, 40, 40))\n",
    "out = grid.threshold(0.02)\n",
    "out"
   ]
  },
  {
   "cell_type": "markdown",
   "id": "aee60a83",
   "metadata": {},
   "source": [
    "color limits without blue\n"
   ]
  },
  {
   "cell_type": "code",
   "execution_count": null,
   "id": "4d71807d",
   "metadata": {
    "collapsed": false,
    "jupyter": {
     "outputs_hidden": false
    }
   },
   "outputs": [],
   "source": [
    "mn, mx = [out['scalars'].min(), out['scalars'].max()]\n",
    "clim = (mn, mx * 1.8)\n",
    "\n",
    "out.plot(\n",
    "    cmap='gist_earth_r',\n",
    "    background='white',\n",
    "    show_scalar_bar=False,\n",
    "    lighting=True,\n",
    "    clim=clim,\n",
    "    show_edges=False,\n",
    ")"
   ]
  },
  {
   "cell_type": "code",
   "execution_count": null,
   "id": "8bd9688d",
   "metadata": {
    "collapsed": false,
    "jupyter": {
     "outputs_hidden": false
    }
   },
   "outputs": [],
   "source": [
    "%matplotlib inline\n",
    "from pyvista import set_plot_theme\n",
    "set_plot_theme('document')"
   ]
  },
  {
   "cell_type": "markdown",
   "id": "35263fc1",
   "metadata": {},
   "source": [
    "Terrain Following Mesh {#terrain_following_mesh_example}\n",
    "======================\n",
    "\n",
    "Use a topographic surface to create a 3D terrain-following mesh.\n",
    "\n",
    "Terrain following meshes are common in the environmental sciences, for\n",
    "instance in hydrological modelling (see [Maxwell\n",
    "2013](https://www.sciencedirect.com/science/article/abs/pii/S0309170812002564)\n",
    "and [ParFlow](https://parflow.org)).\n",
    "\n",
    "In this example, we demonstrate a simple way to make a 3D grid/mesh that\n",
    "follows a given topographic surface. In this example, it is important to\n",
    "note that the given digital elevation model (DEM) is structured (gridded\n",
    "and not triangulated): this is common for DEMs.\n"
   ]
  },
  {
   "cell_type": "code",
   "execution_count": null,
   "id": "34a137d3",
   "metadata": {
    "collapsed": false,
    "jupyter": {
     "outputs_hidden": false
    }
   },
   "outputs": [],
   "source": [
    "import numpy as np\n",
    "\n",
    "import pyvista as pv\n",
    "from pyvista import examples"
   ]
  },
  {
   "cell_type": "markdown",
   "id": "97ee10f8",
   "metadata": {},
   "source": [
    "Download a gridded topography surface (DEM)\n"
   ]
  },
  {
   "cell_type": "code",
   "execution_count": null,
   "id": "e290b5b1",
   "metadata": {
    "collapsed": false,
    "jupyter": {
     "outputs_hidden": false
    }
   },
   "outputs": [],
   "source": [
    "dem = examples.download_crater_topo()\n",
    "dem"
   ]
  },
  {
   "cell_type": "markdown",
   "id": "56bd177e",
   "metadata": {},
   "source": [
    "Now let\\'s subsample and extract an area of interest to make this\n",
    "example simple (also the DEM we just load is pretty big). Since the DEM\n",
    "we loaded is a `pyvista.UniformGrid`{.interpreted-text role=\"class\"}\n",
    "mesh, we can use the\n",
    "`pyvista.UniformGridFilters.extract_subset`{.interpreted-text\n",
    "role=\"func\"} filter:\n"
   ]
  },
  {
   "cell_type": "code",
   "execution_count": null,
   "id": "be275cd9",
   "metadata": {
    "collapsed": false,
    "jupyter": {
     "outputs_hidden": false
    }
   },
   "outputs": [],
   "source": [
    "subset = dem.extract_subset((500, 900, 400, 800, 0, 0), (5, 5, 1))\n",
    "subset.plot(cpos=\"xy\")"
   ]
  },
  {
   "cell_type": "markdown",
   "id": "bdfb4a2f",
   "metadata": {},
   "source": [
    "Now that we have a region of interest for our terrain following mesh,\n",
    "lets make a 3D surface of that DEM:\n"
   ]
  },
  {
   "cell_type": "code",
   "execution_count": null,
   "id": "386f83e2",
   "metadata": {
    "collapsed": false,
    "jupyter": {
     "outputs_hidden": false
    }
   },
   "outputs": [],
   "source": [
    "terrain = subset.warp_by_scalar()\n",
    "terrain"
   ]
  },
  {
   "cell_type": "code",
   "execution_count": null,
   "id": "56c279c8",
   "metadata": {
    "collapsed": false,
    "jupyter": {
     "outputs_hidden": false
    }
   },
   "outputs": [],
   "source": [
    "terrain.plot()"
   ]
  },
  {
   "cell_type": "markdown",
   "id": "0577aae7",
   "metadata": {},
   "source": [
    "And now we have a 3D structured surface of the terrain! We can now\n",
    "extend that structured surface into a 3D mesh to form a terrain\n",
    "following grid. To do this, we first our cell spacings in the\n",
    "z-direction (these start from the terrain surface). Then we repeat the\n",
    "XYZ structured coordinates of the terrain mesh and decrease each Z level\n",
    "by our Z cell spacing. Once we have those structured coordinates, we can\n",
    "create a `pyvista.StructuredGrid`{.interpreted-text role=\"class\"}.\n"
   ]
  },
  {
   "cell_type": "code",
   "execution_count": null,
   "id": "3ffb7613",
   "metadata": {
    "collapsed": false,
    "jupyter": {
     "outputs_hidden": false
    }
   },
   "outputs": [],
   "source": [
    "z_cells = np.array([25] * 5 + [35] * 3 + [50] * 2 + [75, 100])\n",
    "\n",
    "xx = np.repeat(terrain.x, len(z_cells), axis=-1)\n",
    "yy = np.repeat(terrain.y, len(z_cells), axis=-1)\n",
    "zz = np.repeat(terrain.z, len(z_cells), axis=-1) - np.cumsum(z_cells).reshape((1, 1, -1))\n",
    "\n",
    "mesh = pv.StructuredGrid(xx, yy, zz)\n",
    "mesh[\"Elevation\"] = zz.ravel(order=\"F\")\n",
    "mesh"
   ]
  },
  {
   "cell_type": "code",
   "execution_count": null,
   "id": "4aa64ea0",
   "metadata": {
    "collapsed": false,
    "jupyter": {
     "outputs_hidden": false
    }
   },
   "outputs": [],
   "source": [
    "cpos = [\n",
    "    (1826736.796308761, 5655837.275274233, 4676.8405505181745),\n",
    "    (1821066.1790519988, 5649248.765538796, 943.0995128226014),\n",
    "    (-0.2797856225380979, -0.27966946337594883, 0.9184252809434081),\n",
    "]\n",
    "\n",
    "mesh.plot(show_edges=True, lighting=False, cpos=cpos)"
   ]
  }
 ],
 "metadata": {
  "kernelspec": {
   "display_name": "Python 3 (ipykernel)",
   "language": "python",
   "name": "python3"
  },
  "language_info": {
   "codemirror_mode": {
    "name": "ipython",
    "version": 3
   },
   "file_extension": ".py",
   "mimetype": "text/x-python",
   "name": "python",
   "nbconvert_exporter": "python",
   "pygments_lexer": "ipython3",
   "version": "3.10.4"
  }
 },
 "nbformat": 4,
 "nbformat_minor": 5
}
