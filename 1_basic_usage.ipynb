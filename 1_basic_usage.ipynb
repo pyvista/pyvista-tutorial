{
 "cells": [
  {
   "cell_type": "markdown",
   "id": "b3bc9bf7-4294-4493-86e6-0498a1b22367",
   "metadata": {},
   "source": [
    "# Basic usage\n",
    "\n",
    "The introduction to PyVista is a two-step process: \"importing 3D data\" and \"plotting data\". Let's plot the dataset that is built into PyVista.It can be downloaded from the example module of pyvista."
   ]
  },
  {
   "cell_type": "code",
   "execution_count": null,
   "id": "db0ae5e2-2666-4d40-8399-d4fc5915dcbb",
   "metadata": {},
   "outputs": [],
   "source": [
    "import pyvista as pv\n",
    "from pyvista import examples\n",
    "\n",
    "dataset = examples.download_bunny_coarse()"
   ]
  },
  {
   "cell_type": "markdown",
   "id": "4f7e3658-bb6e-4911-956c-faec213ff3e1",
   "metadata": {},
   "source": [
    "We will review the downloaded dataset. We see that the variable `dataset` stores 3D mesh data."
   ]
  },
  {
   "cell_type": "code",
   "execution_count": null,
   "id": "62ee3ed4-b14b-4a84-9a72-f4b01ea9d61b",
   "metadata": {},
   "outputs": [],
   "source": [
    "dataset"
   ]
  },
  {
   "cell_type": "markdown",
   "id": "9e697d73-0255-4ba5-a3d4-ceceece3e4a8",
   "metadata": {},
   "source": [
    "Want to plot this data set? All you have to do is call the plot method. Running the following cell will plot a cute little rabbit. You can zoom in by scrolling with the mouse and rotate by picking, so try it out."
   ]
  },
  {
   "cell_type": "markdown",
   "id": "1ea6a4cb-db9e-44dd-a711-950db6f0badd",
   "metadata": {},
   "source": [
    "dataset.plot()"
   ]
  },
  {
   "cell_type": "markdown",
   "id": "547984a3-8cd0-478e-b842-e57fa910faf8",
   "metadata": {},
   "source": [
    "This is the basic. But this is a plain plot a little bit. Let's decorate during the plot. How about the following decorations?\n",
    "\n",
    "1. Shows the edges of a mesh.\n",
    "1. Set the mesh color to gray.\n",
    "1. Set the camera in the xy-plane orientation.\n",
    "1. Hide axes.\n",
    "1. Set background \"white\".\n",
    "\n",
    "[`plot`](https://docs.pyvista.org/api/core/_autosummary/pyvista.DataSet.plot.html) is given the decoration options as arguments."
   ]
  },
  {
   "cell_type": "code",
   "execution_count": null,
   "id": "71c99b87-95ef-444f-9ae9-f1d1d92330d4",
   "metadata": {},
   "outputs": [],
   "source": [
    "dataset.plot(show_edges=True, color=\"gray\", show_axes=False, cpos=\"xy\", background=\"white\")"
   ]
  },
  {
   "cell_type": "markdown",
   "id": "c3502a01-52cb-4f0a-a530-0953a11c8665",
   "metadata": {},
   "source": [
    "We can read any file type supported by vtk or meshio."
   ]
  },
  {
   "cell_type": "code",
   "execution_count": null,
   "id": "d2241609-012f-4276-8837-23d0cc394357",
   "metadata": {},
   "outputs": [],
   "source": [
    "dataset = pv.read(\"Bunny.vtp\")"
   ]
  },
  {
   "cell_type": "markdown",
   "id": "e6fc2ad4-dddd-4e42-9f4f-b2febaac6531",
   "metadata": {},
   "source": [
    "You can also plot like matplotlib using Plotter."
   ]
  },
  {
   "cell_type": "code",
   "execution_count": null,
   "id": "27cc74e5-442a-4f06-8d4e-27316c65f8cb",
   "metadata": {},
   "outputs": [],
   "source": [
    "p = pv.Plotter(shape=(2, 2))\n",
    "mesh = pv.Sphere()\n",
    "p.set_background(\"white\")\n",
    "p.subplot(0, 0)\n",
    "p.camera_position = \"xy\"\n",
    "p.add_mesh(dataset, show_edges=True, color=\"red\", lighting=False)\n",
    "p.subplot(0, 1)\n",
    "p.camera_position = \"xy\"\n",
    "p.add_mesh(dataset, show_edges=True, color=\"blue\", lighting=False)\n",
    "p.subplot(1, 0)\n",
    "p.camera_position = \"xy\"\n",
    "p.add_mesh(dataset, show_edges=True, color=\"green\", lighting=False)\n",
    "p.subplot(1, 1)\n",
    "p.camera_position = \"xy\"\n",
    "p.add_mesh(dataset, show_edges=True, color=\"yellow\", lighting=False)\n",
    "p.show()"
   ]
  },
  {
   "cell_type": "markdown",
   "id": "b72faaa7-ef6f-4c3e-bb1a-ed21d7237de2",
   "metadata": {},
   "source": [
    "# Exercise: Watch Texas in globe map!\n",
    "\n",
    "We are doing a tutorial in Texas right now. Let's view this wonderful place on a globe."
   ]
  },
  {
   "cell_type": "code",
   "execution_count": null,
   "id": "4ce902a6-61b2-492d-b5cc-69d1e1acd01d",
   "metadata": {},
   "outputs": [],
   "source": [
    "# Your code here"
   ]
  },
  {
   "cell_type": "code",
   "execution_count": null,
   "id": "c357fd06-5906-47f3-9afa-2b7d3449d3b8",
   "metadata": {
    "jupyter": {
     "source_hidden": true
    },
    "tags": []
   },
   "outputs": [],
   "source": [
    "from pyvista import examples\n",
    "globe = examples.load_globe()\n",
    "globe.plot()"
   ]
  },
  {
   "cell_type": "code",
   "execution_count": null,
   "id": "ace9335d-696a-4ced-a8a2-f82d18c3fcf0",
   "metadata": {},
   "outputs": [],
   "source": []
  }
 ],
 "metadata": {
  "kernelspec": {
   "display_name": "Python 3 (ipykernel)",
   "language": "python",
   "name": "python3"
  },
  "language_info": {
   "codemirror_mode": {
    "name": "ipython",
    "version": 3
   },
   "file_extension": ".py",
   "mimetype": "text/x-python",
   "name": "python",
   "nbconvert_exporter": "python",
   "pygments_lexer": "ipython3",
   "version": "3.10.4"
  }
 },
 "nbformat": 4,
 "nbformat_minor": 5
}
