{
 "cells": [
  {
   "cell_type": "code",
   "execution_count": null,
   "id": "9e1db10f-5617-430a-b17d-073b4104e8b6",
   "metadata": {},
   "outputs": [],
   "source": [
    "%matplotlib inline\n",
    "from pyvista import set_plot_theme\n",
    "\n",
    "set_plot_theme(\"document\")\n"
   ]
  },
  {
   "cell_type": "markdown",
   "id": "cad86d08-bcb9-434d-852b-1bfbf39bbd3a",
   "metadata": {},
   "source": [
    "# Why PyVista?"
   ]
  },
  {
   "cell_type": "markdown",
   "id": "53c3b9c9-9118-43e0-b29c-baff9447b3ed",
   "metadata": {},
   "source": [
    "VTK is an excellent visualization toolkit, and with Python bindings it should be able to combine the speed of C++ with the rapid prototyping of Python. However, despite this VTK code programmed in Python generally looks the same as its C++ counterpart. This module seeks to simplify mesh creation and plotting without losing functionality."
   ]
  },
  {
   "cell_type": "markdown",
   "id": "6a50f78d-7a42-42c2-bf87-72644db1157d",
   "metadata": {},
   "source": [
    "Compare two approaches for loading and plotting a surface mesh from a file:"
   ]
  },
  {
   "cell_type": "markdown",
   "id": "d7e86819-550d-4b05-a5b2-30bb86d0e831",
   "metadata": {},
   "source": [
    "Read and plot STL file using [vtk](https://vtk.org/)"
   ]
  },
  {
   "cell_type": "code",
   "execution_count": null,
   "id": "134095d4-e2d2-40fd-83de-c491ea23475d",
   "metadata": {},
   "outputs": [],
   "source": [
    "import vtk\n",
    "reader = vtk.vtkSTLReader()\n",
    "reader.SetFileName(\"bunny.stl\")\n",
    "mapper = vtk.vtkPolyDataMapper()\n",
    "output_port = reader.GetOutputPort()\n",
    "mapper.SetInputConnection(output_port)\n",
    "actor = vtk.vtkActor()\n",
    "actor.SetMapper(mapper)\n",
    "ren = vtk.vtkRenderer()\n",
    "renWin = vtk.vtkRenderWindow()\n",
    "renWin.AddRenderer(ren)\n",
    "iren = vtk.vtkRenderWindowInteractor()\n",
    "iren.SetRenderWindow(renWin)\n",
    "ren.AddActor(actor)\n",
    "iren.Initialize()\n",
    "renWin.Render()\n",
    "iren.Start()\n",
    "del iren, renWin"
   ]
  },
  {
   "cell_type": "code",
   "execution_count": null,
   "id": "60f1a07e-b147-4003-93a0-c8858f878f87",
   "metadata": {},
   "outputs": [],
   "source": [
    "import pyvista\n",
    "mesh = pyvista.read(\"bunny.stl\")\n",
    "mesh.plot()"
   ]
  },
  {
   "cell_type": "markdown",
   "id": "4b8f75f3-8182-43d5-a4f3-29c05d928fd8",
   "metadata": {},
   "source": [
    "# Basic usage"
   ]
  },
  {
   "cell_type": "markdown",
   "id": "5d5deb7c-0cde-4949-97d3-94bb5e7dab70",
   "metadata": {},
   "source": [
    "The introduction to PyVista is a two-step process: \"importing 3D data\" and \"plotting data\". Let's plot the dataset that is built into PyVista.It can be downloaded from the example module of pyvista."
   ]
  },
  {
   "cell_type": "code",
   "execution_count": null,
   "id": "db0ae5e2-2666-4d40-8399-d4fc5915dcbb",
   "metadata": {},
   "outputs": [],
   "source": [
    "import pyvista as pv\n",
    "from pyvista import examples\n",
    "\n",
    "dataset = examples.download_bunny_coarse()\n"
   ]
  },
  {
   "cell_type": "markdown",
   "id": "4f7e3658-bb6e-4911-956c-faec213ff3e1",
   "metadata": {},
   "source": [
    "We will review the downloaded dataset. We see that the variable `dataset` stores 3D mesh data."
   ]
  },
  {
   "cell_type": "code",
   "execution_count": null,
   "id": "62ee3ed4-b14b-4a84-9a72-f4b01ea9d61b",
   "metadata": {},
   "outputs": [],
   "source": [
    "dataset\n"
   ]
  },
  {
   "cell_type": "markdown",
   "id": "9e697d73-0255-4ba5-a3d4-ceceece3e4a8",
   "metadata": {},
   "source": [
    "Want to plot this data set? All you have to do is call the plot method. Running the following cell will plot a cute little rabbit. You can zoom in by scrolling with the mouse and rotate by picking, so try it out."
   ]
  },
  {
   "cell_type": "markdown",
   "id": "1ea6a4cb-db9e-44dd-a711-950db6f0badd",
   "metadata": {},
   "source": [
    "dataset.plot()"
   ]
  },
  {
   "cell_type": "markdown",
   "id": "547984a3-8cd0-478e-b842-e57fa910faf8",
   "metadata": {},
   "source": [
    "This is the basic. But this is a plain plot a little bit. Let's decorate during the plot. How about the following decorations?\n",
    "\n",
    "1. Shows the edges of a mesh.\n",
    "1. Set the mesh color to gray.\n",
    "1. Set the camera in the xy-plane orientation.\n",
    "1. Hide axes.\n",
    "1. Set background \"white\".\n",
    "\n",
    "[`plot`](https://docs.pyvista.org/api/core/_autosummary/pyvista.DataSet.plot.html) is given the decoration options as arguments."
   ]
  },
  {
   "cell_type": "code",
   "execution_count": null,
   "id": "71c99b87-95ef-444f-9ae9-f1d1d92330d4",
   "metadata": {},
   "outputs": [],
   "source": [
    "dataset.plot(\n",
    "    show_edges=True, color=\"gray\", show_axes=False, cpos=\"xy\", background=\"white\"\n",
    ")\n"
   ]
  },
  {
   "cell_type": "markdown",
   "id": "c3502a01-52cb-4f0a-a530-0953a11c8665",
   "metadata": {},
   "source": [
    "We can read any file type supported by vtk or meshio."
   ]
  },
  {
   "cell_type": "code",
   "execution_count": null,
   "id": "d2241609-012f-4276-8837-23d0cc394357",
   "metadata": {},
   "outputs": [],
   "source": [
    "dataset = pv.read(\"Bunny.vtp\")\n"
   ]
  },
  {
   "cell_type": "markdown",
   "id": "e6fc2ad4-dddd-4e42-9f4f-b2febaac6531",
   "metadata": {},
   "source": [
    "You can also plot like matplotlib using Plotter."
   ]
  },
  {
   "cell_type": "code",
   "execution_count": null,
   "id": "2b5f17d2-0888-459e-8d93-7494f446798d",
   "metadata": {},
   "outputs": [],
   "source": [
    "p = pv.Plotter(shape=(2, 2))\n",
    "mesh = pv.Sphere()\n",
    "p.set_background(\"white\")\n",
    "p.subplot(0, 0)\n",
    "p.camera_position = \"xy\"\n",
    "p.add_mesh(dataset, show_edges=True, color=\"red\", lighting=False)\n",
    "p.subplot(0, 1)\n",
    "p.camera_position = \"xy\"\n",
    "p.add_mesh(dataset, show_edges=True, color=\"blue\", lighting=False)\n",
    "p.subplot(1, 0)\n",
    "p.camera_position = \"xy\"\n",
    "p.add_mesh(dataset, show_edges=True, color=\"green\", lighting=False)\n",
    "p.subplot(1, 1)\n",
    "p.camera_position = \"xy\"\n",
    "p.add_mesh(dataset, show_edges=True, color=\"yellow\", lighting=False)\n",
    "p.show()\n"
   ]
  },
  {
   "cell_type": "markdown",
   "id": "e8408e15-ac64-4d67-9f2b-5c04a430b611",
   "metadata": {},
   "source": [
    "# Geometric Objects"
   ]
  },
  {
   "cell_type": "markdown",
   "id": "217b7ed4-b1d9-477f-928f-ab7c3650b3bb",
   "metadata": {},
   "source": [
    "The “Hello, world!” of VTK"
   ]
  },
  {
   "cell_type": "code",
   "execution_count": null,
   "id": "2c662a8a-646b-42ad-b389-0dbdd81c464a",
   "metadata": {},
   "outputs": [],
   "source": [
    "import pyvista as pv\n"
   ]
  },
  {
   "cell_type": "markdown",
   "id": "2865a434-3cac-4bab-9e20-1a3ddb398737",
   "metadata": {},
   "source": [
    "This runs through several of the available geometric objects available in VTK which PyVista provides simple convenience methods for generating."
   ]
  },
  {
   "cell_type": "markdown",
   "id": "1fea1114-321f-46a3-bf02-356f725ab7fb",
   "metadata": {},
   "source": [
    "Let’s run through creating a few geometric objects!"
   ]
  },
  {
   "cell_type": "code",
   "execution_count": null,
   "id": "3be23b34-049b-4660-9f43-049254c78827",
   "metadata": {},
   "outputs": [],
   "source": [
    "cyl = pv.Cylinder()\n",
    "arrow = pv.Arrow()\n",
    "sphere = pv.Sphere()\n",
    "plane = pv.Plane()\n",
    "line = pv.Line()\n",
    "box = pv.Box()\n",
    "cone = pv.Cone()\n",
    "poly = pv.Polygon()\n",
    "disc = pv.Disc()"
   ]
  },
  {
   "cell_type": "markdown",
   "id": "cde43ffc-0ebd-490c-8d01-5d9bb8fe1268",
   "metadata": {},
   "source": [
    "Now let’s plot them all in one window"
   ]
  },
  {
   "cell_type": "code",
   "execution_count": null,
   "id": "48067ddc-4fcd-4397-8b25-f191ab2d767c",
   "metadata": {},
   "outputs": [],
   "source": [
    "p = pv.Plotter(shape=(3, 3))\n",
    "# Top row\n",
    "p.subplot(0, 0)\n",
    "p.add_mesh(cyl, color=\"tan\", show_edges=True)\n",
    "p.subplot(0, 1)\n",
    "p.add_mesh(arrow, color=\"tan\", show_edges=True)\n",
    "p.subplot(0, 2)\n",
    "p.add_mesh(sphere, color=\"tan\", show_edges=True)\n",
    "# Middle row\n",
    "p.subplot(1, 0)\n",
    "p.add_mesh(plane, color=\"tan\", show_edges=True)\n",
    "p.subplot(1, 1)\n",
    "p.add_mesh(line, color=\"tan\", line_width=3)\n",
    "p.subplot(1, 2)\n",
    "p.add_mesh(box, color=\"tan\", show_edges=True)\n",
    "# Bottom row\n",
    "p.subplot(2, 0)\n",
    "p.add_mesh(cone, color=\"tan\", show_edges=True)\n",
    "p.subplot(2, 1)\n",
    "p.add_mesh(poly, color=\"tan\", show_edges=True)\n",
    "p.subplot(2, 2)\n",
    "p.add_mesh(disc, color=\"tan\", show_edges=True)\n",
    "# Render all of them\n",
    "p.show()"
   ]
  },
  {
   "cell_type": "markdown",
   "id": "cc54c454-ce80-4786-b023-281a41e21d82",
   "metadata": {},
   "source": [
    "### Interfacing With Other Libraries"
   ]
  },
  {
   "cell_type": "markdown",
   "id": "2a7741ff-1514-4134-8f27-776cdbaf7eb5",
   "metadata": {},
   "source": [
    "And these points can be operated on as if it was a NumPy array, all without losing connection to the underlying VTK data array."
   ]
  },
  {
   "cell_type": "code",
   "execution_count": null,
   "id": "894c845c-e43f-49cf-aa52-bcb730e6fd86",
   "metadata": {
    "tags": []
   },
   "outputs": [],
   "source": [
    "circle = pv.Circle()\n",
    "circle.points[:10]"
   ]
  },
  {
   "cell_type": "markdown",
   "id": "fd3ed68f-c3a7-48f2-9489-ed8e9e08e3af",
   "metadata": {},
   "source": [
    "At the same time, a variety of PyVista objects can be generated directly from numpy arrays. For example, below we generate a vector field of arrows using [numpy.meshgrid()](https://numpy.org/doc/stable/reference/generated/numpy.meshgrid.html#numpy.meshgrid):"
   ]
  },
  {
   "cell_type": "code",
   "execution_count": null,
   "id": "eb9a3a03-da23-435e-b913-53e9c2ce2034",
   "metadata": {},
   "outputs": [],
   "source": [
    "import pyvista\n",
    "import numpy as np\n",
    "\n",
    "# Make a grid\n",
    "x, y, z = np.meshgrid(np.linspace(-5, 5, 20),\n",
    "                      np.linspace(-5, 5, 20),\n",
    "                      np.linspace(-5, 5, 5))\n",
    "\n",
    "points = np.empty((x.size, 3))\n",
    "points[:, 0] = x.ravel('F')\n",
    "points[:, 1] = y.ravel('F')\n",
    "points[:, 2] = z.ravel('F')\n",
    "\n",
    "# Compute a direction for the vector field\n",
    "direction = np.sin(points)**3\n",
    "\n",
    "# plot using the plotting class\n",
    "pl = pyvista.Plotter()\n",
    "pl.add_arrows(points, direction, 0.5)\n",
    "pl.show()"
   ]
  },
  {
   "cell_type": "markdown",
   "id": "9ec9bb27-0db4-4b92-a1f2-421d29595ebc",
   "metadata": {},
   "source": [
    "PyVista is heavily dependent on [numpy](https://numpy.org/) and uses it to represent point, cell, field, and other data from the VTK meshes. This data can be easily accessed from the dataset attributes like [pyvista.DataSet.points](https://docs.pyvista.org/api/core/_autosummary/pyvista.DataSet.points.html#pyvista.DataSet.points). For example the first 10 points of a circle from pyvista can be accessed with:"
   ]
  },
  {
   "cell_type": "markdown",
   "id": "2460de2a-8eb2-42c1-973f-f81791f66dd8",
   "metadata": {},
   "source": [
    "PyVista has connections to several other libraries, such as [meshio](https://github.com/nschloe/meshio) and [matplotlib](https://matplotlib.org/), allowing PyVista to extend VTK with functionality from the Python ecosystem."
   ]
  },
  {
   "cell_type": "markdown",
   "id": "777b5aa8-ea39-49c6-9912-0af1a8099d56",
   "metadata": {},
   "source": [
    "Platonic Solids\n",
    "===============\n",
    "\n",
    "PyVista wraps the `vtk.vtkPlatonicSolidSource` filter as\n",
    "`pyvista.PlatonicSolid`{.interpreted-text role=\"func\"}.\n"
   ]
  },
  {
   "cell_type": "code",
   "execution_count": null,
   "id": "b220f6b9-15b6-4a66-8ede-f8db06c4cc59",
   "metadata": {
    "collapsed": false,
    "jupyter": {
     "outputs_hidden": false
    }
   },
   "outputs": [],
   "source": [
    "import numpy as np\n",
    "\n",
    "import pyvista as pv\n",
    "from pyvista import examples"
   ]
  },
  {
   "cell_type": "markdown",
   "id": "52df6698-bf7f-4b2f-8b01-bf8c04e80fcc",
   "metadata": {},
   "source": [
    "We can either use the generic\n",
    "`PlatonicSolid() <pyvista.PlatonicSolid>`{.interpreted-text role=\"func\"}\n",
    "and specify the different kinds of solids to generate, or we can use the\n",
    "thin wrappers:\n",
    "\n",
    "> -   `pyvista.Tetrahedron`{.interpreted-text role=\"func\"}\n",
    "> -   `pyvista.Octahedron`{.interpreted-text role=\"func\"}\n",
    "> -   `pyvista.Dodecahedron`{.interpreted-text role=\"func\"}\n",
    "> -   `pyvista.Icosahedron`{.interpreted-text role=\"func\"}\n",
    "> -   `pyvista.Cube`{.interpreted-text role=\"func\"} (implemented via a\n",
    ">     different filter)\n",
    "\n",
    "Let\\'s generate all the Platonic solids, along with the `teapotahedron\n",
    "<pyvista.examples.downloads.download_teapot>`{.interpreted-text\n",
    "role=\"func\"}.\n"
   ]
  },
  {
   "cell_type": "code",
   "execution_count": null,
   "id": "1ffa87ef-29a0-4292-b311-a8ec927c18ba",
   "metadata": {
    "collapsed": false,
    "jupyter": {
     "outputs_hidden": false
    }
   },
   "outputs": [],
   "source": [
    "kinds = [\n",
    "    'tetrahedron',\n",
    "    'cube',\n",
    "    'octahedron',\n",
    "    'dodecahedron',\n",
    "    'icosahedron',\n",
    "]\n",
    "centers = [\n",
    "    (0, 1, 0),\n",
    "    (0, 0, 0),\n",
    "    (0, 2, 0),\n",
    "    (-1, 0, 0),\n",
    "    (-1, 2, 0),\n",
    "]\n",
    "\n",
    "solids = [pv.PlatonicSolid(kind, radius=0.4, center=center) for kind, center in zip(kinds, centers)]\n",
    "\n",
    "# download and align teapotahedron\n",
    "teapot = examples.download_teapot()\n",
    "teapot.rotate_x(90, inplace=True)\n",
    "teapot.rotate_z(-45, inplace=True)\n",
    "teapot.scale(0.16, inplace=True)\n",
    "teapot.points += np.array([-1, 1, 0]) - teapot.center\n",
    "solids.append(teapot)"
   ]
  },
  {
   "cell_type": "markdown",
   "id": "2c3e0f44-f2e6-42c2-b982-66bc5a629888",
   "metadata": {},
   "source": [
    "Now let\\'s plot them all.\n",
    "\n",
    "::: {.note}\n",
    "::: {.title}\n",
    "Note\n",
    ":::\n",
    "\n",
    "VTK has known issues when rendering shadows on certain window sizes. Be\n",
    "prepared to experiment with the `window_size` parameter. An initial\n",
    "window size of `(1000, 1000)` seems to work well, which can be manually\n",
    "resized without issue.\n",
    ":::\n"
   ]
  },
  {
   "cell_type": "code",
   "execution_count": null,
   "id": "9349c48d-a8b2-45c4-b2fc-278f236f2928",
   "metadata": {
    "collapsed": false,
    "jupyter": {
     "outputs_hidden": false
    }
   },
   "outputs": [],
   "source": [
    "p = pv.Plotter(window_size=[1000, 1000])\n",
    "for ind, solid in enumerate(solids):\n",
    "    # only use smooth shading for the teapot\n",
    "    smooth_shading = ind == len(solids) - 1\n",
    "    p.add_mesh(\n",
    "        solid, color='silver', smooth_shading=smooth_shading, specular=1.0, specular_power=10\n",
    "    )\n",
    "p.view_vector((5.0, 2, 3))\n",
    "p.add_floor('-z', lighting=True, color='tan', pad=1.0)\n",
    "p.enable_shadows()\n",
    "p.show()"
   ]
  },
  {
   "cell_type": "markdown",
   "id": "983e0e72-137d-4bad-b1f3-d13699149b8b",
   "metadata": {},
   "source": [
    "The Platonic solids come with cell scalars that index each face of the\n",
    "solids.\n"
   ]
  },
  {
   "cell_type": "markdown",
   "id": "5e2db335-da97-4a0b-92a8-29d66c99cc63",
   "metadata": {},
   "source": [
    "### Exercise 1: Watch Texas in globe map\n",
    "\n",
    "We are doing a tutorial in Texas right now. Let's view this wonderful place on a globe."
   ]
  },
  {
   "cell_type": "code",
   "execution_count": null,
   "id": "4ce902a6-61b2-492d-b5cc-69d1e1acd01d",
   "metadata": {},
   "outputs": [],
   "source": [
    "# Your code here\n"
   ]
  },
  {
   "cell_type": "code",
   "execution_count": null,
   "id": "c357fd06-5906-47f3-9afa-2b7d3449d3b8",
   "metadata": {
    "jupyter": {
     "source_hidden": true
    },
    "tags": []
   },
   "outputs": [],
   "source": [
    "from pyvista import examples\n",
    "\n",
    "globe = examples.load_globe()\n",
    "globe.plot()\n"
   ]
  },
  {
   "cell_type": "markdown",
   "id": "ad2bfcdd-e24c-4085-be9f-97c98817742a",
   "metadata": {},
   "source": [
    "### Exercise 2: Plot globe with stars."
   ]
  },
  {
   "cell_type": "markdown",
   "id": "29c48ef7-b777-4ab4-af2b-c46e5728b43c",
   "metadata": {},
   "source": [
    "We can decorate your globe more. Let's set up a starry sky background and plot your globe there using [download_stars_jpg](https://docs.pyvista.org/api/examples/_autosummary/pyvista.examples.downloads.download_stars_jpg.html)."
   ]
  },
  {
   "cell_type": "code",
   "execution_count": null,
   "id": "1298e1f0-df59-4807-956a-f23692335af4",
   "metadata": {},
   "outputs": [],
   "source": [
    "# Your code here\n"
   ]
  },
  {
   "cell_type": "code",
   "execution_count": null,
   "id": "7cccab1a-12f4-40a7-8d18-d48c49d1ac2c",
   "metadata": {
    "jupyter": {
     "source_hidden": true
    },
    "tags": []
   },
   "outputs": [],
   "source": [
    "from pyvista import examples\n",
    "import pyvista as pv\n",
    "\n",
    "\n",
    "pl = pv.Plotter()\n",
    "stars_jpg = examples.download_stars_jpg()\n",
    "globe = examples.load_globe()\n",
    "pl.add_background_image(stars_jpg)\n",
    "pl.add_mesh(globe)\n",
    "pl.show()\n"
   ]
  },
  {
   "cell_type": "code",
   "execution_count": null,
   "id": "50e08773-60b5-4a5b-a993-f3fb176b061b",
   "metadata": {},
   "outputs": [],
   "source": []
  }
 ],
 "metadata": {
  "kernelspec": {
   "display_name": "Python 3 (ipykernel)",
   "language": "python",
   "name": "python3"
  },
  "language_info": {
   "codemirror_mode": {
    "name": "ipython",
    "version": 3
   },
   "file_extension": ".py",
   "mimetype": "text/x-python",
   "name": "python",
   "nbconvert_exporter": "python",
   "pygments_lexer": "ipython3",
   "version": "3.10.4"
  }
 },
 "nbformat": 4,
 "nbformat_minor": 5
}
