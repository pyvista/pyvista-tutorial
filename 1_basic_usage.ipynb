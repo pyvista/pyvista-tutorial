{
 "cells": [
  {
   "cell_type": "markdown",
   "id": "b3bc9bf7-4294-4493-86e6-0498a1b22367",
   "metadata": {},
   "source": [
    "# Basic usage\n",
    "\n",
    "The introduction to PyVista is a two-step process: \"importing 3D data\" and \"plotting data\". Let's plot the dataset that is built into PyVista.It can be downloaded from the example module of pyvista."
   ]
  },
  {
   "cell_type": "code",
   "execution_count": 1,
   "id": "db0ae5e2-2666-4d40-8399-d4fc5915dcbb",
   "metadata": {},
   "outputs": [],
   "source": [
    "import pyvista as pv\n",
    "from pyvista import examples\n",
    "\n",
    "dataset = examples.download_bunny_coarse()"
   ]
  },
  {
   "cell_type": "markdown",
   "id": "4f7e3658-bb6e-4911-956c-faec213ff3e1",
   "metadata": {},
   "source": [
    "We will review the downloaded dataset. We see that the variable `dataset` stores 3D mesh data."
   ]
  },
  {
   "cell_type": "code",
   "execution_count": 2,
   "id": "62ee3ed4-b14b-4a84-9a72-f4b01ea9d61b",
   "metadata": {},
   "outputs": [
    {
     "data": {
      "text/html": [
       "<table><tr><th>Header</th><th>Data Arrays</th></tr><tr><td>\n",
       "<table>\n",
       "<tr><th>PolyData</th><th>Information</th></tr>\n",
       "<tr><td>N Cells</td><td>1000</td></tr>\n",
       "<tr><td>N Points</td><td>872</td></tr>\n",
       "<tr><td>X Bounds</td><td>-1.316e-01, 1.802e-01</td></tr>\n",
       "<tr><td>Y Bounds</td><td>-1.205e-01, 1.877e-01</td></tr>\n",
       "<tr><td>Z Bounds</td><td>-1.430e-01, 9.851e-02</td></tr>\n",
       "<tr><td>N Arrays</td><td>1</td></tr>\n",
       "</table>\n",
       "\n",
       "</td><td>\n",
       "<table>\n",
       "<tr><th>Name</th><th>Field</th><th>Type</th><th>N Comp</th><th>Min</th><th>Max</th></tr>\n",
       "<tr><td>Normals</td><td>Points</td><td>float32</td><td>3</td><td>-9.998e-01</td><td>9.977e-01</td></tr>\n",
       "</table>\n",
       "\n",
       "</td></tr> </table>"
      ],
      "text/plain": [
       "PolyData (0x7f4e6316e1c0)\n",
       "  N Cells:\t1000\n",
       "  N Points:\t872\n",
       "  X Bounds:\t-1.316e-01, 1.802e-01\n",
       "  Y Bounds:\t-1.205e-01, 1.877e-01\n",
       "  Z Bounds:\t-1.430e-01, 9.851e-02\n",
       "  N Arrays:\t1"
      ]
     },
     "execution_count": 2,
     "metadata": {},
     "output_type": "execute_result"
    }
   ],
   "source": [
    "dataset"
   ]
  },
  {
   "cell_type": "markdown",
   "id": "9e697d73-0255-4ba5-a3d4-ceceece3e4a8",
   "metadata": {},
   "source": [
    "Want to plot this data set? All you have to do is call the plot method. Running the following cell will plot a cute little rabbit. You can zoom in by scrolling with the mouse and rotate by picking, so try it out."
   ]
  },
  {
   "cell_type": "markdown",
   "id": "1ea6a4cb-db9e-44dd-a711-950db6f0badd",
   "metadata": {},
   "source": [
    "dataset.plot()"
   ]
  },
  {
   "cell_type": "markdown",
   "id": "547984a3-8cd0-478e-b842-e57fa910faf8",
   "metadata": {},
   "source": [
    "This is the basic. But this is a plain plot a little bit. Let's decorate during the plot. How about the following decorations?\n",
    "\n",
    "1. Shows the edges of a mesh.\n",
    "1. Set the mesh color to gray.\n",
    "1. Set the camera in the xy-plane orientation.\n",
    "1. Hide axes.\n",
    "1. Set background \"white\".\n",
    "\n",
    "[`plot`](https://docs.pyvista.org/api/core/_autosummary/pyvista.DataSet.plot.html) is given the decoration options as arguments."
   ]
  },
  {
   "cell_type": "code",
   "execution_count": 3,
   "id": "71c99b87-95ef-444f-9ae9-f1d1d92330d4",
   "metadata": {},
   "outputs": [
    {
     "data": {
      "application/vnd.jupyter.widget-view+json": {
       "model_id": "4879fec3875a41ca889c82991d8a4789",
       "version_major": 2,
       "version_minor": 0
      },
      "text/plain": [
       "ViewInteractiveWidget(height=768, layout=Layout(height='auto', width='100%'), width=1024)"
      ]
     },
     "metadata": {},
     "output_type": "display_data"
    }
   ],
   "source": [
    "dataset.plot(show_edges=True, color=\"gray\", show_axes=False, cpos=\"xy\", background=\"white\")"
   ]
  },
  {
   "cell_type": "markdown",
   "id": "c3502a01-52cb-4f0a-a530-0953a11c8665",
   "metadata": {},
   "source": [
    "We can read any file type supported by vtk or meshio."
   ]
  },
  {
   "cell_type": "code",
   "execution_count": 4,
   "id": "d2241609-012f-4276-8837-23d0cc394357",
   "metadata": {},
   "outputs": [],
   "source": [
    "dataset = pv.read(\"Bunny.vtp\")"
   ]
  },
  {
   "cell_type": "markdown",
   "id": "e6fc2ad4-dddd-4e42-9f4f-b2febaac6531",
   "metadata": {},
   "source": [
    "You can also plot like matplotlib using Plotter."
   ]
  },
  {
   "cell_type": "code",
   "execution_count": 5,
   "id": "27cc74e5-442a-4f06-8d4e-27316c65f8cb",
   "metadata": {},
   "outputs": [
    {
     "data": {
      "application/vnd.jupyter.widget-view+json": {
       "model_id": "2e81ecb457b24b12bc231d91c1dce6d9",
       "version_major": 2,
       "version_minor": 0
      },
      "text/plain": [
       "ViewInteractiveWidget(height=768, layout=Layout(height='auto', width='100%'), width=1024)"
      ]
     },
     "metadata": {},
     "output_type": "display_data"
    }
   ],
   "source": [
    "p = pv.Plotter(shape=(2, 2))\n",
    "mesh = pv.Sphere()\n",
    "p.set_background(\"white\")\n",
    "p.subplot(0, 0)\n",
    "p.camera_position = \"xy\"\n",
    "p.add_mesh(dataset, show_edges=True, color=\"red\", lighting=False)\n",
    "p.subplot(0, 1)\n",
    "p.camera_position = \"xy\"\n",
    "p.add_mesh(dataset, show_edges=True, color=\"blue\", lighting=False)\n",
    "p.subplot(1, 0)\n",
    "p.camera_position = \"xy\"\n",
    "p.add_mesh(dataset, show_edges=True, color=\"green\", lighting=False)\n",
    "p.subplot(1, 1)\n",
    "p.camera_position = \"xy\"\n",
    "p.add_mesh(dataset, show_edges=True, color=\"yellow\", lighting=False)\n",
    "p.show()"
   ]
  },
  {
   "cell_type": "code",
   "execution_count": null,
   "id": "a1b02500-4e36-412c-bd66-ea8634a070b7",
   "metadata": {},
   "outputs": [],
   "source": []
  }
 ],
 "metadata": {
  "kernelspec": {
   "display_name": "Python 3 (ipykernel)",
   "language": "python",
   "name": "python3"
  },
  "language_info": {
   "codemirror_mode": {
    "name": "ipython",
    "version": 3
   },
   "file_extension": ".py",
   "mimetype": "text/x-python",
   "name": "python",
   "nbconvert_exporter": "python",
   "pygments_lexer": "ipython3",
   "version": "3.9.7"
  }
 },
 "nbformat": 4,
 "nbformat_minor": 5
}
