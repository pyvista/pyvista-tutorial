{
 "cells": [
  {
   "cell_type": "code",
   "execution_count": null,
   "id": "48e89f9b-bb72-404e-850d-abb11f38a9b1",
   "metadata": {},
   "outputs": [],
   "source": [
    "%matplotlib inline\n",
    "from pyvista import set_plot_theme\n",
    "\n",
    "set_plot_theme(\"document\")"
   ]
  },
  {
   "cell_type": "markdown",
   "id": "702fd5c6-c551-4bd0-bb18-d1b5e5fa275f",
   "metadata": {},
   "source": [
    "# Basic Usage"
   ]
  },
  {
   "cell_type": "markdown",
   "id": "48d506d4-23f5-4aed-b316-20e1f7f82272",
   "metadata": {},
   "source": [
    "Reading and plotting 3D data using `examples` module and external files. "
   ]
  },
  {
   "cell_type": "markdown",
   "id": "cad86d08-bcb9-434d-852b-1bfbf39bbd3a",
   "metadata": {},
   "source": [
    "# Why PyVista?"
   ]
  },
  {
   "cell_type": "markdown",
   "id": "53c3b9c9-9118-43e0-b29c-baff9447b3ed",
   "metadata": {},
   "source": [
    "VTK is an excellent visualization toolkit, and with Python bindings it should be able to combine the speed of C++ with the rapid prototyping of Python. However, despite this VTK code programmed in Python generally looks the same as its C++ counterpart. This module seeks to simplify mesh creation and plotting without losing functionality."
   ]
  },
  {
   "cell_type": "markdown",
   "id": "6a50f78d-7a42-42c2-bf87-72644db1157d",
   "metadata": {},
   "source": [
    "Compare two approaches for loading and plotting a surface mesh from a file:"
   ]
  },
  {
   "cell_type": "markdown",
   "id": "d7e86819-550d-4b05-a5b2-30bb86d0e831",
   "metadata": {},
   "source": [
    "Read and plot STL file using [vtk](https://vtk.org/)"
   ]
  },
  {
   "cell_type": "code",
   "execution_count": null,
   "id": "134095d4-e2d2-40fd-83de-c491ea23475d",
   "metadata": {},
   "outputs": [],
   "source": [
    "import vtk\n",
    "\n",
    "reader = vtk.vtkSTLReader()\n",
    "reader.SetFileName(\"bunny.stl\")\n",
    "mapper = vtk.vtkPolyDataMapper()\n",
    "output_port = reader.GetOutputPort()\n",
    "mapper.SetInputConnection(output_port)\n",
    "actor = vtk.vtkActor()\n",
    "actor.SetMapper(mapper)\n",
    "ren = vtk.vtkRenderer()\n",
    "renWin = vtk.vtkRenderWindow()\n",
    "renWin.AddRenderer(ren)\n",
    "iren = vtk.vtkRenderWindowInteractor()\n",
    "iren.SetRenderWindow(renWin)\n",
    "ren.AddActor(actor)\n",
    "iren.Initialize()\n",
    "renWin.Render()\n",
    "iren.Start()\n",
    "del iren, renWin"
   ]
  },
  {
   "cell_type": "code",
   "execution_count": null,
   "id": "60f1a07e-b147-4003-93a0-c8858f878f87",
   "metadata": {},
   "outputs": [],
   "source": [
    "import pyvista\n",
    "\n",
    "mesh = pyvista.read(\"bunny.stl\")\n",
    "mesh.plot()"
   ]
  },
  {
   "cell_type": "markdown",
   "id": "4b8f75f3-8182-43d5-a4f3-29c05d928fd8",
   "metadata": {},
   "source": [
    "# Basic usage"
   ]
  },
  {
   "cell_type": "markdown",
   "id": "5d5deb7c-0cde-4949-97d3-94bb5e7dab70",
   "metadata": {},
   "source": [
    "The introduction to PyVista is a two-step process: \"importing 3D data\" and \"plotting data\". Let's plot the dataset that is built into PyVista.It can be downloaded from the example module of pyvista."
   ]
  },
  {
   "cell_type": "code",
   "execution_count": null,
   "id": "db0ae5e2-2666-4d40-8399-d4fc5915dcbb",
   "metadata": {},
   "outputs": [],
   "source": [
    "import pyvista as pv\n",
    "from pyvista import examples\n",
    "\n",
    "dataset = examples.download_bunny_coarse()"
   ]
  },
  {
   "cell_type": "markdown",
   "id": "4f7e3658-bb6e-4911-956c-faec213ff3e1",
   "metadata": {},
   "source": [
    "We will review the downloaded dataset. We see that the variable `dataset` stores 3D mesh data."
   ]
  },
  {
   "cell_type": "code",
   "execution_count": null,
   "id": "62ee3ed4-b14b-4a84-9a72-f4b01ea9d61b",
   "metadata": {},
   "outputs": [],
   "source": [
    "dataset"
   ]
  },
  {
   "cell_type": "markdown",
   "id": "9e697d73-0255-4ba5-a3d4-ceceece3e4a8",
   "metadata": {},
   "source": [
    "Want to plot this data set? All you have to do is call the plot method. Running the following cell will plot a cute little rabbit. You can zoom in by scrolling with the mouse and rotate by picking, so try it out."
   ]
  },
  {
   "cell_type": "code",
   "execution_count": null,
   "id": "b5afb11f-39cc-4631-9189-af0d7e03934f",
   "metadata": {},
   "outputs": [],
   "source": [
    "dataset.plot()"
   ]
  },
  {
   "cell_type": "markdown",
   "id": "547984a3-8cd0-478e-b842-e57fa910faf8",
   "metadata": {},
   "source": [
    "This is the basic. But this is a plain plot a little bit. Let's decorate during the plot. How about the following decorations?\n",
    "\n",
    "1. Shows the edges of a mesh.\n",
    "1. Set the mesh color to gray.\n",
    "1. Set the camera in the xy-plane orientation.\n",
    "1. Hide axes.\n",
    "1. Set background \"white\".\n",
    "\n",
    "[`plot`](https://docs.pyvista.org/api/core/_autosummary/pyvista.DataSet.plot.html) is given the decoration options as arguments."
   ]
  },
  {
   "cell_type": "code",
   "execution_count": null,
   "id": "71c99b87-95ef-444f-9ae9-f1d1d92330d4",
   "metadata": {},
   "outputs": [],
   "source": [
    "dataset.plot(\n",
    "    show_edges=True, color=\"gray\", show_axes=False, cpos=\"xy\", background=\"white\"\n",
    ")"
   ]
  },
  {
   "cell_type": "markdown",
   "id": "c3502a01-52cb-4f0a-a530-0953a11c8665",
   "metadata": {},
   "source": [
    "We can read any file type supported by vtk or meshio."
   ]
  },
  {
   "cell_type": "code",
   "execution_count": null,
   "id": "d2241609-012f-4276-8837-23d0cc394357",
   "metadata": {},
   "outputs": [],
   "source": [
    "dataset = pv.read(\"Bunny.vtp\")"
   ]
  },
  {
   "cell_type": "markdown",
   "id": "e6fc2ad4-dddd-4e42-9f4f-b2febaac6531",
   "metadata": {},
   "source": [
    "You can also plot like Matplotlib using Plotter."
   ]
  },
  {
   "cell_type": "markdown",
   "id": "cc54c454-ce80-4786-b023-281a41e21d82",
   "metadata": {},
   "source": [
    "### Interfacing With Other Libraries"
   ]
  },
  {
   "cell_type": "markdown",
   "id": "2a7741ff-1514-4134-8f27-776cdbaf7eb5",
   "metadata": {},
   "source": [
    "And these points can be operated on as if it was a NumPy array, all without losing connection to the underlying VTK data array."
   ]
  },
  {
   "cell_type": "code",
   "execution_count": null,
   "id": "894c845c-e43f-49cf-aa52-bcb730e6fd86",
   "metadata": {
    "tags": []
   },
   "outputs": [],
   "source": [
    "circle = pv.Circle()\n",
    "circle.points[:10]"
   ]
  },
  {
   "cell_type": "markdown",
   "id": "fd3ed68f-c3a7-48f2-9489-ed8e9e08e3af",
   "metadata": {},
   "source": [
    "At the same time, a variety of PyVista objects can be generated directly from NumPy arrays. For example, below we generate a vector field of arrows using [numpy.meshgrid()](https://numpy.org/doc/stable/reference/generated/numpy.meshgrid.html#numpy.meshgrid):"
   ]
  },
  {
   "cell_type": "code",
   "execution_count": null,
   "id": "eb9a3a03-da23-435e-b913-53e9c2ce2034",
   "metadata": {},
   "outputs": [],
   "source": [
    "import numpy as np\n",
    "import pyvista\n",
    "\n",
    "# Make a grid\n",
    "x, y, z = np.meshgrid(\n",
    "    np.linspace(-5, 5, 20), np.linspace(-5, 5, 20), np.linspace(-5, 5, 5)\n",
    ")\n",
    "\n",
    "points = np.empty((x.size, 3))\n",
    "points[:, 0] = x.ravel(\"F\")\n",
    "points[:, 1] = y.ravel(\"F\")\n",
    "points[:, 2] = z.ravel(\"F\")\n",
    "\n",
    "# Compute a direction for the vector field\n",
    "direction = np.sin(points) ** 3\n",
    "\n",
    "# plot using the plotting class\n",
    "pl = pyvista.Plotter()\n",
    "pl.add_arrows(points, direction, 0.5)\n",
    "pl.show()"
   ]
  },
  {
   "cell_type": "markdown",
   "id": "9ec9bb27-0db4-4b92-a1f2-421d29595ebc",
   "metadata": {},
   "source": [
    "PyVista is heavily dependent on [NumPy](https://numpy.org/) and uses it to represent point, cell, field, and other data from the VTK meshes. This data can be easily accessed from the dataset attributes like [pyvista.DataSet.points](https://docs.pyvista.org/api/core/_autosummary/pyvista.DataSet.points.html#pyvista.DataSet.points). For example the first 10 points of a circle from pyvista can be accessed with:"
   ]
  },
  {
   "cell_type": "markdown",
   "id": "2460de2a-8eb2-42c1-973f-f81791f66dd8",
   "metadata": {},
   "source": [
    "PyVista has connections to several other libraries, such as [meshio](https://github.com/nschloe/meshio) and [Matplotlib](https://matplotlib.org/), allowing PyVista to extend VTK with functionality from the Python ecosystem."
   ]
  },
  {
   "cell_type": "markdown",
   "id": "5e2db335-da97-4a0b-92a8-29d66c99cc63",
   "metadata": {},
   "source": [
    "### Exercise 1: Watch Texas in globe map\n",
    "\n",
    "We are doing a tutorial in Texas right now. Let's view this wonderful place on a globe."
   ]
  },
  {
   "cell_type": "code",
   "execution_count": null,
   "id": "4ce902a6-61b2-492d-b5cc-69d1e1acd01d",
   "metadata": {},
   "outputs": [],
   "source": [
    "# Your code here"
   ]
  },
  {
   "cell_type": "code",
   "execution_count": null,
   "id": "c357fd06-5906-47f3-9afa-2b7d3449d3b8",
   "metadata": {
    "jupyter": {
     "source_hidden": true
    },
    "tags": []
   },
   "outputs": [],
   "source": [
    "from pyvista import examples\n",
    "\n",
    "globe = examples.load_globe()\n",
    "globe.plot()"
   ]
  },
  {
   "cell_type": "markdown",
   "id": "ad2bfcdd-e24c-4085-be9f-97c98817742a",
   "metadata": {},
   "source": [
    "### Exercise 2: Plot globe with stars."
   ]
  },
  {
   "cell_type": "markdown",
   "id": "29c48ef7-b777-4ab4-af2b-c46e5728b43c",
   "metadata": {},
   "source": [
    "We can decorate your globe more. Let's set up a starry sky background and plot your globe there using [download_stars_jpg](https://docs.pyvista.org/api/examples/_autosummary/pyvista.examples.downloads.download_stars_jpg.html)."
   ]
  },
  {
   "cell_type": "code",
   "execution_count": null,
   "id": "1298e1f0-df59-4807-956a-f23692335af4",
   "metadata": {},
   "outputs": [],
   "source": [
    "# Your code here"
   ]
  },
  {
   "cell_type": "code",
   "execution_count": null,
   "id": "7cccab1a-12f4-40a7-8d18-d48c49d1ac2c",
   "metadata": {
    "jupyter": {
     "source_hidden": true
    },
    "tags": []
   },
   "outputs": [],
   "source": [
    "import pyvista as pv\n",
    "from pyvista import examples\n",
    "\n",
    "pl = pv.Plotter()\n",
    "stars_jpg = examples.download_stars_jpg()\n",
    "globe = examples.load_globe()\n",
    "pl.add_background_image(stars_jpg)\n",
    "pl.add_mesh(globe)\n",
    "pl.show()"
   ]
  },
  {
   "cell_type": "code",
   "execution_count": null,
   "id": "50e08773-60b5-4a5b-a993-f3fb176b061b",
   "metadata": {},
   "outputs": [],
   "source": []
  },
  {
   "cell_type": "code",
   "execution_count": null,
   "id": "db4fb05f",
   "metadata": {
    "collapsed": false,
    "jupyter": {
     "outputs_hidden": false
    }
   },
   "outputs": [],
   "source": [
    "%matplotlib inline\n",
    "from pyvista import set_plot_theme\n",
    "\n",
    "set_plot_theme(\"document\")"
   ]
  },
  {
   "cell_type": "markdown",
   "id": "9c871cfd",
   "metadata": {},
   "source": [
    "Geometric Objects\n",
    "=================\n",
    "\n",
    "The \\\"Hello, world!\\\" of VTK\n"
   ]
  },
  {
   "cell_type": "code",
   "execution_count": null,
   "id": "d7c3eb93",
   "metadata": {
    "collapsed": false,
    "jupyter": {
     "outputs_hidden": false
    }
   },
   "outputs": [],
   "source": [
    "import pyvista as pv"
   ]
  },
  {
   "cell_type": "markdown",
   "id": "904e1d54",
   "metadata": {},
   "source": [
    "This runs through several of the available geometric objects available\n",
    "in VTK which PyVista provides simple convenience methods for generating.\n",
    "\n",
    "Let\\'s run through creating a few geometric objects!\n"
   ]
  },
  {
   "cell_type": "code",
   "execution_count": null,
   "id": "0ad9b47f",
   "metadata": {
    "collapsed": false,
    "jupyter": {
     "outputs_hidden": false
    }
   },
   "outputs": [],
   "source": [
    "cyl = pv.Cylinder()\n",
    "arrow = pv.Arrow()\n",
    "sphere = pv.Sphere()\n",
    "plane = pv.Plane()\n",
    "line = pv.Line()\n",
    "box = pv.Box()\n",
    "cone = pv.Cone()\n",
    "poly = pv.Polygon()\n",
    "disc = pv.Disc()"
   ]
  },
  {
   "cell_type": "markdown",
   "id": "2dadd0b1",
   "metadata": {},
   "source": [
    "Now let\\'s plot them all in one window\n"
   ]
  },
  {
   "cell_type": "code",
   "execution_count": null,
   "id": "82db594f",
   "metadata": {
    "collapsed": false,
    "jupyter": {
     "outputs_hidden": false
    }
   },
   "outputs": [],
   "source": [
    "p = pv.Plotter(shape=(3, 3))\n",
    "# Top row\n",
    "p.subplot(0, 0)\n",
    "p.add_mesh(cyl, color=\"tan\", show_edges=True)\n",
    "p.subplot(0, 1)\n",
    "p.add_mesh(arrow, color=\"tan\", show_edges=True)\n",
    "p.subplot(0, 2)\n",
    "p.add_mesh(sphere, color=\"tan\", show_edges=True)\n",
    "# Middle row\n",
    "p.subplot(1, 0)\n",
    "p.add_mesh(plane, color=\"tan\", show_edges=True)\n",
    "p.subplot(1, 1)\n",
    "p.add_mesh(line, color=\"tan\", line_width=3)\n",
    "p.subplot(1, 2)\n",
    "p.add_mesh(box, color=\"tan\", show_edges=True)\n",
    "# Bottom row\n",
    "p.subplot(2, 0)\n",
    "p.add_mesh(cone, color=\"tan\", show_edges=True)\n",
    "p.subplot(2, 1)\n",
    "p.add_mesh(poly, color=\"tan\", show_edges=True)\n",
    "p.subplot(2, 2)\n",
    "p.add_mesh(disc, color=\"tan\", show_edges=True)\n",
    "# Render all of them\n",
    "p.show()"
   ]
  },
  {
   "cell_type": "code",
   "execution_count": null,
   "id": "af99a89a",
   "metadata": {
    "collapsed": false,
    "jupyter": {
     "outputs_hidden": false
    }
   },
   "outputs": [],
   "source": [
    "%matplotlib inline\n",
    "from pyvista import set_plot_theme\n",
    "\n",
    "set_plot_theme(\"document\")"
   ]
  },
  {
   "cell_type": "markdown",
   "id": "5dadeb5c",
   "metadata": {},
   "source": [
    "Plot OpenFOAM data\n",
    "==================\n"
   ]
  },
  {
   "cell_type": "code",
   "execution_count": null,
   "id": "e0c527f9",
   "metadata": {
    "collapsed": false,
    "jupyter": {
     "outputs_hidden": false
    }
   },
   "outputs": [],
   "source": [
    "import pyvista\n",
    "from pyvista import examples"
   ]
  },
  {
   "cell_type": "markdown",
   "id": "0012caa0",
   "metadata": {},
   "source": [
    "This example uses data from a lid-driven cavity flow. It is recommended\n",
    "to use `pyvista.OpenFOAMReader`{.interpreted-text role=\"class\"} for\n",
    "reading OpenFOAM files for more control over reading data. The\n",
    "OpenFOAMReader in pyvista must be recreated each time a new mesh is read\n",
    "in, otherwise the same mesh is always returned.\n",
    "\n",
    "This example will only run correctly in versions of vtk\\>=9.1.0. The\n",
    "names of the patch arrays and resulting keys in the read mesh will be\n",
    "different in prior versions.\n"
   ]
  },
  {
   "cell_type": "code",
   "execution_count": null,
   "id": "cf258081",
   "metadata": {
    "collapsed": false,
    "jupyter": {
     "outputs_hidden": false
    }
   },
   "outputs": [],
   "source": [
    "filename = examples.download_cavity(load=False)\n",
    "reader = pyvista.OpenFOAMReader(filename)"
   ]
  },
  {
   "cell_type": "markdown",
   "id": "cdb15fbd",
   "metadata": {},
   "source": [
    "OpenFOAM datasets include multiple sub-datasets including the internal\n",
    "mesh and patches, typically boundaries. This can be inspected before\n",
    "reading the data.\n"
   ]
  },
  {
   "cell_type": "code",
   "execution_count": null,
   "id": "5499c9f5",
   "metadata": {
    "collapsed": false,
    "jupyter": {
     "outputs_hidden": false
    }
   },
   "outputs": [],
   "source": [
    "print(f\"All patch names: {reader.patch_array_names}\")\n",
    "print(f\"All patch status: {reader.all_patch_arrays_status}\")"
   ]
  },
  {
   "cell_type": "markdown",
   "id": "bdbf7600",
   "metadata": {},
   "source": [
    "This data is represented as a `pyvista.MultiBlock`{.interpreted-text\n",
    "role=\"class\"} object. The internal mesh will be located in the top-level\n",
    "MultiBlock mesh.\n"
   ]
  },
  {
   "cell_type": "code",
   "execution_count": null,
   "id": "d7b933e5",
   "metadata": {
    "collapsed": false,
    "jupyter": {
     "outputs_hidden": false
    }
   },
   "outputs": [],
   "source": [
    "mesh = reader.read()\n",
    "print(f\"Mesh patches: {mesh.keys()}\")\n",
    "internal_mesh = mesh[\"internalMesh\"]  # or internal_mesh = mesh[0]"
   ]
  },
  {
   "cell_type": "markdown",
   "id": "d61c16ad",
   "metadata": {},
   "source": [
    "In this case the internal mesh is a\n",
    "`pyvista.UnstructuredGrid`{.interpreted-text role=\"class\"}.\n"
   ]
  },
  {
   "cell_type": "code",
   "execution_count": null,
   "id": "07da08ee",
   "metadata": {
    "collapsed": false,
    "jupyter": {
     "outputs_hidden": false
    }
   },
   "outputs": [],
   "source": [
    "print(internal_mesh)"
   ]
  },
  {
   "cell_type": "markdown",
   "id": "44fb2b13",
   "metadata": {},
   "source": [
    "Additional Patch meshes are nested inside another MultiBlock mesh. The\n",
    "name of the sub-level MultiBlock mesh depends on the vtk version.\n"
   ]
  },
  {
   "cell_type": "code",
   "execution_count": null,
   "id": "880233da",
   "metadata": {
    "collapsed": false,
    "jupyter": {
     "outputs_hidden": false
    }
   },
   "outputs": [],
   "source": [
    "boundaries = mesh[\"boundary\"]\n",
    "print(boundaries)\n",
    "print(f\"Boundaries patches: {boundaries.keys()}\")\n",
    "print(boundaries[\"movingWall\"])"
   ]
  },
  {
   "cell_type": "markdown",
   "id": "d878c91f",
   "metadata": {},
   "source": [
    "The default in OpenFOAMReader is to translate the existing cell data to\n",
    "point data. Therefore, the cell data arrays are duplicated in point\n",
    "data.\n"
   ]
  },
  {
   "cell_type": "code",
   "execution_count": null,
   "id": "e43ce6f8",
   "metadata": {
    "collapsed": false,
    "jupyter": {
     "outputs_hidden": false
    }
   },
   "outputs": [],
   "source": [
    "print(\"Cell Data:\")\n",
    "print(internal_mesh.cell_data)\n",
    "print(\"\\nPoint Data:\")\n",
    "print(internal_mesh.point_data)"
   ]
  },
  {
   "cell_type": "markdown",
   "id": "a9753841",
   "metadata": {},
   "source": [
    "This behavior can be turned off if only cell data is required.\n"
   ]
  },
  {
   "cell_type": "code",
   "execution_count": null,
   "id": "f3945292",
   "metadata": {
    "collapsed": false,
    "jupyter": {
     "outputs_hidden": false
    }
   },
   "outputs": [],
   "source": [
    "reader = pyvista.OpenFOAMReader(filename)\n",
    "reader.cell_to_point_creation = False\n",
    "internal_mesh = reader.read()[\"internalMesh\"]\n",
    "print(\"Cell Data:\")\n",
    "print(internal_mesh.cell_data)\n",
    "print(\"\\nPoint Data:\")\n",
    "print(internal_mesh.point_data)"
   ]
  },
  {
   "cell_type": "markdown",
   "id": "fd8a49ad",
   "metadata": {},
   "source": [
    "Now we will read in all the data at the last time point.\n"
   ]
  },
  {
   "cell_type": "code",
   "execution_count": null,
   "id": "aacfdcb1",
   "metadata": {
    "collapsed": false,
    "jupyter": {
     "outputs_hidden": false
    }
   },
   "outputs": [],
   "source": [
    "reader = pyvista.OpenFOAMReader(filename)\n",
    "print(f\"Available Time Values: {reader.time_values}\")\n",
    "reader.set_active_time_value(2.5)\n",
    "mesh = reader.read()\n",
    "internal_mesh = mesh[\"internalMesh\"]\n",
    "boundaries = mesh[\"boundary\"]"
   ]
  },
  {
   "cell_type": "markdown",
   "id": "28554605",
   "metadata": {},
   "source": [
    "This OpenFOAM simulation is in 3D with only 1 cell in the z-direction.\n",
    "First, the solution is sliced in the center of the z-direction.\n",
    "`pyvista.DataSetFilters.streamlines_evenly_spaced_2D`{.interpreted-text\n",
    "role=\"func\"} requires the data to lie in the z=0 plane. So, after the\n",
    "domain sliced, it is translated to `z=0`.\n"
   ]
  },
  {
   "cell_type": "code",
   "execution_count": null,
   "id": "ab7b0f60",
   "metadata": {
    "collapsed": false,
    "jupyter": {
     "outputs_hidden": false
    }
   },
   "outputs": [],
   "source": [
    "def slice_z_center(mesh):\n",
    "    \"\"\"Slice mesh through center in z normal direction, move to z=0.\"\"\"\n",
    "    slice_mesh = mesh.slice(normal=\"z\")\n",
    "    slice_mesh.translate((0, 0, -slice_mesh.center[-1]), inplace=True)\n",
    "    return slice_mesh\n",
    "\n",
    "\n",
    "slice_internal_mesh = slice_z_center(internal_mesh)\n",
    "slice_boundaries = pyvista.MultiBlock(\n",
    "    {key: slice_z_center(boundaries[key]) for key in boundaries.keys()}\n",
    ")"
   ]
  },
  {
   "cell_type": "markdown",
   "id": "f796ed50",
   "metadata": {},
   "source": [
    "Streamlines are generated using the point data \\\"U\\\".\n"
   ]
  },
  {
   "cell_type": "code",
   "execution_count": null,
   "id": "0bcd51df",
   "metadata": {
    "collapsed": false,
    "jupyter": {
     "outputs_hidden": false
    }
   },
   "outputs": [],
   "source": [
    "streamlines = slice_internal_mesh.streamlines_evenly_spaced_2D(\n",
    "    vectors=\"U\",\n",
    "    start_position=(0.05, 0.05, 0),\n",
    "    separating_distance=1,\n",
    "    separating_distance_ratio=0.1,\n",
    ")"
   ]
  },
  {
   "cell_type": "markdown",
   "id": "2a83d7d3",
   "metadata": {},
   "source": [
    "Plot streamlines colored by velocity magnitude. Additionally, the moving\n",
    "and fixed wall boundaries are plotted.\n"
   ]
  },
  {
   "cell_type": "code",
   "execution_count": null,
   "id": "0655de76",
   "metadata": {
    "collapsed": false,
    "jupyter": {
     "outputs_hidden": false
    }
   },
   "outputs": [],
   "source": [
    "plotter = pyvista.Plotter()\n",
    "plotter.add_mesh(slice_boundaries[\"movingWall\"], color=\"red\", line_width=3)\n",
    "plotter.add_mesh(slice_boundaries[\"fixedWalls\"], color=\"black\", line_width=3)\n",
    "plotter.add_mesh(streamlines.tube(radius=0.0005), scalars=\"U\")\n",
    "plotter.view_xy()\n",
    "plotter.enable_parallel_projection()\n",
    "plotter.show()"
   ]
  },
  {
   "cell_type": "code",
   "execution_count": null,
   "id": "b4165bc7",
   "metadata": {
    "collapsed": false,
    "jupyter": {
     "outputs_hidden": false
    }
   },
   "outputs": [],
   "source": [
    "%matplotlib inline\n",
    "from pyvista import set_plot_theme\n",
    "\n",
    "set_plot_theme(\"document\")"
   ]
  },
  {
   "cell_type": "markdown",
   "id": "b88776fe",
   "metadata": {},
   "source": [
    "Plot Open Street Map Data\n",
    "=========================\n",
    "\n",
    "This was originally posted to\n",
    "[pyvista/pyvista-support\\#486](https://github.com/pyvista/pyvista-support/issues/486).\n",
    "\n",
    "Be sure to check out [osmnx](https://github.com/gboeing/osmnx)\n",
    "\n",
    "Start by generating a graph from an address.\n"
   ]
  },
  {
   "cell_type": "code",
   "execution_count": null,
   "id": "8168b29b",
   "metadata": {
    "collapsed": false,
    "jupyter": {
     "outputs_hidden": false
    }
   },
   "outputs": [],
   "source": [
    "import numpy as np\n",
    "import osmnx as ox\n",
    "import pyvista as pv\n",
    "\n",
    "# Alternatively, use the pickeled graph included in our examples.\n",
    "from pyvista import examples"
   ]
  },
  {
   "cell_type": "markdown",
   "id": "fcd1bfe1",
   "metadata": {},
   "source": [
    "Read in the graph directly from the Open Street Map server.\n"
   ]
  },
  {
   "cell_type": "code",
   "execution_count": null,
   "id": "cbbadc7d",
   "metadata": {
    "collapsed": false,
    "jupyter": {
     "outputs_hidden": false
    }
   },
   "outputs": [],
   "source": [
    "# address = 'Holzgerlingen DE'\n",
    "# graph = ox.graph_from_address(address, dist=500, network_type='drive')\n",
    "# pickle.dump(graph, open('/tmp/tmp.p', 'wb'))\n",
    "\n",
    "graph = examples.download_osmnx_graph()"
   ]
  },
  {
   "cell_type": "markdown",
   "id": "f88c08f6",
   "metadata": {},
   "source": [
    "Next, convert the edges into pyvista lines using\n",
    "`pyvista.lines_from_points`{.interpreted-text role=\"func\"}.\n"
   ]
  },
  {
   "cell_type": "code",
   "execution_count": null,
   "id": "9ed7fdde",
   "metadata": {
    "collapsed": false,
    "jupyter": {
     "outputs_hidden": false
    }
   },
   "outputs": [],
   "source": [
    "nodes, edges = ox.graph_to_gdfs(graph)\n",
    "lines = []\n",
    "\n",
    "# convert each edge into a line\n",
    "for _, row in edges.iterrows():\n",
    "    x_pts = row[\"geometry\"].xy[0]\n",
    "    y_pts = row[\"geometry\"].xy[1]\n",
    "    z_pts = np.zeros(len(x_pts))\n",
    "    pts = np.column_stack((x_pts, y_pts, z_pts))\n",
    "    line = pv.lines_from_points(pts)\n",
    "    lines.append(line)"
   ]
  },
  {
   "cell_type": "markdown",
   "id": "a175627c",
   "metadata": {},
   "source": [
    "Finally, merge the lines and plot\n"
   ]
  },
  {
   "cell_type": "code",
   "execution_count": null,
   "id": "5cb0910c",
   "metadata": {
    "collapsed": false,
    "jupyter": {
     "outputs_hidden": false
    }
   },
   "outputs": [],
   "source": [
    "combined_lines = lines[0].merge(lines[1:])\n",
    "combined_lines.plot(line_width=3, cpos=\"xy\")"
   ]
  },
  {
   "cell_type": "code",
   "execution_count": null,
   "id": "d5fa40ba",
   "metadata": {
    "collapsed": false,
    "jupyter": {
     "outputs_hidden": false
    }
   },
   "outputs": [],
   "source": [
    "%matplotlib inline\n",
    "from pyvista import set_plot_theme\n",
    "\n",
    "set_plot_theme(\"document\")"
   ]
  },
  {
   "cell_type": "markdown",
   "id": "a5583f7d",
   "metadata": {},
   "source": [
    "Read FEniCS/Dolfin Meshes\n",
    "=========================\n",
    "\n",
    "PyVista leverages [meshio](https://github.com/nschloe/meshio) to read\n",
    "many mesh formats not natively supported by VTK including the\n",
    "[FEniCS/Dolfin](https://fenicsproject.org) XML format.\n"
   ]
  },
  {
   "cell_type": "code",
   "execution_count": null,
   "id": "2d2c133d",
   "metadata": {
    "collapsed": false,
    "jupyter": {
     "outputs_hidden": false
    }
   },
   "outputs": [],
   "source": [
    "import pyvista as pv\n",
    "from pyvista import examples"
   ]
  },
  {
   "cell_type": "markdown",
   "id": "165bb4f9",
   "metadata": {},
   "source": [
    "Let\\'s download an example FEniCS/Dolfin mesh from our example data\n",
    "repository. This will download an XML Dolfin mesh and save it to\n",
    "PyVista\\'s data directory.\n"
   ]
  },
  {
   "cell_type": "code",
   "execution_count": null,
   "id": "98ae37e7",
   "metadata": {
    "collapsed": false,
    "jupyter": {
     "outputs_hidden": false
    }
   },
   "outputs": [],
   "source": [
    "saved_file, _ = examples.downloads._download_file(\"dolfin_fine.xml\")\n",
    "print(saved_file)"
   ]
  },
  {
   "cell_type": "markdown",
   "id": "f1f3d066",
   "metadata": {},
   "source": [
    "As shown, we now have an XML Dolfin mesh save locally. This filename can\n",
    "be passed directly to PyVista\\'s `pyvista.read`{.interpreted-text\n",
    "role=\"func\"} method to be read into a PyVista mesh.\n"
   ]
  },
  {
   "cell_type": "code",
   "execution_count": null,
   "id": "857913f3",
   "metadata": {
    "collapsed": false,
    "jupyter": {
     "outputs_hidden": false
    }
   },
   "outputs": [],
   "source": [
    "dolfin = pv.read(saved_file)\n",
    "dolfin"
   ]
  },
  {
   "cell_type": "markdown",
   "id": "b5c0f20c",
   "metadata": {},
   "source": [
    "Now we can do stuff with that Dolfin mesh!\n"
   ]
  },
  {
   "cell_type": "code",
   "execution_count": null,
   "id": "9a48e4a9",
   "metadata": {
    "collapsed": false,
    "jupyter": {
     "outputs_hidden": false
    }
   },
   "outputs": [],
   "source": [
    "qual = dolfin.compute_cell_quality()\n",
    "qual.plot(show_edges=True, cpos=\"xy\")"
   ]
  },
  {
   "cell_type": "code",
   "execution_count": null,
   "id": "e479740a",
   "metadata": {
    "collapsed": false,
    "jupyter": {
     "outputs_hidden": false
    }
   },
   "outputs": [],
   "source": [
    "%matplotlib inline\n",
    "from pyvista import set_plot_theme\n",
    "\n",
    "set_plot_theme(\"document\")"
   ]
  },
  {
   "cell_type": "markdown",
   "id": "5a3532b2",
   "metadata": {},
   "source": [
    "Load and Plot from a File\n",
    "=========================\n",
    "\n",
    "Read a dataset from a known file type.\n"
   ]
  },
  {
   "cell_type": "markdown",
   "id": "33d6ba42",
   "metadata": {},
   "source": [
    "Loading a mesh is trivial - if your data is in one of the many supported\n",
    "file formats, simply use `pyvista.read`{.interpreted-text role=\"func\"}\n",
    "to load your spatially referenced dataset into a PyVista mesh object.\n",
    "\n",
    "The following code block uses a built-in example file and displays an\n",
    "airplane mesh.\n"
   ]
  },
  {
   "cell_type": "code",
   "execution_count": null,
   "id": "6b5313d7",
   "metadata": {
    "collapsed": false,
    "jupyter": {
     "outputs_hidden": false
    }
   },
   "outputs": [],
   "source": [
    "import pyvista as pv\n",
    "from pyvista import examples"
   ]
  },
  {
   "cell_type": "markdown",
   "id": "48c65d13",
   "metadata": {},
   "source": [
    "The following code block uses a built-in example file, displays an\n",
    "airplane mesh and returns the camera\\'s position:\n"
   ]
  },
  {
   "cell_type": "code",
   "execution_count": null,
   "id": "dbeb3424",
   "metadata": {
    "collapsed": false,
    "jupyter": {
     "outputs_hidden": false
    }
   },
   "outputs": [],
   "source": [
    "# Get a sample file\n",
    "filename = examples.planefile\n",
    "filename"
   ]
  },
  {
   "cell_type": "markdown",
   "id": "97c52464",
   "metadata": {},
   "source": [
    "Note the above filename, it\\'s a `.ply` file - one of the many supported\n",
    "formats in PyVista.\n"
   ]
  },
  {
   "cell_type": "code",
   "execution_count": null,
   "id": "b7400ea7",
   "metadata": {
    "collapsed": false,
    "jupyter": {
     "outputs_hidden": false
    }
   },
   "outputs": [],
   "source": [
    "mesh = pv.read(filename)\n",
    "cpos = mesh.plot()"
   ]
  },
  {
   "cell_type": "markdown",
   "id": "b81f6193",
   "metadata": {},
   "source": [
    "You can also take a screenshot without creating an interactive plot\n",
    "window using the `Plotter`:\n"
   ]
  },
  {
   "cell_type": "code",
   "execution_count": null,
   "id": "cc315f4a",
   "metadata": {
    "collapsed": false,
    "jupyter": {
     "outputs_hidden": false
    }
   },
   "outputs": [],
   "source": [
    "plotter = pv.Plotter(off_screen=True)\n",
    "plotter.add_mesh(mesh)\n",
    "plotter.show(screenshot=\"myscreenshot.png\")"
   ]
  },
  {
   "cell_type": "markdown",
   "id": "43885f2c",
   "metadata": {},
   "source": [
    "The points from the mesh are directly accessible as a NumPy array:\n"
   ]
  },
  {
   "cell_type": "code",
   "execution_count": null,
   "id": "d8142a20",
   "metadata": {
    "collapsed": false,
    "jupyter": {
     "outputs_hidden": false
    }
   },
   "outputs": [],
   "source": [
    "mesh.points"
   ]
  },
  {
   "cell_type": "markdown",
   "id": "25473847",
   "metadata": {},
   "source": [
    "The faces from the mesh are also directly accessible as a NumPy array:\n"
   ]
  },
  {
   "cell_type": "code",
   "execution_count": null,
   "id": "f0e2b716",
   "metadata": {
    "collapsed": false,
    "jupyter": {
     "outputs_hidden": false
    }
   },
   "outputs": [],
   "source": [
    "mesh.faces.reshape(-1, 4)[:, 1:]  # triangular faces"
   ]
  },
  {
   "cell_type": "markdown",
   "id": "f923bfa3",
   "metadata": {},
   "source": [
    "Loading other files types is just as easy! Simply pass your file path to\n",
    "the `pyvista.read`{.interpreted-text role=\"func\"} function and that\\'s\n",
    "it!\n",
    "\n",
    "Here are a few other examples - simply replace `examples.download_*` in\n",
    "the examples below with `pyvista.read('path/to/you/file.ext')`\n"
   ]
  },
  {
   "cell_type": "markdown",
   "id": "d942208c",
   "metadata": {},
   "source": [
    "Example STL file:\n"
   ]
  },
  {
   "cell_type": "code",
   "execution_count": null,
   "id": "9f7076aa",
   "metadata": {
    "collapsed": false,
    "jupyter": {
     "outputs_hidden": false
    }
   },
   "outputs": [],
   "source": [
    "mesh = examples.download_cad_model()\n",
    "cpos = [(107.0, 68.5, 204.0), (128.0, 86.5, 223.5), (0.45, 0.36, -0.8)]\n",
    "mesh.plot(cpos=cpos)"
   ]
  },
  {
   "cell_type": "markdown",
   "id": "af3a0a1f",
   "metadata": {},
   "source": [
    "Example OBJ file\n"
   ]
  },
  {
   "cell_type": "code",
   "execution_count": null,
   "id": "95f0066b",
   "metadata": {
    "collapsed": false,
    "jupyter": {
     "outputs_hidden": false
    }
   },
   "outputs": [],
   "source": [
    "mesh = examples.download_doorman()\n",
    "mesh.plot(cpos=\"xy\")"
   ]
  },
  {
   "cell_type": "markdown",
   "id": "5738f160",
   "metadata": {},
   "source": [
    "Example BYU file\n"
   ]
  },
  {
   "cell_type": "code",
   "execution_count": null,
   "id": "7d90ea23",
   "metadata": {
    "collapsed": false,
    "jupyter": {
     "outputs_hidden": false
    }
   },
   "outputs": [],
   "source": [
    "mesh = examples.download_teapot()\n",
    "mesh.plot(cpos=[-1, 2, -5], show_edges=True)"
   ]
  },
  {
   "cell_type": "markdown",
   "id": "d6a89361",
   "metadata": {},
   "source": [
    "Example VTK file\n"
   ]
  },
  {
   "cell_type": "code",
   "execution_count": null,
   "id": "2d7c284d",
   "metadata": {
    "collapsed": false,
    "jupyter": {
     "outputs_hidden": false
    }
   },
   "outputs": [],
   "source": [
    "mesh = examples.download_bunny_coarse()\n",
    "cpos = [(0.2, 0.3, 0.9), (0, 0, 0), (0, 1, 0)]\n",
    "mesh.plot(cpos=cpos, show_edges=True, color=True)"
   ]
  },
  {
   "cell_type": "code",
   "execution_count": null,
   "id": "5d11f24f",
   "metadata": {
    "collapsed": false,
    "jupyter": {
     "outputs_hidden": false
    }
   },
   "outputs": [],
   "source": [
    "%matplotlib inline\n",
    "from pyvista import set_plot_theme\n",
    "\n",
    "set_plot_theme(\"document\")"
   ]
  },
  {
   "cell_type": "markdown",
   "id": "19115502",
   "metadata": {},
   "source": [
    "Read Image Files\n",
    "================\n",
    "\n",
    "Read and plot image files (JPEG, TIFF, PNG, etc).\n"
   ]
  },
  {
   "cell_type": "code",
   "execution_count": null,
   "id": "9d13d1fb",
   "metadata": {
    "collapsed": false,
    "jupyter": {
     "outputs_hidden": false
    }
   },
   "outputs": [],
   "source": [
    "from pyvista import examples"
   ]
  },
  {
   "cell_type": "markdown",
   "id": "12e5cf11",
   "metadata": {},
   "source": [
    "PyVista fully supports reading images into their own spatially\n",
    "referenced data objects (this example) as well as supports texture\n",
    "mapping of images onto datasets (see\n",
    "`ref_texture_example`{.interpreted-text role=\"ref\"}).\n",
    "\n",
    "Download a JPEG image of a puppy and load it to\n",
    "`pyvista.UniformGrid`{.interpreted-text role=\"class\"}. This could\n",
    "similarly be implemented with any image file by using the\n",
    "`pyvista.read`{.interpreted-text role=\"func\"} function and passing the\n",
    "path to the image file.\n"
   ]
  },
  {
   "cell_type": "code",
   "execution_count": null,
   "id": "db01bac5",
   "metadata": {
    "collapsed": false,
    "jupyter": {
     "outputs_hidden": false
    }
   },
   "outputs": [],
   "source": [
    "image = examples.download_puppy()\n",
    "# or...\n",
    "# image = pv.read('my_image.jpg')"
   ]
  },
  {
   "cell_type": "markdown",
   "id": "b2fa33d4",
   "metadata": {},
   "source": [
    "When plotting images stored in `pyvista.UniformGrid`{.interpreted-text\n",
    "role=\"class\"} objects, it is important to specify using the\n",
    "[rgb]{.title-ref} option when plotting to ensure that the image\\'s true\n",
    "colors are used and not mapped.\n"
   ]
  },
  {
   "cell_type": "code",
   "execution_count": null,
   "id": "3f7a0f1f",
   "metadata": {
    "collapsed": false,
    "jupyter": {
     "outputs_hidden": false
    }
   },
   "outputs": [],
   "source": [
    "# True image colors\n",
    "image.plot(rgb=True, cpos=\"xy\")"
   ]
  },
  {
   "cell_type": "code",
   "execution_count": null,
   "id": "04a7e31a",
   "metadata": {
    "collapsed": false,
    "jupyter": {
     "outputs_hidden": false
    }
   },
   "outputs": [],
   "source": [
    "# Mapped image colors\n",
    "image.plot(cpos=\"xy\")"
   ]
  },
  {
   "cell_type": "code",
   "execution_count": null,
   "id": "f4f86b7b",
   "metadata": {
    "collapsed": false,
    "jupyter": {
     "outputs_hidden": false
    }
   },
   "outputs": [],
   "source": [
    "%matplotlib inline\n",
    "from pyvista import set_plot_theme\n",
    "\n",
    "set_plot_theme(\"document\")"
   ]
  },
  {
   "cell_type": "markdown",
   "id": "a7bc6ffb",
   "metadata": {},
   "source": [
    "Load data using a Reader\n",
    "========================\n"
   ]
  },
  {
   "cell_type": "markdown",
   "id": "73433715",
   "metadata": {},
   "source": [
    "To have more control over reading data files, use a class based reader.\n",
    "This class allows for more fine-grained control over reading datasets\n",
    "from files. See `pyvista.get_reader`{.interpreted-text role=\"func\"} for\n",
    "a list of file types supported.\n"
   ]
  },
  {
   "cell_type": "code",
   "execution_count": null,
   "id": "b2cac1ad",
   "metadata": {
    "collapsed": false,
    "jupyter": {
     "outputs_hidden": false
    }
   },
   "outputs": [],
   "source": [
    "from tempfile import NamedTemporaryFile\n",
    "\n",
    "import numpy as np\n",
    "import pyvista\n",
    "from pyvista import examples"
   ]
  },
  {
   "cell_type": "markdown",
   "id": "c2badf6a",
   "metadata": {},
   "source": [
    "An XML PolyData file in `.vtp` format is created. It will be saved in a\n",
    "temporary file for this example.\n"
   ]
  },
  {
   "cell_type": "code",
   "execution_count": null,
   "id": "b94cee84",
   "metadata": {
    "collapsed": false,
    "jupyter": {
     "outputs_hidden": false
    }
   },
   "outputs": [],
   "source": [
    "temp_file = NamedTemporaryFile(\"w\", suffix=\".vtp\")\n",
    "temp_file.name"
   ]
  },
  {
   "cell_type": "markdown",
   "id": "0d065e2a",
   "metadata": {},
   "source": [
    "`pyvista.Sphere`{.interpreted-text role=\"class\"} already includes\n",
    "`Normals` point data. Additionally `height` point data and `id` cell\n",
    "data is added.\n"
   ]
  },
  {
   "cell_type": "code",
   "execution_count": null,
   "id": "d9b1a31a",
   "metadata": {
    "collapsed": false,
    "jupyter": {
     "outputs_hidden": false
    }
   },
   "outputs": [],
   "source": [
    "mesh = pyvista.Sphere()\n",
    "mesh[\"height\"] = mesh.points[:, 1]\n",
    "mesh[\"id\"] = np.arange(mesh.n_cells)\n",
    "mesh.save(temp_file.name)"
   ]
  },
  {
   "cell_type": "markdown",
   "id": "bd229755",
   "metadata": {},
   "source": [
    "`pyvista.read`{.interpreted-text role=\"func\"} function reads all the\n",
    "data in the file. This provides a quick and easy one-liner to read data\n",
    "from files.\n"
   ]
  },
  {
   "cell_type": "code",
   "execution_count": null,
   "id": "49434039",
   "metadata": {
    "collapsed": false,
    "jupyter": {
     "outputs_hidden": false
    }
   },
   "outputs": [],
   "source": [
    "new_mesh = pyvista.read(temp_file.name)\n",
    "print(f\"All arrays: {mesh.array_names}\")"
   ]
  },
  {
   "cell_type": "markdown",
   "id": "074ccb61",
   "metadata": {},
   "source": [
    "Using `pyvista.get_reader`{.interpreted-text role=\"func\"} enables more\n",
    "fine-grained control of reading data files. Reading in a `.vtp`[ file\n",
    "uses the :class:\\`pyvista.XMLPolyDataReader]{.title-ref}.\n"
   ]
  },
  {
   "cell_type": "code",
   "execution_count": null,
   "id": "db0bfc91",
   "metadata": {
    "collapsed": false,
    "jupyter": {
     "outputs_hidden": false
    }
   },
   "outputs": [],
   "source": [
    "reader = pyvista.get_reader(temp_file.name)\n",
    "reader\n",
    "# Alternative method: reader = pyvista.XMLPolyDataReader(temp_file.name)"
   ]
  },
  {
   "cell_type": "markdown",
   "id": "1a487bbc",
   "metadata": {},
   "source": [
    "Some reader classes, including this one, offer the ability to inspect\n",
    "the data file before loading all the data. For example, we can access\n",
    "the number and names of point and cell arrays.\n"
   ]
  },
  {
   "cell_type": "code",
   "execution_count": null,
   "id": "d5a1ccab",
   "metadata": {
    "collapsed": false,
    "jupyter": {
     "outputs_hidden": false
    }
   },
   "outputs": [],
   "source": [
    "print(f\"Number of point arrays: {reader.number_point_arrays}\")\n",
    "print(f\"Available point data:   {reader.point_array_names}\")\n",
    "print(f\"Number of cell arrays:  {reader.number_cell_arrays}\")\n",
    "print(f\"Available cell data:    {reader.cell_array_names}\")"
   ]
  },
  {
   "cell_type": "markdown",
   "id": "92746fd6",
   "metadata": {},
   "source": [
    "We can select which data to read by selectively disabling or enabling\n",
    "specific arrays or all arrays. Here we disable all the cell arrays and\n",
    "the `Normals` point array to leave only the `height` point array. The\n",
    "data is finally read into a pyvista object that only has the `height`\n",
    "point array.\n"
   ]
  },
  {
   "cell_type": "code",
   "execution_count": null,
   "id": "37240fd5",
   "metadata": {
    "collapsed": false,
    "jupyter": {
     "outputs_hidden": false
    }
   },
   "outputs": [],
   "source": [
    "reader.disable_all_cell_arrays()\n",
    "reader.disable_point_array(\"Normals\")\n",
    "print(f\"Point array status: {reader.all_point_arrays_status}\")\n",
    "print(f\"Cell array status:  {reader.all_cell_arrays_status}\")\n",
    "reader_mesh = reader.read()\n",
    "print(f\"Read arrays:        {reader_mesh.array_names}\")"
   ]
  },
  {
   "cell_type": "markdown",
   "id": "2a422346",
   "metadata": {},
   "source": [
    "We can reuse the reader object to choose different variables if needed.\n"
   ]
  },
  {
   "cell_type": "code",
   "execution_count": null,
   "id": "ebba02d0",
   "metadata": {
    "collapsed": false,
    "jupyter": {
     "outputs_hidden": false
    }
   },
   "outputs": [],
   "source": [
    "reader.enable_all_cell_arrays()\n",
    "reader_mesh_2 = reader.read()\n",
    "print(f\"New read arrays: {reader_mesh_2.array_names}\")"
   ]
  },
  {
   "cell_type": "markdown",
   "id": "45505895",
   "metadata": {},
   "source": [
    "Some Readers support setting different time points or iterations. In\n",
    "both cases, this is done using the time point functionality. The NACA\n",
    "dataset has two such points with density. This dataset is in EnSight\n",
    "format, which uses the `pyvista.EnSightReader`{.interpreted-text\n",
    "role=\"class\"} class.\n"
   ]
  },
  {
   "cell_type": "code",
   "execution_count": null,
   "id": "a6e19239",
   "metadata": {
    "collapsed": false,
    "jupyter": {
     "outputs_hidden": false
    }
   },
   "outputs": [],
   "source": [
    "filename = examples.download_naca(load=False)\n",
    "reader = pyvista.get_reader(filename)\n",
    "time_values = reader.time_values\n",
    "print(reader)\n",
    "print(f\"Available time points: {time_values}\")\n",
    "print(f\"Available point arrays: {reader.point_array_names}\")"
   ]
  },
  {
   "cell_type": "markdown",
   "id": "eba514cd",
   "metadata": {},
   "source": [
    "First both time points are read in, and then the difference in density\n",
    "is calculated and saved on the second mesh. The read method of\n",
    "`pyvista.EnSightReader`{.interpreted-text role=\"class\"} returns a\n",
    "`pyvista.MultiBlock`{.interpreted-text role=\"class\"} instance. In this\n",
    "dataset, there are 3 blocks and the new scalar must be applied on each\n",
    "block.\n"
   ]
  },
  {
   "cell_type": "code",
   "execution_count": null,
   "id": "8f87453f",
   "metadata": {
    "collapsed": false,
    "jupyter": {
     "outputs_hidden": false
    }
   },
   "outputs": [],
   "source": [
    "reader.set_active_time_value(time_values[0])\n",
    "mesh_0 = reader.read()\n",
    "reader.set_active_time_value(time_values[1])\n",
    "mesh_1 = reader.read()\n",
    "\n",
    "for block_0, block_1 in zip(mesh_0, mesh_1):\n",
    "    block_1[\"DENS_DIFF\"] = block_1[\"DENS\"] - block_0[\"DENS\"]"
   ]
  },
  {
   "cell_type": "markdown",
   "id": "c16c2ac8",
   "metadata": {},
   "source": [
    "The value of [DENS]{.title-ref} is plotted on the left column for both\n",
    "time points, and the difference on the right.\n"
   ]
  },
  {
   "cell_type": "code",
   "execution_count": null,
   "id": "a2d2b0dc",
   "metadata": {
    "collapsed": false,
    "jupyter": {
     "outputs_hidden": false
    }
   },
   "outputs": [],
   "source": [
    "plotter = pyvista.Plotter(shape=\"2|1\")\n",
    "\n",
    "plotter.subplot(0)\n",
    "plotter.add_mesh(mesh_0, scalars=\"DENS\", show_scalar_bar=False)\n",
    "plotter.add_text(f\"{time_values[0]}\")\n",
    "\n",
    "plotter.subplot(1)\n",
    "plotter.add_mesh(mesh_1, scalars=\"DENS\", show_scalar_bar=False)\n",
    "plotter.add_text(f\"{time_values[1]}\")\n",
    "\n",
    "# pyvista currently cannot plot the same mesh twice with different scalars\n",
    "plotter.subplot(2)\n",
    "plotter.add_mesh(mesh_1.copy(), scalars=\"DENS_DIFF\", show_scalar_bar=False)\n",
    "plotter.add_text(\"DENS Difference\")\n",
    "\n",
    "plotter.link_views()\n",
    "plotter.camera_position = ((0.5, 0, 8), (0.5, 0, 0), (0, 1, 0))\n",
    "\n",
    "plotter.show()"
   ]
  },
  {
   "cell_type": "markdown",
   "id": "e418c549",
   "metadata": {},
   "source": [
    "Reading time points or iterations can also be utilized to make a movie.\n",
    "Compare to `gif_movie_example`{.interpreted-text role=\"ref\"}, but here a\n",
    "set of files are read in through a ParaView Data format file. This file\n",
    "format and reader also return a `pyvista.MultiBlock`{.interpreted-text\n",
    "role=\"class\"} mesh.\n"
   ]
  },
  {
   "cell_type": "code",
   "execution_count": null,
   "id": "9cea89cb",
   "metadata": {
    "collapsed": false,
    "jupyter": {
     "outputs_hidden": false
    }
   },
   "outputs": [],
   "source": [
    "filename = examples.download_wavy(load=False)\n",
    "reader = pyvista.get_reader(filename)\n",
    "print(reader)"
   ]
  },
  {
   "cell_type": "markdown",
   "id": "2e4eb03d",
   "metadata": {},
   "source": [
    "For each time point, plot the mesh colored by the height. Put iteration\n",
    "value in top left\n"
   ]
  },
  {
   "cell_type": "code",
   "execution_count": null,
   "id": "444dcc24",
   "metadata": {
    "collapsed": false,
    "jupyter": {
     "outputs_hidden": false
    }
   },
   "outputs": [],
   "source": [
    "plotter = pyvista.Plotter(notebook=False, off_screen=True)\n",
    "# Open a gif\n",
    "plotter.open_gif(\"wave_pvd.gif\")\n",
    "\n",
    "for time_value in reader.time_values:\n",
    "    reader.set_active_time_value(time_value)\n",
    "    mesh = reader.read()[0]  # This dataset only has 1 block\n",
    "    plotter.add_mesh(mesh, scalars=\"z\", show_scalar_bar=False, lighting=False)\n",
    "    plotter.add_text(f\"Time: {time_value:.0f}\", color=\"black\")\n",
    "    plotter.write_frame()\n",
    "    plotter.clear()\n",
    "\n",
    "plotter.close()"
   ]
  },
  {
   "cell_type": "code",
   "execution_count": null,
   "id": "908e21f2",
   "metadata": {
    "collapsed": false,
    "jupyter": {
     "outputs_hidden": false
    }
   },
   "outputs": [],
   "source": [
    "%matplotlib inline\n",
    "from pyvista import set_plot_theme\n",
    "\n",
    "set_plot_theme(\"document\")"
   ]
  },
  {
   "cell_type": "markdown",
   "id": "5ed01983",
   "metadata": {},
   "source": [
    "Working with glTF Files\n",
    "=======================\n",
    "\n",
    "Import a glTF file directly into a PyVista plotting scene. For more\n",
    "details regarding the glTF format, see: <https://www.khronos.org/gltf/>\n",
    "\n",
    "Note this feature is only available for `vtk>=9`.\n",
    "\n",
    "First, download the examples. Note that here we\\'re using a high dynamic\n",
    "range texture since glTF files generally contain physically based\n",
    "rendering and VTK v9 supports high dynamic range textures.\n"
   ]
  },
  {
   "cell_type": "code",
   "execution_count": null,
   "id": "aafb9b3e",
   "metadata": {
    "collapsed": false,
    "jupyter": {
     "outputs_hidden": false
    }
   },
   "outputs": [],
   "source": [
    "import pyvista\n",
    "from pyvista import examples\n",
    "\n",
    "helmet_file = examples.gltf.download_damaged_helmet()\n",
    "texture = examples.hdr.download_dikhololo_night()"
   ]
  },
  {
   "cell_type": "markdown",
   "id": "dc1cb898",
   "metadata": {},
   "source": [
    "Set up the plotter and enable environment textures. This works well for\n",
    "physically based rendering enabled meshes like the damaged helmet\n",
    "example.\n"
   ]
  },
  {
   "cell_type": "code",
   "execution_count": null,
   "id": "a6098a58",
   "metadata": {
    "collapsed": false,
    "jupyter": {
     "outputs_hidden": false
    }
   },
   "outputs": [],
   "source": [
    "pl = pyvista.Plotter()\n",
    "pl.import_gltf(helmet_file)\n",
    "pl.set_environment_texture(texture)\n",
    "pl.camera.zoom(1.7)\n",
    "pl.show()"
   ]
  },
  {
   "cell_type": "markdown",
   "id": "a3929ddf",
   "metadata": {},
   "source": [
    "You can also directly read in gltf files and extract the underlying\n",
    "mesh.\n"
   ]
  },
  {
   "cell_type": "code",
   "execution_count": null,
   "id": "532adf75",
   "metadata": {
    "collapsed": false,
    "jupyter": {
     "outputs_hidden": false
    }
   },
   "outputs": [],
   "source": [
    "block = pyvista.read(helmet_file)\n",
    "mesh = block[0][0][0]\n",
    "mesh.plot(color=\"tan\", show_edges=True, cpos=\"xy\")"
   ]
  },
  {
   "cell_type": "code",
   "execution_count": null,
   "id": "c91b73f3",
   "metadata": {
    "collapsed": false,
    "jupyter": {
     "outputs_hidden": false
    }
   },
   "outputs": [],
   "source": [
    "%matplotlib inline\n",
    "from pyvista import set_plot_theme\n",
    "\n",
    "set_plot_theme(\"document\")"
   ]
  },
  {
   "cell_type": "markdown",
   "id": "f110a7f8",
   "metadata": {},
   "source": [
    "Parallel Files\n",
    "==============\n",
    "\n",
    "The VTK library supports parallel file formats. Reading meshes broken up\n",
    "into several files is natively supported by VTK and PyVista.\n"
   ]
  },
  {
   "cell_type": "code",
   "execution_count": null,
   "id": "b3a0ddba",
   "metadata": {
    "collapsed": false,
    "jupyter": {
     "outputs_hidden": false
    }
   },
   "outputs": [],
   "source": [
    "import os\n",
    "\n",
    "import pyvista as pv\n",
    "from pyvista import examples"
   ]
  },
  {
   "cell_type": "markdown",
   "id": "69a55a7e",
   "metadata": {},
   "source": [
    "Let\\'s go ahead and download the sample dataset containing an\n",
    "`pyvista.UnstructuredGrid`{.interpreted-text role=\"class\"} broken up\n",
    "into several files.\n"
   ]
  },
  {
   "cell_type": "code",
   "execution_count": null,
   "id": "b3e41b37",
   "metadata": {
    "collapsed": false,
    "jupyter": {
     "outputs_hidden": false
    }
   },
   "outputs": [],
   "source": [
    "# Do not capture output because we'll demo how to read the file\n",
    "examples.download_blood_vessels()"
   ]
  },
  {
   "cell_type": "markdown",
   "id": "7f3a4806",
   "metadata": {},
   "source": [
    "The above code downloaded a dataset containing a set of parallel files\n",
    "for a blood vessel mesh and returned an\n",
    "`pyvista.UnstructuredGrid`{.interpreted-text role=\"class\"} - we did not\n",
    "grab that UnstructuredGrid, so that we could demo how to use these types\n",
    "of files.\n",
    "\n",
    "Let\\'s inspect where this downloaded our dataset:\n"
   ]
  },
  {
   "cell_type": "code",
   "execution_count": null,
   "id": "2050a358",
   "metadata": {
    "collapsed": false,
    "jupyter": {
     "outputs_hidden": false
    }
   },
   "outputs": [],
   "source": [
    "path = os.path.join(pv.EXAMPLES_PATH, \"blood_vessels\")\n",
    "os.listdir(path)"
   ]
  },
  {
   "cell_type": "code",
   "execution_count": null,
   "id": "8250113c",
   "metadata": {
    "collapsed": false,
    "jupyter": {
     "outputs_hidden": false
    }
   },
   "outputs": [],
   "source": [
    "os.listdir(os.path.join(path, \"T0000000500\"))"
   ]
  },
  {
   "cell_type": "markdown",
   "id": "6779289f",
   "metadata": {},
   "source": [
    "Note that a `.pvtu` file is available along side a directory. This\n",
    "directory contains all the parallel files or pieces that make the whole\n",
    "mesh. We can simply read the `.pvtu` file and VTK will handle putting\n",
    "the mesh together.\n"
   ]
  },
  {
   "cell_type": "code",
   "execution_count": null,
   "id": "c28a242f",
   "metadata": {
    "collapsed": false,
    "jupyter": {
     "outputs_hidden": false
    }
   },
   "outputs": [],
   "source": [
    "filename = os.path.join(path, \"T0000000500.pvtu\")\n",
    "mesh = pv.read(filename)\n",
    "mesh"
   ]
  },
  {
   "cell_type": "markdown",
   "id": "b9268700",
   "metadata": {},
   "source": [
    "Plot the pieced together mesh\n"
   ]
  },
  {
   "cell_type": "code",
   "execution_count": null,
   "id": "65348268",
   "metadata": {
    "collapsed": false,
    "jupyter": {
     "outputs_hidden": false
    }
   },
   "outputs": [],
   "source": [
    "mesh.plot(scalars=\"node_value\", categories=True)"
   ]
  },
  {
   "cell_type": "code",
   "execution_count": null,
   "id": "216e506a",
   "metadata": {
    "collapsed": false,
    "jupyter": {
     "outputs_hidden": false
    }
   },
   "outputs": [],
   "source": [
    "mesh.plot(scalars=\"density\")"
   ]
  },
  {
   "cell_type": "code",
   "execution_count": null,
   "id": "cc06f828",
   "metadata": {
    "collapsed": false,
    "jupyter": {
     "outputs_hidden": false
    }
   },
   "outputs": [],
   "source": [
    "%matplotlib inline\n",
    "from pyvista import set_plot_theme\n",
    "\n",
    "set_plot_theme(\"document\")"
   ]
  },
  {
   "cell_type": "markdown",
   "id": "dbd1e5ac",
   "metadata": {},
   "source": [
    "Background Image\n",
    "================\n",
    "\n",
    "Add a background image with\n",
    "`pyvista.Plotter.add_background_image`{.interpreted-text role=\"func\"}.\n"
   ]
  },
  {
   "cell_type": "code",
   "execution_count": null,
   "id": "a0b0ce13",
   "metadata": {
    "collapsed": false,
    "jupyter": {
     "outputs_hidden": false
    }
   },
   "outputs": [],
   "source": [
    "import pyvista as pv\n",
    "from pyvista import examples"
   ]
  },
  {
   "cell_type": "markdown",
   "id": "2c272197",
   "metadata": {},
   "source": [
    "Plot an airplane with the map of the earth in the background\n"
   ]
  },
  {
   "cell_type": "code",
   "execution_count": null,
   "id": "2c49f79b",
   "metadata": {
    "collapsed": false,
    "jupyter": {
     "outputs_hidden": false
    }
   },
   "outputs": [],
   "source": [
    "earth_alt = examples.download_topo_global()\n",
    "\n",
    "pl = pv.Plotter()\n",
    "actor = pl.add_mesh(examples.load_airplane(), smooth_shading=True)\n",
    "pl.add_background_image(examples.mapfile)\n",
    "pl.show()"
   ]
  },
  {
   "cell_type": "markdown",
   "id": "1d3e5313",
   "metadata": {},
   "source": [
    "Plot several earth related plots\n"
   ]
  },
  {
   "cell_type": "code",
   "execution_count": null,
   "id": "326b7afb",
   "metadata": {
    "collapsed": false,
    "jupyter": {
     "outputs_hidden": false
    }
   },
   "outputs": [],
   "source": [
    "pl = pv.Plotter(shape=(2, 2))\n",
    "\n",
    "pl.subplot(0, 0)\n",
    "pl.add_text(\"Earth Visible as Map\")\n",
    "pl.add_background_image(examples.mapfile, as_global=False)\n",
    "\n",
    "pl.subplot(0, 1)\n",
    "pl.add_text(\"Earth Altitude\")\n",
    "actor = pl.add_mesh(earth_alt, cmap=\"gist_earth\")\n",
    "\n",
    "pl.subplot(1, 0)\n",
    "topo = examples.download_topo_land()\n",
    "actor = pl.add_mesh(topo, cmap=\"gist_earth\")\n",
    "pl.add_text(\"Earth Land Altitude\")\n",
    "\n",
    "pl.subplot(1, 1)\n",
    "pl.add_text(\"Earth Visible as Globe\")\n",
    "pl.add_mesh(examples.load_globe(), smooth_shading=True)\n",
    "\n",
    "pl.show()"
   ]
  },
  {
   "cell_type": "code",
   "execution_count": null,
   "id": "d79a94b7",
   "metadata": {
    "collapsed": false,
    "jupyter": {
     "outputs_hidden": false
    }
   },
   "outputs": [],
   "source": [
    "%matplotlib inline\n",
    "from pyvista import set_plot_theme\n",
    "\n",
    "set_plot_theme(\"document\")"
   ]
  },
  {
   "cell_type": "markdown",
   "id": "38f45a4d",
   "metadata": {},
   "source": [
    "Clearing a Mesh or the Entire Plot\n",
    "==================================\n",
    "\n",
    "This example demonstrates how to remove elements from a scene.\n"
   ]
  },
  {
   "cell_type": "code",
   "execution_count": null,
   "id": "b3c9b0d3",
   "metadata": {
    "collapsed": false,
    "jupyter": {
     "outputs_hidden": false
    }
   },
   "outputs": [],
   "source": [
    "import pyvista as pv"
   ]
  },
  {
   "cell_type": "code",
   "execution_count": null,
   "id": "4cfff4ff",
   "metadata": {
    "collapsed": false,
    "jupyter": {
     "outputs_hidden": false
    }
   },
   "outputs": [],
   "source": [
    "plotter = pv.Plotter()\n",
    "actor = plotter.add_mesh(pv.Sphere())\n",
    "plotter.remove_actor(actor)\n",
    "plotter.show()"
   ]
  },
  {
   "cell_type": "markdown",
   "id": "294ffc48",
   "metadata": {},
   "source": [
    "Clearing the entire plotting window:\n"
   ]
  },
  {
   "cell_type": "code",
   "execution_count": null,
   "id": "17c2f108",
   "metadata": {
    "collapsed": false,
    "jupyter": {
     "outputs_hidden": false
    }
   },
   "outputs": [],
   "source": [
    "plotter = pv.Plotter()\n",
    "plotter.add_mesh(pv.Sphere())\n",
    "plotter.add_mesh(pv.Plane())\n",
    "plotter.clear()  # clears all actors\n",
    "plotter.show()"
   ]
  },
  {
   "cell_type": "markdown",
   "id": "cc0089ca",
   "metadata": {},
   "source": [
    "Or you can give any actor a `name` when adding it and if an actor is\n",
    "added with that same name at a later time, it will replace the previous\n",
    "actor:\n"
   ]
  },
  {
   "cell_type": "code",
   "execution_count": null,
   "id": "dfbdacbd",
   "metadata": {
    "collapsed": false,
    "jupyter": {
     "outputs_hidden": false
    }
   },
   "outputs": [],
   "source": [
    "plotter = pv.Plotter()\n",
    "plotter.add_mesh(pv.Sphere(), name=\"mymesh\")\n",
    "plotter.add_mesh(pv.Plane(), name=\"mymesh\")\n",
    "# Only the Plane is shown!\n",
    "plotter.show()"
   ]
  },
  {
   "cell_type": "code",
   "execution_count": null,
   "id": "9ec48fe0",
   "metadata": {
    "collapsed": false,
    "jupyter": {
     "outputs_hidden": false
    }
   },
   "outputs": [],
   "source": [
    "%matplotlib inline\n",
    "from pyvista import set_plot_theme\n",
    "\n",
    "set_plot_theme(\"document\")"
   ]
  },
  {
   "cell_type": "markdown",
   "id": "ee672c6f",
   "metadata": {},
   "source": [
    "Colormap Choices\n",
    "================\n",
    "\n",
    "Use a Matplotlib, Colorcet, cmocean, or custom colormap when plotting\n",
    "scalar values.\n"
   ]
  },
  {
   "cell_type": "code",
   "execution_count": null,
   "id": "d12e7a8e",
   "metadata": {
    "collapsed": false,
    "jupyter": {
     "outputs_hidden": false
    }
   },
   "outputs": [],
   "source": [
    "import matplotlib.pyplot as plt\n",
    "import numpy as np\n",
    "import pyvista as pv\n",
    "from matplotlib.colors import ListedColormap\n",
    "from pyvista import examples"
   ]
  },
  {
   "cell_type": "markdown",
   "id": "762cfe96",
   "metadata": {},
   "source": [
    "Any colormap built for `matplotlib`, `colorcet`, or `cmocean` is fully\n",
    "compatible with PyVista. Colormaps are typically specified by passing\n",
    "the string name of the colormap to the plotting routine via the `cmap`\n",
    "argument.\n",
    "\n",
    "See [Matplotlib\\'s complete list of available\n",
    "colormaps](https://matplotlib.org/tutorials/colors/colormaps.html),\n",
    "[Colorcet\\'s complete\n",
    "list](https://colorcet.holoviz.org/user_guide/index.html), and\n",
    "[cmocean\\'s complete list](https://matplotlib.org/cmocean/).\n"
   ]
  },
  {
   "cell_type": "markdown",
   "id": "ea7d5993",
   "metadata": {},
   "source": [
    "Custom Made Colormaps\n",
    "=====================\n",
    "\n",
    "To get started using a custom colormap, download some data with scalar\n",
    "values to plot.\n"
   ]
  },
  {
   "cell_type": "code",
   "execution_count": null,
   "id": "8cf095d2",
   "metadata": {
    "collapsed": false,
    "jupyter": {
     "outputs_hidden": false
    }
   },
   "outputs": [],
   "source": [
    "mesh = examples.download_st_helens().warp_by_scalar()\n",
    "# Add scalar array with range (0, 100) that correlates with elevation\n",
    "mesh[\"values\"] = pv.plotting.normalize(mesh[\"Elevation\"]) * 100"
   ]
  },
  {
   "cell_type": "markdown",
   "id": "31f1bfcf",
   "metadata": {},
   "source": [
    "Build a custom colormap - here we make a colormap with 5 discrete colors\n",
    "and we specify the ranges where those colors fall:\n"
   ]
  },
  {
   "cell_type": "code",
   "execution_count": null,
   "id": "81506d4a",
   "metadata": {
    "collapsed": false,
    "jupyter": {
     "outputs_hidden": false
    }
   },
   "outputs": [],
   "source": [
    "# Define the colors we want to use\n",
    "blue = np.array([12 / 256, 238 / 256, 246 / 256, 1.0])\n",
    "black = np.array([11 / 256, 11 / 256, 11 / 256, 1.0])\n",
    "grey = np.array([189 / 256, 189 / 256, 189 / 256, 1.0])\n",
    "yellow = np.array([255 / 256, 247 / 256, 0 / 256, 1.0])\n",
    "red = np.array([1.0, 0.0, 0.0, 1.0])\n",
    "\n",
    "mapping = np.linspace(mesh[\"values\"].min(), mesh[\"values\"].max(), 256)\n",
    "newcolors = np.empty((256, 4))\n",
    "newcolors[mapping >= 80] = red\n",
    "newcolors[mapping < 80] = grey\n",
    "newcolors[mapping < 55] = yellow\n",
    "newcolors[mapping < 30] = blue\n",
    "newcolors[mapping < 1] = black\n",
    "\n",
    "# Make the colormap from the listed colors\n",
    "my_colormap = ListedColormap(newcolors)"
   ]
  },
  {
   "cell_type": "markdown",
   "id": "7712eace",
   "metadata": {},
   "source": [
    "Simply pass the colormap to the plotting routine!\n"
   ]
  },
  {
   "cell_type": "code",
   "execution_count": null,
   "id": "ee744e83",
   "metadata": {
    "collapsed": false,
    "jupyter": {
     "outputs_hidden": false
    }
   },
   "outputs": [],
   "source": [
    "mesh.plot(scalars=\"values\", cmap=my_colormap)"
   ]
  },
  {
   "cell_type": "markdown",
   "id": "282bb2a1",
   "metadata": {},
   "source": [
    "Or you could make a simple colormap\\... any Matplotlib colormap can be\n",
    "passed to PyVista!\n"
   ]
  },
  {
   "cell_type": "code",
   "execution_count": null,
   "id": "7e14e924",
   "metadata": {
    "collapsed": false,
    "jupyter": {
     "outputs_hidden": false
    }
   },
   "outputs": [],
   "source": [
    "boring_cmap = plt.cm.get_cmap(\"viridis\", 5)\n",
    "mesh.plot(scalars=\"values\", cmap=boring_cmap)"
   ]
  },
  {
   "cell_type": "markdown",
   "id": "bf16b622",
   "metadata": {},
   "source": [
    "You can also pass a list of color strings to the color map. This\n",
    "approach divides up the colormap into 5 equal parts.\n"
   ]
  },
  {
   "cell_type": "code",
   "execution_count": null,
   "id": "431405fa",
   "metadata": {
    "collapsed": false,
    "jupyter": {
     "outputs_hidden": false
    }
   },
   "outputs": [],
   "source": [
    "mesh.plot(scalars=mesh[\"values\"], cmap=[\"black\", \"blue\", \"yellow\", \"grey\", \"red\"])"
   ]
  },
  {
   "cell_type": "markdown",
   "id": "9d5991cc",
   "metadata": {},
   "source": [
    "If you still wish to have control of the separation of values, you can\n",
    "do this by creating a scalar array and passing that to the plotter along\n",
    "with the the colormap\n"
   ]
  },
  {
   "cell_type": "code",
   "execution_count": null,
   "id": "11cca294",
   "metadata": {
    "collapsed": false,
    "jupyter": {
     "outputs_hidden": false
    }
   },
   "outputs": [],
   "source": [
    "scalars = np.empty(mesh.n_points)\n",
    "scalars[mesh[\"values\"] >= 80] = 4  # red\n",
    "scalars[mesh[\"values\"] < 80] = 3  # grey\n",
    "scalars[mesh[\"values\"] < 55] = 2  # yellow\n",
    "scalars[mesh[\"values\"] < 30] = 1  # blue\n",
    "scalars[mesh[\"values\"] < 1] = 0  # black\n",
    "\n",
    "mesh.plot(scalars=scalars, cmap=[\"black\", \"blue\", \"yellow\", \"grey\", \"red\"])"
   ]
  },
  {
   "cell_type": "markdown",
   "id": "8e283ed0",
   "metadata": {},
   "source": [
    "Matplotlib vs. Colorcet\n",
    "=======================\n",
    "\n",
    "Let\\'s compare Colorcet\\'s perceptually uniform \\\"fire\\\" colormap to\n",
    "Matplotlib\\'s \\\"hot\\\" colormap much like the example on the [first page\n",
    "of Colorcet\\'s docs](https://colorcet.holoviz.org/index.html).\n",
    "\n",
    "The \\\"hot\\\" version washes out detail at the high end, as if the image\n",
    "is overexposed, while \\\"fire\\\" makes detail visible throughout the data\n",
    "range.\n",
    "\n",
    "Please note that in order to use Colorcet\\'s colormaps including\n",
    "\\\"fire\\\", you must have Colorcet installed in your Python environment:\n",
    "`pip install colorcet`\n"
   ]
  },
  {
   "cell_type": "code",
   "execution_count": null,
   "id": "f11581cd",
   "metadata": {
    "collapsed": false,
    "jupyter": {
     "outputs_hidden": false
    }
   },
   "outputs": [],
   "source": [
    "p = pv.Plotter(shape=(2, 2), border=False)\n",
    "p.subplot(0, 0)\n",
    "p.add_mesh(\n",
    "    mesh,\n",
    "    scalars=\"Elevation\",\n",
    "    cmap=\"fire\",\n",
    "    lighting=True,\n",
    "    scalar_bar_args={\"title\": \"Colorcet Fire\"},\n",
    ")\n",
    "\n",
    "p.subplot(0, 1)\n",
    "p.add_mesh(\n",
    "    mesh,\n",
    "    scalars=\"Elevation\",\n",
    "    cmap=\"fire\",\n",
    "    lighting=False,\n",
    "    scalar_bar_args={\"title\": \"Colorcet Fire (No Lighting)\"},\n",
    ")\n",
    "\n",
    "p.subplot(1, 0)\n",
    "p.add_mesh(\n",
    "    mesh,\n",
    "    scalars=\"Elevation\",\n",
    "    cmap=\"hot\",\n",
    "    lighting=True,\n",
    "    scalar_bar_args={\"title\": \"Matplotlib Hot\"},\n",
    ")\n",
    "\n",
    "p.subplot(1, 1)\n",
    "p.add_mesh(\n",
    "    mesh,\n",
    "    scalars=\"Elevation\",\n",
    "    cmap=\"hot\",\n",
    "    lighting=False,\n",
    "    scalar_bar_args={\"title\": \"Matplotlib Hot (No Lighting)\"},\n",
    ")\n",
    "\n",
    "p.show()"
   ]
  },
  {
   "cell_type": "code",
   "execution_count": null,
   "id": "70f0d310",
   "metadata": {
    "collapsed": false,
    "jupyter": {
     "outputs_hidden": false
    }
   },
   "outputs": [],
   "source": [
    "%matplotlib inline\n",
    "from pyvista import set_plot_theme\n",
    "\n",
    "set_plot_theme(\"document\")"
   ]
  },
  {
   "cell_type": "markdown",
   "id": "5e993fca",
   "metadata": {},
   "source": [
    "Show Edges\n",
    "==========\n",
    "\n",
    "Show the edges of all geometries within a mesh\n"
   ]
  },
  {
   "cell_type": "markdown",
   "id": "2c9aa98a",
   "metadata": {},
   "source": [
    "Sometimes it can be useful to show all of the edges of a mesh when\n",
    "rendering to communicate aspects of the dataset like resolution.\n",
    "\n",
    "Showing the edges for any rendered dataset is as simple as specifying\n",
    "the the `show_edges` keyword argument to `True` when plotting a dataset.\n"
   ]
  },
  {
   "cell_type": "code",
   "execution_count": null,
   "id": "e9865e82",
   "metadata": {
    "collapsed": false,
    "jupyter": {
     "outputs_hidden": false
    }
   },
   "outputs": [],
   "source": [
    "from pyvista import examples\n",
    "\n",
    "nefertiti = examples.download_nefertiti()\n",
    "\n",
    "# Camera position to zoom to face\n",
    "face_view = [\n",
    "    (194.57658338658473, -327.5539184202715, 28.106692235139377),\n",
    "    (-10.46795453395034, -67.33281919301498, -19.938084799559192),\n",
    "    (-0.05444711191580967, 0.13964269728441056, 0.9887039137674948),\n",
    "]\n",
    "\n",
    "\n",
    "nefertiti.plot(cpos=face_view, show_edges=True, color=True)"
   ]
  }
 ],
 "metadata": {
  "kernelspec": {
   "display_name": "Python 3 (ipykernel)",
   "language": "python",
   "name": "python3"
  },
  "language_info": {
   "codemirror_mode": {
    "name": "ipython",
    "version": 3
   },
   "file_extension": ".py",
   "mimetype": "text/x-python",
   "name": "python",
   "nbconvert_exporter": "python",
   "pygments_lexer": "ipython3",
   "version": "3.10.4"
  }
 },
 "nbformat": 4,
 "nbformat_minor": 5
}
