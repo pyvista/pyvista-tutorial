{
 "cells": [
  {
   "cell_type": "code",
   "execution_count": null,
   "id": "9e1db10f-5617-430a-b17d-073b4104e8b6",
   "metadata": {},
   "outputs": [],
   "source": [
    "%matplotlib inline\n",
    "from pyvista import set_plot_theme\n",
    "\n",
    "set_plot_theme(\"document\")"
   ]
  },
  {
   "cell_type": "markdown",
   "id": "9a1e3119-8088-4a79-afe9-87a33ec78d73",
   "metadata": {},
   "source": [
    "# Basic usage\n",
    "\n",
    "The introduction to PyVista is a two-step process: \"importing 3D data\" and \"plotting data\". Let's plot the dataset that is built into PyVista.It can be downloaded from the example module of pyvista."
   ]
  },
  {
   "cell_type": "code",
   "execution_count": null,
   "id": "db0ae5e2-2666-4d40-8399-d4fc5915dcbb",
   "metadata": {},
   "outputs": [],
   "source": [
    "import pyvista as pv\n",
    "from pyvista import examples\n",
    "\n",
    "dataset = examples.download_bunny_coarse()\n"
   ]
  },
  {
   "cell_type": "markdown",
   "id": "4f7e3658-bb6e-4911-956c-faec213ff3e1",
   "metadata": {},
   "source": [
    "We will review the downloaded dataset. We see that the variable `dataset` stores 3D mesh data."
   ]
  },
  {
   "cell_type": "code",
   "execution_count": null,
   "id": "62ee3ed4-b14b-4a84-9a72-f4b01ea9d61b",
   "metadata": {},
   "outputs": [],
   "source": [
    "dataset\n"
   ]
  },
  {
   "cell_type": "markdown",
   "id": "9e697d73-0255-4ba5-a3d4-ceceece3e4a8",
   "metadata": {},
   "source": [
    "Want to plot this data set? All you have to do is call the plot method. Running the following cell will plot a cute little rabbit. You can zoom in by scrolling with the mouse and rotate by picking, so try it out."
   ]
  },
  {
   "cell_type": "markdown",
   "id": "1ea6a4cb-db9e-44dd-a711-950db6f0badd",
   "metadata": {},
   "source": [
    "dataset.plot()"
   ]
  },
  {
   "cell_type": "markdown",
   "id": "547984a3-8cd0-478e-b842-e57fa910faf8",
   "metadata": {},
   "source": [
    "This is the basic. But this is a plain plot a little bit. Let's decorate during the plot. How about the following decorations?\n",
    "\n",
    "1. Shows the edges of a mesh.\n",
    "1. Set the mesh color to gray.\n",
    "1. Set the camera in the xy-plane orientation.\n",
    "1. Hide axes.\n",
    "1. Set background \"white\".\n",
    "\n",
    "[`plot`](https://docs.pyvista.org/api/core/_autosummary/pyvista.DataSet.plot.html) is given the decoration options as arguments."
   ]
  },
  {
   "cell_type": "code",
   "execution_count": null,
   "id": "71c99b87-95ef-444f-9ae9-f1d1d92330d4",
   "metadata": {},
   "outputs": [],
   "source": [
    "dataset.plot(\n",
    "    show_edges=True, color=\"gray\", show_axes=False, cpos=\"xy\", background=\"white\"\n",
    ")\n"
   ]
  },
  {
   "cell_type": "markdown",
   "id": "c3502a01-52cb-4f0a-a530-0953a11c8665",
   "metadata": {},
   "source": [
    "We can read any file type supported by vtk or meshio."
   ]
  },
  {
   "cell_type": "code",
   "execution_count": null,
   "id": "d2241609-012f-4276-8837-23d0cc394357",
   "metadata": {},
   "outputs": [],
   "source": [
    "dataset = pv.read(\"Bunny.vtp\")\n"
   ]
  },
  {
   "cell_type": "markdown",
   "id": "e6fc2ad4-dddd-4e42-9f4f-b2febaac6531",
   "metadata": {},
   "source": [
    "You can also plot like matplotlib using Plotter."
   ]
  },
  {
   "cell_type": "code",
   "execution_count": null,
   "id": "27cc74e5-442a-4f06-8d4e-27316c65f8cb",
   "metadata": {},
   "outputs": [],
   "source": [
    "p = pv.Plotter(shape=(2, 2))\n",
    "mesh = pv.Sphere()\n",
    "p.set_background(\"white\")\n",
    "p.subplot(0, 0)\n",
    "p.camera_position = \"xy\"\n",
    "p.add_mesh(dataset, show_edges=True, color=\"red\", lighting=False)\n",
    "p.subplot(0, 1)\n",
    "p.camera_position = \"xy\"\n",
    "p.add_mesh(dataset, show_edges=True, color=\"blue\", lighting=False)\n",
    "p.subplot(1, 0)\n",
    "p.camera_position = \"xy\"\n",
    "p.add_mesh(dataset, show_edges=True, color=\"green\", lighting=False)\n",
    "p.subplot(1, 1)\n",
    "p.camera_position = \"xy\"\n",
    "p.add_mesh(dataset, show_edges=True, color=\"yellow\", lighting=False)\n",
    "p.show()\n"
   ]
  },
  {
   "cell_type": "markdown",
   "id": "b72faaa7-ef6f-4c3e-bb1a-ed21d7237de2",
   "metadata": {},
   "source": [
    "### Exercise 1: Watch Texas in globe map!\n",
    "\n",
    "We are doing a tutorial in Texas right now. Let's view this wonderful place on a globe."
   ]
  },
  {
   "cell_type": "code",
   "execution_count": null,
   "id": "4ce902a6-61b2-492d-b5cc-69d1e1acd01d",
   "metadata": {},
   "outputs": [],
   "source": [
    "# Your code here\n"
   ]
  },
  {
   "cell_type": "code",
   "execution_count": null,
   "id": "c357fd06-5906-47f3-9afa-2b7d3449d3b8",
   "metadata": {
    "jupyter": {
     "source_hidden": true
    },
    "tags": []
   },
   "outputs": [],
   "source": [
    "from pyvista import examples\n",
    "\n",
    "globe = examples.load_globe()\n",
    "globe.plot()\n"
   ]
  },
  {
   "cell_type": "markdown",
   "id": "ad2bfcdd-e24c-4085-be9f-97c98817742a",
   "metadata": {},
   "source": [
    "### Exercise 2: Plot globe with stars."
   ]
  },
  {
   "cell_type": "markdown",
   "id": "29c48ef7-b777-4ab4-af2b-c46e5728b43c",
   "metadata": {},
   "source": [
    "We can decorate your globe more. Let's set up a starry sky background and plot your globe there using [download_stars_jpg](https://docs.pyvista.org/api/examples/_autosummary/pyvista.examples.downloads.download_stars_jpg.html)."
   ]
  },
  {
   "cell_type": "code",
   "execution_count": null,
   "id": "1298e1f0-df59-4807-956a-f23692335af4",
   "metadata": {},
   "outputs": [],
   "source": [
    "# Your code here\n"
   ]
  },
  {
   "cell_type": "code",
   "execution_count": null,
   "id": "7cccab1a-12f4-40a7-8d18-d48c49d1ac2c",
   "metadata": {
    "jupyter": {
     "source_hidden": true
    },
    "tags": []
   },
   "outputs": [],
   "source": [
    "from pyvista import examples\n",
    "import pyvista as pv\n",
    "\n",
    "\n",
    "pl = pv.Plotter()\n",
    "stars_jpg = examples.download_stars_jpg()\n",
    "globe = examples.load_globe()\n",
    "pl.add_background_image(stars_jpg)\n",
    "pl.add_mesh(globe)\n",
    "pl.show()\n"
   ]
  },
  {
   "cell_type": "markdown",
   "id": "cc54c454-ce80-4786-b023-281a41e21d82",
   "metadata": {},
   "source": [
    "### Interfacing With Other Libraries"
   ]
  },
  {
   "cell_type": "markdown",
   "id": "9ec9bb27-0db4-4b92-a1f2-421d29595ebc",
   "metadata": {},
   "source": [
    "PyVista is heavily dependent on [numpy](https://numpy.org/) and uses it to represent point, cell, field, and other data from the VTK meshes. This data can be easily accessed from the dataset attributes like [pyvista.DataSet.points](https://docs.pyvista.org/api/core/_autosummary/pyvista.DataSet.points.html#pyvista.DataSet.points). For example the first 10 points of a circle from pyvista can be accessed with:"
   ]
  },
  {
   "cell_type": "code",
   "execution_count": null,
   "id": "1264fdd3-4a43-4882-b445-ebaccf2d7b63",
   "metadata": {},
   "outputs": [],
   "source": [
    "circle = pv.Circle()\n",
    "circle.points[:10]"
   ]
  },
  {
   "cell_type": "markdown",
   "id": "2a7741ff-1514-4134-8f27-776cdbaf7eb5",
   "metadata": {},
   "source": [
    "And these points can be operated on as if it was a NumPy array, all without losing connection to the underlying VTK data array."
   ]
  },
  {
   "cell_type": "markdown",
   "id": "fd3ed68f-c3a7-48f2-9489-ed8e9e08e3af",
   "metadata": {},
   "source": [
    "At the same time, a variety of PyVista objects can be generated directly from numpy arrays. For example, below we generate a vector field of arrows using [numpy.meshgrid()](https://numpy.org/doc/stable/reference/generated/numpy.meshgrid.html#numpy.meshgrid):"
   ]
  },
  {
   "cell_type": "code",
   "execution_count": null,
   "id": "eb9a3a03-da23-435e-b913-53e9c2ce2034",
   "metadata": {},
   "outputs": [],
   "source": [
    "import pyvista\n",
    "import numpy as np\n",
    "\n",
    "# Make a grid\n",
    "x, y, z = np.meshgrid(np.linspace(-5, 5, 20),\n",
    "                      np.linspace(-5, 5, 20),\n",
    "                      np.linspace(-5, 5, 5))\n",
    "\n",
    "points = np.empty((x.size, 3))\n",
    "points[:, 0] = x.ravel('F')\n",
    "points[:, 1] = y.ravel('F')\n",
    "points[:, 2] = z.ravel('F')\n",
    "\n",
    "# Compute a direction for the vector field\n",
    "direction = np.sin(points)**3\n",
    "\n",
    "# plot using the plotting class\n",
    "pl = pyvista.Plotter()\n",
    "pl.add_arrows(points, direction, 0.5)\n",
    "pl.show()"
   ]
  },
  {
   "cell_type": "markdown",
   "id": "2460de2a-8eb2-42c1-973f-f81791f66dd8",
   "metadata": {},
   "source": [
    "PyVista has connections to several other libraries, such as meshio and matplotlib, allowing PyVista to extend VTK with functionality from the Python ecosystem."
   ]
  },
  {
   "cell_type": "code",
   "execution_count": null,
   "id": "7799fb90-bc71-4ef9-85e0-484d34a70ed5",
   "metadata": {},
   "outputs": [],
   "source": []
  }
 ],
 "metadata": {
  "kernelspec": {
   "display_name": "Python 3 (ipykernel)",
   "language": "python",
   "name": "python3"
  },
  "language_info": {
   "codemirror_mode": {
    "name": "ipython",
    "version": 3
   },
   "file_extension": ".py",
   "mimetype": "text/x-python",
   "name": "python",
   "nbconvert_exporter": "python",
   "pygments_lexer": "ipython3",
   "version": "3.10.4"
  }
 },
 "nbformat": 4,
 "nbformat_minor": 5
}
