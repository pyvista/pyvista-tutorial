{
 "cells": [
  {
   "cell_type": "markdown",
   "id": "861ac881-ed7e-4320-847c-3e0eff699e5a",
   "metadata": {},
   "source": [
    "# PyVista and Sphinx"
   ]
  },
  {
   "cell_type": "markdown",
   "id": "57003682-75d1-403e-9619-c585c1a8cdd4",
   "metadata": {},
   "source": [
    "# Sphinx PyVista Plot Directive"
   ]
  },
  {
   "cell_type": "markdown",
   "id": "0665ced1-d7ba-4caf-b1d6-475a37af8cb7",
   "metadata": {},
   "source": [
    "You can generate static images of pyvista plots using the `.. pyvista-plot` directive by adding the following to your `conf.py` when building your documentation using Sphinx."
   ]
  },
  {
   "cell_type": "code",
   "execution_count": null,
   "id": "a9e100a7-66ac-4bef-8efd-ca3f4fc06a8e",
   "metadata": {},
   "outputs": [],
   "source": [
    "extensions = [\n",
    "    \"sphinx.ext.napoleon\",\n",
    "    \"pyvista.ext.plot_directive\",\n",
    "]"
   ]
  },
  {
   "cell_type": "markdown",
   "id": "4b394b6a-c036-4759-b2de-df77832cc27f",
   "metadata": {},
   "source": [
    "You can then issue the plotting directive within your sphinx documentation files:"
   ]
  },
  {
   "cell_type": "code",
   "execution_count": null,
   "id": "e61723af-afb1-4c5f-89f6-a61d9c25a43d",
   "metadata": {},
   "outputs": [],
   "source": [
    "import pyvista\n",
    "sphere = pyvista.Sphere()\n",
    "out = sphere.plot()"
   ]
  },
  {
   "cell_type": "markdown",
   "id": "81788103-76ed-4b3e-b557-2d37bf00c6d0",
   "metadata": {},
   "source": [
    "Which will be rendered as:"
   ]
  },
  {
   "cell_type": "code",
   "execution_count": null,
   "id": "afa4b223-fc5b-410e-9dbd-25671737023a",
   "metadata": {},
   "outputs": [],
   "source": [
    "import pyvista\n",
    "sphere = pyvista.Sphere()\n",
    "out = sphere.plot()"
   ]
  },
  {
   "cell_type": "markdown",
   "id": "e9f41653-27c0-4e00-a36a-a28af20bd648",
   "metadata": {},
   "source": [
    "Plot directive module."
   ]
  },
  {
   "cell_type": "markdown",
   "id": "15ed041f-bd7f-43a1-8924-7aaa0e7daa44",
   "metadata": {},
   "source": [
    "# A directive for including a PyVista plot in a Sphinx document"
   ]
  },
  {
   "cell_type": "markdown",
   "id": "af322856-c2cc-4ee8-a443-9b5029f85aea",
   "metadata": {},
   "source": [
    "The `.. pyvista-plot::` sphinx directive will include an inline `.png` image."
   ]
  },
  {
   "cell_type": "markdown",
   "id": "2f2e3cf2-0d14-4c8d-aa7d-3dda66b69a3c",
   "metadata": {},
   "source": [
    "The source code for the plot may be included in one of two ways:"
   ]
  },
  {
   "cell_type": "markdown",
   "id": "5c542cd2-946c-4afc-b2d2-2a9d8c087927",
   "metadata": {},
   "source": [
    "1. Using doctest syntax:"
   ]
  },
  {
   "cell_type": "code",
   "execution_count": null,
   "id": "d1545e97-d5a6-48f4-917a-b39759899db4",
   "metadata": {},
   "outputs": [],
   "source": [
    ".. pyvista-plot::\n",
    "\n",
    "   >>> import pyvista\n",
    "   >>> sphere = pyvista.Sphere()\n",
    "   >>> out = sphere.plot()"
   ]
  },
  {
   "cell_type": "markdown",
   "id": "ac7af103-36cb-4f06-afe3-3beb3dcf39b6",
   "metadata": {},
   "source": [
    "2. A path to a source file as the argument to the directive:"
   ]
  },
  {
   "cell_type": "code",
   "execution_count": null,
   "id": "3fa4eb70-962a-43fc-8936-ebfa6eaf9dc7",
   "metadata": {},
   "outputs": [],
   "source": [
    ".. plot:: path/to/plot.py"
   ]
  },
  {
   "cell_type": "markdown",
   "id": "e2c7b7b2-7726-478d-bc34-770cdbfaaea2",
   "metadata": {},
   "source": [
    "When a path to a source file is given, the content of the directive may optionally contain a caption for the plot:"
   ]
  },
  {
   "cell_type": "code",
   "execution_count": null,
   "id": "996949d5-3018-4d05-b511-6fec5103659e",
   "metadata": {},
   "outputs": [],
   "source": [
    ".. plot:: path/to/plot.py\n",
    "\n",
    "   The plot's caption."
   ]
  },
  {
   "cell_type": "markdown",
   "id": "217245dd-8672-4ec5-8f42-e218660377c5",
   "metadata": {},
   "source": [
    "Additionally, one may specify the name of a function to call (with no arguments) immediately after importing the module:"
   ]
  },
  {
   "cell_type": "code",
   "execution_count": null,
   "id": "751ff07e-f56e-46fc-a939-0d847a1919bd",
   "metadata": {},
   "outputs": [],
   "source": [
    ".. plot:: path/to/plot.py plot_function1"
   ]
  },
  {
   "cell_type": "markdown",
   "id": "800060d3-caa5-434a-bcd9-ce8c4bbbdf0a",
   "metadata": {},
   "source": [
    "Code blocks containing `doctest:+SKIP` will be skipped."
   ]
  },
  {
   "cell_type": "markdown",
   "id": "94696101-90b9-43f4-9fcb-4906c694057d",
   "metadata": {},
   "source": [
    "Animations will not be saved, only the last frame will be shown."
   ]
  },
  {
   "cell_type": "markdown",
   "id": "60d336d6-5d94-4ec7-8d24-171f029e11f7",
   "metadata": {},
   "source": [
    "# Options"
   ]
  },
  {
   "cell_type": "markdown",
   "id": "03b906f1-feca-433b-91ad-a2248315715c",
   "metadata": {},
   "source": [
    "The `pyvista-plot` directive supports the following options:"
   ]
  },
  {
   "cell_type": "markdown",
   "id": "7de93501-d921-4c39-bf71-a4028797cfdc",
   "metadata": {},
   "source": [
    "TODO: Add option view"
   ]
  },
  {
   "cell_type": "code",
   "execution_count": null,
   "id": "bfa64fda-d921-4c16-936e-47cc11b8f299",
   "metadata": {},
   "outputs": [],
   "source": [
    "Additionally, this directive supports all of the options of the image directive, except for target (since plot will add its own target). These include alt, height, width, scale, align."
   ]
  }
 ],
 "metadata": {
  "kernelspec": {
   "display_name": "Python 3 (ipykernel)",
   "language": "python",
   "name": "python3"
  },
  "language_info": {
   "codemirror_mode": {
    "name": "ipython",
    "version": 3
   },
   "file_extension": ".py",
   "mimetype": "text/x-python",
   "name": "python",
   "nbconvert_exporter": "python",
   "pygments_lexer": "ipython3",
   "version": "3.10.4"
  }
 },
 "nbformat": 4,
 "nbformat_minor": 5
}
