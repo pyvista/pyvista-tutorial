{
 "cells": [
  {
   "cell_type": "markdown",
   "id": "fc973151-31ae-449d-8af8-fc7023f4af72",
   "metadata": {},
   "source": [
    "# PyVista and Sphinx"
   ]
  },
  {
   "cell_type": "markdown",
   "id": "c6f8e653-6c4a-4e49-a4a3-1f42702efadd",
   "metadata": {},
   "source": [
    "Leverage PyVista to make some awesome interactive web documentation."
   ]
  },
  {
   "cell_type": "markdown",
   "id": "57003682-75d1-403e-9619-c585c1a8cdd4",
   "metadata": {},
   "source": [
    "# Sphinx PyVista Plot Directive"
   ]
  },
  {
   "cell_type": "markdown",
   "id": "0665ced1-d7ba-4caf-b1d6-475a37af8cb7",
   "metadata": {},
   "source": [
    "You can generate static images of pyvista plots using the `.. pyvista-plot` directive by adding the following to your `conf.py` when building your documentation using Sphinx."
   ]
  },
  {
   "cell_type": "code",
   "execution_count": null,
   "id": "a9e100a7-66ac-4bef-8efd-ca3f4fc06a8e",
   "metadata": {},
   "outputs": [],
   "source": [
    "%load -r 33-36 ./examples_sphinx/conf.py"
   ]
  },
  {
   "cell_type": "markdown",
   "id": "4b394b6a-c036-4759-b2de-df77832cc27f",
   "metadata": {},
   "source": [
    "You can then issue the plotting directive within your sphinx documentation files:"
   ]
  },
  {
   "cell_type": "code",
   "execution_count": null,
   "id": "c2b85416-4afb-4731-9168-75ddeb4dd8c3",
   "metadata": {},
   "outputs": [],
   "source": [
    "%load -r 18-25 ./examples_sphinx/index.rst"
   ]
  },
  {
   "cell_type": "code",
   "execution_count": null,
   "id": "16e11384-fa38-4a3c-9cf1-e80c5b88b2c8",
   "metadata": {},
   "outputs": [],
   "source": [
    "!cd examples_sphinx && make html && cd ../"
   ]
  },
  {
   "cell_type": "markdown",
   "id": "f68c55b3-8799-4754-b555-375537dae388",
   "metadata": {},
   "source": [
    "Which will be rendered as:"
   ]
  },
  {
   "cell_type": "markdown",
   "id": "a250df47-04db-44d3-81bc-cb7d87dca7e4",
   "metadata": {},
   "source": [
    "```python\n",
    "import pyvista\n",
    "sphere = pyvista.Sphere()\n",
    "out = sphere.plot()\n",
    "```"
   ]
  },
  {
   "cell_type": "markdown",
   "id": "e9f41653-27c0-4e00-a36a-a28af20bd648",
   "metadata": {},
   "source": [
    "Plot directive module.\n",
    "\n",
    "![plot_directive-2_00_00](https://docs.pyvista.org/_images/plot_directive-2_00_00.png)"
   ]
  },
  {
   "cell_type": "markdown",
   "id": "15ed041f-bd7f-43a1-8924-7aaa0e7daa44",
   "metadata": {},
   "source": [
    "# A directive for including a PyVista plot in a Sphinx document"
   ]
  },
  {
   "cell_type": "markdown",
   "id": "af322856-c2cc-4ee8-a443-9b5029f85aea",
   "metadata": {},
   "source": [
    "The `.. pyvista-plot::` sphinx directive will include an inline `.png` image."
   ]
  },
  {
   "cell_type": "markdown",
   "id": "2f2e3cf2-0d14-4c8d-aa7d-3dda66b69a3c",
   "metadata": {},
   "source": [
    "The source code for the plot may be included in one of two ways:"
   ]
  },
  {
   "cell_type": "markdown",
   "id": "5c542cd2-946c-4afc-b2d2-2a9d8c087927",
   "metadata": {},
   "source": [
    "1. Using doctest syntax:"
   ]
  },
  {
   "cell_type": "code",
   "execution_count": null,
   "id": "0745288d-b728-44ca-b02d-fb4423d641e4",
   "metadata": {},
   "outputs": [],
   "source": [
    "%load -r 19-23 ./examples_sphinx/index.rst"
   ]
  },
  {
   "cell_type": "markdown",
   "id": "ac7af103-36cb-4f06-afe3-3beb3dcf39b6",
   "metadata": {},
   "source": [
    "2. A path to a source file as the argument to the directive:"
   ]
  },
  {
   "cell_type": "code",
   "execution_count": null,
   "id": "4cfe3bad-28ba-4009-aae6-0f0045e6884e",
   "metadata": {},
   "outputs": [],
   "source": [
    "%load -r 25 ./examples_sphinx/index.rst"
   ]
  },
  {
   "cell_type": "markdown",
   "id": "e2c7b7b2-7726-478d-bc34-770cdbfaaea2",
   "metadata": {},
   "source": [
    "When a path to a source file is given, the content of the directive may optionally contain a caption for the plot:"
   ]
  },
  {
   "cell_type": "code",
   "execution_count": null,
   "id": "7ed5e096-1abc-489b-8835-14471ceda5fc",
   "metadata": {},
   "outputs": [],
   "source": [
    "%load -r 27-29 ./examples_sphinx/index.rst"
   ]
  },
  {
   "cell_type": "markdown",
   "id": "217245dd-8672-4ec5-8f42-e218660377c5",
   "metadata": {},
   "source": [
    "Additionally, one may specify the name of a function to call (with no arguments) immediately after importing the module:"
   ]
  },
  {
   "cell_type": "code",
   "execution_count": null,
   "id": "4c9d153d-4d3c-41b8-9e63-2dc6b7a88d0b",
   "metadata": {},
   "outputs": [],
   "source": [
    "%load -r 31 ./examples_sphinx/index.rst"
   ]
  },
  {
   "cell_type": "markdown",
   "id": "800060d3-caa5-434a-bcd9-ce8c4bbbdf0a",
   "metadata": {},
   "source": [
    "Code blocks containing `doctest:+SKIP` will be skipped."
   ]
  },
  {
   "cell_type": "markdown",
   "id": "94696101-90b9-43f4-9fcb-4906c694057d",
   "metadata": {},
   "source": [
    "Animations will not be saved, only the last frame will be shown.\n"
   ]
  },
  {
   "cell_type": "markdown",
   "id": "db0658af-ca81-437b-9dad-32c1752154e2",
   "metadata": {},
   "source": [
    "Options\n",
    "-------"
   ]
  },
  {
   "cell_type": "markdown",
   "id": "03b906f1-feca-433b-91ad-a2248315715c",
   "metadata": {},
   "source": [
    "The `pyvista-plot` directive supports the following options:"
   ]
  },
  {
   "cell_type": "markdown",
   "id": "7de93501-d921-4c39-bf71-a4028797cfdc",
   "metadata": {},
   "source": [
    "    include-source : bool\n",
    "        Whether to display the source code. The default can be changed\n",
    "        using the `plot_include_source` variable in :file:`conf.py`.\n",
    "    encoding : str\n",
    "        If this source file is in a non-UTF8 or non-ASCII encoding, the\n",
    "        encoding must be specified using the ``:encoding:`` option.  The\n",
    "        encoding will not be inferred using the ``-*- coding -*-`` metacomment.\n",
    "    context : None\n",
    "        If provided, the code will be run in the context of all previous plot\n",
    "        directives for which the ``:context:`` option was specified.  This only\n",
    "        applies to inline code plot directives, not those run from files.\n",
    "    nofigs : bool\n",
    "        If specified, the code block will be run, but no figures will be\n",
    "        inserted.  This is usually useful with the ``:context:`` option.\n",
    "    caption : str\n",
    "        If specified, the option's argument will be used as a caption for the\n",
    "        figure. This overwrites the caption given in the content, when the plot\n",
    "        is generated from a file."
   ]
  },
  {
   "cell_type": "markdown",
   "id": "90eb5582-3479-48e5-b2bb-0933a2aeef55",
   "metadata": {},
   "source": [
    "Additionally, this directive supports all of the options of the `image`\n",
    "directive, except for *target* (since plot will add its own target).  These\n",
    "include *alt*, *height*, *width*, *scale*, *align*."
   ]
  },
  {
   "cell_type": "markdown",
   "id": "72b458cc-515c-43fd-b834-f9647021c24d",
   "metadata": {},
   "source": [
    "Configuration options\n",
    "---------------------\n",
    "The plot directive has the following configuration options:"
   ]
  },
  {
   "cell_type": "markdown",
   "id": "b1459dc0-0e1f-4913-8ef6-b9cc26fc6c44",
   "metadata": {},
   "source": [
    "    plot_include_source\n",
    "        Default value for the include-source option.\n",
    "    plot_basedir\n",
    "        Base directory, to which ``plot::`` file names are relative\n",
    "        to.  (If ``None`` or empty, file names are relative to the\n",
    "        directory where the file containing the directive is.)\n",
    "    plot_html_show_formats\n",
    "        Whether to show links to the files in HTML.\n",
    "    plot_template\n",
    "        Provide a customized template for preparing restructured text."
   ]
  },
  {
   "cell_type": "markdown",
   "id": "c167d967-e906-4bdc-ab13-6236e1e15a36",
   "metadata": {},
   "source": [
    "# Plotting Themes"
   ]
  },
  {
   "cell_type": "markdown",
   "id": "f8e7de9a-34e1-48d9-875c-798ba5825659",
   "metadata": {},
   "source": [
    "PyVista plotting parameters can be controlled on a plot by plot basis or through a global theme, making it possible to control mesh colors and styles through one global configuration."
   ]
  },
  {
   "cell_type": "markdown",
   "id": "173b73d5-77ee-4af5-a07a-9c73231e4510",
   "metadata": {},
   "source": [
    "The default theme parameters in PyVista can be accessed and displayed with:"
   ]
  },
  {
   "cell_type": "code",
   "execution_count": null,
   "id": "75f4bb1b-3bc3-416a-babe-f3a9a2231766",
   "metadata": {},
   "outputs": [],
   "source": [
    "import pyvista\n",
    "\n",
    "pyvista.global_theme"
   ]
  },
  {
   "cell_type": "markdown",
   "id": "fe706220-84af-4762-8497-ca255444ee12",
   "metadata": {},
   "source": [
    "Default plotting parameters can be accessed individually by their attribute names:"
   ]
  },
  {
   "cell_type": "code",
   "execution_count": null,
   "id": "1433499d-1edb-4845-a11b-ea3be91f233f",
   "metadata": {},
   "outputs": [],
   "source": [
    "pyvista.global_theme.color = \"tan\""
   ]
  },
  {
   "cell_type": "markdown",
   "id": "f9eaa91f-dc45-4416-9e81-4a349003dfd9",
   "metadata": {},
   "source": [
    "Here’s an example plot of the Stanford Dragon using default plotting parameters:"
   ]
  },
  {
   "cell_type": "code",
   "execution_count": null,
   "id": "390109bc-ad03-46aa-a01e-8073ad38dc7d",
   "metadata": {},
   "outputs": [],
   "source": [
    "import pyvista\n",
    "from pyvista import examples\n",
    "\n",
    "dragon = examples.download_dragon()\n",
    "dragon.plot(cpos=\"xy\")"
   ]
  },
  {
   "cell_type": "markdown",
   "id": "b8873e9d-d261-4f74-b4bd-296959ae180b",
   "metadata": {},
   "source": [
    "These parameters can then be modified globally with:"
   ]
  },
  {
   "cell_type": "code",
   "execution_count": null,
   "id": "60f33ac6-6a6d-4f6d-9dc2-34c4cbf8af66",
   "metadata": {},
   "outputs": [],
   "source": [
    "pyvista.global_theme.color = \"red\"\n",
    "pyvista.global_theme.background = \"white\"\n",
    "pyvista.global_theme.axes.show = False"
   ]
  },
  {
   "cell_type": "markdown",
   "id": "94bda1ce-c9b7-4ace-815f-19691e4e3f22",
   "metadata": {},
   "source": [
    "Now, the mesh will be plotted with the new global parameters:"
   ]
  },
  {
   "cell_type": "code",
   "execution_count": null,
   "id": "c15d0c18-999f-417a-8cd5-fd2e7e732855",
   "metadata": {},
   "outputs": [],
   "source": [
    "dragon.plot(cpos=\"xy\")"
   ]
  },
  {
   "cell_type": "markdown",
   "id": "3b99074e-7085-4931-8d5d-e7a071f660ee",
   "metadata": {},
   "source": [
    "This is identical to plotting the mesh with the following parameters:"
   ]
  },
  {
   "cell_type": "code",
   "execution_count": null,
   "id": "0514dae4-4371-4659-baad-991fb89f9665",
   "metadata": {},
   "outputs": [],
   "source": [
    "dragon.plot(cpos=\"xy\", color=\"red\", background=\"white\", show_axes=False)"
   ]
  },
  {
   "cell_type": "markdown",
   "id": "5e136bc4-6521-46c1-a85b-1bd52a3dced7",
   "metadata": {},
   "source": [
    "# Creating A Custom Theme"
   ]
  },
  {
   "cell_type": "markdown",
   "id": "d5e4d0c9-8e74-4253-9a4a-404b55d7ca04",
   "metadata": {},
   "source": [
    "You can customize a theme based on one of the built-in themes and then apply it globally with:"
   ]
  },
  {
   "cell_type": "markdown",
   "id": "7df51be4-97da-4a77-9945-246482781e4f",
   "metadata": {},
   "source": [
    "Create a theme based off the DocumentTheme"
   ]
  },
  {
   "cell_type": "code",
   "execution_count": null,
   "id": "65d656d6-feba-43bd-809c-08f022d21b3f",
   "metadata": {},
   "outputs": [],
   "source": [
    "my_theme = pyvista.themes.DocumentTheme()\n",
    "my_theme.cmap = \"jet\"\n",
    "my_theme.show_edges = True"
   ]
  },
  {
   "cell_type": "markdown",
   "id": "7325e2b1-87e4-4c6e-bb30-814a1b4fd62f",
   "metadata": {},
   "source": [
    "Apply it globally"
   ]
  },
  {
   "cell_type": "code",
   "execution_count": null,
   "id": "292fe5c3-e614-48b8-bcff-12728e7fe9f6",
   "metadata": {},
   "outputs": [],
   "source": [
    "pyvista.global_theme.load_theme(my_theme)"
   ]
  },
  {
   "cell_type": "markdown",
   "id": "de9027f8-419f-4912-91f4-20c2199868b6",
   "metadata": {},
   "source": [
    "And then subsequently loaded in a new session of pyvista with:"
   ]
  },
  {
   "cell_type": "markdown",
   "id": "ec9c4f1b-db7d-489f-83b3-534c003816e8",
   "metadata": {},
   "source": [
    "```python\n",
    "pyvista.global_theme.load_theme('my_theme.json')\n",
    "```"
   ]
  },
  {
   "cell_type": "markdown",
   "id": "cae4766c-c0b1-4d94-a977-67cfe4cfc0fc",
   "metadata": {},
   "source": [
    "# Theme API"
   ]
  },
  {
   "cell_type": "markdown",
   "id": "13b80d37-a0dd-4eff-81bd-f349e8b01e07",
   "metadata": {},
   "source": [
    "See [Themes](https://docs.pyvista.org/api/plotting/theme.html#theme-api) for the full API definition."
   ]
  },
  {
   "cell_type": "markdown",
   "id": "0f16e998-13c5-44a6-89c6-17ab3556263e",
   "metadata": {},
   "source": [
    "# Jupyter Notebook Plotting"
   ]
  },
  {
   "cell_type": "markdown",
   "id": "65e5d496-9910-4472-a0c3-d1ed6eb2f329",
   "metadata": {},
   "source": [
    "Plot with ``pyvista`` interactively within a [Jupyter\n",
    "](https://jupyter.org/)` notebook!"
   ]
  },
  {
   "cell_type": "markdown",
   "id": "c2aa89e8-3838-4cc3-b9b6-b245b3107eb5",
   "metadata": {},
   "source": [
    "## Demo Using ``pythreejs``"
   ]
  },
  {
   "cell_type": "markdown",
   "id": "686628ef-fcb6-49c7-94a1-e30449d51085",
   "metadata": {
    "tags": []
   },
   "source": [
    "Create interactive physically based rendering using `pythreejs`_."
   ]
  },
  {
   "cell_type": "code",
   "execution_count": null,
   "id": "91cfcbc3-f8e3-4067-a61c-bc5349d73325",
   "metadata": {
    "tags": []
   },
   "outputs": [],
   "source": [
    "import pyvista\n",
    "\n",
    "pyvista.global_theme.background = \"white\"\n",
    "pyvista.global_theme.antialiasing = True\n",
    "pyvista.global_theme.window_size = [600, 600]\n",
    "\n",
    "import pyvista as pv\n",
    "from pyvista import examples\n",
    "\n",
    "# download an example and display it using physically based rendering.\n",
    "mesh = examples.download_lucy()\n",
    "mesh.plot(color=\"lightgrey\", pbr=True, metallic=0.2, jupyter_backend=\"pythreejs\")"
   ]
  },
  {
   "cell_type": "markdown",
   "id": "e61d133c-2fd4-4ec6-ba8e-da57e08c8098",
   "metadata": {
    "tags": []
   },
   "source": [
    "## Demo Using ``ipygany``"
   ]
  },
  {
   "cell_type": "code",
   "execution_count": null,
   "id": "c6c53d57-9548-4fca-8ee1-d4f4c44ed98b",
   "metadata": {
    "tags": []
   },
   "outputs": [],
   "source": [
    "from pyvista import demos\n",
    "\n",
    "# basic glyphs demo\n",
    "mesh = demos.glyphs(2)\n",
    "\n",
    "text = demos.logo.text_3d(\"I'm interactive!\", depth=0.2)\n",
    "text.points *= 0.1\n",
    "text.translate([0, 1.4, 1.5], inplace=True)\n",
    "mesh += text\n",
    "mesh[\"Example Scalars\"] = mesh.points[:, 0]\n",
    "\n",
    "mesh.plot(cpos=\"xy\", jupyter_backend=\"ipygany\", show_scalar_bar=True)"
   ]
  },
  {
   "cell_type": "markdown",
   "id": "88ed40cd-4012-4544-8f37-ccddde7fe4e5",
   "metadata": {
    "tags": []
   },
   "source": [
    "## Demo Using ``panel``"
   ]
  },
  {
   "cell_type": "code",
   "execution_count": null,
   "id": "fa0c4855-03e3-46b0-87cd-93995cf788e9",
   "metadata": {
    "tags": []
   },
   "outputs": [],
   "source": [
    "from pyvista import demos\n",
    "\n",
    "demos.plot_logo(jupyter_backend=\"panel\")"
   ]
  },
  {
   "cell_type": "markdown",
   "id": "96666a90-a5b9-47a2-a806-117d44dd40ac",
   "metadata": {
    "tags": []
   },
   "source": [
    "## Supported Modules"
   ]
  },
  {
   "cell_type": "markdown",
   "id": "2ba228df-19ca-42b3-a48c-25c476bb6e50",
   "metadata": {
    "tags": []
   },
   "source": [
    "The PyVista module supports a variety of backends when plotting within\n",
    "a jupyter notebook:\n",
    "\n",
    "* Server-side rendering with PyVista streaming to the notebook through\n",
    "  [ipyvtklink](https://github.com/Kitware/ipyvtklink/).\n",
    "* Client-side rendering with [pythreejs](https://github.com/jupyter-widgets/pythreejs) using ``threejs``.\n",
    "* Client-side rendering with `ipygany <https://github.com/QuantStack/ipygany>`_ using ``threejs``.\n",
    "* Client-side rendering using `panel <https://github.com/holoviz/panel>`_ using ``vtk.js``.\n",
    "* Client-side rendering with `itkwidgets <https://github.com/InsightSoftwareConsortium/itkwidgets>`_ using ``itk.js`` and ``vtk.js``.\n",
    "* Static images."
   ]
  },
  {
   "cell_type": "markdown",
   "id": "b65b541d-6d51-45ff-b40f-76ff382b0ab9",
   "metadata": {
    "tags": []
   },
   "source": [
    "## Details for Each Backend"
   ]
  },
  {
   "cell_type": "markdown",
   "id": "9f289573-fa18-4e6f-9d8d-ffec11dd3222",
   "metadata": {
    "tags": []
   },
   "source": [
    "See the individual package pages on each backend for additional\n",
    "details on how to use these plotting backends.\n",
    "\n",
    "- [Using pythreejs with PyVista](https://docs.pyvista.org/user-guide/jupyter/pythreejs.html)\n",
    "- [Using ipygany with PyVista](https://docs.pyvista.org/user-guide/jupyter/ipygany.html)\n",
    "- [Using Panel with PyVista](https://docs.pyvista.org/user-guide/jupyter/panel.html)\n",
    "- [Using ipyvtklink with PyVista](https://docs.pyvista.org/user-guide/jupyter/ipyvtk_plotting.html)\n",
    "- [Using itkwidgets with PyVista](https://docs.pyvista.org/user-guide/jupyter/itk_plotting.html)"
   ]
  },
  {
   "cell_type": "markdown",
   "id": "ca50e09c-7e83-45a1-b3c4-9b99567656dc",
   "metadata": {
    "tags": []
   },
   "source": [
    "## State of 3D Interactive Jupyterlab Plotting"
   ]
  },
  {
   "cell_type": "markdown",
   "id": "b556deb3-9f3d-4f1e-af2e-9208d30b271c",
   "metadata": {
    "tags": []
   },
   "source": [
    "3D plotting within Jupyter notebooks is an emerging technology,\n",
    "partially because Jupyter is still relatively new, but also because\n",
    "the web technology used here is also new and rapidly developing as\n",
    "more and more users and developers shift to the cloud or cloud-based\n",
    "visualization.  Things here are likely to break and rapidly change\n",
    "\n",
    "This was written in March 2021 and updated in August 2021, and may\n",
    "already be out of date.  Be sure to check the developer websites\n",
    "for any changes."
   ]
  },
  {
   "cell_type": "markdown",
   "id": "db5833dd-f82e-44d3-9ede-b54016198c7e",
   "metadata": {
    "tags": []
   },
   "source": [
    "When plotting using Jupyterlab you have the option of using one of\n",
    "many modules, each of which has its advantages, disadvantages, and\n",
    "quirks.  While ``pyvista`` attempts to remove some of the differences\n",
    "in the API when using the ``Plotting`` class, the plots will still\n",
    "look and feel differently depending on the backend.  Additionally,\n",
    "different backends have different requirements and may not support\n",
    "your deployment environment."
   ]
  },
  {
   "cell_type": "markdown",
   "id": "f071a818-c6a2-4b0e-880e-65d81cf53b45",
   "metadata": {
    "tags": []
   },
   "source": [
    "This table details various capabilities and technologies used by the\n",
    "jupyter notebook plotting modules:"
   ]
  },
  {
   "cell_type": "markdown",
   "id": "c33e409e-e030-4f73-abee-b114427383f2",
   "metadata": {
    "tags": []
   },
   "source": [
    "### Jupyter Notebook 3D Modules"
   ]
  },
  {
   "cell_type": "markdown",
   "id": "7c61f3dc-5e23-4239-86a8-7139275293fb",
   "metadata": {
    "tags": []
   },
   "source": [
    "|               | Jupyterlab 3 | Rendering Location | Backend | Requires Framebuffer |\n",
    "|---------------|--------------|--------------------|---------|----------------------|\n",
    "| panel         | Yes          | Client             | vtk.js  | Yes                  |\n",
    "| pythreejs     | Yes          | Client             | threejs | No                   |\n",
    "| ipygany       | Yes          | Client             | threejs | No                   |\n",
    "| ipyvtklink    | Yes          | Server             | vtk     | Yes                  |\n",
    "| itkwidgets    | No           | Client             | vtk.js  | Yes                  |"
   ]
  },
  {
   "cell_type": "markdown",
   "id": "c91b12b4-516b-4745-9866-3960559e916e",
   "metadata": {
    "tags": []
   },
   "source": [
    "At the moment, ``itkwidgets`` and ``ipyvtklink`` are incompatible with\n",
    "Jupyterlab 3, and will result in a \"Error displaying widget: model not\n",
    "found\" message from juptyer.  Additionally, all the modules other than\n",
    "``ipygany`` and ``pythreejs`` require a framebuffer, which can be\n",
    "set up on a headless environment with [pyvista.start_xvfb](https://docs.pyvista.org/api/utilities/_autosummary/pyvista.start_xvfb.html#pyvista.start_xvfb).\n",
    "However, on Google Colab, where it's not possible to install system\n",
    "packages, you should stick with a module like ``threejs``, which does\n",
    "not require any server side rendering or framebuffer."
   ]
  },
  {
   "cell_type": "markdown",
   "id": "2e47023e-344d-41f9-b14e-be3146d89c32",
   "metadata": {
    "tags": []
   },
   "source": [
    "See [Installation](https://docs.pyvista.org/getting-started/installation.html#install-ref) for more details installing on a headless\n",
    "environment for the backends requiring a framebuffer.  When installing\n",
    "the individual packages, the Jupyterlab 3 compatible packages can be\n",
    "installed with a simple ``pip install <package>``.  See the\n",
    "installation instructions for the other packages for more details."
   ]
  },
  {
   "cell_type": "markdown",
   "id": "92b90551-e483-41e5-91f9-d1781a72dabd",
   "metadata": {
    "tags": []
   },
   "source": [
    "### Usage with PyVista\n",
    "There are two ways to set the jupyter plotting backend.  First, it can\n",
    "be done on a plot by plot basis by setting the ``jupyter_backend`` parameter in\n",
    "either [Plotter.show()](https://docs.pyvista.org/api/plotting/_autosummary/pyvista.Plotter.show.html#pyvista.Plotter.show) or [dataset.plot()](https://docs.pyvista.org/api/core/_autosummary/pyvista.DataSet.plot.html#pyvista.DataSet.plot).  You can also set it globally with the\n",
    "[pyvista.set_jupyter_backend](https://docs.pyvista.org/user-guide/jupyter/index.html#pyvista.set_jupyter_backend).  For further details:"
   ]
  },
  {
   "cell_type": "code",
   "execution_count": null,
   "id": "bb7410b0-3564-4823-9b2e-11f618630d32",
   "metadata": {
    "tags": []
   },
   "outputs": [],
   "source": [
    "pyvista.set_jupyter_backend?"
   ]
  },
  {
   "cell_type": "code",
   "execution_count": null,
   "id": "7a96f4e6",
   "metadata": {
    "collapsed": false,
    "jupyter": {
     "outputs_hidden": false
    }
   },
   "outputs": [],
   "source": [
    "%matplotlib inline\n",
    "from pyvista import set_plot_theme\n",
    "\n",
    "set_plot_theme(\"document\")"
   ]
  },
  {
   "cell_type": "markdown",
   "id": "896420db",
   "metadata": {},
   "source": [
    "Control Global and Local Plotting Themes\n",
    "========================================\n",
    "\n",
    "PyVista allows you to set global and local plotting themes to easily set\n",
    "default plotting parameters.\n"
   ]
  },
  {
   "cell_type": "code",
   "execution_count": null,
   "id": "cc5a9fdf",
   "metadata": {
    "collapsed": false,
    "jupyter": {
     "outputs_hidden": false
    }
   },
   "outputs": [],
   "source": [
    "import pyvista as pv\n",
    "from pyvista import examples"
   ]
  },
  {
   "cell_type": "markdown",
   "id": "43aa3302",
   "metadata": {},
   "source": [
    "Define a simple plotting routine for comparing the themes.\n"
   ]
  },
  {
   "cell_type": "code",
   "execution_count": null,
   "id": "afbb50a4",
   "metadata": {
    "collapsed": false,
    "jupyter": {
     "outputs_hidden": false
    }
   },
   "outputs": [],
   "source": [
    "mesh = examples.download_st_helens().warp_by_scalar()\n",
    "\n",
    "\n",
    "def plot_example():\n",
    "    p = pv.Plotter()\n",
    "    p.add_mesh(mesh)\n",
    "    p.add_bounding_box()\n",
    "    p.show()"
   ]
  },
  {
   "cell_type": "markdown",
   "id": "025761fc",
   "metadata": {},
   "source": [
    "PyVista\\'s default color theme is chosen to be generally easy on your\n",
    "eyes and is best used when working long hours on your visualization\n",
    "project. The grey background and warm colormaps are chosen to make sure\n",
    "3D renderings do not drastically change the brightness of your screen\n",
    "when working in dark environments.\n",
    "\n",
    "Here\\'s an example of our default plotting theme - this is what you\n",
    "would see by default after running any of our examples locally.\n"
   ]
  },
  {
   "cell_type": "code",
   "execution_count": null,
   "id": "a6a9fda0",
   "metadata": {
    "collapsed": false,
    "jupyter": {
     "outputs_hidden": false
    }
   },
   "outputs": [],
   "source": [
    "pv.set_plot_theme(\"default\")\n",
    "plot_example()"
   ]
  },
  {
   "cell_type": "markdown",
   "id": "91422c63",
   "metadata": {},
   "source": [
    "PyVista also ships with a few plotting themes:\n",
    "\n",
    "-   `'ParaView'`: this is designed to mimic ParaView\\'s default plotting\n",
    "    theme.\n",
    "-   `'dark'`: this is designed to be night-mode friendly with dark\n",
    "    backgrounds and color schemes.\n",
    "-   `'document'`: this is built for use in document style plotting and\n",
    "    making publication quality figures.\n"
   ]
  },
  {
   "cell_type": "markdown",
   "id": "b778443a",
   "metadata": {},
   "source": [
    "Demo the `'ParaView'` theme.\n"
   ]
  },
  {
   "cell_type": "code",
   "execution_count": null,
   "id": "07cb661e",
   "metadata": {
    "collapsed": false,
    "jupyter": {
     "outputs_hidden": false
    }
   },
   "outputs": [],
   "source": [
    "pv.set_plot_theme(\"paraview\")\n",
    "\n",
    "plot_example()"
   ]
  },
  {
   "cell_type": "markdown",
   "id": "4f63659a",
   "metadata": {},
   "source": [
    "Demo the `'dark'` theme.\n"
   ]
  },
  {
   "cell_type": "code",
   "execution_count": null,
   "id": "ab670560",
   "metadata": {
    "collapsed": false,
    "jupyter": {
     "outputs_hidden": false
    }
   },
   "outputs": [],
   "source": [
    "pv.set_plot_theme(\"dark\")\n",
    "\n",
    "plot_example()"
   ]
  },
  {
   "cell_type": "markdown",
   "id": "b366ce08",
   "metadata": {},
   "source": [
    "Demo the `'document'` theme. This theme is used on our online examples.\n"
   ]
  },
  {
   "cell_type": "code",
   "execution_count": null,
   "id": "43c6638e",
   "metadata": {
    "collapsed": false,
    "jupyter": {
     "outputs_hidden": false
    }
   },
   "outputs": [],
   "source": [
    "pv.set_plot_theme(\"document\")\n",
    "\n",
    "plot_example()"
   ]
  },
  {
   "cell_type": "markdown",
   "id": "b465ef0a",
   "metadata": {},
   "source": [
    "Note that you can also use color gradients for the background of the\n",
    "plotting window!\n"
   ]
  },
  {
   "cell_type": "code",
   "execution_count": null,
   "id": "222797a4",
   "metadata": {
    "collapsed": false,
    "jupyter": {
     "outputs_hidden": false
    }
   },
   "outputs": [],
   "source": [
    "plotter = pv.Plotter()\n",
    "plotter.add_mesh(mesh)\n",
    "plotter.show_grid()\n",
    "# Here we set the gradient\n",
    "plotter.set_background(\"royalblue\", top=\"aliceblue\")\n",
    "cpos = plotter.show()"
   ]
  },
  {
   "cell_type": "markdown",
   "id": "dfbd876b",
   "metadata": {},
   "source": [
    "Modifying the Global Theme\n",
    "==========================\n",
    "\n",
    "You can control how meshes are displayed by setting individual\n",
    "parameters when plotting like `mesh.plot(show_edges=True)`, or by\n",
    "setting a global theme. You can also control individual parameters how\n",
    "all meshes are displayed by default via `pyvista.global_theme`.\n",
    "\n",
    "Here, we print out the current global defaults for all `pyvista` meshes.\n",
    "These values have been changed by the previous \\\"Document\\\" theme.\n"
   ]
  },
  {
   "cell_type": "code",
   "execution_count": null,
   "id": "8eb2fd12",
   "metadata": {
    "collapsed": false,
    "jupyter": {
     "outputs_hidden": false
    }
   },
   "outputs": [],
   "source": [
    "pv.global_theme"
   ]
  },
  {
   "cell_type": "markdown",
   "id": "d9af6e98",
   "metadata": {},
   "source": [
    "By default, edges are not shown on meshes unless explicitly specified\n",
    "when plotting a mesh via `show_edges=True`. You can change this default\n",
    "behavior globally by changing the default parameter.\n"
   ]
  },
  {
   "cell_type": "code",
   "execution_count": null,
   "id": "e8ea6a93",
   "metadata": {
    "collapsed": false,
    "jupyter": {
     "outputs_hidden": false
    }
   },
   "outputs": [],
   "source": [
    "pv.global_theme.show_edges = True\n",
    "cpos = pv.Sphere().plot()"
   ]
  },
  {
   "cell_type": "markdown",
   "id": "d4343eda",
   "metadata": {},
   "source": [
    "You can reset pyvista to default behavior with `restore_defaults`. Note\n",
    "that the figure\\'s color was reset to the default \\\"white\\\" color rather\n",
    "than the \\\"tan\\\" color default with the document theme. Under the hood,\n",
    "each theme applied changes the global plot defaults stored within\n",
    "`pyvista.global_theme.`\n"
   ]
  },
  {
   "cell_type": "code",
   "execution_count": null,
   "id": "80e77d59",
   "metadata": {
    "collapsed": false,
    "jupyter": {
     "outputs_hidden": false
    }
   },
   "outputs": [],
   "source": [
    "pv.global_theme.restore_defaults()\n",
    "cpos = pv.Sphere().plot()"
   ]
  },
  {
   "cell_type": "markdown",
   "id": "7aee9ded",
   "metadata": {},
   "source": [
    "Creating a Custom Theme and Applying it Globally\n",
    "================================================\n",
    "\n",
    "You can create a custom theme by modifying one of the existing themes\n",
    "and then loading it into the global plotting defaults.\n",
    "\n",
    "Here, we create a dark theme that plots meshes red by default while\n",
    "showing edges.\n"
   ]
  },
  {
   "cell_type": "code",
   "execution_count": null,
   "id": "6a65d7bf",
   "metadata": {
    "collapsed": false,
    "jupyter": {
     "outputs_hidden": false
    }
   },
   "outputs": [],
   "source": [
    "from pyvista import themes\n",
    "\n",
    "my_theme = themes.DarkTheme()\n",
    "my_theme.color = \"red\"\n",
    "my_theme.lighting = False\n",
    "my_theme.show_edges = True\n",
    "my_theme.axes.box = True\n",
    "\n",
    "pv.global_theme.load_theme(my_theme)\n",
    "cpos = pv.Sphere().plot()"
   ]
  },
  {
   "cell_type": "markdown",
   "id": "6e7d2f59",
   "metadata": {},
   "source": [
    "Creating a Custom Theme and Applying it to a Single Plotter\n",
    "===========================================================\n",
    "\n",
    "In this example, we create a custom theme from the base \\\"default\\\"\n",
    "theme and then apply it to a single plotter. Note that this does not\n",
    "change the behavior of the global \\\"defaults\\\", which are still set to\n",
    "the modified `DarkTheme`.\n",
    "\n",
    "This approach carries the advantage that you can maintain several themes\n",
    "and apply them to one or more plotters.\n"
   ]
  },
  {
   "cell_type": "code",
   "execution_count": null,
   "id": "f755051f",
   "metadata": {
    "collapsed": false,
    "jupyter": {
     "outputs_hidden": false
    }
   },
   "outputs": [],
   "source": [
    "from pyvista import themes\n",
    "\n",
    "my_theme = themes.DefaultTheme()\n",
    "my_theme.color = \"black\"\n",
    "my_theme.lighting = True\n",
    "my_theme.show_edges = True\n",
    "my_theme.edge_color = \"white\"\n",
    "my_theme.background = \"white\"\n",
    "\n",
    "cpos = pv.Sphere().plot(theme=my_theme)"
   ]
  },
  {
   "cell_type": "markdown",
   "id": "85b7cb15",
   "metadata": {},
   "source": [
    "Alternatively, set the theme of an instance of `Plotter`.\n"
   ]
  },
  {
   "cell_type": "code",
   "execution_count": null,
   "id": "b0f04601",
   "metadata": {
    "collapsed": false,
    "jupyter": {
     "outputs_hidden": false
    }
   },
   "outputs": [],
   "source": [
    "pl = pv.Plotter(theme=my_theme)\n",
    "# pl.theme = my_theme  # alternatively use the setter\n",
    "pl.add_mesh(pv.Cube())\n",
    "cpos = pl.show()"
   ]
  },
  {
   "cell_type": "markdown",
   "id": "a0841702",
   "metadata": {},
   "source": [
    "Reset to use the document theme\n"
   ]
  },
  {
   "cell_type": "code",
   "execution_count": null,
   "id": "0fdf8894-bddf-4dc5-be80-cfbe5ec3ca69",
   "metadata": {
    "collapsed": false,
    "jupyter": {
     "outputs_hidden": false
    }
   },
   "outputs": [],
   "source": [
    "pv.set_plot_theme(\"document\")"
   ]
  },
  {
   "cell_type": "markdown",
   "id": "edf583c1-d9c6-461a-92d8-824f2ebf905d",
   "metadata": {
    "jupyter": {
     "outputs_hidden": false
    }
   },
   "source": [
    "### Exercise"
   ]
  },
  {
   "cell_type": "markdown",
   "id": "bfbc5901-4dc2-4d3a-9d39-38b31b8d691d",
   "metadata": {},
   "source": [
    "Let's make a sphinx document using custom theme!"
   ]
  },
  {
   "cell_type": "code",
   "execution_count": null,
   "id": "f5be718b-f4bb-4cb9-b258-8ee25d571e67",
   "metadata": {},
   "outputs": [],
   "source": []
  }
 ],
 "metadata": {
  "kernelspec": {
   "display_name": "Python 3 (ipykernel)",
   "language": "python",
   "name": "python3"
  },
  "language_info": {
   "codemirror_mode": {
    "name": "ipython",
    "version": 3
   },
   "file_extension": ".py",
   "mimetype": "text/x-python",
   "name": "python",
   "nbconvert_exporter": "python",
   "pygments_lexer": "ipython3",
   "version": "3.10.4"
  }
 },
 "nbformat": 4,
 "nbformat_minor": 5
}
