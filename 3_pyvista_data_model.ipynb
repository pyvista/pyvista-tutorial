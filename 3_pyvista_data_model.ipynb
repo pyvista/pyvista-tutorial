{
 "cells": [
  {
   "cell_type": "code",
   "execution_count": null,
   "id": "bbf1219c-1ae4-47cd-bd21-073764a9753d",
   "metadata": {},
   "outputs": [],
   "source": [
    "%matplotlib inline\n",
    "from pyvista import set_plot_theme\n",
    "\n",
    "set_plot_theme(\"document\")"
   ]
  },
  {
   "cell_type": "markdown",
   "id": "2ac014e1-b1b8-468b-99bd-328ccc8803dc",
   "metadata": {},
   "source": [
    "# PyVista Data Model"
   ]
  },
  {
   "cell_type": "markdown",
   "id": "7fdc4d5e-9c98-44b3-9714-eb9088b5ce5b",
   "metadata": {},
   "source": [
    "Learn about the data model of the PyVista framework and how you can visualize your data in style using point, cell, and field data."
   ]
  },
  {
   "cell_type": "markdown",
   "id": "8e562309-8c4b-45d4-b81c-2a361722210c",
   "metadata": {},
   "source": [
    "This section of the user guide explains in detail how to construct meshes from scratch and to utilize the underlying VTK data model but using the PyVista framework. Many of our [Examples](https://docs.pyvista.org/examples/index.html#ref-examples) simply load data from files, but don’t explain how to construct meshes or place data within datasets."
   ]
  },
  {
   "cell_type": "markdown",
   "id": "1ff420dc-d862-4fe9-a691-c10936c0c985",
   "metadata": {},
   "source": [
    "Though the following documentation section references VTK, it does not require that you have knowledge of VTK. For those who wish to see a detailed comparison to VTK or translate code written for the Python bindings of VTK to PyVista, please see [Transitioning from VTK to PyVista](https://docs.pyvista.org/user-guide/vtk_to_pyvista.html#vtk-to-pyvista-docs)."
   ]
  },
  {
   "cell_type": "markdown",
   "id": "28fa4998-2139-4ae3-b36c-3912e34a9edc",
   "metadata": {},
   "source": [
    "For a more general description of our API, see [What is a Mesh](https://docs.pyvista.org/user-guide/what-is-a-mesh.html#what-is-a-mesh)?."
   ]
  },
  {
   "cell_type": "markdown",
   "id": "32f1725e-d5b8-426b-9a37-d603d833fb87",
   "metadata": {},
   "source": [
    "## The PyVista DataSet"
   ]
  },
  {
   "cell_type": "markdown",
   "id": "67d780d1-0e9b-42cd-bed2-508e75c03475",
   "metadata": {},
   "source": [
    "To visualize data in VTK or PyVista, two pieces of information are required: the data’s geometry, which describes where the data is positioned in space and what its values are, and its topology, which describes how points in the dataset are connected to one another."
   ]
  },
  {
   "cell_type": "markdown",
   "id": "efab211f-856f-4b2f-aec0-38a9b143ec99",
   "metadata": {},
   "source": [
    "At the top level, we have [vtkDataObject](https://vtk.org/doc/nightly/html/classvtkDataObject.html), which are just “blobs” of data without geometry or topology. These contain arrays of [vtkFieldData](https://vtk.org/doc/nightly/html/classvtkFieldData.html). Under this are [vtkDataSet](https://vtk.org/doc/nightly/html/classvtkDataSet.html), which add geometry and topology to [vtkDataObject](https://vtk.org/doc/nightly/html/classvtkDataObject.html). Associated with every point or cell in the dataset is a specific value. Since these values must be positioned and connected in space, they are held in the [vtkDataArray](https://vtk.org/doc/nightly/html/classvtkDataArray.html) class, which are simply memory buffers on the heap. In PyVista, 99% of the time we interact with [vtkDataSet](https://vtk.org/doc/nightly/html/classvtkDataSet.html) objects rather than with [vtkDataObject](https://vtk.org/doc/nightly/html/classvtkDataObject.html) objects. PyVista uses the same data types as VTK, but structures them in a more pythonic manner for ease of use."
   ]
  },
  {
   "cell_type": "markdown",
   "id": "7f4e62cb-273a-40e8-844e-33c02c019252",
   "metadata": {},
   "source": [
    "If you’d like some background for how VTK structures its data, see [Introduction to VTK in Python by Kitware](https://vimeo.com/32232190), as well as the numerous code examples on [Kitware’s GitHub site](https://kitware.github.io/vtk-examples/site/). An excellent introduction to mathematical concepts relevant to 3D modeling in general implemented in VTK is provided by the [Discrete Differential Geometry YouTube Series](https://www.youtube.com/playlist?list=PL9_jI1bdZmz0hIrNCMQW1YmZysAiIYSSS) by Prof. Keenan Crane at Carnegie Mellon. The concepts taught here will help improve your understanding of why data sets are structured the way they are in libraries like VTK."
   ]
  },
  {
   "cell_type": "markdown",
   "id": "3e38a675-f25d-40da-993b-599452fb420d",
   "metadata": {},
   "source": [
    "At the most fundamental level, all PyVista geometry classes inherit from the [Data Sets class](https://docs.pyvista.org/api/core/dataset.html#ref-dataset). A dataset has geometry, topology, and attributes describing that geometry in the form of point, cell, or field arrays."
   ]
  },
  {
   "cell_type": "markdown",
   "id": "64554a8d-0410-4c69-b2ff-7336647ab91d",
   "metadata": {},
   "source": [
    "Geometry in PyVista is represented as points and cells. For example, consider a single cell within a [PolyData](https://docs.pyvista.org/api/core/_autosummary/pyvista.PolyData.html#pyvista.PolyData):"
   ]
  },
  {
   "cell_type": "markdown",
   "id": "8a8734dc-c6f0-42d3-bb02-ca24b321ddd1",
   "metadata": {},
   "source": [
    "![data_model_0_0](https://docs.pyvista.org/_images/data_model_0_0.png) "
   ]
  },
  {
   "cell_type": "markdown",
   "id": "35ba10b6-1d24-43ce-9e79-c13d031bdabf",
   "metadata": {},
   "source": [
    "We would need a way to describe the position of each of these points in space, but we’re limited to expressing the values themselves as we’ve done above (lists of arrays with indices). VTK (and hence PyVista) have multiple classes that represent different data shapes. The most important dataset classes are shown below:"
   ]
  },
  {
   "cell_type": "markdown",
   "id": "cdce4eab-a632-407f-8e04-76a7383a485c",
   "metadata": {},
   "source": [
    "![data_model_1_0](https://docs.pyvista.org/_images/data_model_1_0.png)"
   ]
  },
  {
   "cell_type": "markdown",
   "id": "3702afa7-49e8-42c5-861c-d5808928f0fd",
   "metadata": {},
   "source": [
    "Here, the above datasets are ordered from most (5) to least complex (1). That is, every dataset can be represented as an [UnstructuredGrid](https://docs.pyvista.org/api/core/_autosummary/pyvista.UnstructuredGrid.html#pyvista.UnstructuredGrid), but the [UnstructuredGrid](https://docs.pyvista.org/api/core/_autosummary/pyvista.UnstructuredGrid.html#pyvista.UnstructuredGrid) class takes the most amount of memory to store since they must account for every individual point and cell . On the other hand, since [vtkImageData](https://vtk.org/doc/nightly/html/classvtkImageData.html) ([UniformGrid](https://docs.pyvista.org/api/core/_autosummary/pyvista.UniformGrid.html#pyvista.UniformGrid)) is uniformly spaced, a few integers and floats can describe the shape, so it takes the least amount of memory to store."
   ]
  },
  {
   "cell_type": "markdown",
   "id": "f74a12f4-3cdb-42c6-ae2d-fccb6db892e1",
   "metadata": {},
   "source": [
    "To see this in practice, let’s create the simplest surface represented as a [PolyData](https://docs.pyvista.org/api/core/_autosummary/pyvista.PolyData.html#pyvista.PolyData). First, we need to define our points."
   ]
  },
  {
   "cell_type": "markdown",
   "id": "03df2ca9-0314-4351-ba76-043fd9118671",
   "metadata": {},
   "source": [
    "## Points and Arrays Within PyVista"
   ]
  },
  {
   "cell_type": "markdown",
   "id": "0b94fcbb-99e3-4e82-a6cb-9705e60f90ea",
   "metadata": {},
   "source": [
    "There are a variety of ways to create points within PyVista, and this section shows how to efficiently create an array of points by either:"
   ]
  },
  {
   "cell_type": "markdown",
   "id": "5410a855-acf7-4407-9d95-abd7ee1e229a",
   "metadata": {},
   "source": [
    "- Wrapping a VTK array\n",
    "- Using a [numpy.ndarray](https://numpy.org/doc/stable/reference/generated/numpy.ndarray.html#numpy.ndarray)\n",
    "- Or just using a [list](https://docs.python.org/dev/library/stdtypes.html#list)"
   ]
  },
  {
   "cell_type": "markdown",
   "id": "2ed399b3-e1fc-4b13-8b87-a660dc055603",
   "metadata": {},
   "source": [
    "PyVista provides pythonic methods for all three approaches so you can choose whatever is most efficient for you. If you’re comfortable with the VTK API, you can choose to wrap VTK arrays, but you may find that using [numpy.ndarray](https://numpy.org/doc/stable/reference/generated/numpy.ndarray.html#numpy.ndarray) is more convenient and avoids the looping overhead in Python."
   ]
  },
  {
   "cell_type": "markdown",
   "id": "499b8c78-22b9-4db4-bddd-2f00ba2621d2",
   "metadata": {},
   "source": [
    "## Wrapping a VTK Array"
   ]
  },
  {
   "cell_type": "markdown",
   "id": "ec28111c-348f-4f18-b2c2-79af3c5e32b9",
   "metadata": {},
   "source": [
    "Let’s define points of a triangle. Using the VTK API, this can be done with:"
   ]
  },
  {
   "cell_type": "code",
   "execution_count": null,
   "id": "7307f7dc-62df-4510-bc27-e8c70856ed40",
   "metadata": {},
   "outputs": [],
   "source": [
    "import vtk\n",
    "\n",
    "vtk_array = vtk.vtkDoubleArray()\n",
    "vtk_array.SetNumberOfComponents(3)\n",
    "vtk_array.SetNumberOfValues(9)\n",
    "vtk_array.SetValue(0, 0)\n",
    "vtk_array.SetValue(1, 0)\n",
    "vtk_array.SetValue(2, 0)\n",
    "vtk_array.SetValue(3, 1)\n",
    "vtk_array.SetValue(4, 0)\n",
    "vtk_array.SetValue(5, 0)\n",
    "vtk_array.SetValue(6, 0.5)\n",
    "vtk_array.SetValue(7, 0.667)\n",
    "vtk_array.SetValue(8, 0)\n",
    "print(vtk_array)"
   ]
  },
  {
   "cell_type": "markdown",
   "id": "5f913bf7-b763-4170-8102-6b1f68e800c2",
   "metadata": {},
   "source": [
    "PyVista supports creating objects directly from the vtkDataArray class, but there’s a better, and more pythonic alternative by using numpy.ndarray."
   ]
  },
  {
   "cell_type": "markdown",
   "id": "19869466-51ef-4a50-8137-e2982900c123",
   "metadata": {},
   "source": [
    "## Using NumPy with PyVista"
   ]
  },
  {
   "cell_type": "markdown",
   "id": "647ed99b-b058-4a9e-a37f-34051cd99f5a",
   "metadata": {},
   "source": [
    "You can create a [NumPy](https://numpy.org/) points array with:"
   ]
  },
  {
   "cell_type": "code",
   "execution_count": null,
   "id": "c29d191e-9cba-4e33-84dc-62dafcc3de5f",
   "metadata": {},
   "outputs": [],
   "source": [
    "import numpy as np\n",
    "\n",
    "np_points = np.array([[0, 0, 0], [1, 0, 0], [0.5, 0.667, 0]])\n",
    "np_points"
   ]
  },
  {
   "cell_type": "markdown",
   "id": "695ce6f0-c30d-4031-a776-7eeb71be36ff",
   "metadata": {},
   "source": [
    "We use a [numpy.ndarray](https://numpy.org/doc/stable/reference/generated/numpy.ndarray.html#numpy.ndarray) here so that PyVista directly “points” the underlying C array to VTK. VTK already has APIs to directly read in the C arrays from NumPy, and since VTK is written in C++, everything from Python that is transferred over to VTK needs to be in a format that VTK can process."
   ]
  },
  {
   "cell_type": "markdown",
   "id": "e6836b16-93b1-4faa-90a0-58481828aaa3",
   "metadata": {},
   "source": [
    "Should you wish to use VTK objects within PyVista, you can still do this. In fact, using [pyvista.wrap()](https://docs.pyvista.org/api/utilities/_autosummary/pyvista.wrap.html#pyvista.wrap), you can even get a numpy-like representation of the data. For example:"
   ]
  },
  {
   "cell_type": "code",
   "execution_count": null,
   "id": "f9aba0b4-d30e-4bd7-b44a-8ceaf163bb8c",
   "metadata": {},
   "outputs": [],
   "source": [
    "import pyvista\n",
    "\n",
    "wrapped = pyvista.wrap(vtk_array)\n",
    "wrapped"
   ]
  },
  {
   "cell_type": "markdown",
   "id": "3c4cef00-45a3-408b-9a6d-c9219137eb9d",
   "metadata": {},
   "source": [
    "Note that when wrapping the underlying VTK array, we actually perform a shallow copy of the data. In other words, we pass the pointer from the underlying C array to the [numpy.ndarray](https://numpy.org/doc/stable/reference/generated/numpy.ndarray.html#numpy.ndarray), meaning that the two arrays are now efficiently linked (in NumPy terminology, the returned array is a view into the underlying VTK data). This means that we can change the array using numpy array indexing and have it modified on the “VTK side”."
   ]
  },
  {
   "cell_type": "code",
   "execution_count": null,
   "id": "63c8b24d-37d8-41dd-8901-ac23bdb51b0d",
   "metadata": {},
   "outputs": [],
   "source": [
    "wrapped[0, 0] = 10\n",
    "vtk_array.GetValue(0)"
   ]
  },
  {
   "cell_type": "markdown",
   "id": "2e930f1a-d9ce-4e54-a27b-c5ff90f3bb60",
   "metadata": {},
   "source": [
    "Or we can change the value from the VTK array and see it reflected in the numpy wrapped array. Let’s change the value back:"
   ]
  },
  {
   "cell_type": "code",
   "execution_count": null,
   "id": "c437dd48-5638-4bde-b42f-216a0622ed2d",
   "metadata": {},
   "outputs": [],
   "source": [
    "vtk_array.SetValue(0, 0)\n",
    "wrapped[0, 0]"
   ]
  },
  {
   "cell_type": "markdown",
   "id": "efc120f1-4214-4e12-9c59-2c3a6202536f",
   "metadata": {},
   "source": [
    "## Using Python Lists or Tuples"
   ]
  },
  {
   "cell_type": "markdown",
   "id": "ad1f6e6d-2b7f-48c9-b058-02b9c05105bc",
   "metadata": {},
   "source": [
    "PyVista supports the use of Python sequences (i.e. [list](https://docs.python.org/dev/library/stdtypes.html#list) or [tuple](https://docs.python.org/dev/library/stdtypes.html#list)), and you could define your points using a nested list of lists via:"
   ]
  },
  {
   "cell_type": "code",
   "execution_count": null,
   "id": "06dd9d83-be5b-43d8-a869-ac2411f32e5e",
   "metadata": {},
   "outputs": [],
   "source": [
    "points = [[0, 0, 0], [1, 0, 0], [0.5, 0.667, 0]]"
   ]
  },
  {
   "cell_type": "markdown",
   "id": "c7faf226-5c96-4d0a-93b1-9ca41315fc86",
   "metadata": {},
   "source": [
    "When used in the context of [PolyData](https://docs.pyvista.org/api/core/_autosummary/pyvista.PolyData.html#pyvista.PolyData) to create the mesh, this list will automatically be wrapped using NumPy and then passed to VTK. This avoids any looping overhead and while still allowing you to use native python classes."
   ]
  },
  {
   "cell_type": "markdown",
   "id": "afd89e1b-b86a-4a57-90b6-063f138489d2",
   "metadata": {},
   "source": [
    "Finally, let’s show how we can use these three objects in the context of a PyVista geometry class. Here, we create a simple point mesh containing just the three points:"
   ]
  },
  {
   "cell_type": "code",
   "execution_count": null,
   "id": "bde2c276-6318-4a7a-a887-fc2582dfacff",
   "metadata": {},
   "outputs": [],
   "source": [
    "from_vtk = pyvista.PolyData(vtk_array)\n",
    "from_np = pyvista.PolyData(np_points)\n",
    "from_list = pyvista.PolyData(points)"
   ]
  },
  {
   "cell_type": "markdown",
   "id": "45984f90-aef5-442a-be91-a870e2613e58",
   "metadata": {},
   "source": [
    "These point meshes all contain three points and are effectively identical. Let’s show this by accessing the underlying points array from the mesh, which is represented as a ``pyvista.pyvista_ndarray``"
   ]
  },
  {
   "cell_type": "code",
   "execution_count": null,
   "id": "51572504-d226-4bb5-bc31-396bc2af1081",
   "metadata": {},
   "outputs": [],
   "source": [
    "from_vtk.points"
   ]
  },
  {
   "cell_type": "markdown",
   "id": "3d7d0385-bc73-466b-a5c1-d2be4eedf48d",
   "metadata": {},
   "source": [
    "And show that these are all identical"
   ]
  },
  {
   "cell_type": "code",
   "execution_count": null,
   "id": "ee639e38-9e9c-4c4c-b80e-bc84612cffba",
   "metadata": {},
   "outputs": [],
   "source": [
    "assert np.array_equal(from_vtk.points, from_np.points)\n",
    "assert np.array_equal(from_vtk.points, from_list.points)\n",
    "assert np.array_equal(from_np.points, from_list.points)"
   ]
  },
  {
   "cell_type": "markdown",
   "id": "5beee185-e5cb-42e8-8065-19c6b76fb537",
   "metadata": {},
   "source": [
    "Finally, let’s plot this (very) simple example using PyVista’s [pyvista.plot()](https://docs.pyvista.org/api/plotting/_autosummary/pyvista.plot.html#pyvista.plot) method. Let’s make this a full example so you can see the entire process."
   ]
  },
  {
   "cell_type": "code",
   "execution_count": null,
   "id": "7ea55548-d18c-42fa-98c5-46c74128e04f",
   "metadata": {},
   "outputs": [],
   "source": [
    "import pyvista\n",
    "\n",
    "points = [[0, 0, 0], [1, 0, 0], [0.5, 0.667, 0]]\n",
    "mesh = pyvista.PolyData(points)\n",
    "mesh.plot(show_bounds=True, cpos=\"xy\", point_size=20)"
   ]
  },
  {
   "cell_type": "markdown",
   "id": "b45fb519-e62e-4a34-8a5e-54c355f63c37",
   "metadata": {},
   "source": [
    "We’ll get into PyVista’s data classes and attributes later, but for now we’ve shown how to create a simple geometry containing just points. To create a surface, we must specify the connectivity of the geometry, and to do that we need to specify the cells (or faces) of this surface."
   ]
  },
  {
   "cell_type": "markdown",
   "id": "5169e892-145f-4cdb-8d63-228c92f1deb8",
   "metadata": {},
   "source": [
    "## Geometry and Mesh Connectivity/Topology Within PyVista"
   ]
  },
  {
   "cell_type": "markdown",
   "id": "8c5184bf-ef0a-41f4-9a12-80993721b28f",
   "metadata": {},
   "source": [
    "With our previous example, we defined our “mesh” as three disconnected points. While this is useful for representing “point clouds”, if we want to create a surface, we have to describe the connectivity of the mesh. To do this, let’s define a single cell composed of three points in the same order as we defined earlier."
   ]
  },
  {
   "cell_type": "code",
   "execution_count": null,
   "id": "939008ef-9cc7-4056-b78a-2e1213cb0415",
   "metadata": {},
   "outputs": [],
   "source": [
    "cells = [3, 0, 1, 2]"
   ]
  },
  {
   "cell_type": "markdown",
   "id": "7324d6f5-d9bc-4105-958e-a7db31b01f92",
   "metadata": {},
   "source": [
    "Observe how we had to insert a leading ``3`` to tell VTK that our face will contain three points. In our [PolyData](https://docs.pyvista.org/api/core/_autosummary/pyvista.PolyData.html#pyvista.PolyData) VTK doesn’t assume that faces always contain three points, so we have to define that. This actually gives us the flexibility to define as many (or as few as one) points per cell as we wish."
   ]
  },
  {
   "cell_type": "markdown",
   "id": "e8912791-244b-4deb-a0e7-34be52fdffb8",
   "metadata": {},
   "source": [
    "Now we have all the necessary pieces to assemble an instance of [PolyData](https://docs.pyvista.org/api/core/_autosummary/pyvista.PolyData.html#pyvista.PolyData) that contains a single triangle. To do this, we simply provide the ``points`` and ``cells`` to the constructor of a [PolyData](https://docs.pyvista.org/api/core/_autosummary/pyvista.PolyData.html#pyvista.PolyData). We can see from the representation that this geometry contains three points and one cell"
   ]
  },
  {
   "cell_type": "code",
   "execution_count": null,
   "id": "3d441d6c-5bb6-48b7-b001-9a7a7c41b9d5",
   "metadata": {},
   "outputs": [],
   "source": [
    "mesh = pyvista.PolyData(points, cells)\n",
    "mesh"
   ]
  },
  {
   "cell_type": "markdown",
   "id": "da051e9a-1586-42df-9275-0e1312e3ace8",
   "metadata": {},
   "source": [
    "Let’s also plot this:"
   ]
  },
  {
   "cell_type": "code",
   "execution_count": null,
   "id": "bd574f03-5d0e-4189-b1d1-83c78d97587e",
   "metadata": {},
   "outputs": [],
   "source": [
    "mesh = pyvista.PolyData(points, [3, 0, 1, 2])\n",
    "mesh.plot(cpos=\"xy\", show_edges=True)"
   ]
  },
  {
   "cell_type": "markdown",
   "id": "b9a9b618-25bd-44de-8f1d-b69821fed52f",
   "metadata": {},
   "source": [
    "While we’re at it, let’s annotate this plot to describe this mesh."
   ]
  },
  {
   "cell_type": "code",
   "execution_count": null,
   "id": "793bc79b-b259-4943-8a26-9dc4376708b2",
   "metadata": {},
   "outputs": [],
   "source": [
    "pl = pyvista.Plotter()\n",
    "pl.add_mesh(mesh, show_edges=True, line_width=5)\n",
    "label_coords = mesh.points + [0, 0, 0.01]\n",
    "pl.add_point_labels(\n",
    "    label_coords, [f\"Point {i}\" for i in range(3)], font_size=20, point_size=20\n",
    ")\n",
    "pl.add_point_labels([0.43, 0.2, 0], [\"Cell 0\"], font_size=20)\n",
    "pl.camera_position = \"xy\"\n",
    "pl.show()"
   ]
  },
  {
   "cell_type": "markdown",
   "id": "ab3a5ab0-07fb-4c4c-b8b3-87c752d3accc",
   "metadata": {},
   "source": [
    "You can clearly see how the polygon is created based on the connectivity of the points."
   ]
  },
  {
   "cell_type": "markdown",
   "id": "f53ecdbf-34ad-4a20-8976-c5b8821b9b0f",
   "metadata": {},
   "source": [
    "This instance has several attributes to access the underlying data of the mesh. For example, if you wish to access or modify the points of the mesh, you can simply access the points attribute with [points](https://docs.pyvista.org/api/core/_autosummary/pyvista.DataSet.points.html#pyvista.DataSet.points)."
   ]
  },
  {
   "cell_type": "code",
   "execution_count": null,
   "id": "be4fd2f0-c203-4faf-98a2-7e0d7f62ac32",
   "metadata": {},
   "outputs": [],
   "source": [
    "mesh.points"
   ]
  },
  {
   "cell_type": "markdown",
   "id": "2a10319a-82a4-4cf5-8c1a-b7bd422e4f79",
   "metadata": {},
   "source": [
    "The connectivity can also be accessed from the [faces](https://docs.pyvista.org/api/core/_autosummary/pyvista.PolyData.faces.html#pyvista.PolyData.faces) attribute with:"
   ]
  },
  {
   "cell_type": "code",
   "execution_count": null,
   "id": "17378fd1-8e53-4b8e-a8d5-d08b6af61f84",
   "metadata": {},
   "outputs": [],
   "source": [
    "mesh.faces"
   ]
  },
  {
   "cell_type": "markdown",
   "id": "4cae3c1c-000e-426b-89fe-223206cef692",
   "metadata": {},
   "source": [
    "Or we could simply get the representation of the mesh with:"
   ]
  },
  {
   "cell_type": "code",
   "execution_count": null,
   "id": "0ce1ae0b-d77b-43ed-9b3f-b3f3b325e23f",
   "metadata": {},
   "outputs": [],
   "source": [
    "mesh"
   ]
  },
  {
   "cell_type": "markdown",
   "id": "0705863e-52c1-479d-af4b-bfac28e490b4",
   "metadata": {},
   "source": [
    "In this representation we see:"
   ]
  },
  {
   "cell_type": "markdown",
   "id": "36d64a8b-7990-4d66-b086-732ddc505acf",
   "metadata": {},
   "source": [
    "- Number of cells [n_cells](https://docs.pyvista.org/api/core/_autosummary/pyvista.DataSet.n_cells.html#pyvista.DataSet.n_cells)\n",
    "- Number of points [n_points](https://docs.pyvista.org/api/core/_autosummary/pyvista.DataSet.n_points.html#pyvista.DataSet.n_points)\n",
    "- Bounds of the mesh [bounds](https://docs.pyvista.org/api/core/_autosummary/pyvista.DataSet.bounds.html#pyvista.DataSet.bounds)\n",
    "- Number of data arrays [n_arrays](https://docs.pyvista.org/api/core/_autosummary/pyvista.DataSet.n_arrays.html#pyvista.DataSet.n_arrays)"
   ]
  },
  {
   "cell_type": "markdown",
   "id": "b4583023-5df4-4499-9c10-e3896b9f9b2d",
   "metadata": {},
   "source": [
    "This is vastly different from the output from VTK. See [Object Representation](https://docs.pyvista.org/user-guide/vtk_to_pyvista.html#vtk-vs-pyvista-object-repr) for the comparison between the two representations."
   ]
  },
  {
   "cell_type": "markdown",
   "id": "27e21890-547c-43b0-8d20-0cbf8f00d425",
   "metadata": {},
   "source": [
    "This mesh contains no data arrays as it consists only of geometry. This makes it useful for plotting just the geometry of the mesh, but datasets often contain more than just geometry. For example:"
   ]
  },
  {
   "cell_type": "markdown",
   "id": "6057dd8b-f655-45bd-ba90-f86483950b7d",
   "metadata": {},
   "source": [
    "- An electrical field computed from a changing magnetic field\n",
    "- Vector field of blood flow through artery\n",
    "- Surface stresses from a structural finite element analysis\n",
    "- Mineral deposits from geophysics\n",
    "- Weather patterns as a vector field or surface data."
   ]
  },
  {
   "cell_type": "markdown",
   "id": "dd9ed739-d52e-4619-b49b-e240abb40ade",
   "metadata": {},
   "source": [
    "While each one of these datasets could be represented as a different geometry class, they would all contain point, cell, or field data that explains the value of the data at a certain location within the geometry."
   ]
  },
  {
   "cell_type": "markdown",
   "id": "0b8da4a8-7861-409a-a158-fb2703775318",
   "metadata": {},
   "source": [
    "## Data Arrays"
   ]
  },
  {
   "cell_type": "markdown",
   "id": "e654c470-4d9d-4323-9494-89f520ae3271",
   "metadata": {},
   "source": [
    "Each [DataSet](https://docs.pyvista.org/api/core/_autosummary/pyvista.DataSet.html#pyvista.DataSet) contains attributes that allow you to access the underlying numeric data. This numerical data may be associated with the [points](https://docs.pyvista.org/api/core/_autosummary/pyvista.DataSet.points.html#pyvista.DataSet.points), cells, or not associated with points or cells and attached to the mesh in general."
   ]
  },
  {
   "cell_type": "markdown",
   "id": "8151f5f8-3639-4f28-bdde-5931c760c30c",
   "metadata": {},
   "source": [
    "To illustrate data arrays within PyVista, let’s first construct a slightly more complex mesh than our previous example. Here, we create a simple mesh containing four isometric cells by starting with a [UniformGrid](https://docs.pyvista.org/api/core/_autosummary/pyvista.UniformGrid.html#pyvista.UniformGrid) and then casting it to an [UnstructuredGrid](https://docs.pyvista.org/api/core/_autosummary/pyvista.UnstructuredGrid.html#pyvista.UnstructuredGrid) with [cast_to_unstructured_grid()](https://docs.pyvista.org/api/core/_autosummary/pyvista.DataSet.cast_to_unstructured_grid.html#pyvista.DataSet.cast_to_unstructured_grid)."
   ]
  },
  {
   "cell_type": "code",
   "execution_count": null,
   "id": "faf04279-da0a-4f30-b2d5-6d3b561fb722",
   "metadata": {},
   "outputs": [],
   "source": [
    "grid = pyvista.UniformGrid(dims=(3, 3, 1))\n",
    "ugrid = grid.cast_to_unstructured_grid()\n",
    "ugrid"
   ]
  },
  {
   "cell_type": "markdown",
   "id": "e715d42a-ddb3-4a08-8d29-71fe1faf0ff3",
   "metadata": {},
   "source": [
    "Let’s also plot this basic mesh:"
   ]
  },
  {
   "cell_type": "code",
   "execution_count": null,
   "id": "a9075ae1-8082-491c-9541-468a63f14a09",
   "metadata": {},
   "outputs": [],
   "source": [
    "pl = pyvista.Plotter()\n",
    "pl.add_mesh(ugrid, show_edges=True, line_width=5)\n",
    "label_coords = ugrid.points + [0, 0, 0.02]\n",
    "point_labels = [f\"Point {i}\" for i in range(ugrid.n_points)]\n",
    "pl.add_point_labels(label_coords, point_labels, font_size=25, point_size=20)\n",
    "cell_labels = [f\"Cell {i}\" for i in range(ugrid.n_cells)]\n",
    "pl.add_point_labels(ugrid.cell_centers(), cell_labels, font_size=25)\n",
    "pl.camera_position = \"xy\"\n",
    "pl.show()"
   ]
  },
  {
   "cell_type": "markdown",
   "id": "b3c31508-8d72-4f95-9601-6a62994aa173",
   "metadata": {},
   "source": [
    "Now that we have a simple mesh to work with, we can start assigning it data. There are two main types of data that can be associated with a mesh: scalar data and vector data. Scalar data is single or multi-component data that is non directional and may include values like temperature, or in the case of multi-component data, RGBA values. Vector data has magnitude and direction and is represented as arrays containing three components per data point."
   ]
  },
  {
   "cell_type": "markdown",
   "id": "dfb69015-27ab-4b75-bbfc-3854528b38bc",
   "metadata": {},
   "source": [
    "When plotting, we can easily display scalar data, but this data must be “associated” with either points or cells. For example, we may wish to assign values to the cells of our example mesh, which we can do by accessing the cell_data attribute of our mesh."
   ]
  },
  {
   "cell_type": "markdown",
   "id": "0b49ac35-f50a-4fd5-bb5f-71213b1d513f",
   "metadata": {},
   "source": [
    "## Cell Data"
   ]
  },
  {
   "cell_type": "markdown",
   "id": "f038146d-50a5-436e-9a5d-3fc1722e68b0",
   "metadata": {},
   "source": [
    "The easiest way to add scalar data to a [DataSet](https://docs.pyvista.org/api/core/_autosummary/pyvista.DataSet.html#pyvista.DataSet) is to use the ``[]`` operator. Continuing with our example above, let’s assign each cell a single integer. We can do this using a Python [list](https://docs.python.org/dev/library/stdtypes.html#list) and making it the same length as the number of cells in the [UnstructuredGrid](https://docs.pyvista.org/api/core/_autosummary/pyvista.UnstructuredGrid.html#pyvista.UnstructuredGrid). Or as an even simpler example, using a [range](https://docs.python.org/dev/library/stdtypes.html#range) of the appropriate length. Here we create the range, add it to the [cell_data](https://docs.pyvista.org/api/core/_autosummary/pyvista.DataSet.cell_data.html#pyvista.DataSet.cell_data), and then access it using the ``[]`` operator."
   ]
  },
  {
   "cell_type": "code",
   "execution_count": null,
   "id": "9e85b212-ae9d-45ea-9e0d-031987a96122",
   "metadata": {},
   "outputs": [],
   "source": [
    "simple_range = range(ugrid.n_cells)\n",
    "ugrid.cell_data[\"my-data\"] = simple_range\n",
    "ugrid.cell_data[\"my-data\"]"
   ]
  },
  {
   "cell_type": "markdown",
   "id": "d6202adc-0cd8-476f-b325-2fdaf48a7a83",
   "metadata": {},
   "source": [
    "Note how we are returned a ``pyvista.pyvista_ndarray``. Since VTK requires C arrays, PyVista will internally wrap or convert all inputs to C arrays. We can then plot this with:"
   ]
  },
  {
   "cell_type": "code",
   "execution_count": null,
   "id": "09b1e5da-453d-464c-b933-2dd8d992d7d5",
   "metadata": {},
   "outputs": [],
   "source": [
    "ugrid.plot(cpos=\"xy\", show_edges=True)"
   ]
  },
  {
   "cell_type": "markdown",
   "id": "e9f1e839-d037-4273-9786-0cff05eb14d0",
   "metadata": {},
   "source": [
    "Note how we did not have to specify which cell data to plot as the `[]` operator automatically sets the active scalars:"
   ]
  },
  {
   "cell_type": "code",
   "execution_count": null,
   "id": "542fa3ab-d1ad-49b5-aee8-2fc2180db104",
   "metadata": {},
   "outputs": [],
   "source": [
    "ugrid.cell_data"
   ]
  },
  {
   "cell_type": "markdown",
   "id": "7fd4f32b-63c7-4fe6-ae9c-79ff03ce0581",
   "metadata": {},
   "source": [
    "We can also add labels to our plot to show which cells are assigned which scalars. Note how this is in the same order as the scalars we assigned."
   ]
  },
  {
   "cell_type": "code",
   "execution_count": null,
   "id": "c2e02d05-074c-4e28-9ac3-6256bc611d39",
   "metadata": {},
   "outputs": [],
   "source": [
    "pl = pyvista.Plotter()\n",
    "pl.add_mesh(ugrid, show_edges=True, line_width=5)\n",
    "cell_labels = [f\"Cell {i}\" for i in range(ugrid.n_cells)]\n",
    "pl.add_point_labels(ugrid.cell_centers(), cell_labels, font_size=25)\n",
    "pl.camera_position = \"xy\"\n",
    "pl.show()"
   ]
  },
  {
   "cell_type": "markdown",
   "id": "3929d19a-e86d-49b4-8a04-d5889e72d334",
   "metadata": {},
   "source": [
    "We can continue to assign cell data to our [DataSet](https://docs.pyvista.org/api/core/_autosummary/pyvista.DataSet.html#pyvista.DataSet) using the `[]` operator, but if you do not wish the new array to become the active array, you can add it using [set_array()](https://docs.pyvista.org/api/core/_autosummary/pyvista.DataSetAttributes.set_array.html#pyvista.DataSetAttributes.set_array)"
   ]
  },
  {
   "cell_type": "code",
   "execution_count": null,
   "id": "03e1a893-80f9-4808-a17e-529310253cc1",
   "metadata": {},
   "outputs": [],
   "source": [
    "data = np.linspace(0, 1, ugrid.n_cells)\n",
    "ugrid.cell_data.set_array(data, \"my-cell-data\")\n",
    "ugrid.cell_data"
   ]
  },
  {
   "cell_type": "markdown",
   "id": "27d6d229-b5b6-46c7-b31a-af441059617f",
   "metadata": {},
   "source": [
    "Now, `ugrid` contains two arrays, one of which is the “active” scalars. This set of active scalars will be the one plotted automatically when `scalars` is unset in either [add_mesh()](https://docs.pyvista.org/api/plotting/_autosummary/pyvista.Plotter.add_mesh.html#pyvista.Plotter.add_mesh) or [pyvista.plot()](https://docs.pyvista.org/api/plotting/_autosummary/pyvista.plot.html#pyvista.plot). This makes it possible to have many cell arrays associated with a dataset and track which one will plotted as the active cell scalars by default."
   ]
  },
  {
   "cell_type": "markdown",
   "id": "5dd4a35a-f1f0-4879-b2c9-0cffb856709c",
   "metadata": {},
   "source": [
    "The active scalars can also be accessed via `active_scalars`, and the name of the active scalars array can be accessed or set with `active_scalars_name`."
   ]
  },
  {
   "cell_type": "code",
   "execution_count": null,
   "id": "1067d1fc-3a85-42d6-99c3-5635faac3a06",
   "metadata": {},
   "outputs": [],
   "source": [
    "ugrid.cell_data.active_scalars?"
   ]
  },
  {
   "cell_type": "code",
   "execution_count": null,
   "id": "01c4688f-e7b5-4d12-82d8-59c0ea461755",
   "metadata": {},
   "outputs": [],
   "source": [
    "ugrid.cell_data.active_scalars_name?"
   ]
  },
  {
   "cell_type": "code",
   "execution_count": null,
   "id": "658f872c-e281-42c0-a566-0b2edb69f0ef",
   "metadata": {},
   "outputs": [],
   "source": [
    "ugrid.cell_data.active_scalars_name = \"my-cell-data\"\n",
    "ugrid.cell_data"
   ]
  },
  {
   "cell_type": "markdown",
   "id": "91b9f2c9-1f20-4430-be09-05b1dc73e44d",
   "metadata": {},
   "source": [
    "## Point Data"
   ]
  },
  {
   "cell_type": "markdown",
   "id": "faa070d8-b573-48bd-a53c-9f4fb3201200",
   "metadata": {},
   "source": [
    "Data can be associated to points in the same manner as in [Cell Data](https://docs.pyvista.org/user-guide/data_model.html#pyvista-data-model-cell-data). The [point_data](https://docs.pyvista.org/api/core/_autosummary/pyvista.DataSet.point_data.html#pyvista.DataSet.point_data) attribute allows you to associate point data to the points of a [DataSet](https://docs.pyvista.org/api/core/_autosummary/pyvista.DataSet.html#pyvista.DataSet). Here, we will associate a simple list to the points using the `[]` operator."
   ]
  },
  {
   "cell_type": "code",
   "execution_count": null,
   "id": "0a67229e-7893-420e-aedc-60f6c48c2b5c",
   "metadata": {},
   "outputs": [],
   "source": [
    "simple_list = list(range(ugrid.n_points))\n",
    "ugrid.point_data[\"my-data\"] = simple_list\n",
    "ugrid.point_data[\"my-data\"]"
   ]
  },
  {
   "cell_type": "markdown",
   "id": "ab7b061b-7e15-4bde-9dcd-18b15762bb2d",
   "metadata": {},
   "source": [
    "Again, these values become the active scalars in our point arrays by default by using the `[]` operator:"
   ]
  },
  {
   "cell_type": "code",
   "execution_count": null,
   "id": "06ba171b-cd79-4224-b065-59c4caecc056",
   "metadata": {},
   "outputs": [],
   "source": [
    "ugrid.point_data"
   ]
  },
  {
   "cell_type": "markdown",
   "id": "6f3e0253-c4cd-465e-b926-5a42d73a3248",
   "metadata": {},
   "source": [
    "Let’s plot the point data. Note how this varies from the cell data plot; each individual point is assigned a scalar value which is interpolated across a cell to create a smooth color map between the lowest value at `Point 0` to the highest value at `Point 8`."
   ]
  },
  {
   "cell_type": "code",
   "execution_count": null,
   "id": "f7a73997-61a0-4d60-9937-beccb7790999",
   "metadata": {},
   "outputs": [],
   "source": [
    "pl = pyvista.Plotter()\n",
    "pl.add_mesh(ugrid, show_edges=True, line_width=5)\n",
    "label_coords = ugrid.points + [0, 0, 0.02]\n",
    "point_labels = [f\"Point {i}\" for i in range(ugrid.n_points)]\n",
    "pl.add_point_labels(label_coords, point_labels, font_size=25, point_size=20)\n",
    "pl.camera_position = \"xy\"\n",
    "pl.show()"
   ]
  },
  {
   "cell_type": "markdown",
   "id": "6fa4c944-2943-47aa-806e-024f957bcfb6",
   "metadata": {},
   "source": [
    "As in [Cell Data](https://docs.pyvista.org/user-guide/data_model.html#pyvista-data-model-cell-data), we can assign multiple arrays to [point_data](https://docs.pyvista.org/api/core/_autosummary/pyvista.DataSet.point_data.html#pyvista.DataSet.point_data) using [set_array()](https://docs.pyvista.org/api/core/_autosummary/pyvista.DataSetAttributes.set_array.html#pyvista.DataSetAttributes.set_array)."
   ]
  },
  {
   "cell_type": "code",
   "execution_count": null,
   "id": "7172ac11-ad48-4639-870e-1c276445f6b3",
   "metadata": {},
   "outputs": [],
   "source": [
    "data = np.linspace(0, 1, ugrid.n_points)\n",
    "ugrid.point_data.set_array(data, \"my-point-data\")\n",
    "ugrid.point_data"
   ]
  },
  {
   "cell_type": "markdown",
   "id": "9adfa7ab-7d06-440c-ba44-3aeb90ed61c3",
   "metadata": {},
   "source": [
    "Again, here there are now two arrays associated to the point data, and only one is the “active” scalars array. Like as in the cell data, we can retrieve this with [active_scalars](https://docs.pyvista.org/api/core/_autosummary/pyvista.DataSet.active_scalars.html#pyvista.DataSet.active_scalars), and the name of the active scalars array can be accessed or set with [active_scalars_name](https://docs.pyvista.org/api/core/_autosummary/pyvista.DataSet.active_scalars_name.html#pyvista.DataSet.active_scalars_name)."
   ]
  },
  {
   "cell_type": "code",
   "execution_count": null,
   "id": "c44adc1a-8a7a-430f-b445-f169e8005a33",
   "metadata": {},
   "outputs": [],
   "source": [
    "ugrid.point_data.active_scalars_name = \"my-point-data\"\n",
    "ugrid.point_data"
   ]
  },
  {
   "cell_type": "markdown",
   "id": "0d9a98a6-1e36-430a-b17b-b99314b0d702",
   "metadata": {},
   "source": [
    "## Dataset Active Scalars"
   ]
  },
  {
   "cell_type": "markdown",
   "id": "50bf1bae-446b-4703-a5a8-f9b468bae190",
   "metadata": {},
   "source": [
    "Continuing from the previous sections, our `ugrid` dataset now contains both point and cell data:"
   ]
  },
  {
   "cell_type": "code",
   "execution_count": null,
   "id": "6b66ddb0-2cb0-47f8-804a-951032a7dc70",
   "metadata": {},
   "outputs": [],
   "source": [
    "ugrid.point_data"
   ]
  },
  {
   "cell_type": "code",
   "execution_count": null,
   "id": "05d409f4-b0cd-4d57-8606-b63ca8a0b664",
   "metadata": {},
   "outputs": [],
   "source": [
    "ugrid.cell_data"
   ]
  },
  {
   "cell_type": "markdown",
   "id": "86000a77-f1f2-4a20-b04b-e7f6c9f9ae4f",
   "metadata": {},
   "source": [
    "There are active scalars in both point and cell data, but only one type of scalars can be “active” at the dataset level. The reason for this is that only one scalar type (be it point or cell) can be plotted at once, and this data can be obtained from [active_scalars_info](https://docs.pyvista.org/api/core/_autosummary/pyvista.DataSet.active_scalars_info.html#pyvista.DataSet.active_scalars_info):"
   ]
  },
  {
   "cell_type": "code",
   "execution_count": null,
   "id": "0c79638a-9ef4-4d75-8bfc-5629f4f2bf80",
   "metadata": {},
   "outputs": [],
   "source": [
    "ugrid.active_scalars_info"
   ]
  },
  {
   "cell_type": "markdown",
   "id": "c17ec42f-7897-4664-9721-c3813afadd36",
   "metadata": {},
   "source": [
    "Note that the active scalars are by default the point scalars. You can change this by setting the active scalars with [set_active_scalars()](https://docs.pyvista.org/api/core/_autosummary/pyvista.DataSet.set_active_scalars.html#pyvista.DataSet.set_active_scalars). Note that if you want to set the active scalars and both the point and cell data have an array of the same name, you must specify the `preference`:"
   ]
  },
  {
   "cell_type": "code",
   "execution_count": null,
   "id": "e6a64e89-e042-4045-a138-1bfb11356e70",
   "metadata": {},
   "outputs": [],
   "source": [
    "ugrid.set_active_scalars(\"my-data\", preference=\"cell\")\n",
    "ugrid.active_scalars_info"
   ]
  },
  {
   "cell_type": "markdown",
   "id": "cb1397df-e9f4-44be-8db0-9e5de13bdbb9",
   "metadata": {},
   "source": [
    "This can also be set when plotting using the preference parameter in add_mesh() or pyvista.plot()."
   ]
  },
  {
   "cell_type": "markdown",
   "id": "cacf306c-c685-435c-b716-c43fb38b8870",
   "metadata": {},
   "source": [
    "## Field Data"
   ]
  },
  {
   "cell_type": "markdown",
   "id": "6dcf35be-ca70-46b7-988d-a2488fab0f6a",
   "metadata": {},
   "source": [
    "Field arrays are different from [point_data](https://docs.pyvista.org/api/core/_autosummary/pyvista.DataSet.point_data.html#pyvista.DataSet.point_data) and [cell_data](https://docs.pyvista.org/api/core/_autosummary/pyvista.DataSet.cell_data.html#pyvista.DataSet.cell_data) in that they are not associated with the geometry of the [DataSet](https://docs.pyvista.org/api/core/_autosummary/pyvista.DataSet.html#pyvista.DataSet). This means that while it’s not possible to designate the field data as active scalars or vectors, you can use it to “attach” arrays of any shape. You can even add string arrays in the field data:"
   ]
  },
  {
   "cell_type": "code",
   "execution_count": null,
   "id": "eaf98e41-454e-433c-a6fa-d538a12ff40d",
   "metadata": {},
   "outputs": [],
   "source": [
    "ugrid.field_data[\"my-field-data\"] = [\"hello\", \"world\"]\n",
    "ugrid.field_data[\"my-field-data\"]"
   ]
  },
  {
   "cell_type": "markdown",
   "id": "90fb6f77-a09f-467a-8841-27ba5fdfd54b",
   "metadata": {},
   "source": [
    "Note that the field data is automatically transferred to VTK C-style arrays and then represented as a numpy data format."
   ]
  },
  {
   "cell_type": "markdown",
   "id": "5b8ad846-a163-44f4-a557-b6c21d80ce5d",
   "metadata": {},
   "source": [
    "When listing the current field data, note that the association is “NONE”:"
   ]
  },
  {
   "cell_type": "code",
   "execution_count": null,
   "id": "d69091bc-a5e9-4dd3-8b58-2cce5998b2ea",
   "metadata": {},
   "outputs": [],
   "source": [
    "ugrid.field_data"
   ]
  },
  {
   "cell_type": "markdown",
   "id": "b70d13c6-813e-4b4d-a44c-969982d3a598",
   "metadata": {},
   "source": [
    "This is because the data is not associated with points or cells, and cannot be made so because field data is not expected to match the number of cells or points. As such, it also cannot be plotted."
   ]
  },
  {
   "cell_type": "markdown",
   "id": "d1c16d30-ab06-4b1f-9031-ef3b6bb9d98d",
   "metadata": {},
   "source": [
    "## Vectors, Texture Coords, and Normals Attributes"
   ]
  },
  {
   "cell_type": "markdown",
   "id": "bea12adf-822d-46ad-9d48-c318d387d825",
   "metadata": {},
   "source": [
    "Both cell and point data can also store the following “special” attributes in addition to [active_scalars](https://docs.pyvista.org/api/core/_autosummary/pyvista.DataSet.active_scalars.html#pyvista.DataSet.active_scalars):"
   ]
  },
  {
   "cell_type": "markdown",
   "id": "4fb0ab17-44ba-4d3b-8134-23b46cd44ec5",
   "metadata": {},
   "source": [
    "- [active_normals](https://docs.pyvista.org/api/core/_autosummary/pyvista.DataSet.active_normals.html#pyvista.DataSet.active_normals)\n",
    "- [active_t_coords](https://docs.pyvista.org/api/core/_autosummary/pyvista.DataSet.active_t_coords.html#pyvista.DataSet.active_t_coords)\n",
    "- [active_vectors](https://docs.pyvista.org/api/core/_autosummary/pyvista.DataSet.active_vectors.html#pyvista.DataSet.active_vectors)"
   ]
  },
  {
   "cell_type": "markdown",
   "id": "a329d4db-e90c-4b8a-bbb0-1aa2ce9a40a0",
   "metadata": {},
   "source": [
    "## Active Normals"
   ]
  },
  {
   "cell_type": "markdown",
   "id": "ff19f796-1e94-420b-9d47-ada76e87fa33",
   "metadata": {},
   "source": [
    "The [active_normals](https://docs.pyvista.org/api/core/_autosummary/pyvista.DataSet.active_normals.html#pyvista.DataSet.active_normals) array is a special array that specifies the local normal direction of meshes. It is used for creating physically based rendering, rendering smooth shading using Phong interpolation, warping by scalars, etc. If this array is not set when plotting with `smooth_shading=True` or `pbr=True`, it will be computed."
   ]
  },
  {
   "cell_type": "markdown",
   "id": "b69def35-8209-495a-9a9f-46c8a17d7332",
   "metadata": {},
   "source": [
    "## Active Texture Coordinates"
   ]
  },
  {
   "cell_type": "markdown",
   "id": "d4bb46eb-af44-4370-afeb-94691f302593",
   "metadata": {},
   "source": [
    "The [active_t_coords](https://docs.pyvista.org/api/core/_autosummary/pyvista.DataSet.active_t_coords.html#pyvista.DataSet.active_t_coords) array is used for rendering textures. See [Applying Textures](https://docs.pyvista.org/examples/02-plot/texture.html#ref-texture-example) for examples using this array."
   ]
  },
  {
   "cell_type": "markdown",
   "id": "b94ab198-5276-46b4-8caf-d6b714c8050d",
   "metadata": {},
   "source": [
    "## Active Vectors"
   ]
  },
  {
   "cell_type": "markdown",
   "id": "f7c1c2da-fca0-4b97-8090-cb3a853ef1f2",
   "metadata": {},
   "source": [
    "The [active_vectors](https://docs.pyvista.org/api/core/_autosummary/pyvista.DataSet.active_vectors.html#pyvista.DataSet.active_vectors) is an array containing quantities that have magnitude and direction (specifically, three components). For example, a vector field containing the wind speed at various coordinates. This differs from [active_scalars](https://docs.pyvista.org/api/core/_autosummary/pyvista.DataSet.active_scalars.html#pyvista.DataSet.active_scalars) as scalars are expected to be non-directional even if they contain several components (as in the case of RGB data)."
   ]
  },
  {
   "cell_type": "markdown",
   "id": "b62118f8-f5ed-4a99-9399-a97024943661",
   "metadata": {},
   "source": [
    "Vectors are treated differently within VTK than scalars when performing transformations using the [transform()](https://docs.pyvista.org/api/core/_autosummary/pyvista.DataSet.transform.html#pyvista.DataSet.transform) filter. Unlike scalar arrays, vector arrays will be transformed along with the geometry as these vectors represent quantities with direction."
   ]
  },
  {
   "cell_type": "markdown",
   "id": "a2d508bf-bbd4-4cb5-8161-476145d26da7",
   "metadata": {},
   "source": [
    "VTK permits only one “active” vector. If you have multiple vector arrays that you wish to transform, set `transform_all_input_vectors=True` in [transform()](https://docs.pyvista.org/api/core/_autosummary/pyvista.DataSet.transform.html#pyvista.DataSet.transform). Be aware that this will transform any array with three components, so multi-component scalar arrays like RGB arrays will have to be discarded after transformation."
   ]
  },
  {
   "cell_type": "markdown",
   "id": "66597c22-57cf-4bce-abd7-ded39be17570",
   "metadata": {},
   "source": [
    "### Exercise"
   ]
  },
  {
   "cell_type": "markdown",
   "id": "22994268-f4d7-48aa-b34c-888966e8dc78",
   "metadata": {},
   "source": [
    "Let's create a box pyvista.PolyData (surface mesh) from vertices and faces. Please set each side length 1.0."
   ]
  },
  {
   "cell_type": "code",
   "execution_count": null,
   "id": "0e677f24-f6b0-49d0-a551-8a051ec22f3a",
   "metadata": {},
   "outputs": [],
   "source": [
    "# Your code here"
   ]
  },
  {
   "cell_type": "code",
   "execution_count": null,
   "id": "9130682b-a2ff-4386-885b-4700f949a634",
   "metadata": {
    "jupyter": {
     "source_hidden": true
    },
    "tags": []
   },
   "outputs": [],
   "source": [
    "import numpy as np\n",
    "import pyvista as pv\n",
    "\n",
    "# mesh points\n",
    "vertices = np.array(\n",
    "    [\n",
    "        [0, 0, 0],\n",
    "        [1, 0, 0],\n",
    "        [1, 1, 0],\n",
    "        [0, 1, 0],\n",
    "        [0, 0, 1],\n",
    "        [1, 0, 1],\n",
    "        [1, 1, 1],\n",
    "        [0, 1, 1],\n",
    "    ]\n",
    ")\n",
    "\n",
    "# mesh faces\n",
    "faces = np.hstack(\n",
    "    [\n",
    "        [4, 0, 1, 2, 3],  # square\n",
    "        [4, 4, 5, 6, 7],  # square\n",
    "        [4, 0, 1, 5, 4],  # square\n",
    "        [4, 1, 2, 6, 5],  # square\n",
    "        [4, 2, 3, 7, 6],  # square\n",
    "        [4, 3, 0, 4, 7],  # square\n",
    "    ]\n",
    ")\n",
    "\n",
    "surf = pv.PolyData(vertices, faces)\n",
    "\n",
    "# plot each face with a different color\n",
    "surf.plot(\n",
    "    cpos=[-1, 1, 0.5],\n",
    "    show_edges=True,\n",
    "    line_width=5,\n",
    ")"
   ]
  },
  {
   "cell_type": "markdown",
   "id": "1521656d-b914-4328-acbf-a1fee23f8bc8",
   "metadata": {},
   "source": [
    "### Exercise"
   ]
  },
  {
   "cell_type": "markdown",
   "id": "79c779d9-07a2-4cba-9a69-437b6daa043e",
   "metadata": {},
   "source": [
    "We can add data to the box you created. Please add the point number of each point as point data. Also, add a face number to each face as cell data."
   ]
  },
  {
   "cell_type": "code",
   "execution_count": null,
   "id": "b4a9b8b9-a845-4426-91e7-26aacaaeadee",
   "metadata": {},
   "outputs": [],
   "source": [
    "# Your code here"
   ]
  },
  {
   "cell_type": "code",
   "execution_count": null,
   "id": "c225948f-b760-4794-a964-85d406ac9247",
   "metadata": {
    "jupyter": {
     "source_hidden": true
    },
    "tags": []
   },
   "outputs": [],
   "source": [
    "import numpy as np\n",
    "\n",
    "surf[\"point_number\"] = range(8)\n",
    "surf[\"face_number\"] = range(6)\n",
    "\n",
    "# plot each face with a different color\n",
    "surf.plot(show_edges=True, line_width=5, scalars=\"face_number\")"
   ]
  },
  {
   "cell_type": "code",
   "execution_count": null,
   "id": "9b1bc1b4-3cad-48e0-b83e-84f3d2150908",
   "metadata": {},
   "outputs": [],
   "source": []
  }
 ],
 "metadata": {
  "kernelspec": {
   "display_name": "Python 3 (ipykernel)",
   "language": "python",
   "name": "python3"
  },
  "language_info": {
   "codemirror_mode": {
    "name": "ipython",
    "version": 3
   },
   "file_extension": ".py",
   "mimetype": "text/x-python",
   "name": "python",
   "nbconvert_exporter": "python",
   "pygments_lexer": "ipython3",
   "version": "3.10.4"
  }
 },
 "nbformat": 4,
 "nbformat_minor": 5
}
