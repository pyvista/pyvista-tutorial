{
 "cells": [
  {
   "cell_type": "code",
   "execution_count": 1,
   "id": "e6ca8ea4",
   "metadata": {
    "execution": {
     "iopub.execute_input": "2025-04-22T13:53:56.713185Z",
     "iopub.status.busy": "2025-04-22T13:53:56.712926Z",
     "iopub.status.idle": "2025-04-22T13:53:57.465427Z",
     "shell.execute_reply": "2025-04-22T13:53:57.464692Z"
    }
   },
   "outputs": [],
   "source": [
    "# Configure for trame\n",
    "import pyvista\n",
    "pyvista.set_plot_theme('document')\n",
    "pyvista.set_jupyter_backend('trame')\n",
    "pyvista.global_theme.window_size = [600, 400]\n",
    "pyvista.global_theme.axes.show = False\n",
    "pyvista.global_theme.smooth_shading = True"
   ]
  }
 ],
 "metadata": {
  "kernelspec": {
   "display_name": "Python 3 (ipykernel)",
   "language": "python",
   "name": "python3"
  },
  "language_info": {
   "codemirror_mode": {
    "name": "ipython",
    "version": 3
   },
   "file_extension": ".py",
   "mimetype": "text/x-python",
   "name": "python",
   "nbconvert_exporter": "python",
   "pygments_lexer": "ipython3",
   "version": "3.13.3"
  }
 },
 "nbformat": 4,
 "nbformat_minor": 5
}