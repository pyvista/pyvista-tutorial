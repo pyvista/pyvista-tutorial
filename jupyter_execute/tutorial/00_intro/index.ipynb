{
 "cells": [
  {
   "cell_type": "code",
   "execution_count": 1,
   "id": "47aba5b9",
   "metadata": {
    "execution": {
     "iopub.execute_input": "2025-07-04T15:23:11.088512Z",
     "iopub.status.busy": "2025-07-04T15:23:11.088294Z",
     "iopub.status.idle": "2025-07-04T15:23:12.227789Z",
     "shell.execute_reply": "2025-07-04T15:23:12.227160Z"
    }
   },
   "outputs": [],
   "source": [
    "# Configure for trame\n",
    "import pyvista\n",
    "pyvista.set_plot_theme('document')\n",
    "pyvista.set_jupyter_backend('trame')\n",
    "pyvista.global_theme.window_size = [600, 400]\n",
    "pyvista.global_theme.axes.show = False\n",
    "pyvista.global_theme.smooth_shading = True"
   ]
  }
 ],
 "metadata": {
  "kernelspec": {
   "display_name": "Python 3 (ipykernel)",
   "language": "python",
   "name": "python3"
  },
  "language_info": {
   "codemirror_mode": {
    "name": "ipython",
    "version": 3
   },
   "file_extension": ".py",
   "mimetype": "text/x-python",
   "name": "python",
   "nbconvert_exporter": "python",
   "pygments_lexer": "ipython3",
   "version": "3.12.11"
  }
 },
 "nbformat": 4,
 "nbformat_minor": 5
}