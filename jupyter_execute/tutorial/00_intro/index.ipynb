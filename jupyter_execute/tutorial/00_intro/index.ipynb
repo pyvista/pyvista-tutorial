{
 "cells": [
  {
   "cell_type": "code",
   "execution_count": 1,
   "id": "bed90992",
   "metadata": {
    "execution": {
     "iopub.execute_input": "2025-06-01T18:33:46.205947Z",
     "iopub.status.busy": "2025-06-01T18:33:46.205760Z",
     "iopub.status.idle": "2025-06-01T18:33:47.243624Z",
     "shell.execute_reply": "2025-06-01T18:33:47.243039Z"
    }
   },
   "outputs": [],
   "source": [
    "# Configure for trame\n",
    "import pyvista\n",
    "pyvista.set_plot_theme('document')\n",
    "pyvista.set_jupyter_backend('trame')\n",
    "pyvista.global_theme.window_size = [600, 400]\n",
    "pyvista.global_theme.axes.show = False\n",
    "pyvista.global_theme.smooth_shading = True"
   ]
  }
 ],
 "metadata": {
  "kernelspec": {
   "display_name": "Python 3 (ipykernel)",
   "language": "python",
   "name": "python3"
  },
  "language_info": {
   "codemirror_mode": {
    "name": "ipython",
    "version": 3
   },
   "file_extension": ".py",
   "mimetype": "text/x-python",
   "name": "python",
   "nbconvert_exporter": "python",
   "pygments_lexer": "ipython3",
   "version": "3.12.10"
  }
 },
 "nbformat": 4,
 "nbformat_minor": 5
}