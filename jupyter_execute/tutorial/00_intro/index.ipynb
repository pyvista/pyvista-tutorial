{
 "cells": [
  {
   "cell_type": "code",
   "execution_count": 1,
   "id": "e989d4a3",
   "metadata": {
    "execution": {
     "iopub.execute_input": "2025-06-02T21:48:09.356066Z",
     "iopub.status.busy": "2025-06-02T21:48:09.355647Z",
     "iopub.status.idle": "2025-06-02T21:48:10.398164Z",
     "shell.execute_reply": "2025-06-02T21:48:10.397627Z"
    }
   },
   "outputs": [],
   "source": [
    "# Configure for trame\n",
    "import pyvista\n",
    "pyvista.set_plot_theme('document')\n",
    "pyvista.set_jupyter_backend('trame')\n",
    "pyvista.global_theme.window_size = [600, 400]\n",
    "pyvista.global_theme.axes.show = False\n",
    "pyvista.global_theme.smooth_shading = True"
   ]
  }
 ],
 "metadata": {
  "kernelspec": {
   "display_name": "Python 3 (ipykernel)",
   "language": "python",
   "name": "python3"
  },
  "language_info": {
   "codemirror_mode": {
    "name": "ipython",
    "version": 3
   },
   "file_extension": ".py",
   "mimetype": "text/x-python",
   "name": "python",
   "nbconvert_exporter": "python",
   "pygments_lexer": "ipython3",
   "version": "3.12.10"
  }
 },
 "nbformat": 4,
 "nbformat_minor": 5
}