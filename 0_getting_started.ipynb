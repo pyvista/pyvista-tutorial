{
 "cells": [
  {
   "cell_type": "markdown",
   "id": "0d84d229-f02e-402d-ab88-8be90b9a6f1c",
   "metadata": {},
   "source": [
    "<img src=\"https://github.com/pyvista/pyvista/raw/main/doc/_static/pyvista_banner_small.png\">"
   ]
  },
  {
   "cell_type": "markdown",
   "id": "019a447f-9b1b-40c2-ab1b-07ce5f2aec74",
   "metadata": {},
   "source": [
    "# Introduction\n",
    "\n",
    "Welcome to the PyVista Tutorial.\n",
    "\n",
    "[PyVista](https://github.com/pyvista/pyvista) is a general purpose 3D visualization library used for over 500+ open source projects and many closed source projects for the visualization of everything from [computer aided engineering and geophysics to volcanoes and digital artwork](https://dev.pyvista.org/getting-started/external_examples.html).\n",
    "\n",
    "\n",
    "PyVista exposes a Pythonic API to the [Visualization Toolkit (VTK)](http://www.vtk.org) to provide tooling that is immediately usable without any prior knowledge of VTK and is being built as the 3D equivalent of [Matplotlib](https://matplotlib.org/), with plugins to [Jupyter](https://jupyter.org/) to enable visualization of 3D data using both server and client-side rendering.\n",
    "\n",
    "We will provide a hands-on tutorial accessible to anyone with internet access and a computer via many of PyVista's existing [example Jupyter notebooks](https://docs.pyvista.org/examples/index.html) and new material through a comprehensive overview highlighting popular 3D visualization use cases."
   ]
  },
  {
   "cell_type": "markdown",
   "id": "b63892a7-4809-4f2d-80a5-b2f0c3805bd4",
   "metadata": {},
   "source": [
    "### Tutorial Description.\n",
    "\n",
    "- Use PyVista to create 3D visualizations from a variety of datasets in common formats.\n",
    "- Overview the classes and data structures of PyVista with real-world examples.\n",
    "- Be familiar of the various filters and features of PyVista.\n",
    "- Know which Python libraries are used and can be used by PyVista (meshio, trimesh etc).\n",
    "\n",
    "We see this tutorial catering to anyone who wants to visualize data in any domain, and this ranges from basic Python users to advanced power users.\n",
    "\n",
    "1. Basic knowledge of Python to get started. Be able to install Jupyter Lab on your machine and be up and running.\n",
    "2. Intermediate users will want to be familiar with [NumPy](https://numpy.org/) and other libraries that are compatible with PyVista, like [trimesh](https://trimsh.org/examples.html) or [meshio](https://github.com/nschloe/meshio).\n",
    "3. Advanced users should be familiar the Visualization Toolkit (VTK), general data science, and GUI frameworks like Qt."
   ]
  },
  {
   "cell_type": "markdown",
   "id": "b05ab5eb-cbd2-4fad-b421-a106ed071d43",
   "metadata": {},
   "source": [
    "# Prepare\n",
    "\n",
    "You should clone this repository: \n",
    "\n",
    "    git clone http://github.com/pyvista/pyvista-tutorial\n",
    "\n",
    "The included file `requirements.txt` contains a list of all of the packages needed to run this tutorial. To install them using `pip`, you can do\n",
    "\n",
    "    pip install -r requirements.txt\n",
    "    \n",
    "Do this *before* running this notebook."
   ]
  },
  {
   "cell_type": "markdown",
   "id": "f4d52be6-d6fa-46e4-a1ae-681818345a9a",
   "metadata": {},
   "source": [
    "# Links"
   ]
  },
  {
   "cell_type": "markdown",
   "id": "7fc53894-c273-4fba-8d00-943c04834ce9",
   "metadata": {},
   "source": [
    "*  Reference\n",
    "    *  [Docs](https://docs.pyvista.org/)\n",
    "    *  [Examples](https://docs.pyvista.org/examples/)\n",
    "    *  [Code](https://github.com/pyvista/pyvista/)\n",
    "*  Ask for help\n",
    "    *   [github issues](https://github.com/pyvista/pyvista/issues/new/choose/) for bug reports and feature requests\n",
    "    *   [github discussion](https://github.com/pyvista/pyvista/discussions/) for general, non-bug, questions and discussion\n",
    "    *   Attend a live tutorial"
   ]
  },
  {
   "cell_type": "markdown",
   "id": "c2f73952-2593-4237-ac3b-908a6dde5721",
   "metadata": {},
   "source": [
    "# Tutorial Outline.\n",
    "\n",
    "0. [Getting Started](0_getting_started.ipynb) - PyVista for 3D Visualization within Python. (10 min for talk, 10 min for exercise)\n",
    "\n",
    "1. Basic usage - Reading and plotting 3D data using `examples` module and external files.  (10 min for talk, 10 min for exercise)\n",
    "\n",
    "2. What is a Mesh? - Learn about the PyVista data types and how you can use it to visualize almost anything. (15 min for talk, 10 min for exercise)\n",
    "\n",
    "3. PyVista Data Model - Learn about the data model of the PyVista framework and how you can visualize your data in style using point, cell, and field data. (15 min for talk, 10 min for exercise)\n",
    "\n",
    "4. Break. Stretch fingers and grab some coffee. (15 minutes)\n",
    "\n",
    "5. Animation/generating figures - Show how to animate/generating figures using the PyVista API to make awesome online documentation. (10 min for talk, 10 min for exercise)\n",
    "\n",
    "6. PyVista and Sphinx - Leverage PyVista to make some awesome interactive web documentation. (20 min for talk, 10 min for exercise)\n",
    "\n",
    "7. Quick break. Prepare for the final run. (10 minutes)\n",
    "\n",
    "8. PyVista & VTK - Show how PyVista uses VTK and how you can combine the best of both worlds! (10 minutes for talk, 10 minutes for exercise)\n",
    "\n",
    "9. PyVista and Qt - Demonstrate how to use PyVista to create standalone applications using pyinstaller and the Qt framework. (15 min for talk, 10 for exercise)\n",
    "\n",
    "10. PyVista in Action - Show how PyVista is already being used within several projects and can be used for all things visualization. (15 min for talk)\n",
    "\n",
    "11. Open up to Questions. (15 minutes)"
   ]
  },
  {
   "cell_type": "markdown",
   "id": "1d94f4e6-1ff2-4387-ae8e-b988c19a3f2e",
   "metadata": {},
   "source": [
    "# Exercise: Print Hello, world!\n",
    "\n",
    "Each notebook will have exercises for you to solve. You’ll be given a blank or partially completed cell, followed by a hidden cell with a solution. For example.\n",
    "\n",
    "Print the text “Hello, world!”."
   ]
  },
  {
   "cell_type": "code",
   "execution_count": 1,
   "id": "e73d7084-ba7d-4a1a-a5f3-f244c749a8b6",
   "metadata": {},
   "outputs": [],
   "source": [
    "# Your code here"
   ]
  },
  {
   "cell_type": "markdown",
   "id": "3fe2cdb1-977f-4e96-b771-05f6ca28bcc6",
   "metadata": {},
   "source": [
    "The next cell has the solution. Click the ellipses to expand the solution, and always make sure to run the solution cell, in case later sections of the notebook depend on the output from the solution."
   ]
  },
  {
   "cell_type": "code",
   "execution_count": 2,
   "id": "eac2760c-4b25-4c9f-8f0c-1a4b03bae43e",
   "metadata": {
    "jupyter": {
     "source_hidden": true
    },
    "tags": []
   },
   "outputs": [
    {
     "name": "stdout",
     "output_type": "stream",
     "text": [
      "Hello, world!\n"
     ]
    }
   ],
   "source": [
    "print(\"Hello, world!\")"
   ]
  }
 ],
 "metadata": {
  "kernelspec": {
   "display_name": "Python 3 (ipykernel)",
   "language": "python",
   "name": "python3"
  },
  "language_info": {
   "codemirror_mode": {
    "name": "ipython",
    "version": 3
   },
   "file_extension": ".py",
   "mimetype": "text/x-python",
   "name": "python",
   "nbconvert_exporter": "python",
   "pygments_lexer": "ipython3",
   "version": "3.10.4"
  }
 },
 "nbformat": 4,
 "nbformat_minor": 5
}
