{
  "cells": [
    {
      "cell_type": "markdown",
      "metadata": {},
      "source": [
        "# Orbiting {#orbiting_example}\n\nOrbit around a scene.\n\n::: note\n::: title\nNote\n:::\n\nThe quality of the movie will be better when using\n`pl.open_movie('orbit.mp4')` instead of `pl.open_gif('orbit.gif')`\n:::\n\nFor orbiting to work you first have to show the scene and leave the\nplotter open with `.show(auto_close=False)`. You may also have to set\n`pv.Plotter(off_screen=True)`\n\n::: note\n::: title\nNote\n:::\n\nUse `lighting=False` to reduce the size of the color space to avoid\n\\\"jittery\\\" GIFs when showing the scalar bar.\n:::\n"
      ]
    },
    {
      "cell_type": "code",
      "execution_count": null,
      "metadata": {
        "collapsed": false
      },
      "outputs": [],
      "source": [
        "import pyvista as pv\nfrom pyvista import examples\n\nmesh = examples.download_st_helens().warp_by_scalar()"
      ]
    },
    {
      "cell_type": "markdown",
      "metadata": {},
      "source": [
        "Orbit around the Mt. St Helens dataset.\n"
      ]
    },
    {
      "cell_type": "code",
      "execution_count": null,
      "metadata": {
        "collapsed": false
      },
      "outputs": [],
      "source": [
        "pl = pv.Plotter()\npl.add_mesh(mesh, lighting=False)\npl.camera.zoom(1.5)\npl.show(auto_close=False)\npath = pl.generate_orbital_path(n_points=36, shift=mesh.length)\npl.open_gif(\"orbit.gif\")\npl.orbit_on_path(path, write_frames=True)\npl.close()"
      ]
    },
    {
      "cell_type": "code",
      "execution_count": null,
      "metadata": {
        "collapsed": false
      },
      "outputs": [],
      "source": [
        "pl = pv.Plotter()\npl.add_mesh(mesh, lighting=False)\npl.show_grid()\npl.show(auto_close=False)\nviewup = [0.5, 0.5, 1]\npath = pl.generate_orbital_path(factor=2.0, shift=10000, viewup=viewup, n_points=36)\npl.open_gif(\"orbit.gif\")\npl.orbit_on_path(path, write_frames=True, viewup=[0, 0, 1], step=0.05)\npl.close()"
      ]
    },
    {
      "cell_type": "code",
      "execution_count": null,
      "metadata": {
        "collapsed": false
      },
      "outputs": [],
      "source": [
        "mesh = examples.download_dragon()\nviewup = [0, 1, 0]"
      ]
    },
    {
      "cell_type": "code",
      "execution_count": null,
      "metadata": {
        "collapsed": false
      },
      "outputs": [],
      "source": [
        "pl = pv.Plotter()\npl.add_mesh(mesh)\npl.show(auto_close=False)\npath = pl.generate_orbital_path(factor=2.0, n_points=36, viewup=viewup, shift=0.2)\npl.open_gif(\"orbit.gif\")\npl.orbit_on_path(path, write_frames=True, viewup=viewup, step=0.05)\npl.close()"
      ]
    },
    {
      "cell_type": "markdown",
      "metadata": {},
      "source": [
        "```{=html}\n<center>\n  <a target=\"_blank\" href=\"https://colab.research.google.com/github/pyvista/pyvista-tutorial/blob/gh-pages/notebooks/tutorial/03_figures/bonus/g_orbit.ipynb\">\n    <img src=\"https://colab.research.google.com/assets/colab-badge.svg\" alt=\"Open In Colab\"/ width=\"150px\">\n  </a>\n</center>\n```\n"
      ]
    }
  ],
  "metadata": {
    "kernelspec": {
      "display_name": "Python 3",
      "language": "python",
      "name": "python3"
    },
    "language_info": {
      "codemirror_mode": {
        "name": "ipython",
        "version": 3
      },
      "file_extension": ".py",
      "mimetype": "text/x-python",
      "name": "python",
      "nbconvert_exporter": "python",
      "pygments_lexer": "ipython3",
      "version": "3.12.11"
    }
  },
  "nbformat": 4,
  "nbformat_minor": 0
}