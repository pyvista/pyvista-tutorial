{
  "cells": [
    {
      "cell_type": "code",
      "execution_count": null,
      "metadata": {
        "collapsed": false
      },
      "outputs": [],
      "source": [
        "import subprocess\nimport sys\n\nif \"google.colab\" in sys.modules:\n    subprocess.run(\"apt-get update\", shell=True, check=True)\n    subprocess.run(\"apt-get install -qq xvfb libgl1-mesa-glx\", shell=True, check=True)\n    subprocess.run(\"pip install pyvista[all] -qq\", shell=True, check=True)\n\n    import pyvista as pv\n\n    # Seems that only static plotting is supported by colab at the moment\n    pv.global_theme.jupyter_backend = \"static\"\n    pv.global_theme.notebook = True\n    pv.start_xvfb()\nelse:\n    %matplotlib inline\n    from pyvista import set_plot_theme\n\n    set_plot_theme(\"document\")"
      ]
    },
    {
      "cell_type": "markdown",
      "metadata": {},
      "source": [
        "VTK\\'s Next Generation API\n==========================\n\nThis requires a pre-release version of VTK:\n\n``` {.bash}\npip install --extra-index-url https://wheels.vtk.org vtk==9.3.20240629.dev0\n```\n"
      ]
    },
    {
      "cell_type": "code",
      "execution_count": null,
      "metadata": {
        "collapsed": false
      },
      "outputs": [],
      "source": [
        "import vtkmodules.vtkInteractionStyle\nfrom vtkmodules.vtkRenderingCore import (\n    vtkActor,\n    vtkCompositePolyDataMapper,\n    vtkLightKit,\n    vtkPolyDataMapper,\n    vtkRenderer,\n    vtkRenderWindow,\n    vtkRenderWindowInteractor,\n)\n\n# for factory overrides\nimport vtkmodules.vtkRenderingOpenGL2  # noqa\nimport vtkmodules.vtkRenderingUI  # noqa\n\n# Creates a render window interactor, connects it to a render window.\n# Switch the interactor style such that left mouse click and drag orbit the camera\n# around the camera's focal point.\ninteractor = vtkRenderWindowInteractor()\ninteractor.interactor_style.SetCurrentStyleToTrackballCamera()\n\nwindow = vtkRenderWindow(size=(1280, 720), interactor=interactor)\n\nrenderer = vtkRenderer(automatic_light_creation=False, background=(1.0, 1.0, 1.0))\nwindow.AddRenderer(renderer)\n\n# Uses light kit for better lit scenes than the default in VTK.\nlight_kit = vtkLightKit()\nlight_kit.AddLightsToRenderer(renderer)"
      ]
    },
    {
      "cell_type": "markdown",
      "metadata": {},
      "source": [
        "Load input mesh from a vtkPartitionedDataSetCollection file\n"
      ]
    },
    {
      "cell_type": "code",
      "execution_count": null,
      "metadata": {
        "collapsed": false
      },
      "outputs": [],
      "source": [
        "from vtkmodules.vtkIOXML import vtkXMLPartitionedDataSetCollectionReader\n\nreader = vtkXMLPartitionedDataSetCollectionReader()\nreader.file_name = \"data/mesh.vtpc\"\nreader.Update()\nreactor = reader.output\n\nactor = vtkActor()\nactor.mapper = (reactor >> vtkCompositePolyDataMapper()).last\n# Make the toroid translucent so we can look at objects inside it.\nactor.property.opacity = 0.2\nrenderer.AddActor(actor)"
      ]
    },
    {
      "cell_type": "markdown",
      "metadata": {},
      "source": [
        "Construct magpy coil objects for each coil in the reactor mesh.\n"
      ]
    },
    {
      "cell_type": "code",
      "execution_count": null,
      "metadata": {
        "collapsed": false
      },
      "outputs": [],
      "source": [
        "from utils.build_magnetic_coils import build_magnetic_coils\n\ncoils = build_magnetic_coils(reactor, current=1000)\n\nfrom vtkmodules.util.numpy_support import vtk_to_numpy"
      ]
    },
    {
      "cell_type": "markdown",
      "metadata": {},
      "source": [
        "Compute B, H in a 32x32x32 grid\n"
      ]
    },
    {
      "cell_type": "code",
      "execution_count": null,
      "metadata": {
        "collapsed": false
      },
      "outputs": [],
      "source": [
        "from vtkmodules.vtkCommonDataModel import vtkImageData\n\ngrid = vtkImageData(extent=(-16, 16, -16, 16, -16, 16), spacing=(0.1, 0.1, 0.1))\ngrid_points = vtk_to_numpy(grid.points.data)\nb = coils.getB(grid_points) * 1000\ngrid.point_data.set_array(\"B (mT)\", b)\nh = coils.getH(grid_points)\ngrid.point_data.set_array(\"H (A/m)\", h)"
      ]
    },
    {
      "cell_type": "markdown",
      "metadata": {},
      "source": [
        "Show coils\n"
      ]
    },
    {
      "cell_type": "code",
      "execution_count": null,
      "metadata": {
        "collapsed": false
      },
      "outputs": [],
      "source": [
        "import magpylib as magpy\nfrom utils.save_dataset import save_dataset\n\nmagpy.show(coils, arrow=True)\nsave_dataset(grid, \"data/solution.vti\")\n\nfrom vtkmodules.util.execution_model import select_ports\nfrom vtkmodules.vtkFiltersFlowPaths import vtkStreamTracer"
      ]
    },
    {
      "cell_type": "markdown",
      "metadata": {},
      "source": [
        "Compute streamlines of B field induced by toroidal coils.\n"
      ]
    },
    {
      "cell_type": "code",
      "execution_count": null,
      "metadata": {
        "collapsed": false
      },
      "outputs": [],
      "source": [
        "from vtkmodules.vtkFiltersSources import vtkSphereSource\n\ntrace_streamlines = vtkStreamTracer(\n    integrator_type=vtkStreamTracer.RUNGE_KUTTA45,\n    integration_direction=vtkStreamTracer.BOTH,\n    initial_integration_step=0.2,\n    maximum_propagation=3.2,\n)\ntrace_streamlines.SetInputArrayToProcess(0, 0, 0, 0, \"B (mT)\")\n\ncreate_sphere = vtkSphereSource(theta_resolution=16)\n\ngrid >> select_ports(0, trace_streamlines)\ncreate_sphere >> select_ports(1, trace_streamlines)"
      ]
    },
    {
      "cell_type": "markdown",
      "metadata": {},
      "source": [
        "Visualize streamlines\n"
      ]
    },
    {
      "cell_type": "code",
      "execution_count": null,
      "metadata": {
        "collapsed": false
      },
      "outputs": [],
      "source": [
        "from vtkmodules.vtkFiltersCore import vtkTubeFilter\n\nactor = vtkActor()\nactor.mapper = (\n    trace_streamlines >> vtkTubeFilter(number_of_sides=3, radius=0.00383538) >> vtkPolyDataMapper()\n).last\nrenderer.AddActor(actor)"
      ]
    },
    {
      "cell_type": "markdown",
      "metadata": {},
      "source": [
        "Animate the disk position such that it oscillates between y=-1 and y=1.\n"
      ]
    },
    {
      "cell_type": "code",
      "execution_count": null,
      "metadata": {
        "collapsed": false
      },
      "outputs": [],
      "source": [
        "from itertools import cycle\n\nimport numpy as np\n\n\nclass vtkTimerCallback:\n    def __init__(self, sphere, window, nsteps=10):\n        half_nsteps = int(nsteps / 2)\n        self.radii = cycle(\n            np.append(np.linspace(0, 0.8, half_nsteps), np.linspace(0.8, 0, half_nsteps))\n        )\n        self.sphere = sphere\n        self.window = window\n\n    def execute(self, obj, event):\n        self.sphere.radius = next(self.radii)\n        self.window.Render()"
      ]
    },
    {
      "cell_type": "markdown",
      "metadata": {},
      "source": [
        "Sign up to receive TimerEvent\n"
      ]
    },
    {
      "cell_type": "code",
      "execution_count": null,
      "metadata": {
        "collapsed": false
      },
      "outputs": [],
      "source": [
        "cb = vtkTimerCallback(create_sphere, window, nsteps=250)\ninteractor.RemoveObservers('TimerEvent')\ninteractor.AddObserver('TimerEvent', cb.execute)\ncb.timerId = interactor.CreateRepeatingTimer(2)\n\nrenderer.ResetCamera()\nwindow.Render()\ninteractor.Start()"
      ]
    }
  ],
  "metadata": {
    "kernelspec": {
      "display_name": "Python 3",
      "language": "python",
      "name": "python3"
    },
    "language_info": {
      "codemirror_mode": {
        "name": "ipython",
        "version": 3
      },
      "file_extension": ".py",
      "mimetype": "text/x-python",
      "name": "python",
      "nbconvert_exporter": "python",
      "pygments_lexer": "ipython3",
      "version": "3.10.14"
    }
  },
  "nbformat": 4,
  "nbformat_minor": 0
}