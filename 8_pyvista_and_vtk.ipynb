{
 "cells": [
  {
   "cell_type": "code",
   "execution_count": null,
   "metadata": {
    "collapsed": false,
    "jupyter": {
     "outputs_hidden": false
    }
   },
   "outputs": [],
   "source": [
    "%matplotlib inline\n",
    "from pyvista import set_plot_theme\n",
    "\n",
    "set_plot_theme(\"document\")"
   ]
  },
  {
   "cell_type": "markdown",
   "metadata": {
    "jupyter": {
     "outputs_hidden": false
    }
   },
   "source": [
    "# PyVista & VTK"
   ]
  },
  {
   "cell_type": "markdown",
   "metadata": {
    "jupyter": {
     "outputs_hidden": false
    }
   },
   "source": [
    "Show how PyVista uses VTK and how you can combine the best of both worlds!"
   ]
  },
  {
   "cell_type": "markdown",
   "metadata": {
    "jupyter": {
     "outputs_hidden": false
    }
   },
   "source": [
    "## Transitioning from VTK to PyVista"
   ]
  },
  {
   "cell_type": "markdown",
   "metadata": {
    "jupyter": {
     "outputs_hidden": false
    }
   },
   "source": [
    "VTK is primarily developed in C++ and uses chained setter and getter commands to access data. Instead, PyVista wraps the VTK data types into numpy arrays so that users can benefit from its bracket syntax and fancy indexing. This section demonstrates the difference between the two approaches in a series of examples."
   ]
  },
  {
   "cell_type": "markdown",
   "metadata": {
    "jupyter": {
     "outputs_hidden": false
    }
   },
   "source": [
    "For example, to hard-code points for a vtk.vtkImageData data structure using VTK Python’s bindings, one would write the following:"
   ]
  },
  {
   "cell_type": "code",
   "execution_count": null,
   "metadata": {
    "collapsed": false,
    "jupyter": {
     "outputs_hidden": false
    }
   },
   "outputs": [],
   "source": [
    "from math import cos, sin\n",
    "\n",
    "import vtk\n",
    "\n",
    "# Create (x, y) points for a 300x300 image dataset\n",
    "\n",
    "points = vtk.vtkDoubleArray()\n",
    "points.SetName(\"points\")\n",
    "points.SetNumberOfComponents(1)\n",
    "points.SetNumberOfTuples(300 * 300)\n",
    "\n",
    "for x in range(300):\n",
    "    for y in range(300):\n",
    "        points.SetValue(x * 300 + y, 127.5 + (1.0 + sin(x / 25.0) * cos(y / 25.0)))\n",
    "\n",
    "# Create the image structure\n",
    "\n",
    "image_data = vtk.vtkImageData()\n",
    "image_data.SetOrigin(0, 0, 0)\n",
    "image_data.SetSpacing(1, 1, 1)\n",
    "image_data.SetDimensions(300, 300, 1)\n",
    "\n",
    "# Assign the points to the image\n",
    "\n",
    "image_data.GetPointData().SetScalars(points)"
   ]
  },
  {
   "cell_type": "markdown",
   "metadata": {
    "jupyter": {
     "outputs_hidden": false
    }
   },
   "source": [
    "As you can see, there is quite a bit of boilerplate that goes into the creation of a simple [vtk.vtkImageData](https://vtk.org/doc/nightly/html/classvtkImageData.html) dataset. PyVista provides much more concise syntax that is more “Pythonic”. The equivalent code in PyVista is:"
   ]
  },
  {
   "cell_type": "code",
   "execution_count": null,
   "metadata": {
    "collapsed": false,
    "jupyter": {
     "outputs_hidden": false
    }
   },
   "outputs": [],
   "source": [
    "import numpy as np\n",
    "import pyvista\n",
    "\n",
    "# Use the meshgrid function to create 2D \"grids\" of the x and y values.\n",
    "# This section effectively replaces the vtkDoubleArray.\n",
    "\n",
    "xi = np.arange(300)\n",
    "x, y = np.meshgrid(xi, xi)\n",
    "values = 127.5 + (1.0 + np.sin(x / 25.0) * np.cos(y / 25.0))\n",
    "\n",
    "# Create the grid.  Note how the values must use Fortran ordering.\n",
    "\n",
    "grid = pyvista.UniformGrid(dims=(300, 300, 1))\n",
    "grid.point_data[\"values\"] = values.flatten(order=\"F\")"
   ]
  },
  {
   "cell_type": "markdown",
   "metadata": {},
   "source": [
    "Here, PyVista has done several things for us:\n",
    "1. PyVista combines the dimensionality of the data (in the shape of the [numpy.ndarray](https://numpy.org/doc/stable/reference/generated/numpy.ndarray.html#numpy.ndarray)) with the values of the data in one line. VTK uses “tuples” to describe the shape of the data (where it sits in space) and “components” to describe the type of data (1 = scalars/scalar fields, 2 = vectors/vector fields, n = tensors/tensor fields). Here, shape and values are stored concretely in one variable.\n",
    "1. [pyvista.UniformGrid](https://docs.pyvista.org/api/core/_autosummary/pyvista.UniformGrid.html#pyvista.UniformGrid) wraps [vtk.vtkImageData](https://vtk.org/doc/nightly/html/classvtkImageData.html), just with a different name; they are both containers of evenly spaced points. Your data does not have to be an “image” to use it with vtk.vtkImageData; rather, like images, values in the dataset are evenly spaced apart like pixels in an image.\n",
    "\n",
    "   Furthermore, since we know the container is for uniformly spaced data, pyvista sets the origin and spacing by default to `(0, 0, 0)` and `(1, 1, 1)`. This is another great thing about PyVista and Python! Rather than having to know everything about the VTK library up front, you can get started very easily! Once you get more familiar with it and need to do something more complex, you can dive deeper. For example, changing the origin and spacing is as simple as:"
   ]
  },
  {
   "cell_type": "code",
   "execution_count": null,
   "metadata": {},
   "outputs": [],
   "source": [
    "grid.origin = (10, 20, 10)\n",
    "grid.spacing = (2, 3, 5)"
   ]
  },
  {
   "cell_type": "markdown",
   "metadata": {},
   "source": [
    "3. The name for the point_array is given directly in dictionary-style fashion. Also, since VTK stores data on the heap (linear segments of RAM; a C++ concept), the data must be flattened and put in Fortran ordering (which controls how multidimensional data is laid out in physically 1d memory; numpy uses “C”-style memory layout by default). This is why in our earlier example, the first argument to SetValue() was written as x*300 + y. Here, numpy takes care of this for us quite nicely and it’s made more explicit in the code, following the Python best practice of “Explicit is better than implicit”."
   ]
  },
  {
   "cell_type": "markdown",
   "metadata": {},
   "source": [
    "Finally, with PyVista, each geometry class contains methods that allow you to immediately plot the mesh without also setting up the plot. For example, in VTK you would have to do:"
   ]
  },
  {
   "cell_type": "code",
   "execution_count": null,
   "metadata": {},
   "outputs": [],
   "source": [
    "actor = vtk.vtkImageActor()\n",
    "actor.GetMapper().SetInputData(image_data)\n",
    "ren = vtk.vtkRenderer()\n",
    "renWin = vtk.vtkRenderWindow()\n",
    "renWin.AddRenderer(ren)\n",
    "renWin.SetWindowName(\"ReadSTL\")\n",
    "iren = vtk.vtkRenderWindowInteractor()\n",
    "iren.SetRenderWindow(renWin)\n",
    "ren.AddActor(actor)\n",
    "iren.Initialize()\n",
    "renWin.Render()\n",
    "iren.Start()"
   ]
  },
  {
   "cell_type": "markdown",
   "metadata": {},
   "source": [
    "However, with PyVista you only need:"
   ]
  },
  {
   "cell_type": "code",
   "execution_count": null,
   "metadata": {},
   "outputs": [],
   "source": [
    "grid.plot(cpos=\"xy\", show_scalar_bar=False, cmap=\"coolwarm\")"
   ]
  },
  {
   "cell_type": "markdown",
   "metadata": {},
   "source": [
    "## PointSet Construction"
   ]
  },
  {
   "cell_type": "code",
   "execution_count": null,
   "metadata": {},
   "outputs": [],
   "source": [
    "import vtk\n",
    "\n",
    "vtk_array = vtk.vtkDoubleArray()\n",
    "vtk_array.SetNumberOfComponents(3)\n",
    "vtk_array.SetNumberOfValues(9)\n",
    "vtk_array.SetValue(0, 0)\n",
    "vtk_array.SetValue(1, 0)\n",
    "vtk_array.SetValue(2, 0)\n",
    "vtk_array.SetValue(3, 1)\n",
    "vtk_array.SetValue(4, 0)\n",
    "vtk_array.SetValue(5, 0)\n",
    "vtk_array.SetValue(6, 0.5)\n",
    "vtk_array.SetValue(7, 0.667)\n",
    "vtk_array.SetValue(8, 0)\n",
    "vtk_points = vtk.vtkPoints()\n",
    "vtk_points.SetData(vtk_array)\n",
    "print(vtk_points)"
   ]
  },
  {
   "cell_type": "markdown",
   "metadata": {},
   "source": [
    "To do the same within PyVista, you simply need to create a NumPy array:"
   ]
  },
  {
   "cell_type": "code",
   "execution_count": null,
   "metadata": {},
   "outputs": [],
   "source": [
    "import numpy as np\n",
    "\n",
    "np_points = np.array([[0, 0, 0], [1, 0, 0], [0.5, 0.667, 0]])"
   ]
  },
  {
   "cell_type": "markdown",
   "metadata": {},
   "source": [
    "You can use [pyvista.vtk_points()](https://docs.pyvista.org/api/utilities/_autosummary/pyvista.vtk_points.html#pyvista.vtk_points) to construct a [vtkPoints](https://vtk.org/doc/nightly/html/classvtkPoints.html) object, but this is unnecessary in almost all situations."
   ]
  },
  {
   "cell_type": "markdown",
   "metadata": {},
   "source": [
    "Since the end goal is to construct a [pyvista.DataSet](https://docs.pyvista.org/api/core/_autosummary/pyvista.DataSet.html#pyvista.DataSet), you would simply pass the `np_points` array to the [pyvista.PolyData](https://docs.pyvista.org/api/core/_autosummary/pyvista.PolyData.html#pyvista.PolyData) constructor:"
   ]
  },
  {
   "cell_type": "code",
   "execution_count": null,
   "metadata": {},
   "outputs": [],
   "source": [
    "import pyvista\n",
    "\n",
    "poly_data = pyvista.PolyData(np_points)"
   ]
  },
  {
   "cell_type": "markdown",
   "metadata": {},
   "source": [
    "Whereas in VTK you would have to do:"
   ]
  },
  {
   "cell_type": "code",
   "execution_count": null,
   "metadata": {},
   "outputs": [],
   "source": [
    "vtk_poly_data = vtk.vtkPolyData()\n",
    "vtk_poly_data.SetPoints(vtk_points)"
   ]
  },
  {
   "cell_type": "markdown",
   "metadata": {},
   "source": [
    "The same goes with assigning face or cell connectivity/topology. With VTK you would normally have to loop using `InsertNextCell()` and `InsertCellPoint()`. For example, to create a single cell (triangle) and then assign it to [vtkPolyData](https://vtk.org/doc/nightly/html/classvtkPolyData.html):"
   ]
  },
  {
   "cell_type": "code",
   "execution_count": null,
   "metadata": {},
   "outputs": [],
   "source": [
    "cell_arr = vtk.vtkCellArray()\n",
    "cell_arr.InsertNextCell(3)\n",
    "cell_arr.InsertCellPoint(0)\n",
    "cell_arr.InsertCellPoint(1)\n",
    "cell_arr.InsertCellPoint(2)\n",
    "vtk_poly_data.SetPolys(cell_arr)"
   ]
  },
  {
   "cell_type": "markdown",
   "metadata": {},
   "source": [
    "In PyVista, we can assign this directly in the constructor and then access it (or change it) from the [faces](https://docs.pyvista.org/api/core/_autosummary/pyvista.PolyData.faces.html#pyvista.PolyData.faces) attribute."
   ]
  },
  {
   "cell_type": "code",
   "execution_count": null,
   "metadata": {},
   "outputs": [],
   "source": [
    "faces = np.array([3, 0, 1, 2])\n",
    "poly_data = pyvista.PolyData(np_points, faces)\n",
    "poly_data.faces"
   ]
  },
  {
   "cell_type": "markdown",
   "metadata": {},
   "source": [
    "## Object Representation"
   ]
  },
  {
   "cell_type": "markdown",
   "metadata": {},
   "source": [
    "Both VTK and PyVista provide representations for their objects."
   ]
  },
  {
   "cell_type": "markdown",
   "metadata": {},
   "source": [
    "VTK provides a verbose representation (useful for debugging) of their datatypes that can be accessed via [print()](https://docs.python.org/dev/library/functions.html#print), as the ``__repr__`` (unlike ``__str__``) only provides minimal information about each object:"
   ]
  },
  {
   "cell_type": "code",
   "execution_count": null,
   "metadata": {},
   "outputs": [],
   "source": [
    "print(vtk_poly_data)"
   ]
  },
  {
   "cell_type": "markdown",
   "metadata": {},
   "source": [
    "PyVista chooses to show minimal data in the `repr()`, preferring explicit attribute access on meshes for the bulk of attributes. For example:"
   ]
  },
  {
   "cell_type": "code",
   "execution_count": null,
   "metadata": {},
   "outputs": [],
   "source": [
    "poly_data"
   ]
  },
  {
   "cell_type": "markdown",
   "metadata": {},
   "source": [
    "In this representation we see:\n",
    "\n",
    "- Number of cells [n_cells](https://docs.pyvista.org/api/core/_autosummary/pyvista.DataSet.n_cells.html#pyvista.DataSet.n_cells)\n",
    "- Number of points [n_points](https://docs.pyvista.org/api/core/_autosummary/pyvista.DataSet.n_points.html#pyvista.DataSet.n_points)\n",
    "- Bounds of the mesh [bounds](https://docs.pyvista.org/api/core/_autosummary/pyvista.DataSet.bounds.html#pyvista.DataSet.bounds)\n",
    "- Number of data arrays [n_arrays](https://docs.pyvista.org/api/core/_autosummary/pyvista.DataSet.n_arrays.html#pyvista.DataSet.n_arrays)"
   ]
  },
  {
   "cell_type": "markdown",
   "metadata": {},
   "source": [
    "All other attributes like [lines](https://docs.pyvista.org/api/core/_autosummary/pyvista.PolyData.lines.html#pyvista.PolyData.lines), [point_data](https://docs.pyvista.org/api/core/_autosummary/pyvista.DataSet.point_data.html#pyvista.DataSet.point_data), or [cell_data](https://docs.pyvista.org/api/core/_autosummary/pyvista.DataSet.cell_data.html#pyvista.DataSet.cell_data) can be accessed directly from the object. This approach was chosen to allow for a brief summary showing key parts of the [DataSet](https://docs.pyvista.org/api/core/_autosummary/pyvista.DataSet.html#pyvista.DataSet) without overwhelming the user."
   ]
  },
  {
   "cell_type": "markdown",
   "metadata": {},
   "source": [
    "## Tradeoffs"
   ]
  },
  {
   "cell_type": "markdown",
   "metadata": {},
   "source": [
    "While most features can, not everything can be simplified without losing functionality or performance."
   ]
  },
  {
   "cell_type": "markdown",
   "metadata": {},
   "source": [
    "In the [collision](https://docs.pyvista.org/api/core/_autosummary/pyvista.PolyDataFilters.collision.html#pyvista.PolyDataFilters.collision) filter, we demonstrate how to calculate the collision between two meshes. For example:"
   ]
  },
  {
   "cell_type": "code",
   "execution_count": null,
   "metadata": {},
   "outputs": [],
   "source": [
    "import pyvista\n",
    "\n",
    "# create a default sphere and a shifted sphere\n",
    "mesh_a = pyvista.Sphere()\n",
    "mesh_b = pyvista.Sphere(center=(-0.4, 0, 0))\n",
    "out, n_coll = mesh_a.collision(mesh_b, generate_scalars=True, contact_mode=2)\n",
    "\n",
    "pl = pyvista.Plotter()\n",
    "pl.add_mesh(out)\n",
    "pl.add_mesh(mesh_b, style=\"wireframe\", color=\"k\")\n",
    "pl.camera_position = \"xy\"\n",
    "pl.show()"
   ]
  },
  {
   "cell_type": "markdown",
   "metadata": {},
   "source": [
    "Under the hood, the collision filter detects mesh collisions using oriented bounding box (OBB) trees. For a single collision, this filter is as performant as the VTK counterpart, but when computing multiple collisions with the same meshes, as in the [Collision](https://docs.pyvista.org/examples/01-filter/collisions.html#collision-example) example, it is more efficient to use the [vtkCollisionDetectionFilter](https://vtk.org/doc/nightly/html/classvtkCollisionDetectionFilter.html), as the OBB tree is computed once for each mesh. In most cases, pure PyVista is sufficient for most data science, but there are times when you may want to use VTK classes directly."
   ]
  },
  {
   "cell_type": "markdown",
   "metadata": {},
   "source": [
    "Note that nothing stops you from using VTK classes and then wrapping the output with PyVista. For example:"
   ]
  },
  {
   "cell_type": "code",
   "execution_count": null,
   "metadata": {},
   "outputs": [],
   "source": [
    "import pyvista\n",
    "import vtk\n",
    "\n",
    "# Create a circle using vtk\n",
    "polygonSource = vtk.vtkRegularPolygonSource()\n",
    "polygonSource.GeneratePolygonOff()\n",
    "polygonSource.SetNumberOfSides(50)\n",
    "polygonSource.SetRadius(5.0)\n",
    "polygonSource.SetCenter(0.0, 0.0, 0.0)\n",
    "polygonSource.Update()\n",
    "\n",
    "# wrap and plot using pyvista\n",
    "mesh = pyvista.wrap(polygonSource.GetOutput())\n",
    "mesh.plot(line_width=3, cpos=\"xy\", color=\"k\")"
   ]
  },
  {
   "cell_type": "markdown",
   "metadata": {},
   "source": [
    "In this manner, you can get the “best of both worlds” should you need the flexibility of PyVista and the raw power of VTK."
   ]
  },
  {
   "cell_type": "markdown",
   "metadata": {},
   "source": [
    "You can use [pyvista.PolyData()](https://docs.pyvista.org/api/core/_autosummary/pyvista.PolyData.html#pyvista-polydata) for a one line replacement of the above VTK code."
   ]
  },
  {
   "cell_type": "markdown",
   "metadata": {},
   "source": [
    "### Exercise\n",
    "\n",
    "Let's use [pyvista.PolyData()](https://docs.pyvista.org/api/core/_autosummary/pyvista.PolyData.html#pyvista-polydata) to replace the above code with Pythonic."
   ]
  },
  {
   "cell_type": "code",
   "execution_count": null,
   "metadata": {},
   "outputs": [],
   "source": [
    "# Your code here"
   ]
  },
  {
   "cell_type": "code",
   "execution_count": null,
   "metadata": {
    "jupyter": {
     "source_hidden": true
    },
    "tags": []
   },
   "outputs": [],
   "source": [
    "import pyvista\n",
    "\n",
    "# We still not wrap the `GeneratePolygonOff` method. See https://github.com/pyvista/pyvista/pull/2767 .\n",
    "mesh = pyvista.Polygon(n_sides=50, radius=5.0, center=[0.0, 0.0, 0.0])\n",
    "mesh.plot(line_width=3, cpos=\"xy\", color=\"k\")"
   ]
  },
  {
   "cell_type": "markdown",
   "metadata": {},
   "source": [
    "## Using Common Filters\n",
    "\n",
    "Using common filters like thresholding and clipping."
   ]
  },
  {
   "cell_type": "code",
   "execution_count": null,
   "metadata": {
    "collapsed": false,
    "jupyter": {
     "outputs_hidden": false
    }
   },
   "outputs": [],
   "source": [
    "import pyvista as pv\n",
    "from pyvista import examples"
   ]
  },
  {
   "cell_type": "markdown",
   "metadata": {},
   "source": [
    "PyVista wrapped data objects have a suite of common filters ready for\n",
    "immediate use directly on the object. These filters include the\n",
    "following (see [filters_ref](https://docs.pyvista.org/api/core/filters.html#filters-ref) for a\n",
    "complete list):\n",
    "\n",
    "-   `slice`: creates a single slice through the input dataset on a user\n",
    "    defined plane\n",
    "-   `slice_orthogonal`: creates a `MultiBlock` dataset of three\n",
    "    orthogonal slices\n",
    "-   `slice_along_axis`: creates a `MultiBlock` dataset of many slices\n",
    "    along a specified axis\n",
    "-   `threshold`: Thresholds a dataset by a single value or range of\n",
    "    values\n",
    "-   `threshold_percent`: Threshold by percentages of the scalar range\n",
    "-   `clip`: Clips the dataset by a user defined plane\n",
    "-   `outline_corners`: Outlines the corners of the data extent\n",
    "-   `extract_geometry`: Extract surface geometry\n",
    "\n",
    "To use these filters, call the method of your choice directly on your\n",
    "data object:\n"
   ]
  },
  {
   "cell_type": "code",
   "execution_count": null,
   "metadata": {
    "collapsed": false,
    "jupyter": {
     "outputs_hidden": false
    }
   },
   "outputs": [],
   "source": [
    "dataset = examples.load_uniform()\n",
    "dataset.set_active_scalars(\"Spatial Point Data\")\n",
    "\n",
    "# Apply a threshold over a data range\n",
    "threshed = dataset.threshold([100, 500])\n",
    "\n",
    "outline = dataset.outline()"
   ]
  },
  {
   "cell_type": "markdown",
   "metadata": {},
   "source": [
    "And now there is a thresholded version of the input dataset in the new\n",
    "`threshed` object. To learn more about what keyword arguments are\n",
    "available to alter how filters are executed, print the docstring for any\n",
    "filter attached to PyVista objects with either `help(dataset.threshold)`\n",
    "or using `shift+tab` in an IPython environment."
   ]
  },
  {
   "cell_type": "code",
   "execution_count": null,
   "metadata": {},
   "outputs": [],
   "source": [
    "help(dataset.threshold)"
   ]
  },
  {
   "cell_type": "markdown",
   "metadata": {},
   "source": [
    "We can now plot this filtered dataset along side an outline of the\n",
    "original dataset"
   ]
  },
  {
   "cell_type": "code",
   "execution_count": null,
   "metadata": {
    "collapsed": false,
    "jupyter": {
     "outputs_hidden": false
    }
   },
   "outputs": [],
   "source": [
    "p = pv.Plotter()\n",
    "p.add_mesh(outline, color=\"k\")\n",
    "p.add_mesh(threshed)\n",
    "p.camera_position = [-2, 5, 3]\n",
    "p.show()"
   ]
  },
  {
   "cell_type": "markdown",
   "metadata": {},
   "source": [
    "What about other filters? Let\\'s collect a few filter results and\n",
    "compare them:\n"
   ]
  },
  {
   "cell_type": "code",
   "execution_count": null,
   "metadata": {
    "collapsed": false,
    "jupyter": {
     "outputs_hidden": false
    }
   },
   "outputs": [],
   "source": [
    "contours = dataset.contour()\n",
    "slices = dataset.slice_orthogonal()\n",
    "glyphs = dataset.glyph(factor=1e-3, geom=pv.Sphere())\n",
    "\n",
    "p = pv.Plotter(shape=(2, 2))\n",
    "# Show the threshold\n",
    "p.add_mesh(outline, color=\"k\")\n",
    "p.add_mesh(threshed, show_scalar_bar=False)\n",
    "p.camera_position = [-2, 5, 3]\n",
    "# Show the contour\n",
    "p.subplot(0, 1)\n",
    "p.add_mesh(outline, color=\"k\")\n",
    "p.add_mesh(contours, show_scalar_bar=False)\n",
    "p.camera_position = [-2, 5, 3]\n",
    "# Show the slices\n",
    "p.subplot(1, 0)\n",
    "p.add_mesh(outline, color=\"k\")\n",
    "p.add_mesh(slices, show_scalar_bar=False)\n",
    "p.camera_position = [-2, 5, 3]\n",
    "# Show the glyphs\n",
    "p.subplot(1, 1)\n",
    "p.add_mesh(outline, color=\"k\")\n",
    "p.add_mesh(glyphs, show_scalar_bar=False)\n",
    "p.camera_position = [-2, 5, 3]\n",
    "\n",
    "p.link_views()\n",
    "p.show()"
   ]
  },
  {
   "cell_type": "markdown",
   "metadata": {},
   "source": [
    "## Filter Pipeline\n",
    "\n",
    "In VTK, filters are often used in a pipeline where each algorithm passes\n",
    "its output to the next filtering algorithm. In PyVista, we can mimic the\n",
    "filtering pipeline through a chain; attaching each filter to the last\n",
    "filter. In the following example, several filters are chained together:\n",
    "\n",
    "1.  First, and empty `threshold` filter to clean out any `NaN` values.\n",
    "2.  Use an `elevation` filter to generate scalar values corresponding to\n",
    "    height.\n",
    "3.  Use the `clip` filter to cut the dataset in half.\n",
    "4.  Create three slices along each axial plane using the\n",
    "    `slice_orthogonal` filter.\n"
   ]
  },
  {
   "cell_type": "code",
   "execution_count": null,
   "metadata": {
    "collapsed": false,
    "jupyter": {
     "outputs_hidden": false
    }
   },
   "outputs": [],
   "source": [
    "# Apply a filtering chain\n",
    "result = dataset.threshold().elevation().clip(normal=\"z\").slice_orthogonal()"
   ]
  },
  {
   "cell_type": "markdown",
   "metadata": {},
   "source": [
    "And to view this filtered data, simply call the `plot` method\n",
    "(`result.plot()`) or create a rendering scene:\n"
   ]
  },
  {
   "cell_type": "code",
   "execution_count": null,
   "metadata": {
    "collapsed": false,
    "jupyter": {
     "outputs_hidden": false
    }
   },
   "outputs": [],
   "source": [
    "p = pv.Plotter()\n",
    "p.add_mesh(outline, color=\"k\")\n",
    "p.add_mesh(result, scalars=\"Elevation\")\n",
    "p.view_isometric()\n",
    "p.show()"
   ]
  },
  {
   "cell_type": "markdown",
   "metadata": {
    "jupyter": {
     "outputs_hidden": false
    }
   },
   "source": [
    "### Exercise"
   ]
  },
  {
   "cell_type": "markdown",
   "metadata": {},
   "source": [
    "Let's plot a 2x2 plot of 4 patterns with Sphere set to shrink factors of 0.8, 0.6, 0.4, and 0.2."
   ]
  },
  {
   "cell_type": "code",
   "execution_count": null,
   "metadata": {},
   "outputs": [],
   "source": [
    "import pyvista as pv"
   ]
  },
  {
   "cell_type": "code",
   "execution_count": null,
   "metadata": {},
   "outputs": [],
   "source": [
    "pv.Sphere?"
   ]
  },
  {
   "cell_type": "code",
   "execution_count": null,
   "metadata": {},
   "outputs": [],
   "source": [
    "pv.DataSet.shrink?"
   ]
  },
  {
   "cell_type": "code",
   "execution_count": null,
   "metadata": {},
   "outputs": [],
   "source": [
    "# Your code here"
   ]
  },
  {
   "cell_type": "code",
   "execution_count": null,
   "metadata": {
    "jupyter": {
     "source_hidden": true
    },
    "tags": []
   },
   "outputs": [],
   "source": [
    "mesh1 = pv.Sphere().shrink(shrink_factor=0.8)\n",
    "mesh2 = pv.Sphere().shrink(shrink_factor=0.6)\n",
    "mesh3 = pv.Sphere().shrink(shrink_factor=0.4)\n",
    "mesh4 = pv.Sphere().shrink(shrink_factor=0.2)\n",
    "\n",
    "p = pv.Plotter(shape=(2, 2))\n",
    "p.subplot(0, 0)\n",
    "p.add_text(\"shrink_factor: 0.8\")\n",
    "p.add_mesh(mesh1)\n",
    "p.subplot(0, 1)\n",
    "p.add_text(\"shrink_factor: 0.6\")\n",
    "p.add_mesh(mesh2)\n",
    "p.subplot(1, 0)\n",
    "p.add_text(\"shrink_factor: 0.4\")\n",
    "p.add_mesh(mesh3)\n",
    "p.subplot(1, 1)\n",
    "p.add_text(\"shrink_factor: 0.2\")\n",
    "p.add_mesh(mesh4)\n",
    "p.show()"
   ]
  },
  {
   "cell_type": "code",
   "execution_count": null,
   "metadata": {},
   "outputs": [],
   "source": []
  }
 ],
 "metadata": {
  "kernelspec": {
   "display_name": "Python 3 (ipykernel)",
   "language": "python",
   "name": "python3"
  },
  "language_info": {
   "codemirror_mode": {
    "name": "ipython",
    "version": 3
   },
   "file_extension": ".py",
   "mimetype": "text/x-python",
   "name": "python",
   "nbconvert_exporter": "python",
   "pygments_lexer": "ipython3",
   "version": "3.10.4"
  }
 },
 "nbformat": 4,
 "nbformat_minor": 4
}
