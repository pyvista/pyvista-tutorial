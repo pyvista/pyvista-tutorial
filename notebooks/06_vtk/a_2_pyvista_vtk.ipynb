{
  "cells": [
    {
      "cell_type": "code",
      "execution_count": null,
      "metadata": {
        "collapsed": false
      },
      "outputs": [],
      "source": [
        "import subprocess\nimport sys\n\nif \"google.colab\" in sys.modules:\n    subprocess.run(\"apt-get update\", shell=True, check=True)\n    subprocess.run(\"apt-get install -qq xvfb libgl1-mesa-glx\", shell=True, check=True)\n    subprocess.run(\"pip install pyvista[all] -qq\", shell=True, check=True)\n\n    import pyvista as pv\n\n    # Seems that only static plotting is supported by colab at the moment\n    pv.global_theme.jupyter_backend = \"static\"\n    pv.global_theme.notebook = True\n    pv.start_xvfb()\nelse:\n    %matplotlib inline\n    from pyvista import set_plot_theme\n\n    set_plot_theme(\"document\")"
      ]
    },
    {
      "cell_type": "markdown",
      "metadata": {},
      "source": [
        "PyVista and VTK Together\n========================\n\nPyVista is best known for is easy to use plotting API \\-- being familiar\nto most Python users already experienced with libraries like Matplotlib.\nMany people benefit from combining the power of VTK\\'s Python bindings\nfor their data pipelines and the flexibility and simplicity of PyVista\nfor 3D rendering. The following section demonstrates this usage\nscenario.\n\n::: {.tip}\n::: {.title}\nTip\n:::\n\nIn case it was not made clear in the `mesh`{.interpreted-text\nrole=\"ref\"} section, PyVista mesh classes are subclasses of their VTK\ncounterparts - which means PyVista can be intermixed with VTK workflows.\n:::\n\nNothing stops you from using VTK classes and then wrapping the output\nwith PyVista for streamlined plotting. For example:\n"
      ]
    },
    {
      "cell_type": "code",
      "execution_count": null,
      "metadata": {
        "collapsed": false
      },
      "outputs": [],
      "source": [
        "import pyvista as pv\nfrom pyvista import examples\nimport vtk"
      ]
    },
    {
      "cell_type": "markdown",
      "metadata": {},
      "source": [
        "Create a circle using vtk\n"
      ]
    },
    {
      "cell_type": "code",
      "execution_count": null,
      "metadata": {
        "collapsed": false
      },
      "outputs": [],
      "source": [
        "polygonSource = vtk.vtkRegularPolygonSource()\npolygonSource.GeneratePolygonOff()\npolygonSource.SetNumberOfSides(50)\npolygonSource.SetRadius(5.0)\npolygonSource.SetCenter(0.0, 0.0, 0.0)\npolygonSource.Update()"
      ]
    },
    {
      "cell_type": "markdown",
      "metadata": {},
      "source": [
        "wrap and plot using pyvista\n"
      ]
    },
    {
      "cell_type": "code",
      "execution_count": null,
      "metadata": {
        "collapsed": false
      },
      "outputs": [],
      "source": [
        "mesh = pv.wrap(polygonSource.GetOutput())\nmesh.plot(line_width=3, cpos='xy', color='k')"
      ]
    },
    {
      "cell_type": "markdown",
      "metadata": {},
      "source": [
        "In this manner, you can get the \\\"best of both worlds\\\" should you need\nthe flexibility of PyVista and the raw power of VTK.\n\n::: {.note}\n::: {.title}\nNote\n:::\n\nYou can use `pyvista.Polygon`{.interpreted-text role=\"func\"} for a one\nline replacement of the above VTK code.\n:::\n"
      ]
    },
    {
      "cell_type": "markdown",
      "metadata": {},
      "source": [
        "VTK Algorithms\n==============\n\nPerhaps there is a VTK algorithm that is not (yet) exposed in PyVista\nthat you\\'d like to use. This is easy enough to work with since PyVista\nobjects are VTK objects. We can pass our PyVista meshes to the VTK\nalgorithm, then wrap the output for plotting, further filtering, or\nanything.\n"
      ]
    },
    {
      "cell_type": "code",
      "execution_count": null,
      "metadata": {
        "collapsed": false
      },
      "outputs": [],
      "source": [
        "mesh = examples.download_bunny_coarse()"
      ]
    },
    {
      "cell_type": "markdown",
      "metadata": {},
      "source": [
        "Initialize VTK algorithm\n"
      ]
    },
    {
      "cell_type": "code",
      "execution_count": null,
      "metadata": {
        "collapsed": false
      },
      "outputs": [],
      "source": [
        "splatter = vtk.vtkGaussianSplatter()"
      ]
    },
    {
      "cell_type": "markdown",
      "metadata": {},
      "source": [
        "Pass PyVista object as input to VTK\n"
      ]
    },
    {
      "cell_type": "code",
      "execution_count": null,
      "metadata": {
        "collapsed": false
      },
      "outputs": [],
      "source": [
        "splatter.SetInputData(mesh)"
      ]
    },
    {
      "cell_type": "markdown",
      "metadata": {},
      "source": [
        "Set parameters\n"
      ]
    },
    {
      "cell_type": "code",
      "execution_count": null,
      "metadata": {
        "collapsed": false
      },
      "outputs": [],
      "source": [
        "n = 200\nsplatter.SetSampleDimensions(n, n, n)\nsplatter.SetRadius(0.02)\nsplatter.SetExponentFactor(-10)\nsplatter.SetEccentricity(2)\nsplatter.Update()"
      ]
    },
    {
      "cell_type": "markdown",
      "metadata": {},
      "source": [
        "Retrieve output and wrap with PyVista\n"
      ]
    },
    {
      "cell_type": "code",
      "execution_count": null,
      "metadata": {
        "collapsed": false
      },
      "outputs": [],
      "source": [
        "vol = pv.wrap(splatter.GetOutput())"
      ]
    },
    {
      "cell_type": "markdown",
      "metadata": {},
      "source": [
        "Use PyVista to produce contours\n"
      ]
    },
    {
      "cell_type": "code",
      "execution_count": null,
      "metadata": {
        "collapsed": false
      },
      "outputs": [],
      "source": [
        "cntrs = vol.contour([0.95 * splatter.GetRadius()])"
      ]
    },
    {
      "cell_type": "markdown",
      "metadata": {},
      "source": [
        "Use PyVista to plot\n"
      ]
    },
    {
      "cell_type": "code",
      "execution_count": null,
      "metadata": {
        "collapsed": false
      },
      "outputs": [],
      "source": [
        "p = pv.Plotter()\np.add_mesh(mesh, style='wireframe')\np.add_mesh(cntrs, color=True)\np.show()"
      ]
    },
    {
      "cell_type": "markdown",
      "metadata": {},
      "source": [
        "::: {.note}\n::: {.title}\nNote\n:::\n\nThe above example was adapted from VTK\\'s [Embed Points Into\nVolume](https://kitware.github.io/vtk-examples/site/Cxx/PolyData/EmbedPointsIntoVolume/)\n:::\n"
      ]
    },
    {
      "cell_type": "markdown",
      "metadata": {},
      "source": [
        "```{=html}\n<center>\n  <a target=\"_blank\" href=\"https://colab.research.google.com/github/pyvista/pyvista-tutorial/blob/gh-pages/notebooks/tutorial/06_vtk/a_2_pyvista_vtk.ipynb\">\n    <img src=\"https://colab.research.google.com/assets/colab-badge.svg\" alt=\"Open In Colab\"/ width=\"150px\">\n  </a>\n</center>\n```\n"
      ]
    }
  ],
  "metadata": {
    "kernelspec": {
      "display_name": "Python 3",
      "language": "python",
      "name": "python3"
    },
    "language_info": {
      "codemirror_mode": {
        "name": "ipython",
        "version": 3
      },
      "file_extension": ".py",
      "mimetype": "text/x-python",
      "name": "python",
      "nbconvert_exporter": "python",
      "pygments_lexer": "ipython3",
      "version": "3.10.14"
    }
  },
  "nbformat": 4,
  "nbformat_minor": 0
}