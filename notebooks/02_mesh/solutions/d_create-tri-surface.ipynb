{
  "cells": [
    {
      "cell_type": "code",
      "execution_count": null,
      "metadata": {
        "collapsed": false
      },
      "outputs": [],
      "source": [
        "import subprocess\nimport sys\n\nif \"google.colab\" in sys.modules:\n    subprocess.run(\"apt-get update\", shell=True, check=True)\n    subprocess.run(\"apt-get install -qq xvfb libgl1-mesa-glx\", shell=True, check=True)\n    subprocess.run(\"pip install pyvista[all] -qq\", shell=True, check=True)\n\n    import pyvista as pv\n\n    # Seems that only static plotting is supported by colab at the moment\n    pv.global_theme.jupyter_backend = \"static\"\n    pv.global_theme.notebook = True\n    pv.start_xvfb()\nelse:\n    %matplotlib inline\n    from pyvista import set_plot_theme\n\n    set_plot_theme(\"document\")"
      ]
    },
    {
      "cell_type": "markdown",
      "metadata": {},
      "source": [
        "Create Triangulated Surface {#triangulated_surface}\n===========================\n\nCreate a surface from a set of points through a Delaunay triangulation.\n\n::: {.note}\n::: {.title}\nNote\n:::\n\nWe will use a filter from PyVista to perform our triangulation:\n[delaunay\\_2d](https://docs.pyvista.org/api/core/_autosummary/pyvista.PolyData.delaunay_2d.html).\n:::\n"
      ]
    },
    {
      "cell_type": "code",
      "execution_count": null,
      "metadata": {
        "collapsed": false
      },
      "outputs": [],
      "source": [
        "import numpy as np\nimport pyvista as pv"
      ]
    },
    {
      "cell_type": "markdown",
      "metadata": {},
      "source": [
        "Simple Triangulations\n=====================\n\nFirst, create some points for the surface.\n"
      ]
    },
    {
      "cell_type": "code",
      "execution_count": null,
      "metadata": {
        "collapsed": false
      },
      "outputs": [],
      "source": [
        "# Define a simple Gaussian surface\nn = 20\nx = np.linspace(-200, 200, num=n) + np.random.uniform(-5, 5, size=n)\ny = np.linspace(-200, 200, num=n) + np.random.uniform(-5, 5, size=n)\nxx, yy = np.meshgrid(x, y)\nA, b = 100, 100\nzz = A * np.exp(-0.5 * ((xx / b) ** 2.0 + (yy / b) ** 2.0))\n\n# Get the points as a 2D NumPy array (N by 3)\npoints = np.c_[xx.reshape(-1), yy.reshape(-1), zz.reshape(-1)]\npoints[0:5, :]"
      ]
    },
    {
      "cell_type": "markdown",
      "metadata": {},
      "source": [
        "Now use those points to create a point cloud PyVista data object. This\nwill be encompassed in a `pyvista.PolyData`{.interpreted-text\nrole=\"class\"} object.\n"
      ]
    },
    {
      "cell_type": "code",
      "execution_count": null,
      "metadata": {
        "collapsed": false
      },
      "outputs": [],
      "source": [
        "# simply pass the numpy points to the PolyData constructor\ncloud = pv.PolyData(points)\ncloud.plot(point_size=15)"
      ]
    },
    {
      "cell_type": "markdown",
      "metadata": {},
      "source": [
        "Now that we have a PyVista data structure of the points, we can perform\na triangulation to turn those boring discrete points into a connected\nsurface. See\n`pyvista.UnstructuredGridFilters.delaunay_2d`{.interpreted-text\nrole=\"func\"}.\n"
      ]
    },
    {
      "cell_type": "code",
      "execution_count": null,
      "metadata": {
        "collapsed": false
      },
      "outputs": [],
      "source": [
        "help(cloud.delaunay_2d)"
      ]
    },
    {
      "cell_type": "markdown",
      "metadata": {},
      "source": [
        "Apply the `delaunay_2d` filter.\n"
      ]
    },
    {
      "cell_type": "code",
      "execution_count": null,
      "metadata": {
        "collapsed": false
      },
      "outputs": [],
      "source": [
        "surf = cloud.delaunay_2d()\n\n# And plot it with edges shown\nsurf.plot(show_edges=True)"
      ]
    },
    {
      "cell_type": "markdown",
      "metadata": {},
      "source": [
        "Clean Edges & Triangulations\n============================\n"
      ]
    },
    {
      "cell_type": "code",
      "execution_count": null,
      "metadata": {
        "collapsed": false
      },
      "outputs": [],
      "source": [
        "# Create the points to triangulate\nx = np.arange(10, dtype=float)\nxx, yy, zz = np.meshgrid(x, x, [0])\npoints = np.column_stack((xx.ravel(order=\"F\"), yy.ravel(order=\"F\"), zz.ravel(order=\"F\")))\n# Perturb the points\npoints[:, 0] += np.random.rand(len(points)) * 0.3\npoints[:, 1] += np.random.rand(len(points)) * 0.3\n\n# Create the point cloud mesh to triangulate from the coordinates\ncloud = pv.PolyData(points)\ncloud"
      ]
    },
    {
      "cell_type": "code",
      "execution_count": null,
      "metadata": {
        "collapsed": false
      },
      "outputs": [],
      "source": [
        "cloud.plot(cpos=\"xy\")"
      ]
    },
    {
      "cell_type": "markdown",
      "metadata": {},
      "source": [
        "Run the triangulation on these points\n"
      ]
    },
    {
      "cell_type": "code",
      "execution_count": null,
      "metadata": {
        "collapsed": false
      },
      "outputs": [],
      "source": [
        "surf = cloud.delaunay_2d()\nsurf.plot(cpos=\"xy\", show_edges=True)"
      ]
    },
    {
      "cell_type": "markdown",
      "metadata": {},
      "source": [
        "Note that some of the outer edges are unconstrained and the\ntriangulation added unwanted triangles. We can mitigate that with the\n`alpha` parameter.\n"
      ]
    },
    {
      "cell_type": "code",
      "execution_count": null,
      "metadata": {
        "collapsed": false
      },
      "outputs": [],
      "source": [
        "surf = cloud.delaunay_2d(alpha=1.0)\nsurf.plot(cpos=\"xy\", show_edges=True)"
      ]
    },
    {
      "cell_type": "markdown",
      "metadata": {},
      "source": [
        "```{=html}\n<center>\n  <a target=\"_blank\" href=\"https://colab.research.google.com/github/pyvista/pyvista-tutorial/blob/gh-pages/notebooks/tutorial/02_mesh/solutions/d_create-tri-surface.ipynb\">\n    <img src=\"https://colab.research.google.com/assets/colab-badge.svg\" alt=\"Open In Colab\"/ width=\"150px\">\n  </a>\n</center>\n```\n"
      ]
    }
  ],
  "metadata": {
    "kernelspec": {
      "display_name": "Python 3",
      "language": "python",
      "name": "python3"
    },
    "language_info": {
      "codemirror_mode": {
        "name": "ipython",
        "version": 3
      },
      "file_extension": ".py",
      "mimetype": "text/x-python",
      "name": "python",
      "nbconvert_exporter": "python",
      "pygments_lexer": "ipython3",
      "version": "3.10.14"
    }
  },
  "nbformat": 4,
  "nbformat_minor": 0
}