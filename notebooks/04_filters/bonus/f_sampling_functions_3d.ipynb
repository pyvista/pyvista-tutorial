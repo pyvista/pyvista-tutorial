{
  "cells": [
    {
      "cell_type": "code",
      "execution_count": null,
      "metadata": {
        "collapsed": false
      },
      "outputs": [],
      "source": [
        "import subprocess\nimport sys\n\nif \"google.colab\" in sys.modules:\n    subprocess.run(\"apt-get update\", shell=True, check=True)\n    subprocess.run(\"apt-get install -qq xvfb libgl1-mesa-glx\", shell=True, check=True)\n    subprocess.run(\"pip install pyvista[all] -qq\", shell=True, check=True)\n\n    import pyvista as pv\n\n    # Seems that only static plotting is supported by colab at the moment\n    pv.global_theme.jupyter_backend = \"static\"\n    pv.global_theme.notebook = True\n    pv.start_xvfb()\nelse:\n    %matplotlib inline\n    from pyvista import set_plot_theme\n\n    set_plot_theme(\"document\")"
      ]
    },
    {
      "cell_type": "markdown",
      "metadata": {},
      "source": [
        "Sample Function: Perlin Noise in 3D\n===================================\n\nHere we use\n`pyvista.core.utilities.features.sample_function`{.interpreted-text\nrole=\"func\"} to sample Perlin noise over a region to generate random\nterrain.\n\nVideo games like Minecraft use Perlin noise to create terrain. Here, we\ncreate a voxelized mesh similar to a Minecraft \\\"cave\\\".\n"
      ]
    },
    {
      "cell_type": "code",
      "execution_count": null,
      "metadata": {
        "collapsed": false
      },
      "outputs": [],
      "source": [
        "import pyvista as pv"
      ]
    },
    {
      "cell_type": "markdown",
      "metadata": {},
      "source": [
        "Generate Perlin Noise over a 3D StructuredGrid\n==============================================\n\nFeel free to change the values of `freq` to change the shape of the\n\\\"caves\\\". For example, lowering the frequency will make the caves\nlarger and more expansive, while a higher frequency in any direction\nwill make the caves appear more \\\"vein-like\\\" and less open.\n\nChange the threshold to reduce or increase the percent of the terrain\nthat is open or closed\n"
      ]
    },
    {
      "cell_type": "code",
      "execution_count": null,
      "metadata": {
        "collapsed": false
      },
      "outputs": [],
      "source": [
        "freq = (1, 1, 1)\nnoise = pv.perlin_noise(1, freq, (0, 0, 0))\ngrid = pv.sample_function(noise, [0, 3.0, -0, 1.0, 0, 1.0], dim=(120, 40, 40))\nout = grid.threshold(0.02)\nout"
      ]
    },
    {
      "cell_type": "markdown",
      "metadata": {},
      "source": [
        "color limits without blue\n"
      ]
    },
    {
      "cell_type": "code",
      "execution_count": null,
      "metadata": {
        "collapsed": false
      },
      "outputs": [],
      "source": [
        "mn, mx = [out['scalars'].min(), out['scalars'].max()]\nclim = (mn, mx * 1.8)\n\nout.plot(\n    cmap='gist_earth_r',\n    background='white',\n    show_scalar_bar=False,\n    lighting=True,\n    clim=clim,\n    show_edges=False,\n)"
      ]
    },
    {
      "cell_type": "markdown",
      "metadata": {},
      "source": [
        "```{=html}\n<center>\n  <a target=\"_blank\" href=\"https://colab.research.google.com/github/pyvista/pyvista-tutorial/blob/gh-pages/notebooks/tutorial/04_filters/bonus/f_sampling_functions_3d.ipynb\">\n    <img src=\"https://colab.research.google.com/assets/colab-badge.svg\" alt=\"Open In Colab\"/ width=\"150px\">\n  </a>\n</center>\n```\n"
      ]
    }
  ],
  "metadata": {
    "kernelspec": {
      "display_name": "Python 3",
      "language": "python",
      "name": "python3"
    },
    "language_info": {
      "codemirror_mode": {
        "name": "ipython",
        "version": 3
      },
      "file_extension": ".py",
      "mimetype": "text/x-python",
      "name": "python",
      "nbconvert_exporter": "python",
      "pygments_lexer": "ipython3",
      "version": "3.10.14"
    }
  },
  "nbformat": 4,
  "nbformat_minor": 0
}