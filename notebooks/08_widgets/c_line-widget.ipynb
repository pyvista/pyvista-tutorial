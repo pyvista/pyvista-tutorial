{
  "cells": [
    {
      "cell_type": "code",
      "execution_count": null,
      "metadata": {
        "collapsed": false
      },
      "outputs": [],
      "source": [
        "import subprocess\nimport sys\n\nif \"google.colab\" in sys.modules:\n    subprocess.run(\"apt-get update\", shell=True, check=True)\n    subprocess.run(\"apt-get install -qq xvfb libgl1-mesa-glx\", shell=True, check=True)\n    subprocess.run(\"pip install pyvista[all] -qq\", shell=True, check=True)\n\n    import pyvista as pv\n\n    # Seems that only static plotting is supported by colab at the moment\n    pv.global_theme.jupyter_backend = \"static\"\n    pv.global_theme.notebook = True\n    pv.start_xvfb()\nelse:\n    %matplotlib inline\n    from pyvista import set_plot_theme\n\n    set_plot_theme(\"document\")"
      ]
    },
    {
      "cell_type": "markdown",
      "metadata": {},
      "source": [
        "Line Widget {#line_widget_example}\n===========\n\nThe line widget can be enabled and disabled by the\n`pyvista.Plotter.add_line_widget`{.interpreted-text role=\"func\"} and\n`pyvista.Plotter.clear_line_widgets`{.interpreted-text role=\"func\"}\nmethods respectively. Unfortunately, PyVista does not have any helper\nmethods to utilize this widget, so it is necessary to pass a custom\ncallback method.\n\nOne particularly fun example is to use the line widget to create a\nsource for the `pyvista.DataSetFilters.streamlines`{.interpreted-text\nrole=\"func\"} filter. Again note the use of the `name` argument in\n`add_mesh`.\n"
      ]
    },
    {
      "cell_type": "code",
      "execution_count": null,
      "metadata": {
        "collapsed": false
      },
      "outputs": [],
      "source": [
        "import numpy as np\nimport pyvista as pv\nfrom pyvista import examples\n\npv.set_plot_theme('document')\n\nmesh = examples.download_kitchen()\nfurniture = examples.download_kitchen(split=True)\n\narr = np.linalg.norm(mesh['velocity'], axis=1)\nclim = [arr.min(), arr.max()]"
      ]
    },
    {
      "cell_type": "code",
      "execution_count": null,
      "metadata": {
        "collapsed": false
      },
      "outputs": [],
      "source": [
        "p = pv.Plotter()\np.add_mesh(furniture, name='furniture', color=True)\np.add_mesh(mesh.outline(), color='black')\np.add_axes()\n\n\ndef simulate(pointa, pointb):\n    streamlines = mesh.streamlines(\n        n_points=10, max_steps=100, pointa=pointa, pointb=pointb, integration_direction='forward'\n    )\n    p.add_mesh(streamlines, name='streamlines', line_width=5, render_lines_as_tubes=True, clim=clim)\n\n\np.add_line_widget(callback=simulate, use_vertices=True)\np.show()"
      ]
    },
    {
      "cell_type": "markdown",
      "metadata": {},
      "source": [
        "And here is a screen capture of a user interacting with this\n\n![image](../../images/gifs/line-widget-streamlines.gif)\n"
      ]
    },
    {
      "cell_type": "markdown",
      "metadata": {},
      "source": [
        "```{=html}\n<center>\n  <a target=\"_blank\" href=\"https://colab.research.google.com/github/pyvista/pyvista-tutorial/blob/gh-pages/notebooks/tutorial/08_widgets/c_line-widget.ipynb\">\n    <img src=\"https://colab.research.google.com/assets/colab-badge.svg\" alt=\"Open In Colab\"/ width=\"150px\">\n  </a>\n</center>\n```\n"
      ]
    }
  ],
  "metadata": {
    "kernelspec": {
      "display_name": "Python 3",
      "language": "python",
      "name": "python3"
    },
    "language_info": {
      "codemirror_mode": {
        "name": "ipython",
        "version": 3
      },
      "file_extension": ".py",
      "mimetype": "text/x-python",
      "name": "python",
      "nbconvert_exporter": "python",
      "pygments_lexer": "ipython3",
      "version": "3.10.14"
    }
  },
  "nbformat": 4,
  "nbformat_minor": 0
}