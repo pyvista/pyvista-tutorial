{
  "cells": [
    {
      "cell_type": "code",
      "execution_count": null,
      "metadata": {
        "collapsed": false
      },
      "outputs": [],
      "source": [
        "import subprocess\nimport sys\n\nif \"google.colab\" in sys.modules:\n    subprocess.run(\"apt-get update\", shell=True, check=True)\n    subprocess.run(\"apt-get install -qq xvfb libgl1-mesa-glx\", shell=True, check=True)\n    subprocess.run(\"pip install pyvista[all] -qq\", shell=True, check=True)\n\n    import pyvista as pv\n\n    # Seems that only static plotting is supported by colab at the moment\n    pv.global_theme.jupyter_backend = \"static\"\n    pv.global_theme.notebook = True\n    pv.start_xvfb()\nelse:\n    %matplotlib inline\n    from pyvista import set_plot_theme\n\n    set_plot_theme(\"document\")"
      ]
    },
    {
      "cell_type": "markdown",
      "metadata": {},
      "source": [
        "Download and Plot Examples {#load_examples}\n==========================\n\nDownload and plot example datasets.\n\nPyVista contains many downloadable datasets documented at\n[pyvista.examples.downloads](https://docs.pyvista.org/api/examples/_autosummary/pyvista.examples.downloads.html).\nYou can download these through Python and immediately plot them.\n\nThis is an easy way to immediately get started with example datasets\nwithin PyVista without having to manually download and load them.\n"
      ]
    },
    {
      "cell_type": "markdown",
      "metadata": {},
      "source": [
        "Import PyVista and the examples module\n======================================\n"
      ]
    },
    {
      "cell_type": "code",
      "execution_count": null,
      "metadata": {
        "collapsed": false
      },
      "outputs": [],
      "source": [
        "import pyvista as pv\nfrom pyvista import examples"
      ]
    },
    {
      "cell_type": "markdown",
      "metadata": {},
      "source": [
        "Surface DataSet - Download\n==========================\n\nDownload a surface dataset of pine roots. Note how the dataset is\nautomatically loaded right into Python.\n"
      ]
    },
    {
      "cell_type": "code",
      "execution_count": null,
      "metadata": {
        "collapsed": false
      },
      "outputs": [],
      "source": [
        "dataset = examples.download_pine_roots()\ndataset"
      ]
    },
    {
      "cell_type": "markdown",
      "metadata": {},
      "source": [
        "Surface DataSet - Plot\n======================\n\nPlot the pine roots using PyVista\\'s default plotting settings.\n"
      ]
    },
    {
      "cell_type": "code",
      "execution_count": null,
      "metadata": {
        "collapsed": false
      },
      "outputs": [],
      "source": [
        "dataset.plot()"
      ]
    },
    {
      "cell_type": "markdown",
      "metadata": {},
      "source": [
        "Volume DataSet - Download\n=========================\n\nDownload the bolt dataset. This is an excellent dataset to visualize\nusing \\\"volumetric\\\" plotting.\n"
      ]
    },
    {
      "cell_type": "code",
      "execution_count": null,
      "metadata": {
        "collapsed": false
      },
      "outputs": [],
      "source": [
        "dataset = examples.download_bolt_nut()\ndataset"
      ]
    },
    {
      "cell_type": "markdown",
      "metadata": {},
      "source": [
        "Volume DataSet - Plot\n=====================\n\nHere, we plot the dataset using a custom view direction using\n`pyvista.Plotter`{.interpreted-text role=\"class\"}.\n"
      ]
    },
    {
      "cell_type": "code",
      "execution_count": null,
      "metadata": {
        "collapsed": false
      },
      "outputs": [],
      "source": [
        "pl = pv.Plotter()\n_ = pl.add_volume(\n    dataset,\n    cmap=\"coolwarm\",\n    opacity=\"sigmoid_5\",\n    show_scalar_bar=False,\n)\npl.camera_position = [(194.6, -141.8, 182.0), (34.5, 61.0, 32.5), (-0.229, 0.45, 0.86)]\npl.show()"
      ]
    },
    {
      "cell_type": "markdown",
      "metadata": {},
      "source": [
        "Exercise \\#1 - Use PyVista Examples\n===================================\n\nVisualize one of PyVista\\'s built in examples.\n\nIf your IDE supports it, you should be able to type\n`dataset = examples.download_` and press tab to see all the available\nexamples you can download.\n"
      ]
    },
    {
      "cell_type": "markdown",
      "metadata": {},
      "source": [
        "Exercise \\#2 - Download and View a File\n=======================================\n\nExperiment on your own by downloading a dataset and reading it in with\n`pyvista.read`{.interpreted-text role=\"func\"}. You can use one of your\nown files or try downloading one from the following sources:\n\n-   [Sample VTK\n    DataSets](https://github.com/pyvista/vtk-data/tree/master/Data)\n-   [Sample STL\n    files](https://www.amtekcompany.com/teaching-resources/stl-files/)\n-   [Thingiverse](https://www.thingiverse.com/)\n"
      ]
    },
    {
      "cell_type": "markdown",
      "metadata": {},
      "source": [
        "```{=html}\n<center>\n  <a target=\"_blank\" href=\"https://colab.research.google.com/github/pyvista/pyvista-tutorial/blob/gh-pages/notebooks/tutorial/01_basic/exercises/a_load_examples_exercise.ipynb\">\n    <img src=\"https://colab.research.google.com/assets/colab-badge.svg\" alt=\"Open In Colab\"/ width=\"150px\">\n  </a>\n</center>\n```\n"
      ]
    }
  ],
  "metadata": {
    "kernelspec": {
      "display_name": "Python 3",
      "language": "python",
      "name": "python3"
    },
    "language_info": {
      "codemirror_mode": {
        "name": "ipython",
        "version": 3
      },
      "file_extension": ".py",
      "mimetype": "text/x-python",
      "name": "python",
      "nbconvert_exporter": "python",
      "pygments_lexer": "ipython3",
      "version": "3.10.14"
    }
  },
  "nbformat": 4,
  "nbformat_minor": 0
}