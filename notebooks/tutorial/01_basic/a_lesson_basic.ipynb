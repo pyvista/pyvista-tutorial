{
  "cells": [
    {
      "cell_type": "code",
      "execution_count": null,
      "metadata": {
        "collapsed": false
      },
      "outputs": [],
      "source": [
        "import subprocess\nimport sys\n\nif \"google.colab\" in sys.modules:\n    subprocess.run(\"apt-get update\", shell=True, check=True)\n    subprocess.run(\"apt-get install -qq xvfb libgl1-mesa-glx\", shell=True, check=True)\n    subprocess.run(\"pip install pyvista[all] -qq\", shell=True, check=True)\n\n    import pyvista as pv\n\n    # Seems that only static plotting is supported by colab at the moment\n    pv.global_theme.jupyter_backend = \"static\"\n    pv.global_theme.notebook = True\n    pv.start_xvfb()\nelse:\n    %matplotlib inline\n    from pyvista import set_plot_theme\n\n    set_plot_theme(\"document\")"
      ]
    },
    {
      "cell_type": "markdown",
      "metadata": {},
      "source": [
        "Basic Usage Lesson {#basic_lesson}\n==================\n\nThis section demonstrates how to use PyVista to read and plot 3D data\nusing the\n[pyvista.examples.downloads](https://docs.pyvista.org/api/examples/_autosummary/pyvista.examples.downloads.html)\nmodule and external files.\n"
      ]
    },
    {
      "cell_type": "code",
      "execution_count": null,
      "metadata": {
        "collapsed": false
      },
      "outputs": [],
      "source": [
        "import pyvista as pv\nfrom pyvista import examples\n\n# Set the default plot theme to the \"document\" theme.\n# pv.set_plot_theme('document')"
      ]
    },
    {
      "cell_type": "markdown",
      "metadata": {},
      "source": [
        "Using Existing Data\n===================\n\nThere are two main ways of getting data into PyVista: creating it\nyourself from scratch or loading the dataset from any one of the\n[compatible file\nformats](https://docs.pyvista.org/api/readers/index.html). Since we\\'re\njust starting out, let\\'s load a file.\n"
      ]
    },
    {
      "cell_type": "code",
      "execution_count": null,
      "metadata": {
        "collapsed": false
      },
      "outputs": [],
      "source": [
        "# If you have a dataset handy, like a surface model, point cloud, or VTK file,\n# you can use that. If you don't have something immediately available, PyVista\n# has a variety of files you can download in its `pyvista.examples.downloads\n# <https://docs.pyvista.org/api/examples/_autosummary/pyvista.examples.downloads.html>`_\n#\n\n\ndataset = examples.download_saddle_surface()\ndataset"
      ]
    },
    {
      "cell_type": "markdown",
      "metadata": {},
      "source": [
        "Note how this is a `pyvista.PolyData`{.interpreted-text role=\"class\"},\nwhich is effectively a surface dataset containing points, lines, and/or\nfaces. We can immediately plot this with:\n"
      ]
    },
    {
      "cell_type": "code",
      "execution_count": null,
      "metadata": {
        "collapsed": false
      },
      "outputs": [],
      "source": [
        "dataset.plot()"
      ]
    },
    {
      "cell_type": "markdown",
      "metadata": {},
      "source": [
        "This is a fairly basic plot. You can change how its plotted by adding\nparameters as `show_edges=True` or changing the color by setting `color`\nto a different value. All of this is described in PyVista\\'s API\ndocumentation in `pyvista.plot`{.interpreted-text role=\"func\"}, but for\nnow let\\'s take a look at another dataset. This one is a volumetric\ndataset.\n"
      ]
    },
    {
      "cell_type": "code",
      "execution_count": null,
      "metadata": {
        "collapsed": false
      },
      "outputs": [],
      "source": [
        "dataset = examples.download_frog()\ndataset"
      ]
    },
    {
      "cell_type": "markdown",
      "metadata": {},
      "source": [
        "This is a `pyvista.ImageData`{.interpreted-text role=\"class\"}, which is\na dataset containing a uniform set of points with consistent spacing.\nWhen we plot this dataset, we have the option of enabling volumetric\nplotting, which plots individual cells based on the content of the data\nassociated with those cells.\n"
      ]
    },
    {
      "cell_type": "code",
      "execution_count": null,
      "metadata": {
        "collapsed": false
      },
      "outputs": [],
      "source": [
        "dataset.plot(volume=True)"
      ]
    },
    {
      "cell_type": "markdown",
      "metadata": {},
      "source": [
        "Read from a file\n================\n\nYou can read datasets directly from a file if you have access to it on\nyour environment. This can be one of the many file formats that VTK\nsupports, and many more that it doesn\\'t as PyVista can rely on\nlibraries like [meshio](https://github.com/nschloe/meshio).\n\nIn the following example, we load VTK\\'s iron protein dataset\n[ironProt.vtk](https://github.com/naucoin/VTKData/blob/master/Data/ironProt.vtk)\nfrom a file using `pyvista.read`{.interpreted-text role=\"func\"}.\n"
      ]
    },
    {
      "cell_type": "code",
      "execution_count": null,
      "metadata": {
        "collapsed": false
      },
      "outputs": [],
      "source": [
        "dataset = pv.read('ironProt.vtk')\ndataset"
      ]
    },
    {
      "cell_type": "markdown",
      "metadata": {},
      "source": [
        "This is again a `pyvista.ImageData`{.interpreted-text role=\"class\"} and\nwe can plot it volumetrically with:\n"
      ]
    },
    {
      "cell_type": "code",
      "execution_count": null,
      "metadata": {
        "collapsed": false
      },
      "outputs": [],
      "source": [
        "dataset.plot(volume=True)"
      ]
    },
    {
      "cell_type": "markdown",
      "metadata": {},
      "source": [
        "```{=html}\n<center>\n  <a target=\"_blank\" href=\"https://colab.research.google.com/github/pyvista/pyvista-tutorial/blob/gh-pages/notebooks/tutorial/01_basic/a_lesson_basic.ipynb\">\n    <img src=\"https://colab.research.google.com/assets/colab-badge.svg\" alt=\"Open In Colab\"/ width=\"150px\">\n  </a>\n</center>\n```\n"
      ]
    }
  ],
  "metadata": {
    "kernelspec": {
      "display_name": "Python 3",
      "language": "python",
      "name": "python3"
    },
    "language_info": {
      "codemirror_mode": {
        "name": "ipython",
        "version": 3
      },
      "file_extension": ".py",
      "mimetype": "text/x-python",
      "name": "python",
      "nbconvert_exporter": "python",
      "pygments_lexer": "ipython3",
      "version": "3.10.14"
    }
  },
  "nbformat": 4,
  "nbformat_minor": 0
}