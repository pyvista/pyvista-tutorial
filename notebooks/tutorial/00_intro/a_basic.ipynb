{
  "cells": [
    {
      "cell_type": "code",
      "execution_count": null,
      "metadata": {
        "collapsed": false
      },
      "outputs": [],
      "source": [
        "import subprocess\nimport sys\n\nif \"google.colab\" in sys.modules:\n    subprocess.run(\"apt-get update\", shell=True, check=True)\n    subprocess.run(\"apt-get install -qq xvfb libgl1-mesa-glx\", shell=True, check=True)\n    subprocess.run(\"pip install pyvista[all] -qq\", shell=True, check=True)\n\n    import pyvista as pv\n\n    # Seems that only static plotting is supported by colab at the moment\n    pv.global_theme.jupyter_backend = \"static\"\n    pv.global_theme.notebook = True\n    pv.start_xvfb()\nelse:\n    %matplotlib inline\n    from pyvista import set_plot_theme\n\n    set_plot_theme(\"document\")"
      ]
    },
    {
      "cell_type": "markdown",
      "metadata": {},
      "source": [
        "Create Basic Geometric Objects {#ref_geometric_example}\n==============================\n\nThis is the \\\"Hello, world!\\\" of PyVista.\n"
      ]
    },
    {
      "cell_type": "code",
      "execution_count": null,
      "metadata": {
        "collapsed": false
      },
      "outputs": [],
      "source": [
        "import pyvista as pv"
      ]
    },
    {
      "cell_type": "markdown",
      "metadata": {},
      "source": [
        "This runs through several of the available geometric objects available\nin VTK which PyVista provides simple convenience methods for generating.\n\nLet\\'s run through creating a few geometric objects!\n"
      ]
    },
    {
      "cell_type": "code",
      "execution_count": null,
      "metadata": {
        "collapsed": false
      },
      "outputs": [],
      "source": [
        "cyl = pv.Cylinder()\narrow = pv.Arrow()\nsphere = pv.Sphere()\nplane = pv.Plane()\nline = pv.Line()\nbox = pv.Box()\ncone = pv.Cone()\npoly = pv.Polygon()\ndisc = pv.Disc()"
      ]
    },
    {
      "cell_type": "markdown",
      "metadata": {},
      "source": [
        "Now let\\'s plot them all in one window\n"
      ]
    },
    {
      "cell_type": "code",
      "execution_count": null,
      "metadata": {
        "collapsed": false
      },
      "outputs": [],
      "source": [
        "p = pv.Plotter(shape=(3, 3))\n# Top row\np.subplot(0, 0)\np.add_mesh(cyl, color=\"tan\", show_edges=True)\np.subplot(0, 1)\np.add_mesh(arrow, color=\"tan\", show_edges=True)\np.subplot(0, 2)\np.add_mesh(sphere, color=\"tan\", show_edges=True)\n# Middle row\np.subplot(1, 0)\np.add_mesh(plane, color=\"tan\", show_edges=True)\np.subplot(1, 1)\np.add_mesh(line, color=\"tan\", line_width=3)\np.subplot(1, 2)\np.add_mesh(box, color=\"tan\", show_edges=True)\n# Bottom row\np.subplot(2, 0)\np.add_mesh(cone, color=\"tan\", show_edges=True)\np.subplot(2, 1)\np.add_mesh(poly, color=\"tan\", show_edges=True)\np.subplot(2, 2)\np.add_mesh(disc, color=\"tan\", show_edges=True)\n# Render all of them\np.show()\n# Export this plotter as an interactive scene to a HTML file.\n# p.export_html(\"a_basic.html\")"
      ]
    },
    {
      "cell_type": "markdown",
      "metadata": {},
      "source": [
        "```{=html}\n<center>\n  <a target=\"_blank\" href=\"https://colab.research.google.com/github/pyvista/pyvista-tutorial/blob/gh-pages/notebooks/tutorial/00_intro/a_basic.ipynb\">\n    <img src=\"https://colab.research.google.com/assets/colab-badge.svg\" alt=\"Open In Colab\"/ width=\"150px\">\n  </a>\n</center>\n```\n"
      ]
    }
  ],
  "metadata": {
    "kernelspec": {
      "display_name": "Python 3",
      "language": "python",
      "name": "python3"
    },
    "language_info": {
      "codemirror_mode": {
        "name": "ipython",
        "version": 3
      },
      "file_extension": ".py",
      "mimetype": "text/x-python",
      "name": "python",
      "nbconvert_exporter": "python",
      "pygments_lexer": "ipython3",
      "version": "3.10.14"
    }
  },
  "nbformat": 4,
  "nbformat_minor": 0
}