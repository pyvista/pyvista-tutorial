{
  "cells": [
    {
      "cell_type": "code",
      "execution_count": null,
      "metadata": {
        "collapsed": false
      },
      "outputs": [],
      "source": [
        "import subprocess\nimport sys\n\nif \"google.colab\" in sys.modules:\n    subprocess.run(\"apt-get update\", shell=True, check=True)\n    subprocess.run(\"apt-get install -qq xvfb libgl1-mesa-glx\", shell=True, check=True)\n    subprocess.run(\"pip install pyvista[all] -qq\", shell=True, check=True)\n\n    import pyvista as pv\n\n    # Seems that only static plotting is supported by colab at the moment\n    pv.global_theme.jupyter_backend = \"static\"\n    pv.global_theme.notebook = True\n    pv.start_xvfb()\nelse:\n    %matplotlib inline\n    from pyvista import set_plot_theme\n\n    set_plot_theme(\"document\")"
      ]
    },
    {
      "cell_type": "markdown",
      "metadata": {},
      "source": [
        "Create a GIF Movie {#gif_movie_example}\n==================\n\nGenerate a moving gif from an active plotter.\n\n::: {.note}\n::: {.title}\nNote\n:::\n\nUse `lighting=False` to reduce the size of the color space to avoid\n\\\"jittery\\\" GIFs, especially for the scalar bar.\n:::\n"
      ]
    },
    {
      "cell_type": "code",
      "execution_count": null,
      "metadata": {
        "collapsed": false
      },
      "outputs": [],
      "source": [
        "import numpy as np\nimport pyvista as pv\n\nx = np.arange(-10, 10, 0.5)\ny = np.arange(-10, 10, 0.5)\nx, y = np.meshgrid(x, y)\nr = np.sqrt(x**2 + y**2)\nz = np.sin(r)\n\n# Create and structured surface\ngrid = pv.StructuredGrid(x, y, z)\n\n# Create a plotter object and set the scalars to the Z height\nplotter = pv.Plotter(notebook=False, off_screen=True)\nplotter.add_mesh(\n    grid,\n    scalars=z.ravel(),\n    lighting=False,\n    show_edges=True,\n    scalar_bar_args={\"title\": \"Height\"},\n    clim=[-1, 1],\n)\n\n# Open a gif\nplotter.open_gif(\"wave.gif\")\n\npts = grid.points.copy()\n\n# Update Z and write a frame for each updated position\nnframe = 15\nfor phase in np.linspace(0, 2 * np.pi, nframe + 1)[:nframe]:\n    z = np.sin(r + phase)\n    pts[:, -1] = z.ravel()\n    plotter.update_coordinates(pts, render=False)\n    plotter.update_scalars(z.ravel(), render=False)\n\n    # Write a frame. This triggers a render.\n    plotter.write_frame()\n\n# Closes and finalizes movie\nplotter.close()"
      ]
    },
    {
      "cell_type": "markdown",
      "metadata": {},
      "source": [
        "```{=html}\n<center>\n  <a target=\"_blank\" href=\"https://colab.research.google.com/github/pyvista/pyvista-tutorial/blob/gh-pages/notebooks/tutorial/03_figures/d_gif.ipynb\">\n    <img src=\"https://colab.research.google.com/assets/colab-badge.svg\" alt=\"Open In Colab\"/ width=\"150px\">\n  </a>\n</center>\n```\n"
      ]
    }
  ],
  "metadata": {
    "kernelspec": {
      "display_name": "Python 3",
      "language": "python",
      "name": "python3"
    },
    "language_info": {
      "codemirror_mode": {
        "name": "ipython",
        "version": 3
      },
      "file_extension": ".py",
      "mimetype": "text/x-python",
      "name": "python",
      "nbconvert_exporter": "python",
      "pygments_lexer": "ipython3",
      "version": "3.10.14"
    }
  },
  "nbformat": 4,
  "nbformat_minor": 0
}