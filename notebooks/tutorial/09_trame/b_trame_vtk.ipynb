{
  "cells": [
    {
      "cell_type": "markdown",
      "metadata": {},
      "source": [
        "Using VTK/PyVista and Trame\n===========================\n\nIn this application, we will connect a VTK filter with PyVista.\n\nIt will use Trame to visualize the results and interactively control\nparameters of the VTK filter.\n"
      ]
    },
    {
      "cell_type": "code",
      "execution_count": null,
      "metadata": {
        "collapsed": false
      },
      "outputs": [],
      "source": [
        "import pyvista as pv\nfrom pyvista import examples\nfrom trame.app import get_server\nfrom trame.ui.vuetify3 import VAppLayout\nfrom trame.widgets import vtk as vtk_widgets\nfrom trame.widgets import vuetify3 as v3\nfrom vtkmodules.vtkFiltersGeneral import vtkWarpScalar\n\nmesh = examples.load_random_hills()\nwarp_by_scalar = vtkWarpScalar()\nwarp_by_scalar.SetInputData(mesh)\nwarp_by_scalar.SetScaleFactor(0.3)\n\nplotter = pv.Plotter()\nactor = plotter.add_mesh(warp_by_scalar)\nplotter.reset_camera()\n\n# Trame server setup\nserver = get_server(\"trame_vtk_example\")\nstate, ctrl = server.state, server.controller\n\n\n@state.change(\"scale\")\ndef update_scale(scale, **kwargs) -> None:\n    warp_by_scalar.SetScaleFactor(scale)\n    ctrl.view_update()\n\n\nwith VAppLayout(server, full_height=True) as layout:  # noqa: SIM117\n    with v3.VContainer(fluid=True, classes=\"fill-height\"):\n        with vtk_widgets.VtkRemoteView(plotter.render_window, interactive_ratio=1) as view:\n            ctrl.view_update = view.update\n            ctrl.view_reset_camera = view.reset_camera\n\n        # Event binding\n        v3.VBtn(\n            icon=\"mdi-crop-free\",\n            click=ctrl.view_reset_camera,\n            classes=\"position-absolute\",\n            style=\"left: 1rem; top: 1rem; z-index: 1\",\n            density=\"compact\",\n        )\n\n        # State binding\n        v3.VSlider(\n            v_model=(\"scale\", 0.3),\n            min=0,\n            max=0.5,\n            step=0.01,\n            density=\"compact\",\n            classes=\"position-absolute\",\n            style=\"right: 1rem; top: 1rem; width: 400px; z-index: 1\",\n        )\n\n# Make sure the app is running and ready\nawait layout.ready\n# Show UI in result\nlayout"
      ]
    }
  ],
  "metadata": {
    "kernelspec": {
      "display_name": "Python 3",
      "language": "python",
      "name": "python3"
    },
    "language_info": {
      "codemirror_mode": {
        "name": "ipython",
        "version": 3
      },
      "file_extension": ".py",
      "mimetype": "text/x-python",
      "name": "python",
      "nbconvert_exporter": "python",
      "pygments_lexer": "ipython3",
      "version": "3.10.15"
    }
  },
  "nbformat": 4,
  "nbformat_minor": 0
}