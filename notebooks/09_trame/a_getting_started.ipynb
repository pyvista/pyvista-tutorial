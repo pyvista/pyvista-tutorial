{
  "cells": [
    {
      "cell_type": "markdown",
      "metadata": {},
      "source": [
        "# Getting started\n\nGetting started with PyVista and Trame\n"
      ]
    },
    {
      "cell_type": "code",
      "execution_count": null,
      "metadata": {
        "collapsed": false
      },
      "outputs": [],
      "source": [
        "import pyvista as pv\nfrom pyvista import examples"
      ]
    },
    {
      "cell_type": "markdown",
      "metadata": {},
      "source": [
        "PyVista\\'s Jupyter backend is powered by **Trame**. So by default you\nare using trame without knowing it.\n\nBy default PyVista is serving you a micro trame application that let you\ntoggle between **Remote** and **Local** rendering along with some\nvarious options to configure your visualization.\n\n**First try the Remote/Local rendering toggle and notice the\ndifferences**\n\n```{=html}\n<div class=\"alert alert-block alert-info\">\nLook at the orientation axis between the 2 rendering modes.\n</div>\n```\nOne sends images generated on the server side while the other is sending\ngeometry to vtk.js.\n"
      ]
    },
    {
      "cell_type": "code",
      "execution_count": null,
      "metadata": {
        "collapsed": false
      },
      "outputs": [],
      "source": [
        "dataset = examples.download_lucy()\ndataset.plot(smooth_shading=True, color=\"white\")"
      ]
    },
    {
      "cell_type": "markdown",
      "metadata": {},
      "source": [
        "Building applications with PyVista and Trame\n\nNow, let\\'s build a simple application that updates the mesh color with\nthe click of a button.\n"
      ]
    },
    {
      "cell_type": "code",
      "execution_count": null,
      "metadata": {
        "collapsed": false
      },
      "outputs": [],
      "source": [
        "import random\n\nfrom pyvista.plotting.colors import hexcolors\nfrom pyvista.trame.ui import get_viewer\nfrom trame.ui.vuetify3 import SinglePageLayout\nfrom trame.widgets import vuetify3 as v3\n\nplotter = pv.Plotter()\nactor = plotter.add_mesh(dataset)\nviewer = get_viewer(plotter)\nview = None\n\n\ndef change_color() -> None:\n    actor.prop.color = random.choice(list(hexcolors.keys()))  # noqa: S311\n    view.update()\n\n\n# Create UI\nwith SinglePageLayout(viewer.server) as layout:\n    with layout.toolbar.clear() as tb:\n        tb.density = \"compact\"\n        tb.theme = \"dark\"\n        viewer.ui_controls(mode=\"trame\")\n        v3.VBtn(icon=\"mdi-palette\", click=change_color)\n    with layout.content:\n        view = viewer.ui(add_menu=False, mode=\"trame\")\n\n\n# Show UI\nawait layout.ready\nlayout"
      ]
    }
  ],
  "metadata": {
    "kernelspec": {
      "display_name": "Python 3",
      "language": "python",
      "name": "python3"
    },
    "language_info": {
      "codemirror_mode": {
        "name": "ipython",
        "version": 3
      },
      "file_extension": ".py",
      "mimetype": "text/x-python",
      "name": "python",
      "nbconvert_exporter": "python",
      "pygments_lexer": "ipython3",
      "version": "3.12.11"
    }
  },
  "nbformat": 4,
  "nbformat_minor": 0
}