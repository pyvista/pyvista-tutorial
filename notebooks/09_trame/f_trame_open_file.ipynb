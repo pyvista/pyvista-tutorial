{
  "cells": [
    {
      "cell_type": "markdown",
      "metadata": {},
      "source": [
        "# Open Mesh File\n\nAn example of opening a mesh file from the browser and viewing it with\nPyVista.\n"
      ]
    },
    {
      "cell_type": "code",
      "execution_count": null,
      "metadata": {
        "collapsed": false
      },
      "outputs": [],
      "source": [
        "import tempfile\nfrom pathlib import Path\n\nimport pyvista as pv\nfrom pyvista.trame.ui import plotter_ui\nfrom trame.app import get_server\nfrom trame.app.file_upload import ClientFile\nfrom trame.ui.vuetify3 import SinglePageLayout\nfrom trame.widgets import vuetify3\n\npv.OFF_SCREEN = True\n\nserver = get_server()\nstate, ctrl = server.state, server.controller\n\npl = pv.Plotter()\n\n\n@server.state.change(\"file_exchange\")\ndef handle(file_exchange, **kwargs) -> None:\n    file = ClientFile(file_exchange)\n\n    if file.content:\n        print(file.info)  # noqa: T201\n        bytes = file.content  # noqa: A001\n        with tempfile.NamedTemporaryFile(suffix=file.name) as path:\n            with Path(path.name).open(\"wb\") as f:\n                f.write(bytes)\n            ds = pv.read(path.name)\n        pl.add_mesh(ds, name=file.name)\n        pl.reset_camera()\n    else:\n        pl.clear_actors()\n        pl.reset_camera()\n\n\nwith SinglePageLayout(server) as layout:\n    with layout.toolbar:\n        vuetify3.VSpacer()\n        vuetify3.VFileInput(\n            show_size=True,\n            small_chips=True,\n            truncate_length=25,\n            v_model=(\"file_exchange\", None),\n            density=\"compact\",\n            hide_details=True,\n            style=\"max-width: 300px;\",\n        )\n        vuetify3.VProgressLinear(\n            indeterminate=True, absolute=True, bottom=True, active=(\"trame__busy\",)\n        )\n\n    with layout.content:  # noqa: SIM117\n        with vuetify3.VContainer(\n            fluid=True, classes=\"pa-0 fill-height\", style=\"position: relative;\"\n        ):\n            view = plotter_ui(pl)\n            ctrl.view_update = view.update\n\n# Show UI\nawait layout.ready\nlayout"
      ]
    },
    {
      "cell_type": "markdown",
      "metadata": {},
      "source": [
        "```{=html}\n<center>\n  <a target=\"_blank\" href=\"https://colab.research.google.com/github/pyvista/pyvista-tutorial/blob/gh-pages/notebooks/tutorial/09_trame/f_trame_open_file.ipynb\">\n    <img src=\"https://colab.research.google.com/assets/colab-badge.svg\" alt=\"Open In Colab\"/ width=\"150px\">\n  </a>\n</center>\n```\n"
      ]
    }
  ],
  "metadata": {
    "kernelspec": {
      "display_name": "Python 3",
      "language": "python",
      "name": "python3"
    },
    "language_info": {
      "codemirror_mode": {
        "name": "ipython",
        "version": 3
      },
      "file_extension": ".py",
      "mimetype": "text/x-python",
      "name": "python",
      "nbconvert_exporter": "python",
      "pygments_lexer": "ipython3",
      "version": "3.12.11"
    }
  },
  "nbformat": 4,
  "nbformat_minor": 0
}