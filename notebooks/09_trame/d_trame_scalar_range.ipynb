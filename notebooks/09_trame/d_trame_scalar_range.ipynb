{
  "cells": [
    {
      "cell_type": "code",
      "execution_count": null,
      "metadata": {
        "collapsed": false
      },
      "outputs": [],
      "source": [
        "import subprocess\nimport sys\n\nif \"google.colab\" in sys.modules:\n    subprocess.run(\"apt-get update\", shell=True, check=True)\n    subprocess.run(\"apt-get install -qq xvfb libgl1-mesa-glx\", shell=True, check=True)\n    subprocess.run(\"pip install pyvista[all] -qq\", shell=True, check=True)\n\n    import pyvista as pv\n\n    # Seems that only static plotting is supported by colab at the moment\n    pv.global_theme.jupyter_backend = \"static\"\n    pv.global_theme.notebook = True\n    pv.start_xvfb()\nelse:\n    %matplotlib inline\n    from pyvista import set_plot_theme\n\n    set_plot_theme(\"document\")"
      ]
    },
    {
      "cell_type": "markdown",
      "metadata": {},
      "source": [
        "Control Scalar Range\n====================\n\nExtending our simple example to control the color limits of the mapped\nscalars.\n"
      ]
    },
    {
      "cell_type": "code",
      "execution_count": null,
      "metadata": {
        "collapsed": false
      },
      "outputs": [],
      "source": [
        "import pyvista as pv\nfrom pyvista.trame.ui import plotter_ui\nfrom trame.app import get_server\nfrom trame.ui.vuetify3 import SinglePageLayout\nfrom trame.widgets import vuetify3\n\npv.OFF_SCREEN = True\n\nserver = get_server()\nstate, ctrl = server.state, server.controller\n\nmesh = pv.Wavelet()\n\npl = pv.Plotter()\nactor = pl.add_mesh(mesh)\n\n\n@state.change(\"scalar_range\")\ndef set_scalar_range(scalar_range=mesh.get_data_range(), **kwargs):\n    actor.mapper.scalar_range = scalar_range\n    ctrl.view_update()\n\n\nwith SinglePageLayout(server) as layout:\n    with layout.toolbar:\n        vuetify3.VSpacer()\n        vuetify3.VRangeSlider(\n            thumb_size=16,\n            thumb_label=True,\n            label=\"Range\",\n            v_model=(\"scalar_range\", [0, 300]),\n            min=('0',),\n            max=('500',),\n            density=\"compact\",\n            hide_details=True,\n            style=\"max-width: 400px\",\n        )\n\n    with layout.content:\n        with vuetify3.VContainer(\n            fluid=True,\n            classes=\"pa-0 fill-height\",\n        ):\n            # Use PyVista UI template for Plotters\n            view = plotter_ui(pl)\n            ctrl.view_update = view.update\n\nserver.start()"
      ]
    },
    {
      "cell_type": "markdown",
      "metadata": {},
      "source": [
        "```{=html}\n<center>\n  <a target=\"_blank\" href=\"https://colab.research.google.com/github/pyvista/pyvista-tutorial/blob/gh-pages/notebooks/tutorial/09_trame/d_trame_scalar_range.ipynb\">\n    <img src=\"https://colab.research.google.com/assets/colab-badge.svg\" alt=\"Open In Colab\"/ width=\"150px\">\n  </a>\n</center>\n```\n"
      ]
    }
  ],
  "metadata": {
    "kernelspec": {
      "display_name": "Python 3",
      "language": "python",
      "name": "python3"
    },
    "language_info": {
      "codemirror_mode": {
        "name": "ipython",
        "version": 3
      },
      "file_extension": ".py",
      "mimetype": "text/x-python",
      "name": "python",
      "nbconvert_exporter": "python",
      "pygments_lexer": "ipython3",
      "version": "3.10.14"
    }
  },
  "nbformat": 4,
  "nbformat_minor": 0
}