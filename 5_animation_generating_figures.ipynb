{
 "cells": [
  {
   "cell_type": "code",
   "execution_count": null,
   "metadata": {
    "collapsed": false
   },
   "outputs": [],
   "source": [
    "%matplotlib inline\n",
    "from pyvista import set_plot_theme\n",
    "\n",
    "set_plot_theme(\"document\")\n"
   ]
  },
  {
   "cell_type": "markdown",
   "metadata": {},
   "source": [
    "Marching Cubes {#marching_cubes_example}\n",
    "==============\n",
    "\n",
    "Generate a surface from a scalar field using the flying edges and\n",
    "marching cubes filters as provided by the `contour\n",
    "<pyvista.DataSetFilters.contour>`{.interpreted-text role=\"func\"} filter.\n",
    "\n",
    "Special thanks to GitHub user [stla](https://gist.github.com/stla) for\n",
    "providing examples.\n"
   ]
  },
  {
   "cell_type": "code",
   "execution_count": null,
   "metadata": {
    "collapsed": false
   },
   "outputs": [],
   "source": [
    "import numpy as np\n",
    "import pyvista as pv\n"
   ]
  },
  {
   "cell_type": "markdown",
   "metadata": {},
   "source": [
    "Spider Cage\n",
    "===========\n",
    "\n",
    "Use the marching cubes algorithm to extract the isosurface generated\n",
    "from the spider cage function.\n"
   ]
  },
  {
   "cell_type": "code",
   "execution_count": null,
   "metadata": {
    "collapsed": false
   },
   "outputs": [],
   "source": [
    "a = 0.9\n",
    "\n",
    "\n",
    "def spider_cage(x, y, z):\n",
    "    x2 = x * x\n",
    "    y2 = y * y\n",
    "    x2_y2 = x2 + y2\n",
    "    return (np.sqrt((x2 - y2) ** 2 / x2_y2 + 3 * (z * np.sin(a)) ** 2) - 3) ** 2 + 6 * (\n",
    "        np.sqrt((x * y) ** 2 / x2_y2 + (z * np.cos(a)) ** 2) - 1.5\n",
    "    ) ** 2\n",
    "\n",
    "\n",
    "# create a uniform grid to sample the function with\n",
    "n = 100\n",
    "x_min, y_min, z_min = -5, -5, -3\n",
    "grid = pv.UniformGrid(\n",
    "    dims=(n, n, n),\n",
    "    spacing=(abs(x_min) / n * 2, abs(y_min) / n * 2, abs(z_min) / n * 2),\n",
    "    origin=(x_min, y_min, z_min),\n",
    ")\n",
    "x, y, z = grid.points.T\n",
    "\n",
    "# sample and plot\n",
    "values = spider_cage(x, y, z)\n",
    "mesh = grid.contour(1, values, method=\"marching_cubes\", rng=[1, 0])\n",
    "dist = np.linalg.norm(mesh.points, axis=1)\n",
    "mesh.plot(\n",
    "    scalars=dist, smooth_shading=True, specular=5, cmap=\"plasma\", show_scalar_bar=False\n",
    ")\n"
   ]
  },
  {
   "cell_type": "markdown",
   "metadata": {},
   "source": [
    "Barth Sextic\n",
    "============\n",
    "\n",
    "Use the flying edges algorithm to extract the isosurface generated from\n",
    "the Barth sextic function.\n"
   ]
  },
  {
   "cell_type": "code",
   "execution_count": null,
   "metadata": {
    "collapsed": false
   },
   "outputs": [],
   "source": [
    "phi = (1 + np.sqrt(5)) / 2\n",
    "phi2 = phi * phi\n",
    "\n",
    "\n",
    "def barth_sextic(x, y, z):\n",
    "    x2 = x * x\n",
    "    y2 = y * y\n",
    "    z2 = z * z\n",
    "    arr = (\n",
    "        3 * (phi2 * x2 - y2) * (phi2 * y2 - z2) * (phi2 * z2 - x2)\n",
    "        - (1 + 2 * phi) * (x2 + y2 + z2 - 1) ** 2\n",
    "    )\n",
    "    nan_mask = x2 + y2 + z2 > 3.1\n",
    "    arr[nan_mask] = np.nan\n",
    "    return arr\n",
    "\n",
    "\n",
    "# create a uniform grid to sample the function with\n",
    "n = 100\n",
    "k = 2.0\n",
    "x_min, y_min, z_min = -k, -k, -k\n",
    "grid = pv.UniformGrid(\n",
    "    dims=(n, n, n),\n",
    "    spacing=(abs(x_min) / n * 2, abs(y_min) / n * 2, abs(z_min) / n * 2),\n",
    "    origin=(x_min, y_min, z_min),\n",
    ")\n",
    "x, y, z = grid.points.T\n",
    "\n",
    "# sample and plot\n",
    "values = barth_sextic(x, y, z)\n",
    "mesh = grid.contour(1, values, method=\"flying_edges\", rng=[-0.0, 0])\n",
    "dist = np.linalg.norm(mesh.points, axis=1)\n",
    "mesh.plot(\n",
    "    scalars=dist, smooth_shading=True, specular=5, cmap=\"plasma\", show_scalar_bar=False\n",
    ")\n"
   ]
  },
  {
   "cell_type": "markdown",
   "metadata": {},
   "source": [
    "Animate Barth Sextic\n",
    "====================\n",
    "\n",
    "Show 15 frames of various isocurves extracted from the Barth sextic\n",
    "function.\n"
   ]
  },
  {
   "cell_type": "code",
   "execution_count": null,
   "metadata": {
    "collapsed": false
   },
   "outputs": [],
   "source": [
    "def angle_to_range(angle):\n",
    "    return -2 * np.sin(angle)\n",
    "\n",
    "\n",
    "mesh = grid.contour(1, values, method=\"flying_edges\", rng=[angle_to_range(0), 0])\n",
    "dist = np.linalg.norm(mesh.points, axis=1)\n",
    "\n",
    "pl = pv.Plotter()\n",
    "pl.add_mesh(\n",
    "    mesh,\n",
    "    scalars=dist,\n",
    "    smooth_shading=True,\n",
    "    specular=5,\n",
    "    rng=[0.5, 1.5],\n",
    "    cmap=\"plasma\",\n",
    "    show_scalar_bar=False,\n",
    ")\n",
    "pl.open_gif(\"barth_sextic.gif\")\n",
    "\n",
    "for angle in np.linspace(0, np.pi, 15)[:-1]:\n",
    "    new_mesh = grid.contour(\n",
    "        1, values, method=\"flying_edges\", rng=[angle_to_range(angle), 0]\n",
    "    )\n",
    "    mesh.overwrite(new_mesh)\n",
    "    pl.update_scalars(np.linalg.norm(new_mesh.points, axis=1), render=False)\n",
    "    pl.write_frame()\n",
    "\n",
    "pl.show()\n"
   ]
  }
 ],
 "metadata": {
  "kernelspec": {
   "display_name": "Python 3",
   "language": "python",
   "name": "python3"
  },
  "language_info": {
   "codemirror_mode": {
    "name": "ipython",
    "version": 3
   },
   "file_extension": ".py",
   "mimetype": "text/x-python",
   "name": "python",
   "nbconvert_exporter": "python",
   "pygments_lexer": "ipython3",
   "version": "3.8.12"
  }
 },
 "nbformat": 4,
 "nbformat_minor": 0
}
