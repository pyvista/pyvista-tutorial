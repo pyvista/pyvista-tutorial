{
 "cells": [
  {
   "cell_type": "markdown",
   "metadata": {
    "jupyter": {
     "outputs_hidden": false
    },
    "tags": []
   },
   "source": [
    "# Animation/generating figures"
   ]
  },
  {
   "cell_type": "markdown",
   "metadata": {
    "jupyter": {
     "outputs_hidden": false
    }
   },
   "source": [
    "Show how to animate/generating figures using the PyVista API to make awesome online documentation. "
   ]
  },
  {
   "cell_type": "code",
   "execution_count": null,
   "metadata": {
    "collapsed": false,
    "jupyter": {
     "outputs_hidden": false
    }
   },
   "outputs": [],
   "source": [
    "%matplotlib inline\n",
    "from pyvista import set_plot_theme\n",
    "\n",
    "set_plot_theme(\"document\")"
   ]
  },
  {
   "cell_type": "markdown",
   "metadata": {
    "tags": []
   },
   "source": [
    "Marching Cubes\n",
    "==============\n",
    "\n",
    "Generate a surface from a scalar field using the flying edges and\n",
    "marching cubes filters as provided by the `contour\n",
    "<pyvista.DataSetFilters.contour>` filter.\n",
    "\n",
    "Special thanks to GitHub user [stla](https://gist.github.com/stla) for\n",
    "providing examples.\n"
   ]
  },
  {
   "cell_type": "code",
   "execution_count": null,
   "metadata": {
    "collapsed": false,
    "jupyter": {
     "outputs_hidden": false
    }
   },
   "outputs": [],
   "source": [
    "import numpy as np\n",
    "import pyvista as pv"
   ]
  },
  {
   "cell_type": "markdown",
   "metadata": {
    "tags": []
   },
   "source": [
    "Spider Cage\n",
    "===========\n",
    "\n",
    "Use the marching cubes algorithm to extract the isosurface generated\n",
    "from the spider cage function.\n"
   ]
  },
  {
   "cell_type": "code",
   "execution_count": null,
   "metadata": {
    "collapsed": false,
    "jupyter": {
     "outputs_hidden": false
    }
   },
   "outputs": [],
   "source": [
    "a = 0.9\n",
    "\n",
    "\n",
    "def spider_cage(x, y, z):\n",
    "    x2 = x * x\n",
    "    y2 = y * y\n",
    "    x2_y2 = x2 + y2\n",
    "    return (np.sqrt((x2 - y2) ** 2 / x2_y2 + 3 * (z * np.sin(a)) ** 2) - 3) ** 2 + 6 * (\n",
    "        np.sqrt((x * y) ** 2 / x2_y2 + (z * np.cos(a)) ** 2) - 1.5\n",
    "    ) ** 2\n",
    "\n",
    "\n",
    "# create a uniform grid to sample the function with\n",
    "n = 100\n",
    "x_min, y_min, z_min = -5, -5, -3\n",
    "grid = pv.UniformGrid(\n",
    "    dims=(n, n, n),\n",
    "    spacing=(abs(x_min) / n * 2, abs(y_min) / n * 2, abs(z_min) / n * 2),\n",
    "    origin=(x_min, y_min, z_min),\n",
    ")\n",
    "x, y, z = grid.points.T\n",
    "\n",
    "# sample and plot\n",
    "values = spider_cage(x, y, z)\n",
    "mesh = grid.contour(1, values, method=\"marching_cubes\", rng=[1, 0])\n",
    "dist = np.linalg.norm(mesh.points, axis=1)\n",
    "mesh.plot(\n",
    "    scalars=dist, smooth_shading=True, specular=5, cmap=\"plasma\", show_scalar_bar=False\n",
    ")"
   ]
  },
  {
   "cell_type": "markdown",
   "metadata": {
    "tags": []
   },
   "source": [
    "Barth Sextic\n",
    "============\n",
    "\n",
    "Use the flying edges algorithm to extract the isosurface generated from\n",
    "the Barth sextic function.\n"
   ]
  },
  {
   "cell_type": "code",
   "execution_count": null,
   "metadata": {
    "collapsed": false,
    "jupyter": {
     "outputs_hidden": false
    }
   },
   "outputs": [],
   "source": [
    "phi = (1 + np.sqrt(5)) / 2\n",
    "phi2 = phi * phi\n",
    "\n",
    "\n",
    "def barth_sextic(x, y, z):\n",
    "    x2 = x * x\n",
    "    y2 = y * y\n",
    "    z2 = z * z\n",
    "    arr = (\n",
    "        3 * (phi2 * x2 - y2) * (phi2 * y2 - z2) * (phi2 * z2 - x2)\n",
    "        - (1 + 2 * phi) * (x2 + y2 + z2 - 1) ** 2\n",
    "    )\n",
    "    nan_mask = x2 + y2 + z2 > 3.1\n",
    "    arr[nan_mask] = np.nan\n",
    "    return arr\n",
    "\n",
    "\n",
    "# create a uniform grid to sample the function with\n",
    "n = 100\n",
    "k = 2.0\n",
    "x_min, y_min, z_min = -k, -k, -k\n",
    "grid = pv.UniformGrid(\n",
    "    dims=(n, n, n),\n",
    "    spacing=(abs(x_min) / n * 2, abs(y_min) / n * 2, abs(z_min) / n * 2),\n",
    "    origin=(x_min, y_min, z_min),\n",
    ")\n",
    "x, y, z = grid.points.T\n",
    "\n",
    "# sample and plot\n",
    "values = barth_sextic(x, y, z)\n",
    "mesh = grid.contour(1, values, method=\"flying_edges\", rng=[-0.0, 0])\n",
    "dist = np.linalg.norm(mesh.points, axis=1)\n",
    "mesh.plot(\n",
    "    scalars=dist, smooth_shading=True, specular=5, cmap=\"plasma\", show_scalar_bar=False\n",
    ")"
   ]
  },
  {
   "cell_type": "markdown",
   "metadata": {
    "tags": []
   },
   "source": [
    "Animate Barth Sextic\n",
    "====================\n",
    "\n",
    "Show 15 frames of various isocurves extracted from the Barth sextic\n",
    "function.\n"
   ]
  },
  {
   "cell_type": "code",
   "execution_count": null,
   "metadata": {
    "collapsed": false,
    "jupyter": {
     "outputs_hidden": false
    }
   },
   "outputs": [],
   "source": [
    "def angle_to_range(angle):\n",
    "    return -2 * np.sin(angle)\n",
    "\n",
    "\n",
    "mesh = grid.contour(1, values, method=\"flying_edges\", rng=[angle_to_range(0), 0])\n",
    "dist = np.linalg.norm(mesh.points, axis=1)\n",
    "\n",
    "pl = pv.Plotter()\n",
    "pl.add_mesh(\n",
    "    mesh,\n",
    "    scalars=dist,\n",
    "    smooth_shading=True,\n",
    "    specular=5,\n",
    "    rng=[0.5, 1.5],\n",
    "    cmap=\"plasma\",\n",
    "    show_scalar_bar=False,\n",
    ")\n",
    "pl.open_gif(\"barth_sextic.gif\")\n",
    "\n",
    "for angle in np.linspace(0, np.pi, 15)[:-1]:\n",
    "    new_mesh = grid.contour(\n",
    "        1, values, method=\"flying_edges\", rng=[angle_to_range(angle), 0]\n",
    "    )\n",
    "    mesh.overwrite(new_mesh)\n",
    "    pl.update_scalars(np.linalg.norm(new_mesh.points, axis=1), render=False)\n",
    "    pl.write_frame()\n",
    "\n",
    "pl.show()"
   ]
  },
  {
   "cell_type": "code",
   "execution_count": null,
   "metadata": {
    "collapsed": false,
    "jupyter": {
     "outputs_hidden": false
    }
   },
   "outputs": [],
   "source": [
    "%matplotlib inline\n",
    "from pyvista import set_plot_theme\n",
    "\n",
    "set_plot_theme(\"document\")"
   ]
  },
  {
   "cell_type": "markdown",
   "metadata": {
    "tags": []
   },
   "source": [
    "Background Image\n",
    "================\n",
    "\n",
    "Add a background image with\n",
    "`pyvista.Plotter.add_background_image`.\n"
   ]
  },
  {
   "cell_type": "code",
   "execution_count": null,
   "metadata": {
    "collapsed": false,
    "jupyter": {
     "outputs_hidden": false
    }
   },
   "outputs": [],
   "source": [
    "import pyvista as pv\n",
    "from pyvista import examples"
   ]
  },
  {
   "cell_type": "markdown",
   "metadata": {},
   "source": [
    "Plot an airplane with the map of the earth in the background\n"
   ]
  },
  {
   "cell_type": "code",
   "execution_count": null,
   "metadata": {
    "collapsed": false,
    "jupyter": {
     "outputs_hidden": false
    }
   },
   "outputs": [],
   "source": [
    "earth_alt = examples.download_topo_global()\n",
    "\n",
    "pl = pv.Plotter()\n",
    "actor = pl.add_mesh(examples.load_airplane(), smooth_shading=True)\n",
    "pl.add_background_image(examples.mapfile)\n",
    "pl.show()"
   ]
  },
  {
   "cell_type": "markdown",
   "metadata": {},
   "source": [
    "Plot several earth related plots\n"
   ]
  },
  {
   "cell_type": "code",
   "execution_count": null,
   "metadata": {
    "collapsed": false,
    "jupyter": {
     "outputs_hidden": false
    }
   },
   "outputs": [],
   "source": [
    "pl = pv.Plotter(shape=(2, 2))\n",
    "\n",
    "pl.subplot(0, 0)\n",
    "pl.add_text(\"Earth Visible as Map\")\n",
    "pl.add_background_image(examples.mapfile, as_global=False)\n",
    "\n",
    "pl.subplot(0, 1)\n",
    "pl.add_text(\"Earth Altitude\")\n",
    "actor = pl.add_mesh(earth_alt, cmap=\"gist_earth\")\n",
    "\n",
    "pl.subplot(1, 0)\n",
    "topo = examples.download_topo_land()\n",
    "actor = pl.add_mesh(topo, cmap=\"gist_earth\")\n",
    "pl.add_text(\"Earth Land Altitude\")\n",
    "\n",
    "pl.subplot(1, 1)\n",
    "pl.add_text(\"Earth Visible as Globe\")\n",
    "pl.add_mesh(examples.load_globe(), smooth_shading=True)\n",
    "\n",
    "pl.show()"
   ]
  },
  {
   "cell_type": "code",
   "execution_count": null,
   "metadata": {
    "collapsed": false,
    "jupyter": {
     "outputs_hidden": false
    }
   },
   "outputs": [],
   "source": [
    "%matplotlib inline\n",
    "from pyvista import set_plot_theme\n",
    "\n",
    "set_plot_theme(\"document\")"
   ]
  },
  {
   "cell_type": "markdown",
   "metadata": {
    "tags": []
   },
   "source": [
    "Colormap Choices\n",
    "================\n",
    "\n",
    "Use a Matplotlib, Colorcet, cmocean, or custom colormap when plotting\n",
    "scalar values.\n"
   ]
  },
  {
   "cell_type": "code",
   "execution_count": null,
   "metadata": {
    "collapsed": false,
    "jupyter": {
     "outputs_hidden": false
    }
   },
   "outputs": [],
   "source": [
    "import matplotlib.pyplot as plt\n",
    "import numpy as np\n",
    "import pyvista as pv\n",
    "from matplotlib.colors import ListedColormap\n",
    "from pyvista import examples"
   ]
  },
  {
   "cell_type": "markdown",
   "metadata": {},
   "source": [
    "Any colormap built for `matplotlib`, `colorcet`, or `cmocean` is fully\n",
    "compatible with PyVista. Colormaps are typically specified by passing\n",
    "the string name of the colormap to the plotting routine via the `cmap`\n",
    "argument.\n",
    "\n",
    "See [Matplotlib\\'s complete list of available\n",
    "colormaps](https://matplotlib.org/tutorials/colors/colormaps.html),\n",
    "[Colorcet\\'s complete\n",
    "list](https://colorcet.holoviz.org/user_guide/index.html), and\n",
    "[cmocean\\'s complete list](https://matplotlib.org/cmocean/).\n"
   ]
  },
  {
   "cell_type": "markdown",
   "metadata": {
    "tags": []
   },
   "source": [
    "Custom Made Colormaps\n",
    "=====================\n",
    "\n",
    "To get started using a custom colormap, download some data with scalar\n",
    "values to plot.\n"
   ]
  },
  {
   "cell_type": "code",
   "execution_count": null,
   "metadata": {
    "collapsed": false,
    "jupyter": {
     "outputs_hidden": false
    }
   },
   "outputs": [],
   "source": [
    "mesh = examples.download_st_helens().warp_by_scalar()\n",
    "# Add scalar array with range (0, 100) that correlates with elevation\n",
    "mesh[\"values\"] = pv.plotting.normalize(mesh[\"Elevation\"]) * 100"
   ]
  },
  {
   "cell_type": "markdown",
   "metadata": {},
   "source": [
    "Build a custom colormap - here we make a colormap with 5 discrete colors\n",
    "and we specify the ranges where those colors fall:\n"
   ]
  },
  {
   "cell_type": "code",
   "execution_count": null,
   "metadata": {
    "collapsed": false,
    "jupyter": {
     "outputs_hidden": false
    }
   },
   "outputs": [],
   "source": [
    "# Define the colors we want to use\n",
    "blue = np.array([12 / 256, 238 / 256, 246 / 256, 1.0])\n",
    "black = np.array([11 / 256, 11 / 256, 11 / 256, 1.0])\n",
    "grey = np.array([189 / 256, 189 / 256, 189 / 256, 1.0])\n",
    "yellow = np.array([255 / 256, 247 / 256, 0 / 256, 1.0])\n",
    "red = np.array([1.0, 0.0, 0.0, 1.0])\n",
    "\n",
    "mapping = np.linspace(mesh[\"values\"].min(), mesh[\"values\"].max(), 256)\n",
    "newcolors = np.empty((256, 4))\n",
    "newcolors[mapping >= 80] = red\n",
    "newcolors[mapping < 80] = grey\n",
    "newcolors[mapping < 55] = yellow\n",
    "newcolors[mapping < 30] = blue\n",
    "newcolors[mapping < 1] = black\n",
    "\n",
    "# Make the colormap from the listed colors\n",
    "my_colormap = ListedColormap(newcolors)"
   ]
  },
  {
   "cell_type": "markdown",
   "metadata": {},
   "source": [
    "Simply pass the colormap to the plotting routine!\n"
   ]
  },
  {
   "cell_type": "code",
   "execution_count": null,
   "metadata": {
    "collapsed": false,
    "jupyter": {
     "outputs_hidden": false
    }
   },
   "outputs": [],
   "source": [
    "mesh.plot(scalars=\"values\", cmap=my_colormap)"
   ]
  },
  {
   "cell_type": "markdown",
   "metadata": {},
   "source": [
    "Or you could make a simple colormap\\... any Matplotlib colormap can be\n",
    "passed to PyVista!\n"
   ]
  },
  {
   "cell_type": "code",
   "execution_count": null,
   "metadata": {
    "collapsed": false,
    "jupyter": {
     "outputs_hidden": false
    }
   },
   "outputs": [],
   "source": [
    "boring_cmap = plt.cm.get_cmap(\"viridis\", 5)\n",
    "mesh.plot(scalars=\"values\", cmap=boring_cmap)"
   ]
  },
  {
   "cell_type": "markdown",
   "metadata": {},
   "source": [
    "You can also pass a list of color strings to the color map. This\n",
    "approach divides up the colormap into 5 equal parts.\n"
   ]
  },
  {
   "cell_type": "code",
   "execution_count": null,
   "metadata": {
    "collapsed": false,
    "jupyter": {
     "outputs_hidden": false
    }
   },
   "outputs": [],
   "source": [
    "mesh.plot(scalars=mesh[\"values\"], cmap=[\"black\", \"blue\", \"yellow\", \"grey\", \"red\"])"
   ]
  },
  {
   "cell_type": "markdown",
   "metadata": {},
   "source": [
    "If you still wish to have control of the separation of values, you can\n",
    "do this by creating a scalar array and passing that to the plotter along\n",
    "with the the colormap\n"
   ]
  },
  {
   "cell_type": "code",
   "execution_count": null,
   "metadata": {
    "collapsed": false,
    "jupyter": {
     "outputs_hidden": false
    }
   },
   "outputs": [],
   "source": [
    "scalars = np.empty(mesh.n_points)\n",
    "scalars[mesh[\"values\"] >= 80] = 4  # red\n",
    "scalars[mesh[\"values\"] < 80] = 3  # grey\n",
    "scalars[mesh[\"values\"] < 55] = 2  # yellow\n",
    "scalars[mesh[\"values\"] < 30] = 1  # blue\n",
    "scalars[mesh[\"values\"] < 1] = 0  # black\n",
    "\n",
    "mesh.plot(scalars=scalars, cmap=[\"black\", \"blue\", \"yellow\", \"grey\", \"red\"])"
   ]
  },
  {
   "cell_type": "markdown",
   "metadata": {
    "tags": []
   },
   "source": [
    "Matplotlib vs. Colorcet\n",
    "=======================\n",
    "\n",
    "Let\\'s compare Colorcet\\'s perceptually uniform \\\"fire\\\" colormap to\n",
    "Matplotlib\\'s \\\"hot\\\" colormap much like the example on the [first page\n",
    "of Colorcet\\'s docs](https://colorcet.holoviz.org/index.html).\n",
    "\n",
    "The \\\"hot\\\" version washes out detail at the high end, as if the image\n",
    "is overexposed, while \\\"fire\\\" makes detail visible throughout the data\n",
    "range.\n",
    "\n",
    "Please note that in order to use Colorcet\\'s colormaps including\n",
    "\\\"fire\\\", you must have Colorcet installed in your Python environment:\n",
    "`pip install colorcet`\n"
   ]
  },
  {
   "cell_type": "code",
   "execution_count": null,
   "metadata": {
    "collapsed": false,
    "jupyter": {
     "outputs_hidden": false
    }
   },
   "outputs": [],
   "source": [
    "p = pv.Plotter(shape=(2, 2), border=False)\n",
    "p.subplot(0, 0)\n",
    "p.add_mesh(\n",
    "    mesh,\n",
    "    scalars=\"Elevation\",\n",
    "    cmap=\"fire\",\n",
    "    lighting=True,\n",
    "    scalar_bar_args={\"title\": \"Colorcet Fire\"},\n",
    ")\n",
    "\n",
    "p.subplot(0, 1)\n",
    "p.add_mesh(\n",
    "    mesh,\n",
    "    scalars=\"Elevation\",\n",
    "    cmap=\"fire\",\n",
    "    lighting=False,\n",
    "    scalar_bar_args={\"title\": \"Colorcet Fire (No Lighting)\"},\n",
    ")\n",
    "\n",
    "p.subplot(1, 0)\n",
    "p.add_mesh(\n",
    "    mesh,\n",
    "    scalars=\"Elevation\",\n",
    "    cmap=\"hot\",\n",
    "    lighting=True,\n",
    "    scalar_bar_args={\"title\": \"Matplotlib Hot\"},\n",
    ")\n",
    "\n",
    "p.subplot(1, 1)\n",
    "p.add_mesh(\n",
    "    mesh,\n",
    "    scalars=\"Elevation\",\n",
    "    cmap=\"hot\",\n",
    "    lighting=False,\n",
    "    scalar_bar_args={\"title\": \"Matplotlib Hot (No Lighting)\"},\n",
    ")\n",
    "\n",
    "p.show()"
   ]
  },
  {
   "cell_type": "code",
   "execution_count": null,
   "metadata": {
    "collapsed": false,
    "jupyter": {
     "outputs_hidden": false
    }
   },
   "outputs": [],
   "source": [
    "%matplotlib inline\n",
    "from pyvista import set_plot_theme\n",
    "\n",
    "set_plot_theme(\"document\")"
   ]
  },
  {
   "cell_type": "markdown",
   "metadata": {
    "tags": []
   },
   "source": [
    "Marching Cubes\n",
    "==============\n",
    "\n",
    "Generate a surface from a scalar field using the flying edges and\n",
    "marching cubes filters as provided by the `contour\n",
    "<pyvista.DataSetFilters.contour>`{.interpreted-text role=\"func\"} filter.\n",
    "\n",
    "Special thanks to GitHub user [stla](https://gist.github.com/stla) for\n",
    "providing examples.\n"
   ]
  },
  {
   "cell_type": "code",
   "execution_count": null,
   "metadata": {
    "collapsed": false,
    "jupyter": {
     "outputs_hidden": false
    }
   },
   "outputs": [],
   "source": [
    "import numpy as np\n",
    "import pyvista as pv"
   ]
  },
  {
   "cell_type": "markdown",
   "metadata": {
    "tags": []
   },
   "source": [
    "Spider Cage\n",
    "===========\n",
    "\n",
    "Use the marching cubes algorithm to extract the isosurface generated\n",
    "from the spider cage function.\n"
   ]
  },
  {
   "cell_type": "code",
   "execution_count": null,
   "metadata": {
    "collapsed": false,
    "jupyter": {
     "outputs_hidden": false
    }
   },
   "outputs": [],
   "source": [
    "a = 0.9\n",
    "\n",
    "\n",
    "def spider_cage(x, y, z):\n",
    "    x2 = x * x\n",
    "    y2 = y * y\n",
    "    x2_y2 = x2 + y2\n",
    "    return (np.sqrt((x2 - y2) ** 2 / x2_y2 + 3 * (z * np.sin(a)) ** 2) - 3) ** 2 + 6 * (\n",
    "        np.sqrt((x * y) ** 2 / x2_y2 + (z * np.cos(a)) ** 2) - 1.5\n",
    "    ) ** 2\n",
    "\n",
    "\n",
    "# create a uniform grid to sample the function with\n",
    "n = 100\n",
    "x_min, y_min, z_min = -5, -5, -3\n",
    "grid = pv.UniformGrid(\n",
    "    dims=(n, n, n),\n",
    "    spacing=(abs(x_min) / n * 2, abs(y_min) / n * 2, abs(z_min) / n * 2),\n",
    "    origin=(x_min, y_min, z_min),\n",
    ")\n",
    "x, y, z = grid.points.T\n",
    "\n",
    "# sample and plot\n",
    "values = spider_cage(x, y, z)\n",
    "mesh = grid.contour(1, values, method=\"marching_cubes\", rng=[1, 0])\n",
    "dist = np.linalg.norm(mesh.points, axis=1)\n",
    "mesh.plot(\n",
    "    scalars=dist, smooth_shading=True, specular=5, cmap=\"plasma\", show_scalar_bar=False\n",
    ")"
   ]
  },
  {
   "cell_type": "markdown",
   "metadata": {
    "tags": []
   },
   "source": [
    "Barth Sextic\n",
    "============\n",
    "\n",
    "Use the flying edges algorithm to extract the isosurface generated from\n",
    "the Barth sextic function.\n"
   ]
  },
  {
   "cell_type": "code",
   "execution_count": null,
   "metadata": {
    "collapsed": false,
    "jupyter": {
     "outputs_hidden": false
    }
   },
   "outputs": [],
   "source": [
    "phi = (1 + np.sqrt(5)) / 2\n",
    "phi2 = phi * phi\n",
    "\n",
    "\n",
    "def barth_sextic(x, y, z):\n",
    "    x2 = x * x\n",
    "    y2 = y * y\n",
    "    z2 = z * z\n",
    "    arr = (\n",
    "        3 * (phi2 * x2 - y2) * (phi2 * y2 - z2) * (phi2 * z2 - x2)\n",
    "        - (1 + 2 * phi) * (x2 + y2 + z2 - 1) ** 2\n",
    "    )\n",
    "    nan_mask = x2 + y2 + z2 > 3.1\n",
    "    arr[nan_mask] = np.nan\n",
    "    return arr\n",
    "\n",
    "\n",
    "# create a uniform grid to sample the function with\n",
    "n = 100\n",
    "k = 2.0\n",
    "x_min, y_min, z_min = -k, -k, -k\n",
    "grid = pv.UniformGrid(\n",
    "    dims=(n, n, n),\n",
    "    spacing=(abs(x_min) / n * 2, abs(y_min) / n * 2, abs(z_min) / n * 2),\n",
    "    origin=(x_min, y_min, z_min),\n",
    ")\n",
    "x, y, z = grid.points.T\n",
    "\n",
    "# sample and plot\n",
    "values = barth_sextic(x, y, z)\n",
    "mesh = grid.contour(1, values, method=\"flying_edges\", rng=[-0.0, 0])\n",
    "dist = np.linalg.norm(mesh.points, axis=1)\n",
    "mesh.plot(\n",
    "    scalars=dist, smooth_shading=True, specular=5, cmap=\"plasma\", show_scalar_bar=False\n",
    ")"
   ]
  },
  {
   "cell_type": "markdown",
   "metadata": {
    "tags": []
   },
   "source": [
    "Animate Barth Sextic\n",
    "====================\n",
    "\n",
    "Show 15 frames of various isocurves extracted from the Barth sextic\n",
    "function.\n"
   ]
  },
  {
   "cell_type": "code",
   "execution_count": null,
   "metadata": {
    "collapsed": false,
    "jupyter": {
     "outputs_hidden": false
    }
   },
   "outputs": [],
   "source": [
    "def angle_to_range(angle):\n",
    "    return -2 * np.sin(angle)\n",
    "\n",
    "\n",
    "mesh = grid.contour(1, values, method=\"flying_edges\", rng=[angle_to_range(0), 0])\n",
    "dist = np.linalg.norm(mesh.points, axis=1)\n",
    "\n",
    "pl = pv.Plotter()\n",
    "pl.add_mesh(\n",
    "    mesh,\n",
    "    scalars=dist,\n",
    "    smooth_shading=True,\n",
    "    specular=5,\n",
    "    rng=[0.5, 1.5],\n",
    "    cmap=\"plasma\",\n",
    "    show_scalar_bar=False,\n",
    ")\n",
    "pl.open_gif(\"barth_sextic.gif\")\n",
    "\n",
    "for angle in np.linspace(0, np.pi, 15)[:-1]:\n",
    "    new_mesh = grid.contour(\n",
    "        1, values, method=\"flying_edges\", rng=[angle_to_range(angle), 0]\n",
    "    )\n",
    "    mesh.overwrite(new_mesh)\n",
    "    pl.update_scalars(np.linalg.norm(new_mesh.points, axis=1), render=False)\n",
    "    pl.write_frame()\n",
    "\n",
    "pl.show()"
   ]
  },
  {
   "cell_type": "code",
   "execution_count": null,
   "metadata": {
    "collapsed": false,
    "jupyter": {
     "outputs_hidden": false
    }
   },
   "outputs": [],
   "source": [
    "%matplotlib inline\n",
    "from pyvista import set_plot_theme\n",
    "\n",
    "set_plot_theme(\"document\")"
   ]
  },
  {
   "cell_type": "markdown",
   "metadata": {
    "tags": []
   },
   "source": [
    "Create a GIF Movie\n",
    "==================\n",
    "\n",
    "Generate a moving gif from an active plotter.\n",
    "\n",
    "Use `lighting=False` to reduce the size of the color space to avoid\n",
    "\\\"jittery\\\" GIFs, especially for the scalar bar.\n"
   ]
  },
  {
   "cell_type": "code",
   "execution_count": null,
   "metadata": {
    "collapsed": false,
    "jupyter": {
     "outputs_hidden": false
    }
   },
   "outputs": [],
   "source": [
    "import numpy as np\n",
    "import pyvista as pv\n",
    "\n",
    "x = np.arange(-10, 10, 0.5)\n",
    "y = np.arange(-10, 10, 0.5)\n",
    "x, y = np.meshgrid(x, y)\n",
    "r = np.sqrt(x**2 + y**2)\n",
    "z = np.sin(r)\n",
    "\n",
    "# Create and structured surface\n",
    "grid = pv.StructuredGrid(x, y, z)\n",
    "\n",
    "# Create a plotter object and set the scalars to the Z height\n",
    "plotter = pv.Plotter(notebook=False, off_screen=True)\n",
    "plotter.add_mesh(\n",
    "    grid,\n",
    "    scalars=z.ravel(),\n",
    "    lighting=False,\n",
    "    show_edges=True,\n",
    "    scalar_bar_args={\"title\": \"Height\"},\n",
    "    clim=[-1, 1],\n",
    ")\n",
    "\n",
    "# Open a gif\n",
    "plotter.open_gif(\"wave.gif\")\n",
    "\n",
    "pts = grid.points.copy()\n",
    "\n",
    "# Update Z and write a frame for each updated position\n",
    "nframe = 15\n",
    "for phase in np.linspace(0, 2 * np.pi, nframe + 1)[:nframe]:\n",
    "    z = np.sin(r + phase)\n",
    "    pts[:, -1] = z.ravel()\n",
    "    plotter.update_coordinates(pts, render=False)\n",
    "    plotter.update_scalars(z.ravel(), render=False)\n",
    "\n",
    "    # Write a frame. This triggers a render.\n",
    "    plotter.write_frame()\n",
    "\n",
    "# Closes and finalizes movie\n",
    "plotter.close()"
   ]
  },
  {
   "cell_type": "code",
   "execution_count": null,
   "metadata": {
    "collapsed": false,
    "jupyter": {
     "outputs_hidden": false
    }
   },
   "outputs": [],
   "source": [
    "%matplotlib inline\n",
    "from pyvista import set_plot_theme\n",
    "\n",
    "set_plot_theme(\"document\")"
   ]
  },
  {
   "cell_type": "markdown",
   "metadata": {
    "tags": []
   },
   "source": [
    "Linked Views in Subplots\n",
    "========================\n"
   ]
  },
  {
   "cell_type": "code",
   "execution_count": null,
   "metadata": {
    "collapsed": false,
    "jupyter": {
     "outputs_hidden": false
    }
   },
   "outputs": [],
   "source": [
    "import numpy as np\n",
    "import pyvista as pv\n",
    "from pyvista import examples\n",
    "\n",
    "pv.set_plot_theme(\"document\")\n",
    "\n",
    "# download mesh\n",
    "mesh = examples.download_cow()\n",
    "\n",
    "decimated = mesh.decimate_boundary(target_reduction=0.75)\n",
    "\n",
    "p = pv.Plotter(shape=(1, 2), border=False)\n",
    "p.subplot(0, 0)\n",
    "p.add_text(\"Original mesh\", font_size=24)\n",
    "p.add_mesh(mesh, show_edges=True, color=True)\n",
    "p.subplot(0, 1)\n",
    "p.add_text(\"Decimated version\", font_size=24)\n",
    "p.add_mesh(decimated, color=True, show_edges=True)\n",
    "\n",
    "p.link_views()  # link all the views\n",
    "# Set a camera position to all linked views\n",
    "p.camera_position = [(15, 5, 0), (0, 0, 0), (0, 1, 0)]\n",
    "\n",
    "p.open_gif(\"linked.gif\")\n",
    "# Update camera and write a frame for each updated position\n",
    "nframe = 15\n",
    "for i in range(nframe):\n",
    "    p.camera_position = [\n",
    "        (15 * np.cos(i * np.pi / 45.0), 5.0, 15 * np.sin(i * np.pi / 45.0)),\n",
    "        (0, 0, 0),\n",
    "        (0, 1, 0),\n",
    "    ]\n",
    "    p.write_frame()\n",
    "\n",
    "# Close movie and delete object\n",
    "p.close()"
   ]
  },
  {
   "cell_type": "code",
   "execution_count": null,
   "metadata": {
    "collapsed": false,
    "jupyter": {
     "outputs_hidden": false
    }
   },
   "outputs": [],
   "source": [
    "%matplotlib inline\n",
    "from pyvista import set_plot_theme\n",
    "\n",
    "set_plot_theme(\"document\")"
   ]
  },
  {
   "cell_type": "markdown",
   "metadata": {
    "tags": []
   },
   "source": [
    "Create a MP4 Movie\n",
    "==================\n",
    "\n",
    "Create an animated MP4 movie of a rendering scene.\n",
    "\n",
    "This movie will appear static since MP4 movies will not be rendered on a\n",
    "sphinx gallery example.\n"
   ]
  },
  {
   "cell_type": "code",
   "execution_count": null,
   "metadata": {
    "collapsed": false,
    "jupyter": {
     "outputs_hidden": false
    }
   },
   "outputs": [],
   "source": [
    "import numpy as np\n",
    "import pyvista as pv\n",
    "\n",
    "filename = \"sphere-shrinking.mp4\"\n",
    "\n",
    "mesh = pv.Sphere()\n",
    "mesh.cell_data[\"data\"] = np.random.random(mesh.n_cells)\n",
    "\n",
    "plotter = pv.Plotter()\n",
    "# Open a movie file\n",
    "plotter.open_movie(filename)\n",
    "\n",
    "# Add initial mesh\n",
    "plotter.add_mesh(mesh, scalars=\"data\", clim=[0, 1])\n",
    "# Add outline for shrinking reference\n",
    "plotter.add_mesh(mesh.outline_corners())\n",
    "\n",
    "plotter.show(auto_close=False)  # only necessary for an off-screen movie\n",
    "\n",
    "# Run through each frame\n",
    "plotter.write_frame()  # write initial data\n",
    "\n",
    "# Update scalars on each frame\n",
    "for i in range(100):\n",
    "    random_points = np.random.random(mesh.points.shape)\n",
    "    mesh.points = random_points * 0.01 + mesh.points * 0.99\n",
    "    mesh.points -= mesh.points.mean(0)\n",
    "    mesh.cell_data[\"data\"] = np.random.random(mesh.n_cells)\n",
    "    plotter.add_text(f\"Iteration: {i}\", name=\"time-label\")\n",
    "    plotter.write_frame()  # Write this frame\n",
    "\n",
    "# Be sure to close the plotter when finished\n",
    "plotter.close()"
   ]
  },
  {
   "cell_type": "code",
   "execution_count": null,
   "metadata": {
    "collapsed": false,
    "jupyter": {
     "outputs_hidden": false
    }
   },
   "outputs": [],
   "source": [
    "%matplotlib inline\n",
    "from pyvista import set_plot_theme\n",
    "\n",
    "set_plot_theme(\"document\")"
   ]
  },
  {
   "cell_type": "markdown",
   "metadata": {
    "tags": []
   },
   "source": [
    "Create a GIF Movie of a Static Object with a Moving Colormap\n",
    "============================================================\n",
    "\n",
    "Generate a gif movie of a Hopf torus with a moving colormap, by updating\n",
    "the scalars.\n"
   ]
  },
  {
   "cell_type": "code",
   "execution_count": null,
   "metadata": {
    "collapsed": false,
    "jupyter": {
     "outputs_hidden": false
    }
   },
   "outputs": [],
   "source": [
    "import numpy as np\n",
    "import pyvista as pv\n",
    "\n",
    "\n",
    "# A spherical curve\n",
    "def scurve(t):\n",
    "    alpha = np.pi / 2 - (np.pi / 2 - 0.44) * np.cos(3 * t)\n",
    "    beta = t + 0.44 * np.sin(6 * t)\n",
    "    return np.array(\n",
    "        [np.sin(alpha) * np.cos(beta), np.sin(alpha) * np.sin(beta), np.cos(alpha)]\n",
    "    )\n",
    "\n",
    "\n",
    "# Hopf fiber\n",
    "def hopf_fiber(p, phi):\n",
    "    return np.array(\n",
    "        [\n",
    "            (1 + p[2]) * np.cos(phi),\n",
    "            p[0] * np.sin(phi) - p[1] * np.cos(phi),\n",
    "            p[0] * np.cos(phi) + p[1] * np.sin(phi),\n",
    "            (1 + p[2]) * np.sin(phi),\n",
    "        ]\n",
    "    ) / np.sqrt(2 * (1 + p[2]))\n",
    "\n",
    "\n",
    "# Stereographic projection\n",
    "def stereo_proj(q):\n",
    "    return q[0:3] / (1 - q[3])\n",
    "\n",
    "\n",
    "# Parameterization of the Hopf torus\n",
    "def hopf_torus(t, phi):\n",
    "    return stereo_proj(hopf_fiber(scurve(t), phi))\n",
    "\n",
    "\n",
    "# Create the mesh\n",
    "angle_u = np.linspace(-np.pi, np.pi, 400)\n",
    "angle_v = np.linspace(0, np.pi, 200)\n",
    "u, v = np.meshgrid(angle_u, angle_v)\n",
    "x, y, z = hopf_torus(u, v)\n",
    "grid = pv.StructuredGrid(x, y, z)\n",
    "mesh = grid.extract_geometry().clean(tolerance=1e-6)\n",
    "\n",
    "# Distances normalized to [0, 2*pi]\n",
    "dists = np.linalg.norm(mesh.points, axis=1)\n",
    "dists = 2 * np.pi * (dists - dists.min()) / (dists.max() - dists.min())\n",
    "\n",
    "# Make the movie\n",
    "pltr = pv.Plotter(window_size=[512, 512])\n",
    "pltr.set_focus([0, 0, 0])\n",
    "pltr.set_position([40, 0, 0])\n",
    "pltr.add_mesh(\n",
    "    mesh,\n",
    "    scalars=np.sin(dists),\n",
    "    smooth_shading=True,\n",
    "    specular=10,\n",
    "    cmap=\"nipy_spectral\",\n",
    "    show_scalar_bar=False,\n",
    ")\n",
    "pltr.open_gif(\"Hopf_torus.gif\")\n",
    "\n",
    "for t in np.linspace(0, 2 * np.pi, 60, endpoint=False):\n",
    "    pltr.update_scalars(np.sin(dists - t), render=False)\n",
    "    pltr.write_frame()\n",
    "\n",
    "pltr.show()"
   ]
  },
  {
   "cell_type": "code",
   "execution_count": null,
   "metadata": {
    "collapsed": false,
    "jupyter": {
     "outputs_hidden": false
    }
   },
   "outputs": [],
   "source": [
    "%matplotlib inline\n",
    "from pyvista import set_plot_theme\n",
    "\n",
    "set_plot_theme(\"document\")"
   ]
  },
  {
   "cell_type": "markdown",
   "metadata": {
    "tags": []
   },
   "source": [
    "Orbiting\n",
    "========\n",
    "\n",
    "Orbit around a scene.\n",
    "\n",
    "The quality of the movie will be better when using\n",
    "`p.open_movie('orbit.mp4')` instead of `p.open_gif('orbit.gif')`\n",
    "\n",
    "For orbiting to work you first have to show the scene and leave the\n",
    "plotter open with `.show(auto_close=False)`. You may also have to set\n",
    "`pv.Plotter(off_screen=True)`\n",
    "\n",
    "Use `lighting=False` to reduce the size of the color space to avoid\n",
    "\\\"jittery\\\" GIFs when showing the scalar bar.\n"
   ]
  },
  {
   "cell_type": "code",
   "execution_count": null,
   "metadata": {
    "collapsed": false,
    "jupyter": {
     "outputs_hidden": false
    }
   },
   "outputs": [],
   "source": [
    "import pyvista as pv\n",
    "from pyvista import examples\n",
    "\n",
    "mesh = examples.download_st_helens().warp_by_scalar()"
   ]
  },
  {
   "cell_type": "markdown",
   "metadata": {},
   "source": [
    "Orbit around the Mt. St Helens dataset.\n"
   ]
  },
  {
   "cell_type": "code",
   "execution_count": null,
   "metadata": {
    "collapsed": false,
    "jupyter": {
     "outputs_hidden": false
    }
   },
   "outputs": [],
   "source": [
    "p = pv.Plotter()\n",
    "p.add_mesh(mesh, lighting=False)\n",
    "p.camera.zoom(1.5)\n",
    "p.show(auto_close=False)\n",
    "path = p.generate_orbital_path(n_points=36, shift=mesh.length)\n",
    "p.open_gif(\"orbit.gif\")\n",
    "p.orbit_on_path(path, write_frames=True)\n",
    "p.close()"
   ]
  },
  {
   "cell_type": "code",
   "execution_count": null,
   "metadata": {
    "collapsed": false,
    "jupyter": {
     "outputs_hidden": false
    }
   },
   "outputs": [],
   "source": [
    "p = pv.Plotter()\n",
    "p.add_mesh(mesh, lighting=False)\n",
    "p.show_grid()\n",
    "p.show(auto_close=False)\n",
    "viewup = [0.5, 0.5, 1]\n",
    "path = p.generate_orbital_path(factor=2.0, shift=10000, viewup=viewup, n_points=36)\n",
    "p.open_gif(\"orbit.gif\")\n",
    "p.orbit_on_path(path, write_frames=True, viewup=[0, 0, 1], step=0.05)\n",
    "p.close()"
   ]
  },
  {
   "cell_type": "code",
   "execution_count": null,
   "metadata": {
    "collapsed": false,
    "jupyter": {
     "outputs_hidden": false
    }
   },
   "outputs": [],
   "source": [
    "mesh = examples.download_dragon()\n",
    "viewup = [0, 1, 0]"
   ]
  },
  {
   "cell_type": "code",
   "execution_count": null,
   "metadata": {
    "collapsed": false,
    "jupyter": {
     "outputs_hidden": false
    }
   },
   "outputs": [],
   "source": [
    "p = pv.Plotter()\n",
    "p.add_mesh(mesh)\n",
    "p.show(auto_close=False)\n",
    "path = p.generate_orbital_path(factor=2.0, n_points=36, viewup=viewup, shift=0.2)\n",
    "p.open_gif(\"orbit.gif\")\n",
    "p.orbit_on_path(path, write_frames=True, viewup=viewup, step=0.05)\n",
    "p.close()"
   ]
  },
  {
   "cell_type": "code",
   "execution_count": null,
   "metadata": {
    "collapsed": false,
    "jupyter": {
     "outputs_hidden": false
    }
   },
   "outputs": [],
   "source": [
    "%matplotlib inline\n",
    "from pyvista import set_plot_theme\n",
    "\n",
    "set_plot_theme(\"document\")"
   ]
  },
  {
   "cell_type": "markdown",
   "metadata": {
    "tags": []
   },
   "source": [
    "Customize Scalar Bars\n",
    "=====================\n",
    "\n",
    "Walk through of all the different capabilities of scalar bars and how a\n",
    "user can customize scalar bars.\n"
   ]
  },
  {
   "cell_type": "code",
   "execution_count": null,
   "metadata": {
    "collapsed": false,
    "jupyter": {
     "outputs_hidden": false
    }
   },
   "outputs": [],
   "source": [
    "import pyvista as pv\n",
    "from pyvista import examples"
   ]
  },
  {
   "cell_type": "markdown",
   "metadata": {},
   "source": [
    "By default, when plotting a dataset with a scalar array, a scalar bar\n",
    "for that array is added. To turn off this behavior, a user could specify\n",
    "`show_scalar_bar=False` when calling `.add_mesh()`. Let\\'s start with a\n",
    "sample dataset provide via PyVista to demonstrate the default behavior\n",
    "of scalar bar plotting:\n"
   ]
  },
  {
   "cell_type": "code",
   "execution_count": null,
   "metadata": {
    "collapsed": false,
    "jupyter": {
     "outputs_hidden": false
    }
   },
   "outputs": [],
   "source": [
    "# Load St Helens DEM and warp the topography\n",
    "mesh = examples.download_st_helens().warp_by_scalar()\n",
    "\n",
    "# First a default plot with jet colormap\n",
    "p = pv.Plotter()\n",
    "# Add the data, use active scalar for coloring, and show the scalar bar\n",
    "p.add_mesh(mesh)\n",
    "# Display the scene\n",
    "p.show()"
   ]
  },
  {
   "cell_type": "markdown",
   "metadata": {},
   "source": [
    "We could also plot the scene with an interactive scalar bar to move\n",
    "around and place where we like by specifying passing keyword arguments\n",
    "to control the scalar bar via the `scalar_bar_args` parameter in\n",
    "`pyvista.BasePlotter.add_mesh`. The\n",
    "keyword arguments to control the scalar bar are defined in\n",
    "`pyvista.BasePlotter.add_scalar_bar`.\n"
   ]
  },
  {
   "cell_type": "code",
   "execution_count": null,
   "metadata": {
    "collapsed": false,
    "jupyter": {
     "outputs_hidden": false
    }
   },
   "outputs": [],
   "source": [
    "# create dictionary of parameters to control scalar bar\n",
    "sargs = dict(interactive=True)  # Simply make the bar interactive\n",
    "\n",
    "p = pv.Plotter(notebook=False)  # If in IPython, be sure to show the scene\n",
    "p.add_mesh(mesh, scalar_bar_args=sargs)\n",
    "p.show()\n",
    "# Remove from plotters so output is not produced in docs\n",
    "pv.plotting._ALL_PLOTTERS.clear()"
   ]
  },
  {
   "cell_type": "markdown",
   "metadata": {},
   "source": [
    "![](https://docs.pyvista.org/_images/scalar-bar-interactive.gif)\n",
    "\n",
    "Or manually define the scalar bar\\'s location:\n"
   ]
  },
  {
   "cell_type": "code",
   "execution_count": null,
   "metadata": {
    "collapsed": false,
    "jupyter": {
     "outputs_hidden": false
    }
   },
   "outputs": [],
   "source": [
    "# Set a custom position and size\n",
    "sargs = dict(height=0.25, vertical=True, position_x=0.05, position_y=0.05)\n",
    "\n",
    "p = pv.Plotter()\n",
    "p.add_mesh(mesh, scalar_bar_args=sargs)\n",
    "p.show()"
   ]
  },
  {
   "cell_type": "markdown",
   "metadata": {},
   "source": [
    "The text properties of the scalar bar can also be controlled:\n"
   ]
  },
  {
   "cell_type": "code",
   "execution_count": null,
   "metadata": {
    "collapsed": false,
    "jupyter": {
     "outputs_hidden": false
    }
   },
   "outputs": [],
   "source": [
    "# Controlling the text properties\n",
    "sargs = dict(\n",
    "    title_font_size=20,\n",
    "    label_font_size=16,\n",
    "    shadow=True,\n",
    "    n_labels=3,\n",
    "    italic=True,\n",
    "    fmt=\"%.1f\",\n",
    "    font_family=\"arial\",\n",
    ")\n",
    "\n",
    "p = pv.Plotter()\n",
    "p.add_mesh(mesh, scalar_bar_args=sargs)\n",
    "p.show()"
   ]
  },
  {
   "cell_type": "markdown",
   "metadata": {},
   "source": [
    "Labelling values outside of the scalar range\n"
   ]
  },
  {
   "cell_type": "code",
   "execution_count": null,
   "metadata": {
    "collapsed": false,
    "jupyter": {
     "outputs_hidden": false
    }
   },
   "outputs": [],
   "source": [
    "p = pv.Plotter()\n",
    "p.add_mesh(\n",
    "    mesh,\n",
    "    clim=[1000, 2000],\n",
    "    below_color=\"blue\",\n",
    "    above_color=\"red\",\n",
    "    scalar_bar_args=sargs,\n",
    ")\n",
    "p.show()"
   ]
  },
  {
   "cell_type": "markdown",
   "metadata": {},
   "source": [
    "Annotate values of interest using a dictionary. The key of the\n",
    "dictionary must be the value to annotate, and the value must be the\n",
    "string label.\n"
   ]
  },
  {
   "cell_type": "code",
   "execution_count": null,
   "metadata": {
    "collapsed": false,
    "jupyter": {
     "outputs_hidden": false
    }
   },
   "outputs": [],
   "source": [
    "# Make a dictionary for the annotations\n",
    "annotations = {\n",
    "    2300: \"High\",\n",
    "    805.3: \"Cutoff value\",\n",
    "}\n",
    "\n",
    "p = pv.Plotter()\n",
    "p.add_mesh(mesh, scalars=\"Elevation\", annotations=annotations)\n",
    "p.show()"
   ]
  },
  {
   "cell_type": "code",
   "execution_count": null,
   "metadata": {
    "collapsed": false,
    "jupyter": {
     "outputs_hidden": false
    }
   },
   "outputs": [],
   "source": [
    "%matplotlib inline\n",
    "from pyvista import set_plot_theme\n",
    "\n",
    "set_plot_theme(\"document\")"
   ]
  },
  {
   "cell_type": "markdown",
   "metadata": {
    "tags": []
   },
   "source": [
    "Saving Screenshots\n",
    "==================\n"
   ]
  },
  {
   "cell_type": "code",
   "execution_count": null,
   "metadata": {
    "collapsed": false,
    "jupyter": {
     "outputs_hidden": false
    }
   },
   "outputs": [],
   "source": [
    "import matplotlib.pyplot as plt\n",
    "import pyvista as pv\n",
    "from pyvista import examples\n",
    "\n",
    "# Get a sample file\n",
    "filename = examples.planefile\n",
    "mesh = pv.read(filename)"
   ]
  },
  {
   "cell_type": "markdown",
   "metadata": {},
   "source": [
    "You can also take a screenshot without creating an interactive plot\n",
    "window using the `pyvista.Plotter`:\n"
   ]
  },
  {
   "cell_type": "code",
   "execution_count": null,
   "metadata": {
    "collapsed": false,
    "jupyter": {
     "outputs_hidden": false
    }
   },
   "outputs": [],
   "source": [
    "plotter = pv.Plotter(off_screen=True)\n",
    "plotter.add_mesh(mesh, color=\"orange\")\n",
    "plotter.show(screenshot=\"airplane.png\")"
   ]
  },
  {
   "cell_type": "markdown",
   "metadata": {},
   "source": [
    "The `img` array can be used to plot the screenshot in `matplotlib`:\n"
   ]
  },
  {
   "cell_type": "code",
   "execution_count": null,
   "metadata": {
    "collapsed": false,
    "jupyter": {
     "outputs_hidden": false
    }
   },
   "outputs": [],
   "source": [
    "plt.imshow(plotter.image)\n",
    "plt.show()"
   ]
  },
  {
   "cell_type": "code",
   "execution_count": null,
   "metadata": {
    "collapsed": false,
    "jupyter": {
     "outputs_hidden": false
    }
   },
   "outputs": [],
   "source": [
    "%matplotlib inline\n",
    "from pyvista import set_plot_theme\n",
    "\n",
    "set_plot_theme(\"document\")"
   ]
  },
  {
   "cell_type": "markdown",
   "metadata": {
    "tags": []
   },
   "source": [
    "Applying Textures\n",
    "=================\n",
    "\n",
    "Plot a mesh with an image projected onto it as a texture.\n"
   ]
  },
  {
   "cell_type": "code",
   "execution_count": null,
   "metadata": {
    "collapsed": false,
    "jupyter": {
     "outputs_hidden": false
    }
   },
   "outputs": [],
   "source": [
    "import numpy as np\n",
    "import pyvista as pv\n",
    "from matplotlib.cm import get_cmap\n",
    "from pyvista import examples"
   ]
  },
  {
   "cell_type": "markdown",
   "metadata": {},
   "source": [
    "Texture mapping is easily implemented using PyVista. Many of the\n",
    "geometric objects come preloaded with texture coordinates, so quickly\n",
    "creating a surface and displaying an image is simply:\n"
   ]
  },
  {
   "cell_type": "code",
   "execution_count": null,
   "metadata": {
    "collapsed": false,
    "jupyter": {
     "outputs_hidden": false
    }
   },
   "outputs": [],
   "source": [
    "# load a sample texture\n",
    "tex = examples.download_masonry_texture()\n",
    "\n",
    "# create a surface to host this texture\n",
    "surf = pv.Cylinder()\n",
    "\n",
    "surf.plot(texture=tex)"
   ]
  },
  {
   "cell_type": "markdown",
   "metadata": {},
   "source": [
    "But what if your dataset doesn\\'t have texture coordinates? Then you can\n",
    "harness the\n",
    "`pyvista.DataSetFilters.texture_map_to_plane` filter to properly map an image to a dataset\\'s surface.\n",
    "For example, let\\'s map that same image of bricks to a curvey surface:\n"
   ]
  },
  {
   "cell_type": "code",
   "execution_count": null,
   "metadata": {
    "collapsed": false,
    "jupyter": {
     "outputs_hidden": false
    }
   },
   "outputs": [],
   "source": [
    "# create a structured surface\n",
    "x = np.arange(-10, 10, 0.25)\n",
    "y = np.arange(-10, 10, 0.25)\n",
    "x, y = np.meshgrid(x, y)\n",
    "r = np.sqrt(x**2 + y**2)\n",
    "z = np.sin(r)\n",
    "curvsurf = pv.StructuredGrid(x, y, z)\n",
    "\n",
    "# Map the curved surface to a plane - use best fitting plane\n",
    "curvsurf.texture_map_to_plane(inplace=True)\n",
    "\n",
    "curvsurf.plot(texture=tex)"
   ]
  },
  {
   "cell_type": "markdown",
   "metadata": {},
   "source": [
    "Display scalar data along with a texture by ensuring the\n",
    "`interpolate_before_map` setting is `False` and specifying both the\n",
    "`texture` and `scalars` arguments.\n"
   ]
  },
  {
   "cell_type": "code",
   "execution_count": null,
   "metadata": {
    "collapsed": false,
    "jupyter": {
     "outputs_hidden": false
    }
   },
   "outputs": [],
   "source": [
    "elevated = curvsurf.elevation()\n",
    "\n",
    "elevated.plot(\n",
    "    scalars=\"Elevation\", cmap=\"terrain\", texture=tex, interpolate_before_map=False\n",
    ")"
   ]
  },
  {
   "cell_type": "markdown",
   "metadata": {},
   "source": [
    "Note that this process can be completed with any image texture!\n"
   ]
  },
  {
   "cell_type": "code",
   "execution_count": null,
   "metadata": {
    "collapsed": false,
    "jupyter": {
     "outputs_hidden": false
    }
   },
   "outputs": [],
   "source": [
    "# use the puppy image\n",
    "tex = examples.download_puppy_texture()\n",
    "curvsurf.plot(texture=tex)"
   ]
  },
  {
   "cell_type": "markdown",
   "metadata": {
    "tags": []
   },
   "source": [
    "Textures from Files\n",
    "===================\n",
    "\n",
    "What about loading your own texture from an image? This is often most\n",
    "easily done using the `pyvista.read_texture` function - simply pass an image file\\'s path, and this\n",
    "function with handle making a `vtkTexture` for you to use.\n"
   ]
  },
  {
   "cell_type": "code",
   "execution_count": null,
   "metadata": {
    "collapsed": false,
    "jupyter": {
     "outputs_hidden": false
    }
   },
   "outputs": [],
   "source": [
    "image_file = examples.mapfile\n",
    "tex = pv.read_texture(image_file)\n",
    "curvsurf.plot(texture=tex)"
   ]
  },
  {
   "cell_type": "markdown",
   "metadata": {
    "tags": []
   },
   "source": [
    "NumPy Arrays as Textures\n",
    "========================\n",
    "\n",
    "Want to use a programmatically built image?\n",
    "`pyvista.UniformGrid` objects can be\n",
    "converted to textures using `pyvista.image_to_texture` and 3D NumPy (X by Y by RGB) arrays can be converted to\n",
    "textures using `pyvista.numpy_to_texture`.\n"
   ]
  },
  {
   "cell_type": "code",
   "execution_count": null,
   "metadata": {
    "collapsed": false,
    "jupyter": {
     "outputs_hidden": false
    }
   },
   "outputs": [],
   "source": [
    "# create an image using numpy,\n",
    "xx, yy = np.meshgrid(np.linspace(-200, 200, 20), np.linspace(-200, 200, 20))\n",
    "A, b = 500, 100\n",
    "zz = A * np.exp(-0.5 * ((xx / b) ** 2.0 + (yy / b) ** 2.0))\n",
    "\n",
    "# Creating a custom RGB image\n",
    "cmap = get_cmap(\"nipy_spectral\")\n",
    "norm = lambda x: (x - np.nanmin(x)) / (np.nanmax(x) - np.nanmin(x))\n",
    "hue = norm(zz.ravel())\n",
    "colors = (cmap(hue)[:, 0:3] * 255.0).astype(np.uint8)\n",
    "image = colors.reshape((xx.shape[0], xx.shape[1], 3), order=\"F\")\n",
    "\n",
    "# Convert 3D numpy array to texture\n",
    "tex = pv.numpy_to_texture(image)\n",
    "\n",
    "# Render it!\n",
    "curvsurf.plot(texture=tex)"
   ]
  },
  {
   "cell_type": "markdown",
   "metadata": {
    "tags": []
   },
   "source": [
    "Create a GIF Movie with updating textures\n",
    "=========================================\n",
    "\n",
    "Generate a moving gif from an active plotter with updating textures.\n"
   ]
  },
  {
   "cell_type": "code",
   "execution_count": null,
   "metadata": {
    "collapsed": false,
    "jupyter": {
     "outputs_hidden": false
    }
   },
   "outputs": [],
   "source": [
    "# Create a plotter object\n",
    "plotter = pv.Plotter(notebook=False, off_screen=True)\n",
    "\n",
    "# Open a gif\n",
    "plotter.open_gif(\"texture.gif\")\n",
    "\n",
    "pts = curvsurf.points.copy()\n",
    "\n",
    "# Update Z and write a frame for each updated position\n",
    "nframe = 15\n",
    "for phase in np.linspace(0, 2 * np.pi, nframe + 1)[:nframe]:\n",
    "\n",
    "    # create an image using numpy,\n",
    "    z = np.sin(r + phase)\n",
    "    pts[:, -1] = z.ravel()\n",
    "\n",
    "    # Creating a custom RGB image\n",
    "    zz = A * np.exp(-0.5 * ((xx / b) ** 2.0 + (yy / b) ** 2.0))\n",
    "    hue = norm(zz.ravel()) * 0.5 * (1.0 + np.sin(phase))\n",
    "    colors = (cmap(hue)[:, 0:3] * 255.0).astype(np.uint8)\n",
    "    image = colors.reshape((xx.shape[0], xx.shape[1], 3), order=\"F\")\n",
    "\n",
    "    # Convert 3D numpy array to texture\n",
    "    tex = pv.numpy_to_texture(image)\n",
    "\n",
    "    plotter.add_mesh(curvsurf, smooth_shading=True, texture=tex)\n",
    "    plotter.update_coordinates(pts, render=False)\n",
    "\n",
    "    # must update normals when smooth shading is enabled\n",
    "    plotter.mesh.compute_normals(cell_normals=False, inplace=True)\n",
    "    plotter.write_frame()\n",
    "    plotter.clear()\n",
    "\n",
    "# Closes and finalizes movie\n",
    "plotter.close()"
   ]
  },
  {
   "cell_type": "markdown",
   "metadata": {
    "tags": []
   },
   "source": [
    "Textures with Transparency\n",
    "==========================\n",
    "\n",
    "Textures can also specify per-pixel opacity values. The image must\n",
    "contain a 4th channel specifying the opacity value from 0\n",
    "\\[transparent\\] to 255 \\[fully visible\\]. To enable this feature just\n",
    "pass the opacity array as the 4th channel of the image as a 3\n",
    "dimensional matrix with shape \\[nrows, ncols, 4\\]\n",
    "`pyvista.numpy_to_texture`.\n",
    "\n",
    "Here we can download an image that has an alpha channel:\n"
   ]
  },
  {
   "cell_type": "code",
   "execution_count": null,
   "metadata": {
    "collapsed": false,
    "jupyter": {
     "outputs_hidden": false
    }
   },
   "outputs": [],
   "source": [
    "rgba = examples.download_rgba_texture()\n",
    "rgba.n_components"
   ]
  },
  {
   "cell_type": "code",
   "execution_count": null,
   "metadata": {
    "collapsed": false,
    "jupyter": {
     "outputs_hidden": false
    }
   },
   "outputs": [],
   "source": [
    "# Render it!\n",
    "curvsurf.plot(texture=rgba, show_grid=True)"
   ]
  },
  {
   "cell_type": "markdown",
   "metadata": {
    "tags": []
   },
   "source": [
    "Repeating Textures\n",
    "==================\n",
    "\n",
    "What if you have a single texture that you\\'d like to repeat across a\n",
    "mesh? Simply define the texture coordinates for all nodes explicitly.\n",
    "\n",
    "Here we create the texture coordinates to fill up the grid with several\n",
    "mappings of a single texture. In order to do this we must define texture\n",
    "coordinates outside of the typical `(0, 1)` range:\n"
   ]
  },
  {
   "cell_type": "code",
   "execution_count": null,
   "metadata": {
    "collapsed": false,
    "jupyter": {
     "outputs_hidden": false
    }
   },
   "outputs": [],
   "source": [
    "axial_num_puppies = 4\n",
    "xc = np.linspace(0, axial_num_puppies, curvsurf.dimensions[0])\n",
    "yc = np.linspace(0, axial_num_puppies, curvsurf.dimensions[1])\n",
    "\n",
    "xxc, yyc = np.meshgrid(xc, yc)\n",
    "puppy_coords = np.c_[yyc.ravel(), xxc.ravel()]"
   ]
  },
  {
   "cell_type": "markdown",
   "metadata": {},
   "source": [
    "By defining texture coordinates that range `(0, 4)` on each axis, we\n",
    "will produce 4 repetitions of the same texture on this mesh.\n",
    "\n",
    "Then we must associate those texture coordinates with the mesh through\n",
    "the `pyvista.DataSet.active_t_coords`\n",
    "property.\n"
   ]
  },
  {
   "cell_type": "code",
   "execution_count": null,
   "metadata": {
    "collapsed": false,
    "jupyter": {
     "outputs_hidden": false
    }
   },
   "outputs": [],
   "source": [
    "curvsurf.active_t_coords = puppy_coords"
   ]
  },
  {
   "cell_type": "markdown",
   "metadata": {},
   "source": [
    "Now display all the puppies!\n"
   ]
  },
  {
   "cell_type": "code",
   "execution_count": null,
   "metadata": {
    "collapsed": false,
    "jupyter": {
     "outputs_hidden": false
    }
   },
   "outputs": [],
   "source": [
    "# use the puppy image\n",
    "tex = examples.download_puppy_texture()\n",
    "curvsurf.plot(texture=tex, cpos=\"xy\")"
   ]
  },
  {
   "cell_type": "markdown",
   "metadata": {
    "tags": []
   },
   "source": [
    "Spherical Texture Coordinates\n",
    "=============================\n",
    "\n",
    "We have a built in convienance method for mapping textures to spherical\n",
    "coordinate systems much like the planar mapping demoed above.\n"
   ]
  },
  {
   "cell_type": "code",
   "execution_count": null,
   "metadata": {
    "collapsed": false,
    "jupyter": {
     "outputs_hidden": false
    }
   },
   "outputs": [],
   "source": [
    "mesh = pv.Sphere()\n",
    "tex = examples.download_masonry_texture()\n",
    "\n",
    "mesh.texture_map_to_sphere(inplace=True)\n",
    "mesh.plot(texture=tex)"
   ]
  },
  {
   "cell_type": "markdown",
   "metadata": {},
   "source": [
    "The helper method above does not always produce the desired texture\n",
    "coordinates, so sometimes it must be done manually. Here is a great,\n",
    "user contributed example from [this support\n",
    "issue](https://github.com/pyvista/pyvista-support/issues/257)\n",
    "\n",
    "Manually create the texture coordinates for a globe map. First, we\n",
    "create the mesh that will be used as the globe. Note the\n",
    "`start\\_theta` for a slight overlappig\n"
   ]
  },
  {
   "cell_type": "code",
   "execution_count": null,
   "metadata": {
    "collapsed": false,
    "jupyter": {
     "outputs_hidden": false
    }
   },
   "outputs": [],
   "source": [
    "sphere = pv.Sphere(\n",
    "    radius=1,\n",
    "    theta_resolution=120,\n",
    "    phi_resolution=120,\n",
    "    start_theta=270.001,\n",
    "    end_theta=270,\n",
    ")\n",
    "\n",
    "# Initialize the texture coordinates array\n",
    "sphere.active_t_coords = np.zeros((sphere.points.shape[0], 2))\n",
    "\n",
    "# Populate by manually calculating\n",
    "for i in range(sphere.points.shape[0]):\n",
    "    sphere.active_t_coords[i] = [\n",
    "        0.5 + np.arctan2(-sphere.points[i, 0], sphere.points[i, 1]) / (2 * np.pi),\n",
    "        0.5 + np.arcsin(sphere.points[i, 2]) / np.pi,\n",
    "    ]\n",
    "\n",
    "# And let's display it with a world map\n",
    "tex = examples.load_globe_texture()\n",
    "sphere.plot(texture=tex)"
   ]
  },
  {
   "cell_type": "code",
   "execution_count": null,
   "metadata": {
    "collapsed": false,
    "jupyter": {
     "outputs_hidden": false
    }
   },
   "outputs": [],
   "source": [
    "%matplotlib inline\n",
    "from pyvista import set_plot_theme\n",
    "\n",
    "set_plot_theme(\"document\")"
   ]
  },
  {
   "cell_type": "markdown",
   "metadata": {
    "tags": []
   },
   "source": [
    "Control Global and Local Plotting Themes\n",
    "========================================\n",
    "\n",
    "PyVista allows you to set global and local plotting themes to easily set\n",
    "default plotting parameters.\n"
   ]
  },
  {
   "cell_type": "code",
   "execution_count": null,
   "metadata": {
    "collapsed": false,
    "jupyter": {
     "outputs_hidden": false
    }
   },
   "outputs": [],
   "source": [
    "import pyvista as pv\n",
    "from pyvista import examples"
   ]
  },
  {
   "cell_type": "markdown",
   "metadata": {},
   "source": [
    "Define a simple plotting routine for comparing the themes.\n"
   ]
  },
  {
   "cell_type": "code",
   "execution_count": null,
   "metadata": {
    "collapsed": false,
    "jupyter": {
     "outputs_hidden": false
    }
   },
   "outputs": [],
   "source": [
    "mesh = examples.download_st_helens().warp_by_scalar()\n",
    "\n",
    "\n",
    "def plot_example():\n",
    "    p = pv.Plotter()\n",
    "    p.add_mesh(mesh)\n",
    "    p.add_bounding_box()\n",
    "    p.show()"
   ]
  },
  {
   "cell_type": "markdown",
   "metadata": {},
   "source": [
    "PyVista\\'s default color theme is chosen to be generally easy on your\n",
    "eyes and is best used when working long hours on your visualization\n",
    "project. The grey background and warm colormaps are chosen to make sure\n",
    "3D renderings do not drastically change the brightness of your screen\n",
    "when working in dark environments.\n",
    "\n",
    "Here\\'s an example of our default plotting theme - this is what you\n",
    "would see by default after running any of our examples locally.\n"
   ]
  },
  {
   "cell_type": "code",
   "execution_count": null,
   "metadata": {
    "collapsed": false,
    "jupyter": {
     "outputs_hidden": false
    }
   },
   "outputs": [],
   "source": [
    "pv.set_plot_theme(\"default\")\n",
    "plot_example()"
   ]
  },
  {
   "cell_type": "markdown",
   "metadata": {},
   "source": [
    "PyVista also ships with a few plotting themes:\n",
    "\n",
    "-   `'ParaView'`: this is designed to mimic ParaView\\'s default plotting\n",
    "    theme.\n",
    "-   `'dark'`: this is designed to be night-mode friendly with dark\n",
    "    backgrounds and color schemes.\n",
    "-   `'document'`: this is built for use in document style plotting and\n",
    "    making publication quality figures.\n"
   ]
  },
  {
   "cell_type": "markdown",
   "metadata": {},
   "source": [
    "Demo the `'ParaView'` theme.\n"
   ]
  },
  {
   "cell_type": "code",
   "execution_count": null,
   "metadata": {
    "collapsed": false,
    "jupyter": {
     "outputs_hidden": false
    }
   },
   "outputs": [],
   "source": [
    "pv.set_plot_theme(\"paraview\")\n",
    "\n",
    "plot_example()"
   ]
  },
  {
   "cell_type": "markdown",
   "metadata": {},
   "source": [
    "Demo the `'dark'` theme.\n"
   ]
  },
  {
   "cell_type": "code",
   "execution_count": null,
   "metadata": {
    "collapsed": false,
    "jupyter": {
     "outputs_hidden": false
    }
   },
   "outputs": [],
   "source": [
    "pv.set_plot_theme(\"dark\")\n",
    "\n",
    "plot_example()"
   ]
  },
  {
   "cell_type": "markdown",
   "metadata": {},
   "source": [
    "Demo the `'document'` theme. This theme is used on our online examples.\n"
   ]
  },
  {
   "cell_type": "code",
   "execution_count": null,
   "metadata": {
    "collapsed": false,
    "jupyter": {
     "outputs_hidden": false
    }
   },
   "outputs": [],
   "source": [
    "pv.set_plot_theme(\"document\")\n",
    "\n",
    "plot_example()"
   ]
  },
  {
   "cell_type": "markdown",
   "metadata": {},
   "source": [
    "Note that you can also use color gradients for the background of the\n",
    "plotting window!\n"
   ]
  },
  {
   "cell_type": "code",
   "execution_count": null,
   "metadata": {
    "collapsed": false,
    "jupyter": {
     "outputs_hidden": false
    }
   },
   "outputs": [],
   "source": [
    "plotter = pv.Plotter()\n",
    "plotter.add_mesh(mesh)\n",
    "plotter.show_grid()\n",
    "# Here we set the gradient\n",
    "plotter.set_background(\"royalblue\", top=\"aliceblue\")\n",
    "cpos = plotter.show()"
   ]
  },
  {
   "cell_type": "markdown",
   "metadata": {
    "tags": []
   },
   "source": [
    "Modifying the Global Theme\n",
    "==========================\n",
    "\n",
    "You can control how meshes are displayed by setting individual\n",
    "parameters when plotting like `mesh.plot(show_edges=True)`, or by\n",
    "setting a global theme. You can also control individual parameters how\n",
    "all meshes are displayed by default via `pyvista.global_theme`.\n",
    "\n",
    "Here, we print out the current global defaults for all `pyvista` meshes.\n",
    "These values have been changed by the previous \\\"Document\\\" theme.\n"
   ]
  },
  {
   "cell_type": "code",
   "execution_count": null,
   "metadata": {
    "collapsed": false,
    "jupyter": {
     "outputs_hidden": false
    }
   },
   "outputs": [],
   "source": [
    "pv.global_theme"
   ]
  },
  {
   "cell_type": "markdown",
   "metadata": {},
   "source": [
    "By default, edges are not shown on meshes unless explicitly specified\n",
    "when plotting a mesh via `show_edges=True`. You can change this default\n",
    "behavior globally by changing the default parameter.\n"
   ]
  },
  {
   "cell_type": "code",
   "execution_count": null,
   "metadata": {
    "collapsed": false,
    "jupyter": {
     "outputs_hidden": false
    }
   },
   "outputs": [],
   "source": [
    "pv.global_theme.show_edges = True\n",
    "cpos = pv.Sphere().plot()"
   ]
  },
  {
   "cell_type": "markdown",
   "metadata": {},
   "source": [
    "You can reset pyvista to default behavior with `restore_defaults`. Note\n",
    "that the figure\\'s color was reset to the default \\\"white\\\" color rather\n",
    "than the \\\"tan\\\" color default with the document theme. Under the hood,\n",
    "each theme applied changes the global plot defaults stored within\n",
    "`pyvista.global_theme.`\n"
   ]
  },
  {
   "cell_type": "code",
   "execution_count": null,
   "metadata": {
    "collapsed": false,
    "jupyter": {
     "outputs_hidden": false
    }
   },
   "outputs": [],
   "source": [
    "pv.global_theme.restore_defaults()\n",
    "cpos = pv.Sphere().plot()"
   ]
  },
  {
   "cell_type": "markdown",
   "metadata": {
    "tags": []
   },
   "source": [
    "Creating a Custom Theme and Applying it Globally\n",
    "================================================\n",
    "\n",
    "You can create a custom theme by modifying one of the existing themes\n",
    "and then loading it into the global plotting defaults.\n",
    "\n",
    "Here, we create a dark theme that plots meshes red by default while\n",
    "showing edges.\n"
   ]
  },
  {
   "cell_type": "code",
   "execution_count": null,
   "metadata": {
    "collapsed": false,
    "jupyter": {
     "outputs_hidden": false
    }
   },
   "outputs": [],
   "source": [
    "from pyvista import themes\n",
    "\n",
    "my_theme = themes.DarkTheme()\n",
    "my_theme.color = \"red\"\n",
    "my_theme.lighting = False\n",
    "my_theme.show_edges = True\n",
    "my_theme.axes.box = True\n",
    "\n",
    "pv.global_theme.load_theme(my_theme)\n",
    "cpos = pv.Sphere().plot()"
   ]
  },
  {
   "cell_type": "markdown",
   "metadata": {
    "tags": []
   },
   "source": [
    "Creating a Custom Theme and Applying it to a Single Plotter\n",
    "===========================================================\n",
    "\n",
    "In this example, we create a custom theme from the base \\\"default\\\"\n",
    "theme and then apply it to a single plotter. Note that this does not\n",
    "change the behavior of the global \\\"defaults\\\", which are still set to\n",
    "the modified `DarkTheme`.\n",
    "\n",
    "This approach carries the advantage that you can maintain several themes\n",
    "and apply them to one or more plotters.\n"
   ]
  },
  {
   "cell_type": "code",
   "execution_count": null,
   "metadata": {
    "collapsed": false,
    "jupyter": {
     "outputs_hidden": false
    }
   },
   "outputs": [],
   "source": [
    "from pyvista import themes\n",
    "\n",
    "my_theme = themes.DefaultTheme()\n",
    "my_theme.color = \"black\"\n",
    "my_theme.lighting = True\n",
    "my_theme.show_edges = True\n",
    "my_theme.edge_color = \"white\"\n",
    "my_theme.background = \"white\"\n",
    "\n",
    "cpos = pv.Sphere().plot(theme=my_theme)"
   ]
  },
  {
   "cell_type": "markdown",
   "metadata": {},
   "source": [
    "Alternatively, set the theme of an instance of `Plotter`.\n"
   ]
  },
  {
   "cell_type": "code",
   "execution_count": null,
   "metadata": {
    "collapsed": false,
    "jupyter": {
     "outputs_hidden": false
    }
   },
   "outputs": [],
   "source": [
    "pl = pv.Plotter(theme=my_theme)\n",
    "# pl.theme = my_theme  # alternatively use the setter\n",
    "pl.add_mesh(pv.Cube())\n",
    "cpos = pl.show()"
   ]
  },
  {
   "cell_type": "markdown",
   "metadata": {},
   "source": [
    "Reset to use the document theme\n"
   ]
  },
  {
   "cell_type": "code",
   "execution_count": null,
   "metadata": {
    "collapsed": false,
    "jupyter": {
     "outputs_hidden": false
    }
   },
   "outputs": [],
   "source": [
    "pv.set_plot_theme(\"document\")"
   ]
  },
  {
   "cell_type": "code",
   "execution_count": null,
   "metadata": {
    "collapsed": false,
    "jupyter": {
     "outputs_hidden": false
    }
   },
   "outputs": [],
   "source": [
    "%matplotlib inline\n",
    "from pyvista import set_plot_theme\n",
    "\n",
    "set_plot_theme(\"document\")"
   ]
  },
  {
   "cell_type": "markdown",
   "metadata": {
    "tags": []
   },
   "source": [
    "Plot Vector Component\n",
    "=====================\n",
    "\n",
    "Plot a single component of a vector as a scalar array.\n",
    "\n",
    "We can plot individual components of multi-component arrays with the\n",
    "`component` argument of the `add_mesh` method.\n"
   ]
  },
  {
   "cell_type": "code",
   "execution_count": null,
   "metadata": {
    "collapsed": false,
    "jupyter": {
     "outputs_hidden": false
    }
   },
   "outputs": [],
   "source": [
    "import pyvista as pv\n",
    "from pyvista import examples"
   ]
  },
  {
   "cell_type": "markdown",
   "metadata": {},
   "source": [
    "Download an example notched beam stress\n"
   ]
  },
  {
   "cell_type": "code",
   "execution_count": null,
   "metadata": {
    "collapsed": false,
    "jupyter": {
     "outputs_hidden": false
    }
   },
   "outputs": [],
   "source": [
    "mesh = examples.download_notch_displacement()"
   ]
  },
  {
   "cell_type": "markdown",
   "metadata": {},
   "source": [
    "The default behavior with no component specified is to use the vector\n",
    "magnitude. We can access each component by specifying the component\n",
    "argument.\n"
   ]
  },
  {
   "cell_type": "code",
   "execution_count": null,
   "metadata": {
    "collapsed": false,
    "jupyter": {
     "outputs_hidden": false
    }
   },
   "outputs": [],
   "source": [
    "dargs = dict(\n",
    "    scalars=\"Nodal Displacement\",\n",
    "    cmap=\"jet\",\n",
    "    show_scalar_bar=False,\n",
    ")\n",
    "\n",
    "pl = pv.Plotter(shape=(2, 2))\n",
    "pl.subplot(0, 0)\n",
    "pl.add_mesh(mesh, **dargs)\n",
    "pl.add_text(\"Normalized Displacement\", color=\"k\")\n",
    "pl.subplot(0, 1)\n",
    "pl.add_mesh(mesh.copy(), component=0, **dargs)\n",
    "pl.add_text(\"X Displacement\", color=\"k\")\n",
    "pl.subplot(1, 0)\n",
    "pl.add_mesh(mesh.copy(), component=1, **dargs)\n",
    "pl.add_text(\"Y Displacement\", color=\"k\")\n",
    "pl.subplot(1, 1)\n",
    "pl.add_mesh(mesh.copy(), component=2, **dargs)\n",
    "pl.add_text(\"Z Displacement\", color=\"k\")\n",
    "pl.link_views()\n",
    "pl.camera_position = \"iso\"\n",
    "pl.background_color = \"white\"\n",
    "pl.show()"
   ]
  },
  {
   "cell_type": "code",
   "execution_count": null,
   "metadata": {
    "collapsed": false,
    "jupyter": {
     "outputs_hidden": false
    }
   },
   "outputs": [],
   "source": [
    "%matplotlib inline\n",
    "from pyvista import set_plot_theme\n",
    "\n",
    "set_plot_theme(\"document\")"
   ]
  },
  {
   "cell_type": "markdown",
   "metadata": {
    "tags": []
   },
   "source": [
    "Volume Rendering\n",
    "================\n",
    "\n",
    "Volume render uniform mesh types like\n",
    "`pyvista.UniformGrid` or 3D NumPy\n",
    "arrays.\n",
    "\n",
    "This also explores how to extract a volume of interest (VOI) from a\n",
    "`pyvista.UniformGrid` using the\n",
    "`pyvista.UniformGridFilters.extract_subset` filter.\n"
   ]
  },
  {
   "cell_type": "code",
   "execution_count": null,
   "metadata": {
    "collapsed": false,
    "jupyter": {
     "outputs_hidden": false
    }
   },
   "outputs": [],
   "source": [
    "import pyvista as pv\n",
    "from pyvista import examples\n",
    "\n",
    "# Download a volumetric dataset\n",
    "vol = examples.download_knee_full()\n",
    "vol"
   ]
  },
  {
   "cell_type": "markdown",
   "metadata": {
    "tags": []
   },
   "source": [
    "Simple Volume Render\n",
    "====================\n"
   ]
  },
  {
   "cell_type": "code",
   "execution_count": null,
   "metadata": {
    "collapsed": false,
    "jupyter": {
     "outputs_hidden": false
    }
   },
   "outputs": [],
   "source": [
    "# A nice camera position\n",
    "cpos = [(-381.74, -46.02, 216.54), (74.8305, 89.2905, 100.0), (0.23, 0.072, 0.97)]\n",
    "\n",
    "vol.plot(volume=True, cmap=\"bone\", cpos=cpos)"
   ]
  },
  {
   "cell_type": "markdown",
   "metadata": {
    "tags": []
   },
   "source": [
    "Opacity Mappings\n",
    "================\n",
    "\n",
    "Or use the `pyvista.BasePlotter.add_volume` method like below. Note that here we use a non-default\n",
    "opacity mapping to a sigmoid:\n"
   ]
  },
  {
   "cell_type": "code",
   "execution_count": null,
   "metadata": {
    "collapsed": false,
    "jupyter": {
     "outputs_hidden": false
    }
   },
   "outputs": [],
   "source": [
    "p = pv.Plotter()\n",
    "p.add_volume(vol, cmap=\"bone\", opacity=\"sigmoid\")\n",
    "p.camera_position = cpos\n",
    "p.show()"
   ]
  },
  {
   "cell_type": "markdown",
   "metadata": {},
   "source": [
    "You can also use a custom opacity mapping\n"
   ]
  },
  {
   "cell_type": "code",
   "execution_count": null,
   "metadata": {
    "collapsed": false,
    "jupyter": {
     "outputs_hidden": false
    }
   },
   "outputs": [],
   "source": [
    "opacity = [0, 0, 0, 0.1, 0.3, 0.6, 1]\n",
    "\n",
    "p = pv.Plotter()\n",
    "p.add_volume(vol, cmap=\"viridis\", opacity=opacity)\n",
    "p.camera_position = cpos\n",
    "p.show()"
   ]
  },
  {
   "cell_type": "markdown",
   "metadata": {},
   "source": [
    "We can also use a shading technique when volume rendering with the\n",
    "`shade` option\n"
   ]
  },
  {
   "cell_type": "code",
   "execution_count": null,
   "metadata": {
    "collapsed": false,
    "jupyter": {
     "outputs_hidden": false
    }
   },
   "outputs": [],
   "source": [
    "p = pv.Plotter(shape=(1, 2))\n",
    "p.add_volume(vol, cmap=\"viridis\", opacity=opacity, shade=False)\n",
    "p.add_text(\"No shading\")\n",
    "p.subplot(0, 1)\n",
    "p.add_volume(vol, cmap=\"viridis\", opacity=opacity, shade=True)\n",
    "p.add_text(\"Shading\")\n",
    "p.link_views()\n",
    "p.camera_position = cpos\n",
    "p.show()"
   ]
  },
  {
   "cell_type": "markdown",
   "metadata": {
    "tags": []
   },
   "source": [
    "Cool Volume Examples\n",
    "====================\n",
    "\n",
    "Here are a few more cool volume rendering examples\n"
   ]
  },
  {
   "cell_type": "code",
   "execution_count": null,
   "metadata": {
    "collapsed": false,
    "jupyter": {
     "outputs_hidden": false
    }
   },
   "outputs": [],
   "source": [
    "head = examples.download_head()\n",
    "\n",
    "p = pv.Plotter()\n",
    "p.add_volume(head, cmap=\"cool\", opacity=\"sigmoid_6\")\n",
    "p.camera_position = [(-228.0, -418.0, -158.0), (94.0, 122.0, 82.0), (-0.2, -0.3, 0.9)]\n",
    "p.show()"
   ]
  },
  {
   "cell_type": "code",
   "execution_count": null,
   "metadata": {
    "collapsed": false,
    "jupyter": {
     "outputs_hidden": false
    }
   },
   "outputs": [],
   "source": [
    "bolt_nut = examples.download_bolt_nut()\n",
    "\n",
    "p = pv.Plotter()\n",
    "p.add_volume(bolt_nut, cmap=\"coolwarm\", opacity=\"sigmoid_5\")\n",
    "p.show()"
   ]
  },
  {
   "cell_type": "code",
   "execution_count": null,
   "metadata": {
    "collapsed": false,
    "jupyter": {
     "outputs_hidden": false
    }
   },
   "outputs": [],
   "source": [
    "frog = examples.download_frog()\n",
    "\n",
    "p = pv.Plotter()\n",
    "p.add_volume(frog, cmap=\"viridis\", opacity=\"sigmoid_6\")\n",
    "p.camera_position = [\n",
    "    (929.0, 1067.0, -278.9),\n",
    "    (249.5, 234.5, 101.25),\n",
    "    (-0.2048, -0.2632, -0.9427),\n",
    "]\n",
    "p.show()"
   ]
  },
  {
   "cell_type": "markdown",
   "metadata": {
    "tags": []
   },
   "source": [
    "Extracting a VOI\n",
    "================\n",
    "\n",
    "Use the `pyvista.UniformGridFilters.extract_subset` filter to extract a volume of interest/subset volume to\n",
    "volume render. This is ideal when dealing with particularly large\n",
    "volumes and you want to volume render only a specific region.\n"
   ]
  },
  {
   "cell_type": "code",
   "execution_count": null,
   "metadata": {
    "collapsed": false,
    "jupyter": {
     "outputs_hidden": false
    }
   },
   "outputs": [],
   "source": [
    "# Load a particularly large volume\n",
    "large_vol = examples.download_damavand_volcano()\n",
    "large_vol"
   ]
  },
  {
   "cell_type": "code",
   "execution_count": null,
   "metadata": {
    "collapsed": false,
    "jupyter": {
     "outputs_hidden": false
    }
   },
   "outputs": [],
   "source": [
    "opacity = [0, 0.75, 0, 0.75, 1.0]\n",
    "clim = [0, 100]\n",
    "\n",
    "p = pv.Plotter()\n",
    "p.add_volume(\n",
    "    large_vol,\n",
    "    cmap=\"magma\",\n",
    "    clim=clim,\n",
    "    opacity=opacity,\n",
    "    opacity_unit_distance=6000,\n",
    ")\n",
    "p.show()"
   ]
  },
  {
   "cell_type": "markdown",
   "metadata": {},
   "source": [
    "Woah, that\\'s a big volume! We probably don\\'t want to volume render the\n",
    "whole thing. So let\\'s extract a region of interest under the volcano.\n",
    "\n",
    "The region we will extract will be between nodes 175 and 200 on the\n",
    "x-axis, between nodes 105 and 132 on the y-axis, and between nodes 98\n",
    "and 170 on the z-axis.\n"
   ]
  },
  {
   "cell_type": "code",
   "execution_count": null,
   "metadata": {
    "collapsed": false,
    "jupyter": {
     "outputs_hidden": false
    }
   },
   "outputs": [],
   "source": [
    "voi = large_vol.extract_subset([175, 200, 105, 132, 98, 170])\n",
    "\n",
    "p = pv.Plotter()\n",
    "p.add_mesh(large_vol.outline(), color=\"k\")\n",
    "p.add_mesh(voi, cmap=\"magma\")\n",
    "p.show()"
   ]
  },
  {
   "cell_type": "markdown",
   "metadata": {},
   "source": [
    "Ah, much better. Let\\'s now volume render that region of interest!\n"
   ]
  },
  {
   "cell_type": "code",
   "execution_count": null,
   "metadata": {
    "collapsed": false,
    "jupyter": {
     "outputs_hidden": false
    }
   },
   "outputs": [],
   "source": [
    "p = pv.Plotter()\n",
    "p.add_volume(voi, cmap=\"magma\", clim=clim, opacity=opacity, opacity_unit_distance=2000)\n",
    "p.camera_position = [\n",
    "    (531554.5542909054, 3944331.800171338, 26563.04809259223),\n",
    "    (599088.1433822059, 3982089.287834022, -11965.14728669936),\n",
    "    (0.3738545892415734, 0.244312810377319, 0.8947312427698892),\n",
    "]\n",
    "p.show()"
   ]
  },
  {
   "cell_type": "markdown",
   "metadata": {
    "jupyter": {
     "outputs_hidden": false
    }
   },
   "source": [
    "### Exercise"
   ]
  },
  {
   "cell_type": "markdown",
   "metadata": {
    "jupyter": {
     "outputs_hidden": false
    }
   },
   "source": [
    "Let's create an animation that varies the radius of the sphere from 0.0 to 0.2."
   ]
  },
  {
   "cell_type": "code",
   "execution_count": null,
   "metadata": {
    "collapsed": false,
    "jupyter": {
     "outputs_hidden": false
    }
   },
   "outputs": [],
   "source": [
    "# Your codes here."
   ]
  },
  {
   "cell_type": "code",
   "execution_count": null,
   "metadata": {
    "jupyter": {
     "source_hidden": true
    },
    "tags": []
   },
   "outputs": [],
   "source": [
    "import pyvista as pv\n",
    "\n",
    "# Create a plotter object\n",
    "plotter = pv.Plotter()\n",
    "\n",
    "# Open a gif\n",
    "plotter.open_gif(\"sphere.gif\")\n",
    "mesh = pv.Sphere()\n",
    "plotter.add_mesh(mesh, show_edges=True)\n",
    "pts = mesh.points.copy()\n",
    "\n",
    "# Update radius and write a frame for each updated position\n",
    "nframe = 100\n",
    "for radius in np.linspace(0, 0.2, nframe + 1):\n",
    "    plotter.update_coordinates(radius * pts, mesh, render=True)\n",
    "    plotter.write_frame()\n",
    "\n",
    "# Closes and finalizes movie\n",
    "plotter.close()"
   ]
  },
  {
   "cell_type": "code",
   "execution_count": null,
   "metadata": {},
   "outputs": [],
   "source": []
  }
 ],
 "metadata": {
  "kernelspec": {
   "display_name": "Python 3 (ipykernel)",
   "language": "python",
   "name": "python3"
  },
  "language_info": {
   "codemirror_mode": {
    "name": "ipython",
    "version": 3
   },
   "file_extension": ".py",
   "mimetype": "text/x-python",
   "name": "python",
   "nbconvert_exporter": "python",
   "pygments_lexer": "ipython3",
   "version": "3.10.4"
  }
 },
 "nbformat": 4,
 "nbformat_minor": 4
}
